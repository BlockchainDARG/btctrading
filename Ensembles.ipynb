{
 "cells": [
  {
   "cell_type": "code",
   "execution_count": 1,
   "metadata": {
    "collapsed": true
   },
   "outputs": [],
   "source": [
    "import numpy as np\n",
    "import pandas as pd\n",
    "from sklearn.ensemble import *\n",
    "\n",
    "import settings\n",
    "import utils\n",
    "import get_data"
   ]
  },
  {
   "cell_type": "markdown",
   "metadata": {},
   "source": [
    "### Get Data"
   ]
  },
  {
   "cell_type": "markdown",
   "metadata": {},
   "source": [
    "API: http://bitcoincharts.com/charts\n",
    "\n",
    "period = ['1-min', '5-min', '15-min', '30-min', 'Hourly', '2-hour', '6-hour', '12-hour', 'Daily', 'Weekly']\n",
    "\n",
    "market = ['coincheckJPY', 'krakenEUR', 'bitstampUSD', 'okcoinCNY', 'btcnCNY', 'krakenUSD', 'itbitUSD', 'bitbayPLN', 'btcoidIDR', 'localbtcRUB', 'localbtcGBP', 'btcdeEUR', 'coinfloorGBP', 'localbtcUSD']"
   ]
  },
  {
   "cell_type": "code",
   "execution_count": 25,
   "metadata": {},
   "outputs": [
    {
     "name": "stdout",
     "output_type": "stream",
     "text": [
      "Loading.....\n",
      "366 of 2043 days loaded...\n",
      "732 of 2043 days loaded...\n",
      "1098 of 2043 days loaded...\n",
      "1464 of 2043 days loaded...\n",
      "1830 of 2043 days loaded...\n",
      "2196 of 2043 days loaded...\n",
      "Last Timestamp: 2017-04-16 20:00:00\n"
     ]
    }
   ],
   "source": [
    "get_data.get('data/datas.csv', period='6-hour', market='bitstampUSD')"
   ]
  },
  {
   "cell_type": "markdown",
   "metadata": {},
   "source": [
    "### Load Data"
   ]
  },
  {
   "cell_type": "code",
   "execution_count": 26,
   "metadata": {
    "collapsed": true
   },
   "outputs": [],
   "source": [
    "df = pd.read_csv('data/datas.csv', sep=',')"
   ]
  },
  {
   "cell_type": "code",
   "execution_count": 27,
   "metadata": {},
   "outputs": [
    {
     "data": {
      "text/plain": [
       "(8175, 8)"
      ]
     },
     "execution_count": 27,
     "metadata": {},
     "output_type": "execute_result"
    }
   ],
   "source": [
    "df.shape"
   ]
  },
  {
   "cell_type": "markdown",
   "metadata": {},
   "source": [
    "### Preprocessing"
   ]
  },
  {
   "cell_type": "markdown",
   "metadata": {},
   "source": [
    "Drop rows with read problems (0.00, 2.7e+308) values"
   ]
  },
  {
   "cell_type": "code",
   "execution_count": 28,
   "metadata": {
    "collapsed": true
   },
   "outputs": [],
   "source": [
    "df = utils.dropna(df)"
   ]
  },
  {
   "cell_type": "code",
   "execution_count": 29,
   "metadata": {},
   "outputs": [
    {
     "data": {
      "text/plain": [
       "(7779, 8)"
      ]
     },
     "execution_count": 29,
     "metadata": {},
     "output_type": "execute_result"
    }
   ],
   "source": [
    "df.shape"
   ]
  },
  {
   "cell_type": "markdown",
   "metadata": {},
   "source": [
    "### Transformation"
   ]
  },
  {
   "cell_type": "markdown",
   "metadata": {},
   "source": [
    "Create column target with class [UP, KEEP, DOWN]"
   ]
  },
  {
   "cell_type": "code",
   "execution_count": 30,
   "metadata": {
    "collapsed": true
   },
   "outputs": [],
   "source": [
    "df['Target'] = 1 # 'KEEP'\n",
    "df.loc[df.Open + (df.Open * settings.PERCENT_UP) < df.Close, 'Target'] = 2 # 'UP'\n",
    "df.loc[df.Open - (df.Open * settings.PERCENT_DOWN) > df.Close, 'Target'] = 3 # 'DOWN'"
   ]
  },
  {
   "cell_type": "code",
   "execution_count": 31,
   "metadata": {},
   "outputs": [
    {
     "name": "stdout",
     "output_type": "stream",
     "text": [
      "Number of rows: 7779, Number of columns: 9\n",
      "Number of UP rows: 424, Number of DOWN rows: 332\n"
     ]
    }
   ],
   "source": [
    "print('Number of rows: {}, Number of columns: {}'.format(*df.shape))\n",
    "print('Number of UP rows: {}, Number of DOWN rows: {}'.format(len(df[df.Target == 2]), len(df[df.Target == 3])))"
   ]
  },
  {
   "cell_type": "markdown",
   "metadata": {},
   "source": [
    "Create columns from Timestamp to Date, Year, Month and Day."
   ]
  },
  {
   "cell_type": "code",
   "execution_count": 32,
   "metadata": {
    "collapsed": true
   },
   "outputs": [],
   "source": [
    "df['Date'] = df['Timestamp'].apply(utils.timestamptodate)\n",
    "df['Date'] = pd.to_datetime(df['Date'])\n",
    "df['Year'] = df['Date'].dt.year\n",
    "df['Month'] = df['Date'].dt.month\n",
    "df['Day'] = df['Date'].dt.day"
   ]
  },
  {
   "cell_type": "code",
   "execution_count": 33,
   "metadata": {},
   "outputs": [
    {
     "name": "stdout",
     "output_type": "stream",
     "text": [
      "Number of rows: 7779, Number of columns: 13\n"
     ]
    }
   ],
   "source": [
    "print('Number of rows: {}, Number of columns: {}'.format(*df.shape))"
   ]
  },
  {
   "cell_type": "markdown",
   "metadata": {},
   "source": [
    "Transformation previous values from Open, High, Low, Close, Volume and Weighted columns."
   ]
  },
  {
   "cell_type": "code",
   "execution_count": 34,
   "metadata": {
    "collapsed": true
   },
   "outputs": [],
   "source": [
    "# create PREV_DAYS * len(cols) new columns\n",
    "cols = ['Open', 'High', 'Low', 'Close', 'Volume_BTC', 'Volume_Currency', 'Weighted_Price']\n",
    "for i in cols:\n",
    "    col = i\n",
    "    for idx in range(settings.PREV_DAYS):\n",
    "        prev = idx + 1\n",
    "        df[col+'-'+str(prev)] = df.Close.shift(prev)\n",
    "df = df.dropna()"
   ]
  },
  {
   "cell_type": "code",
   "execution_count": 35,
   "metadata": {},
   "outputs": [
    {
     "name": "stdout",
     "output_type": "stream",
     "text": [
      "Number of rows: 7769, Number of columns: 83\n"
     ]
    }
   ],
   "source": [
    "print('Number of rows: {}, Number of columns: {}'.format(*df.shape))"
   ]
  },
  {
   "cell_type": "markdown",
   "metadata": {},
   "source": [
    "### Split"
   ]
  },
  {
   "cell_type": "code",
   "execution_count": 36,
   "metadata": {
    "collapsed": true
   },
   "outputs": [],
   "source": [
    "train, test = utils.split_df2(df)"
   ]
  },
  {
   "cell_type": "code",
   "execution_count": 37,
   "metadata": {
    "collapsed": true
   },
   "outputs": [],
   "source": [
    "excl = ['Open', 'High', 'Low', 'Close','Volume_BTC', 'Volume_Currency', 'Weighted_Price', 'Target', 'Date', 'Year', 'Day', 'Timestamp']\n",
    "cols = [c for c in df.columns if c not in excl]"
   ]
  },
  {
   "cell_type": "markdown",
   "metadata": {},
   "source": [
    "### RandomForest"
   ]
  },
  {
   "cell_type": "code",
   "execution_count": 38,
   "metadata": {},
   "outputs": [
    {
     "name": "stdout",
     "output_type": "stream",
     "text": [
      "Cross Entropy: 0.585755559915\n",
      "Accuracy: 0.891919711786\n",
      "Coeficiente Kappa: 0.0874792573343\n",
      "Report:              precision    recall  f1-score   support\n",
      "\n",
      "       KEEP       0.90      0.99      0.94      1738\n",
      "         UP       0.29      0.05      0.08       122\n",
      "       DOWN       0.22      0.02      0.04        83\n",
      "\n",
      "avg / total       0.83      0.89      0.85      1943\n",
      "\n",
      "Confusion Matrix:\n",
      "\n",
      "Predicted     1   2  3  __all__\n",
      "Actual                         \n",
      "1          1725  11  2     1738\n",
      "2           111   6  5      122\n",
      "3            77   4  2       83\n",
      "__all__    1913  21  9     1943\n",
      "\n",
      "\n",
      "Overall Statistics:\n",
      "\n",
      "Accuracy: 0.891919711786\n",
      "95% CI: (0.87726101096290243, 0.90538311657198989)\n",
      "No Information Rate: ToDo\n",
      "P-Value [Acc > NIR]: 1.0\n",
      "Kappa: 0.0874792573343\n",
      "Mcnemar's Test P-Value: ToDo\n",
      "\n",
      "\n",
      "Class Statistics:\n",
      "\n",
      "Classes                                         1           2           3\n",
      "Population                                   1943        1943        1943\n",
      "P: Condition positive                        1738         122          83\n",
      "N: Condition negative                         205        1821        1860\n",
      "Test outcome positive                        1913          21           9\n",
      "Test outcome negative                          30        1922        1934\n",
      "TP: True Positive                            1725           6           2\n",
      "TN: True Negative                              17        1806        1853\n",
      "FP: False Positive                            188          15           7\n",
      "FN: False Negative                             13         116          81\n",
      "TPR: (Sensitivity, hit rate, recall)      0.99252   0.0491803   0.0240964\n",
      "TNR=SPC: (Specificity)                  0.0829268    0.991763    0.996237\n",
      "PPV: Pos Pred Value (Precision)          0.901725    0.285714    0.222222\n",
      "NPV: Neg Pred Value                      0.566667    0.939646    0.958118\n",
      "FPR: False-out                           0.917073  0.00823723  0.00376344\n",
      "FDR: False Discovery Rate                0.098275    0.714286    0.777778\n",
      "FNR: Miss Rate                         0.00747986     0.95082    0.975904\n",
      "ACC: Accuracy                            0.896552    0.932578    0.954709\n",
      "F1 score                                 0.944947   0.0839161   0.0434783\n",
      "MCC: Matthews correlation coefficient    0.187986    0.096057   0.0605545\n",
      "Informedness                             0.075447   0.0409431   0.0203329\n",
      "Markedness                               0.468392     0.22536     0.18034\n",
      "Prevalence                               0.894493   0.0627895   0.0427174\n",
      "LR+: Positive likelihood ratio            1.08227     5.97049     6.40275\n",
      "LR-: Negative likelihood ratio          0.0901983    0.958717     0.97959\n",
      "DOR: Diagnostic odds ratio                11.9988     6.22759     6.53616\n",
      "FOR: False omission rate                 0.433333   0.0603538   0.0418821\n"
     ]
    }
   ],
   "source": [
    "# train\n",
    "rf = RandomForestClassifier(n_estimators=1000, n_jobs=-1, random_state=17, verbose=0)\n",
    "model1 = rf.fit(train[cols], train['Target'])\n",
    "\n",
    "# predict\n",
    "y_pred = model1.predict(test[cols])\n",
    "y_pred_proba = model1.predict_proba(test[cols])\n",
    "y_true = test['Target']\n",
    "\n",
    "# metric\n",
    "utils.metrics(y_true, y_pred, y_pred_proba)"
   ]
  },
  {
   "cell_type": "markdown",
   "metadata": {},
   "source": [
    "### Bagging"
   ]
  },
  {
   "cell_type": "code",
   "execution_count": 39,
   "metadata": {},
   "outputs": [
    {
     "name": "stdout",
     "output_type": "stream",
     "text": [
      "Cross Entropy: 0.73713731679\n",
      "Accuracy: 0.887802367473\n",
      "Coeficiente Kappa: 0.0829448888793\n",
      "Report:              precision    recall  f1-score   support\n",
      "\n",
      "       KEEP       0.90      0.99      0.94      1738\n",
      "         UP       0.20      0.04      0.07       122\n",
      "       DOWN       0.14      0.02      0.04        83\n",
      "\n",
      "avg / total       0.83      0.89      0.85      1943\n",
      "\n",
      "Confusion Matrix:\n",
      "\n",
      "Predicted     1   2   3  __all__\n",
      "Actual                          \n",
      "1          1718  14   6     1738\n",
      "2           111   5   6      122\n",
      "3            75   6   2       83\n",
      "__all__    1904  25  14     1943\n",
      "\n",
      "\n",
      "Overall Statistics:\n",
      "\n",
      "Accuracy: 0.887802367473\n",
      "95% CI: (0.87292258579787707, 0.90149986381066416)\n",
      "No Information Rate: ToDo\n",
      "P-Value [Acc > NIR]: 1.0\n",
      "Kappa: 0.0829448888793\n",
      "Mcnemar's Test P-Value: ToDo\n",
      "\n",
      "\n",
      "Class Statistics:\n",
      "\n",
      "Classes                                        1          2           3\n",
      "Population                                  1943       1943        1943\n",
      "P: Condition positive                       1738        122          83\n",
      "N: Condition negative                        205       1821        1860\n",
      "Test outcome positive                       1904         25          14\n",
      "Test outcome negative                         39       1918        1929\n",
      "TP: True Positive                           1718          5           2\n",
      "TN: True Negative                             19       1801        1848\n",
      "FP: False Positive                           186         20          12\n",
      "FN: False Negative                            20        117          81\n",
      "TPR: (Sensitivity, hit rate, recall)    0.988493  0.0409836   0.0240964\n",
      "TNR=SPC: (Specificity)                 0.0926829   0.989017    0.993548\n",
      "PPV: Pos Pred Value (Precision)         0.902311        0.2    0.142857\n",
      "NPV: Neg Pred Value                     0.487179   0.938999    0.958009\n",
      "FPR: False-out                          0.907317   0.010983  0.00645161\n",
      "FDR: False Discovery Rate              0.0976891        0.8    0.857143\n",
      "FNR: Miss Rate                         0.0115075   0.959016    0.975904\n",
      "ACC: Accuracy                           0.893978    0.92949    0.952136\n",
      "F1 score                                0.943438  0.0680272   0.0412371\n",
      "MCC: Matthews correlation coefficient   0.177812   0.064576   0.0421873\n",
      "Informedness                           0.0811754  0.0300006   0.0176448\n",
      "Markedness                               0.38949   0.138999    0.100866\n",
      "Prevalence                              0.894493  0.0627895   0.0427174\n",
      "LR+: Positive likelihood ratio           1.08947    3.73156     3.73494\n",
      "LR-: Negative likelihood ratio           0.12416   0.969666    0.982241\n",
      "DOR: Diagnostic odds ratio               8.77473    3.84829     3.80247\n",
      "FOR: False omission rate                0.512821   0.061001   0.0419907\n"
     ]
    }
   ],
   "source": [
    "# train\n",
    "ba = BaggingClassifier(n_estimators=1000, n_jobs=-1, random_state=17, verbose=0)\n",
    "model1 = ba.fit(train[cols], train['Target'])\n",
    "\n",
    "# predict\n",
    "y_pred = model1.predict(test[cols])\n",
    "y_pred_proba = model1.predict_proba(test[cols])\n",
    "y_true = test['Target']\n",
    "\n",
    "# metric\n",
    "utils.metrics(y_true, y_pred, y_pred_proba)"
   ]
  },
  {
   "cell_type": "markdown",
   "metadata": {},
   "source": [
    "### ExtraTrees"
   ]
  },
  {
   "cell_type": "code",
   "execution_count": 40,
   "metadata": {},
   "outputs": [
    {
     "name": "stdout",
     "output_type": "stream",
     "text": [
      "Cross Entropy: 0.577331707282\n",
      "Accuracy: 0.888831703551\n",
      "Coeficiente Kappa: 0.110408329377\n",
      "Report:              precision    recall  f1-score   support\n",
      "\n",
      "       KEEP       0.90      0.99      0.94      1738\n",
      "         UP       0.27      0.06      0.09       122\n",
      "       DOWN       0.16      0.04      0.06        83\n",
      "\n",
      "avg / total       0.83      0.89      0.85      1943\n",
      "\n",
      "Confusion Matrix:\n",
      "\n",
      "Predicted     1   2   3  __all__\n",
      "Actual                          \n",
      "1          1717  12   9     1738\n",
      "2           108   7   7      122\n",
      "3            73   7   3       83\n",
      "__all__    1898  26  19     1943\n",
      "\n",
      "\n",
      "Overall Statistics:\n",
      "\n",
      "Accuracy: 0.888831703551\n",
      "95% CI: (0.8740066219192163, 0.90247125058049571)\n",
      "No Information Rate: ToDo\n",
      "P-Value [Acc > NIR]: 1.0\n",
      "Kappa: 0.110408329377\n",
      "Mcnemar's Test P-Value: ToDo\n",
      "\n",
      "\n",
      "Class Statistics:\n",
      "\n",
      "Classes                                        1          2           3\n",
      "Population                                  1943       1943        1943\n",
      "P: Condition positive                       1738        122          83\n",
      "N: Condition negative                        205       1821        1860\n",
      "Test outcome positive                       1898         26          19\n",
      "Test outcome negative                         45       1917        1924\n",
      "TP: True Positive                           1717          7           3\n",
      "TN: True Negative                             24       1802        1844\n",
      "FP: False Positive                           181         19          16\n",
      "FN: False Negative                            21        115          80\n",
      "TPR: (Sensitivity, hit rate, recall)    0.987917   0.057377   0.0361446\n",
      "TNR=SPC: (Specificity)                  0.117073   0.989566    0.991398\n",
      "PPV: Pos Pred Value (Precision)         0.904636   0.269231    0.157895\n",
      "NPV: Neg Pred Value                     0.533333    0.94001     0.95842\n",
      "FPR: False-out                          0.882927  0.0104338  0.00860215\n",
      "FDR: False Discovery Rate              0.0953635   0.730769    0.842105\n",
      "FNR: Miss Rate                         0.0120829   0.942623    0.963855\n",
      "ACC: Accuracy                           0.896037   0.931034    0.950592\n",
      "F1 score                                0.944444  0.0945946   0.0588235\n",
      "MCC: Matthews correlation coefficient   0.214436  0.0991083   0.0566003\n",
      "Informedness                             0.10499  0.0469432   0.0275424\n",
      "Markedness                               0.43797   0.209241    0.116315\n",
      "Prevalence                              0.894493  0.0627895   0.0427174\n",
      "LR+: Positive likelihood ratio           1.11891    5.49914     4.20181\n",
      "LR-: Negative likelihood ratio          0.103208   0.952562    0.972219\n",
      "DOR: Diagnostic odds ratio               10.8414      5.773     4.32187\n",
      "FOR: False omission rate                0.466667  0.0599896     0.04158\n"
     ]
    }
   ],
   "source": [
    "# train\n",
    "et = ExtraTreesClassifier(n_estimators=1000, n_jobs=-1, random_state=17, verbose=0)\n",
    "model1 = et.fit(train[cols], train['Target'])\n",
    "\n",
    "# predict\n",
    "y_pred = model1.predict(test[cols])\n",
    "y_pred_proba = model1.predict_proba(test[cols])\n",
    "y_true = test['Target']\n",
    "\n",
    "# metric\n",
    "utils.metrics(y_true, y_pred, y_pred_proba)"
   ]
  },
  {
   "cell_type": "markdown",
   "metadata": {
    "collapsed": true
   },
   "source": [
    "### GradientBoosting"
   ]
  },
  {
   "cell_type": "code",
   "execution_count": 41,
   "metadata": {},
   "outputs": [
    {
     "name": "stdout",
     "output_type": "stream",
     "text": [
      "Cross Entropy: 0.825085769616\n",
      "Accuracy: 0.88368502316\n",
      "Coeficiente Kappa: 0.100050006558\n",
      "Report:              precision    recall  f1-score   support\n",
      "\n",
      "       KEEP       0.90      0.98      0.94      1738\n",
      "         UP       0.19      0.06      0.09       122\n",
      "       DOWN       0.21      0.05      0.08        83\n",
      "\n",
      "avg / total       0.83      0.88      0.85      1943\n",
      "\n",
      "Confusion Matrix:\n",
      "\n",
      "Predicted     1   2   3  __all__\n",
      "Actual                          \n",
      "1          1706  23   9     1738\n",
      "2           109   7   6      122\n",
      "3            73   6   4       83\n",
      "__all__    1888  36  19     1943\n",
      "\n",
      "\n",
      "Overall Statistics:\n",
      "\n",
      "Accuracy: 0.88368502316\n",
      "95% CI: (0.8685901227852425, 0.89761061385484486)\n",
      "No Information Rate: ToDo\n",
      "P-Value [Acc > NIR]: 1.0\n",
      "Kappa: 0.100050006558\n",
      "Mcnemar's Test P-Value: ToDo\n",
      "\n",
      "\n",
      "Class Statistics:\n",
      "\n",
      "Classes                                        1          2           3\n",
      "Population                                  1943       1943        1943\n",
      "P: Condition positive                       1738        122          83\n",
      "N: Condition negative                        205       1821        1860\n",
      "Test outcome positive                       1888         36          19\n",
      "Test outcome negative                         55       1907        1924\n",
      "TP: True Positive                           1706          7           4\n",
      "TN: True Negative                             23       1792        1845\n",
      "FP: False Positive                           182         29          15\n",
      "FN: False Negative                            32        115          79\n",
      "TPR: (Sensitivity, hit rate, recall)    0.981588   0.057377   0.0481928\n",
      "TNR=SPC: (Specificity)                  0.112195   0.984075    0.991935\n",
      "PPV: Pos Pred Value (Precision)         0.903602   0.194444    0.210526\n",
      "NPV: Neg Pred Value                     0.418182   0.939696     0.95894\n",
      "FPR: False-out                          0.887805  0.0159253  0.00806452\n",
      "FDR: False Discovery Rate              0.0963983   0.805556    0.789474\n",
      "FNR: Miss Rate                          0.018412   0.942623    0.951807\n",
      "ACC: Accuracy                           0.889861   0.925888    0.951621\n",
      "F1 score                                0.940982  0.0886076   0.0784314\n",
      "MCC: Matthews correlation coefficient   0.173718  0.0745677   0.0824644\n",
      "Informedness                           0.0937832  0.0414517   0.0401283\n",
      "Markedness                              0.321784    0.13414    0.169466\n",
      "Prevalence                              0.894493  0.0627895   0.0427174\n",
      "LR+: Positive likelihood ratio           1.10563    3.60288      5.9759\n",
      "LR-: Negative likelihood ratio          0.164107   0.957877    0.959545\n",
      "DOR: Diagnostic odds ratio               6.73729    3.76132     6.22785\n",
      "FOR: False omission rate                0.581818  0.0603041   0.0410603\n"
     ]
    }
   ],
   "source": [
    "# train\n",
    "gr = GradientBoostingClassifier(n_estimators=1000, max_depth=10, warm_start=True, learning_rate=0.08, random_state=17, verbose=0)\n",
    "model1 = gr.fit(train[cols], train['Target'])\n",
    "\n",
    "# predict\n",
    "y_pred = model1.predict(test[cols])\n",
    "y_pred_proba = model1.predict_proba(test[cols])\n",
    "y_true = test['Target']\n",
    "\n",
    "# metric\n",
    "utils.metrics(y_true, y_pred, y_pred_proba)"
   ]
  },
  {
   "cell_type": "markdown",
   "metadata": {},
   "source": [
    "### AdaBoost"
   ]
  },
  {
   "cell_type": "code",
   "execution_count": 42,
   "metadata": {},
   "outputs": [
    {
     "name": "stdout",
     "output_type": "stream",
     "text": [
      "Cross Entropy: 1.09387444573\n",
      "Accuracy: 0.892949047864\n",
      "Coeficiente Kappa: 0.00966700891227\n",
      "Report:              precision    recall  f1-score   support\n",
      "\n",
      "       KEEP       0.90      1.00      0.94      1738\n",
      "         UP       0.25      0.01      0.02       122\n",
      "       DOWN       0.00      0.00      0.00        83\n",
      "\n",
      "avg / total       0.82      0.89      0.85      1943\n",
      "\n",
      "Confusion Matrix:\n",
      "\n",
      "Predicted     1  2  3  __all__\n",
      "Actual                        \n",
      "1          1734  3  1     1738\n",
      "2           120  1  1      122\n",
      "3            83  0  0       83\n",
      "__all__    1937  4  2     1943\n",
      "\n",
      "\n",
      "Overall Statistics:\n",
      "\n",
      "Accuracy: 0.892949047864\n",
      "95% CI: (0.87834658328135895, 0.90635295787432801)\n",
      "No Information Rate: ToDo\n",
      "P-Value [Acc > NIR]: 1.0\n",
      "Kappa: 0.00966700891227\n",
      "Mcnemar's Test P-Value: ToDo\n",
      "\n",
      "\n",
      "Class Statistics:\n",
      "\n",
      "Classes                                        1           2           3\n",
      "Population                                  1943        1943        1943\n",
      "P: Condition positive                       1738         122          83\n",
      "N: Condition negative                        205        1821        1860\n",
      "Test outcome positive                       1937           4           2\n",
      "Test outcome negative                          6        1939        1941\n",
      "TP: True Positive                           1734           1           0\n",
      "TN: True Negative                              2        1818        1858\n",
      "FP: False Positive                           203           3           2\n",
      "FN: False Negative                             4         121          83\n",
      "TPR: (Sensitivity, hit rate, recall)    0.997699  0.00819672           0\n",
      "TNR=SPC: (Specificity)                 0.0097561    0.998353    0.998925\n",
      "PPV: Pos Pred Value (Precision)         0.895199        0.25           0\n",
      "NPV: Neg Pred Value                     0.333333    0.937597    0.957239\n",
      "FPR: False-out                          0.990244  0.00164745  0.00107527\n",
      "FDR: False Discovery Rate               0.104801        0.75           1\n",
      "FNR: Miss Rate                         0.0023015    0.991803           1\n",
      "ACC: Accuracy                           0.893464    0.936181    0.956253\n",
      "F1 score                                0.943673    0.015873           0\n",
      "MCC: Matthews correlation coefficient  0.0412749   0.0350517 -0.00678086\n",
      "Informedness                           0.0074546  0.00654927 -0.00107527\n",
      "Markedness                              0.228532    0.187597  -0.0427615\n",
      "Prevalence                              0.894493   0.0627895   0.0427174\n",
      "LR+: Positive likelihood ratio           1.00753     4.97541           0\n",
      "LR-: Negative likelihood ratio          0.235903     0.99344     1.00108\n",
      "DOR: Diagnostic odds ratio               4.27094     5.00826           0\n",
      "FOR: False omission rate                0.666667   0.0624033   0.0427615\n"
     ]
    }
   ],
   "source": [
    "# train\n",
    "ab = AdaBoostClassifier(n_estimators=500, random_state=17)\n",
    "model1 = ab.fit(train[cols], train['Target'])\n",
    "\n",
    "# predict\n",
    "y_pred = model1.predict(test[cols])\n",
    "y_pred_proba = model1.predict_proba(test[cols])\n",
    "y_true = test['Target']\n",
    "\n",
    "# metric\n",
    "utils.metrics(y_true, y_pred, y_pred_proba)"
   ]
  },
  {
   "cell_type": "markdown",
   "metadata": {
    "collapsed": true
   },
   "source": [
    "### VotingClassifier"
   ]
  },
  {
   "cell_type": "code",
   "execution_count": 43,
   "metadata": {},
   "outputs": [
    {
     "name": "stderr",
     "output_type": "stream",
     "text": [
      "/Users/bukosabino/envs/btctrader/lib/python2.7/site-packages/sklearn/externals/joblib/parallel.py:540: UserWarning: Multiprocessing-backed parallel loops cannot be nested, setting n_jobs=1\n",
      "  **self._backend_args)\n"
     ]
    },
    {
     "name": "stdout",
     "output_type": "stream",
     "text": [
      "Accuracy: 0.890375707669\n",
      "Coeficiente Kappa: 0.0676226415094\n",
      "Report:              precision    recall  f1-score   support\n",
      "\n",
      "       KEEP       0.90      0.99      0.94      1738\n",
      "         UP       0.25      0.04      0.07       122\n",
      "       DOWN       0.00      0.00      0.00        83\n",
      "\n",
      "avg / total       0.82      0.89      0.85      1943\n",
      "\n",
      "Confusion Matrix:\n",
      "\n",
      "Predicted     1   2  3  __all__\n",
      "Actual                         \n",
      "1          1725  10  3     1738\n",
      "2           112   5  5      122\n",
      "3            78   5  0       83\n",
      "__all__    1915  20  8     1943\n",
      "\n",
      "\n",
      "Overall Statistics:\n",
      "\n",
      "Accuracy: 0.890375707669\n",
      "95% CI: (0.87563338444965144, 0.90392761817394152)\n",
      "No Information Rate: ToDo\n",
      "P-Value [Acc > NIR]: 1.0\n",
      "Kappa: 0.0676226415094\n",
      "Mcnemar's Test P-Value: ToDo\n",
      "\n",
      "\n",
      "Class Statistics:\n",
      "\n",
      "Classes                                         1           2           3\n",
      "Population                                   1943        1943        1943\n",
      "P: Condition positive                        1738         122          83\n",
      "N: Condition negative                         205        1821        1860\n",
      "Test outcome positive                        1915          20           8\n",
      "Test outcome negative                          28        1923        1935\n",
      "TP: True Positive                            1725           5           0\n",
      "TN: True Negative                              15        1806        1852\n",
      "FP: False Positive                            190          15           8\n",
      "FN: False Negative                             13         117          83\n",
      "TPR: (Sensitivity, hit rate, recall)      0.99252   0.0409836           0\n",
      "TNR=SPC: (Specificity)                  0.0731707    0.991763    0.995699\n",
      "PPV: Pos Pred Value (Precision)          0.900783        0.25           0\n",
      "NPV: Neg Pred Value                      0.535714    0.939158    0.957106\n",
      "FPR: False-out                           0.926829  0.00823723  0.00430108\n",
      "FDR: False Discovery Rate               0.0992167        0.75           1\n",
      "FNR: Miss Rate                         0.00747986    0.959016           1\n",
      "ACC: Accuracy                            0.895522    0.932064    0.953165\n",
      "F1 score                                 0.944429   0.0704225           0\n",
      "MCC: Matthews correlation coefficient    0.169334   0.0787034  -0.0135827\n",
      "Informedness                            0.0656909   0.0327464 -0.00430108\n",
      "Markedness                               0.436498    0.189158  -0.0428941\n",
      "Prevalence                               0.894493   0.0627895   0.0427174\n",
      "LR+: Positive likelihood ratio            1.07088     4.97541           0\n",
      "LR-: Negative likelihood ratio           0.102225    0.966982     1.00432\n",
      "DOR: Diagnostic odds ratio                10.4757      5.1453           0\n",
      "FOR: False omission rate                 0.464286   0.0608424   0.0428941\n"
     ]
    }
   ],
   "source": [
    "# train\n",
    "v = VotingClassifier(estimators=[\n",
    "        ('rf', rf), ('ba', ba), ('et', et), ('gr', gr), ('ab', ab)\n",
    "    ], voting='hard', n_jobs=-1)\n",
    "model1 = v.fit(train[cols], train['Target'])\n",
    "\n",
    "# predict\n",
    "y_pred = model1.predict(test[cols])\n",
    "# y_pred_proba = model1.predict_proba(test[cols])\n",
    "y_true = test['Target']\n",
    "\n",
    "# metric\n",
    "utils.metrics(y_true, y_pred)"
   ]
  },
  {
   "cell_type": "code",
   "execution_count": 44,
   "metadata": {},
   "outputs": [
    {
     "name": "stdout",
     "output_type": "stream",
     "text": [
      "Accuracy: 0.891919711786\n",
      "Coeficiente Kappa: 0.0635435385812\n",
      "Report:              precision    recall  f1-score   support\n",
      "\n",
      "       KEEP       0.90      0.99      0.94      1738\n",
      "         UP       0.24      0.03      0.06       122\n",
      "       DOWN       0.17      0.01      0.02        83\n",
      "\n",
      "avg / total       0.83      0.89      0.85      1943\n",
      "\n",
      "Confusion Matrix:\n",
      "\n",
      "Predicted     1   2  3  __all__\n",
      "Actual                         \n",
      "1          1728   9  1     1738\n",
      "2           114   4  4      122\n",
      "3            78   4  1       83\n",
      "__all__    1920  17  6     1943\n",
      "\n",
      "\n",
      "Overall Statistics:\n",
      "\n",
      "Accuracy: 0.891919711786\n",
      "95% CI: (0.87726101096290243, 0.90538311657198989)\n",
      "No Information Rate: ToDo\n",
      "P-Value [Acc > NIR]: 1.0\n",
      "Kappa: 0.0635435385812\n",
      "Mcnemar's Test P-Value: ToDo\n",
      "\n",
      "\n",
      "Class Statistics:\n",
      "\n",
      "Classes                                         1           2           3\n",
      "Population                                   1943        1943        1943\n",
      "P: Condition positive                        1738         122          83\n",
      "N: Condition negative                         205        1821        1860\n",
      "Test outcome positive                        1920          17           6\n",
      "Test outcome negative                          23        1926        1937\n",
      "TP: True Positive                            1728           4           1\n",
      "TN: True Negative                              13        1808        1855\n",
      "FP: False Positive                            192          13           5\n",
      "FN: False Negative                             10         118          82\n",
      "TPR: (Sensitivity, hit rate, recall)     0.994246   0.0327869   0.0120482\n",
      "TNR=SPC: (Specificity)                  0.0634146    0.992861    0.997312\n",
      "PPV: Pos Pred Value (Precision)               0.9    0.235294    0.166667\n",
      "NPV: Neg Pred Value                      0.565217    0.938733    0.957666\n",
      "FPR: False-out                           0.936585  0.00713893  0.00268817\n",
      "FDR: False Discovery Rate                     0.1    0.764706    0.833333\n",
      "FNR: Miss Rate                         0.00575374    0.967213    0.987952\n",
      "ACC: Accuracy                            0.896037    0.932578    0.955224\n",
      "F1 score                                 0.944779    0.057554   0.0224719\n",
      "MCC: Matthews correlation coefficient    0.163783    0.066809   0.0341139\n",
      "Informedness                            0.0576609    0.025648  0.00936002\n",
      "Markedness                               0.465217    0.174027    0.124333\n",
      "Prevalence                               0.894493   0.0627895   0.0427174\n",
      "LR+: Positive likelihood ratio            1.06157     4.59269     4.48193\n",
      "LR-: Negative likelihood ratio          0.0907321    0.974168    0.990615\n",
      "DOR: Diagnostic odds ratio                   11.7     4.71447     4.52439\n",
      "FOR: False omission rate                 0.434783   0.0612669   0.0423335\n"
     ]
    }
   ],
   "source": [
    "# train\n",
    "v = VotingClassifier(estimators=[\n",
    "        ('rf', rf), ('gr', gr)\n",
    "    ], voting='hard', n_jobs=-1)\n",
    "model1 = v.fit(train[cols], train['Target'])\n",
    "\n",
    "# predict\n",
    "y_pred = model1.predict(test[cols])\n",
    "# y_pred_proba = model1.predict_proba(test[cols])\n",
    "y_true = test['Target']\n",
    "\n",
    "# metric\n",
    "utils.metrics(y_true, y_pred)"
   ]
  },
  {
   "cell_type": "markdown",
   "metadata": {
    "collapsed": true
   },
   "source": [
    "### Conclusions"
   ]
  },
  {
   "cell_type": "markdown",
   "metadata": {},
   "source": [
    "In progress..."
   ]
  },
  {
   "cell_type": "code",
   "execution_count": null,
   "metadata": {
    "collapsed": true
   },
   "outputs": [],
   "source": []
  }
 ],
 "metadata": {
  "kernelspec": {
   "display_name": "Python 2",
   "language": "python",
   "name": "python2"
  },
  "language_info": {
   "codemirror_mode": {
    "name": "ipython",
    "version": 2
   },
   "file_extension": ".py",
   "mimetype": "text/x-python",
   "name": "python",
   "nbconvert_exporter": "python",
   "pygments_lexer": "ipython2",
   "version": "2.7.10"
  }
 },
 "nbformat": 4,
 "nbformat_minor": 2
}
