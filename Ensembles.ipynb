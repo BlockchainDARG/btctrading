{
 "cells": [
  {
   "cell_type": "code",
   "execution_count": 29,
   "metadata": {
    "collapsed": false,
    "deletable": true,
    "editable": true
   },
   "outputs": [],
   "source": [
    "import numpy as np\n",
    "import pandas as pd\n",
    "from sklearn.ensemble import *\n",
    "import xgboost as xgb\n",
    "\n",
    "import settings\n",
    "import utils\n",
    "import get_data"
   ]
  },
  {
   "cell_type": "markdown",
   "metadata": {
    "deletable": true,
    "editable": true
   },
   "source": [
    "### Get Data"
   ]
  },
  {
   "cell_type": "markdown",
   "metadata": {
    "deletable": true,
    "editable": true
   },
   "source": [
    "API: http://bitcoincharts.com/charts\n",
    "\n",
    "period = ['1-min', '5-min', '15-min', '30-min', 'Hourly', '2-hour', '6-hour', '12-hour', 'Daily', 'Weekly']\n",
    "\n",
    "market = ['coincheckJPY', 'krakenEUR', 'bitstampUSD', 'okcoinCNY', 'btcnCNY', 'krakenUSD', 'itbitUSD', 'bitbayPLN', 'btcoidIDR', 'localbtcRUB', 'localbtcGBP', 'btcdeEUR', 'coinfloorGBP', 'localbtcUSD']"
   ]
  },
  {
   "cell_type": "code",
   "execution_count": 30,
   "metadata": {
    "collapsed": false,
    "deletable": true,
    "editable": true
   },
   "outputs": [],
   "source": [
    "# get_data.get('data/datas.csv', period='6-hour', market='bitstampUSD')"
   ]
  },
  {
   "cell_type": "markdown",
   "metadata": {
    "deletable": true,
    "editable": true
   },
   "source": [
    "### Load Data"
   ]
  },
  {
   "cell_type": "code",
   "execution_count": 31,
   "metadata": {
    "collapsed": true,
    "deletable": true,
    "editable": true
   },
   "outputs": [],
   "source": [
    "df = pd.read_csv('data/datas.csv', sep=',')"
   ]
  },
  {
   "cell_type": "code",
   "execution_count": 32,
   "metadata": {
    "collapsed": false,
    "deletable": true,
    "editable": true
   },
   "outputs": [
    {
     "data": {
      "text/plain": [
       "(8457, 8)"
      ]
     },
     "execution_count": 32,
     "metadata": {},
     "output_type": "execute_result"
    }
   ],
   "source": [
    "df.shape"
   ]
  },
  {
   "cell_type": "markdown",
   "metadata": {
    "deletable": true,
    "editable": true
   },
   "source": [
    "### Preprocessing"
   ]
  },
  {
   "cell_type": "markdown",
   "metadata": {
    "deletable": true,
    "editable": true
   },
   "source": [
    "Drop rows with read problems (0.00, 2.7e+308) values"
   ]
  },
  {
   "cell_type": "code",
   "execution_count": 33,
   "metadata": {
    "collapsed": true,
    "deletable": true,
    "editable": true
   },
   "outputs": [],
   "source": [
    "df = utils.dropna(df)"
   ]
  },
  {
   "cell_type": "code",
   "execution_count": 34,
   "metadata": {
    "collapsed": false,
    "deletable": true,
    "editable": true
   },
   "outputs": [
    {
     "data": {
      "text/plain": [
       "(8061, 8)"
      ]
     },
     "execution_count": 34,
     "metadata": {},
     "output_type": "execute_result"
    }
   ],
   "source": [
    "df.shape"
   ]
  },
  {
   "cell_type": "markdown",
   "metadata": {
    "deletable": true,
    "editable": true
   },
   "source": [
    "### Transformation"
   ]
  },
  {
   "cell_type": "markdown",
   "metadata": {
    "deletable": true,
    "editable": true
   },
   "source": [
    "Create column target with class [UP, KEEP, DOWN]"
   ]
  },
  {
   "cell_type": "code",
   "execution_count": 35,
   "metadata": {
    "collapsed": true,
    "deletable": true,
    "editable": true
   },
   "outputs": [],
   "source": [
    "df['Target'] = 0 # 'KEEP'\n",
    "df.loc[df.Open + (df.Open * settings.PERCENT_UP) < df.Close, 'Target'] = 1 # 'UP'\n",
    "df.loc[df.Open - (df.Open * settings.PERCENT_DOWN) > df.Close, 'Target'] = 2 # 'DOWN'"
   ]
  },
  {
   "cell_type": "code",
   "execution_count": 36,
   "metadata": {
    "collapsed": false,
    "deletable": true,
    "editable": true
   },
   "outputs": [
    {
     "name": "stdout",
     "output_type": "stream",
     "text": [
      "Number of rows: 8061, Number of columns: 9\n",
      "Number of UP rows: 181, Number of DOWN rows: 152\n"
     ]
    }
   ],
   "source": [
    "print('Number of rows: {}, Number of columns: {}'.format(*df.shape))\n",
    "print('Number of UP rows: {}, Number of DOWN rows: {}'.format(len(df[df.Target == 1]), len(df[df.Target == 2])))"
   ]
  },
  {
   "cell_type": "markdown",
   "metadata": {
    "deletable": true,
    "editable": true
   },
   "source": [
    "Create columns from Timestamp to Date, Year, Month and Day."
   ]
  },
  {
   "cell_type": "markdown",
   "metadata": {
    "deletable": true,
    "editable": true
   },
   "source": [
    "### Feature Engineering"
   ]
  },
  {
   "cell_type": "code",
   "execution_count": 37,
   "metadata": {
    "collapsed": true,
    "deletable": true,
    "editable": true
   },
   "outputs": [],
   "source": [
    "df['Date'] = df['Timestamp'].apply(utils.timestamptodate)\n",
    "df['Date'] = pd.to_datetime(df['Date'])\n",
    "df['Year'] = df['Date'].dt.year\n",
    "df['Month'] = df['Date'].dt.month\n",
    "df['Day'] = df['Date'].dt.day\n",
    "df['Week'] = df['Date'].dt.weekofyear\n",
    "df['Weekday'] = df['Date'].dt.weekday\n",
    "\n",
    "# extra dates\n",
    "df[\"yearmonth\"] = df[\"Date\"].dt.year*100 + df[\"Date\"].dt.month\n",
    "df[\"yearweek\"] = df[\"Date\"].dt.year*100 + df[\"Date\"].dt.weekofyear\n",
    "df[\"yearweekday\"] = df[\"Date\"].dt.year*10 + df[\"Date\"].dt.weekday"
   ]
  },
  {
   "cell_type": "code",
   "execution_count": 38,
   "metadata": {
    "collapsed": true,
    "deletable": true,
    "editable": true
   },
   "outputs": [],
   "source": [
    "df['High-low'] = df['High'] - df['Low']\n",
    "df['High-low_mean'] = (df['High'] - df['Low']) / 2.0\n",
    "df['Close-open'] = df['Close'] - df['Open']\n",
    "df['Close-open_mean'] = (df['Close'] - df['Open']) / 2.0"
   ]
  },
  {
   "cell_type": "code",
   "execution_count": 39,
   "metadata": {
    "collapsed": false,
    "deletable": true,
    "editable": true
   },
   "outputs": [],
   "source": [
    "# rollings: https://github.com/pandas-dev/pandas/blob/master/pandas/stats/moments.py\n",
    "df['Rolling_mean_3'] = df.set_index('Date')['Close'].rolling(window=3).mean().values\n",
    "df['Rolling_std_3'] = df.set_index('Date')['Close'].rolling(window=3).std().values\n",
    "df['Rolling_cov_3'] = df.set_index('Date')['Close'].rolling(window=3).cov().values\n",
    "\n",
    "df['Rolling_mean_3'] = df['Rolling_mean_3'].shift(-1)\n",
    "df['Rolling_std_3'] = df['Rolling_std_3'].shift(-1)\n",
    "df['Rolling_cov_3'] = df['Rolling_cov_3'].shift(-1)\n",
    "\n",
    "df['Rolling_mean_5'] = df.set_index('Date')['Close'].rolling(window=5).mean().values\n",
    "df['Rolling_std_5'] = df.set_index('Date')['Close'].rolling(window=5).std().values\n",
    "df['Rolling_cov_5'] = df.set_index('Date')['Close'].rolling(window=5).cov().values\n",
    "\n",
    "df['Rolling_mean_5'] = df['Rolling_mean_5'].shift(-1)\n",
    "df['Rolling_std_5'] = df['Rolling_std_5'].shift(-1)\n",
    "df['Rolling_cov_5'] = df['Rolling_cov_5'].shift(-1)\n",
    "\n",
    "df['Rolling_mean_10'] = df.set_index('Date')['Close'].rolling(window=10).mean().values\n",
    "df['Rolling_std_10'] = df.set_index('Date')['Close'].rolling(window=10).std().values\n",
    "df['Rolling_cov_10'] = df.set_index('Date')['Close'].rolling(window=10).cov().values\n",
    "\n",
    "df['Rolling_mean_10'] = df['Rolling_mean_10'].shift(-1)\n",
    "df['Rolling_std_10'] = df['Rolling_std_10'].shift(-1)\n",
    "df['Rolling_cov_10'] = df['Rolling_cov_10'].shift(-1)"
   ]
  },
  {
   "cell_type": "code",
   "execution_count": 40,
   "metadata": {
    "collapsed": false,
    "deletable": true,
    "editable": true
   },
   "outputs": [],
   "source": [
    "# daily return\n",
    "\n",
    "df['Daily_return'] = (df.Close/df.Open) - 1\n",
    "df['Daily_return_100'] = ((df.Close/df.Open) - 1) * 100"
   ]
  },
  {
   "cell_type": "code",
   "execution_count": 41,
   "metadata": {
    "collapsed": false,
    "deletable": true,
    "editable": true
   },
   "outputs": [],
   "source": [
    "# cumulative return\n",
    "\n",
    "df['Cumulative_return'] = (df.Close/df['Close'][0]) - 1\n",
    "df['Cumulative_return_100'] = (df.Close/df['Close'][0]) - 1\n",
    "\n",
    "# cumulative return week, month, year..."
   ]
  },
  {
   "cell_type": "code",
   "execution_count": 42,
   "metadata": {
    "collapsed": true,
    "deletable": true,
    "editable": true
   },
   "outputs": [],
   "source": [
    "# technical analysis (price and volume)\n",
    "\n",
    "# momentum\n",
    "df['Momentum_3'] = \n",
    "df['Momentum_7'] = \n",
    "df['Momentum_10'] = \n",
    "\n",
    "# simple moving average\n",
    "\n",
    "# bollinger bands\n",
    "\n"
   ]
  },
  {
   "cell_type": "code",
   "execution_count": 43,
   "metadata": {
    "collapsed": false,
    "deletable": true,
    "editable": true
   },
   "outputs": [
    {
     "name": "stdout",
     "output_type": "stream",
     "text": [
      "Number of rows: 8061, Number of columns: 35\n"
     ]
    }
   ],
   "source": [
    "print('Number of rows: {}, Number of columns: {}'.format(*df.shape))"
   ]
  },
  {
   "cell_type": "markdown",
   "metadata": {
    "deletable": true,
    "editable": true
   },
   "source": [
    "Transformation previous values from Open, High, Low, Close, Volume and Weighted columns."
   ]
  },
  {
   "cell_type": "code",
   "execution_count": 44,
   "metadata": {
    "collapsed": false,
    "deletable": true,
    "editable": true
   },
   "outputs": [],
   "source": [
    "# create PREV_DAYS * len(cols) new columns\n",
    "cols = ['Open', 'High', 'Low', 'Close', 'Volume_BTC', 'Volume_Currency', 'Weighted_Price', 'High-low', 'High-low_mean', 'Close-open', 'Close-open_mean', 'Daily_return', 'Daily_return_100', 'Cumulative_return', 'Cumulative_return_100']\n",
    "for col in cols:\n",
    "    for idx in range(settings.PREV_DAYS):\n",
    "        prev = idx + 1\n",
    "        df[col+'-'+str(prev)] = df[col].shift(prev)\n",
    "df = df.dropna()"
   ]
  },
  {
   "cell_type": "code",
   "execution_count": 45,
   "metadata": {
    "collapsed": false,
    "deletable": true,
    "editable": true
   },
   "outputs": [
    {
     "name": "stdout",
     "output_type": "stream",
     "text": [
      "Number of rows: 8050, Number of columns: 185\n"
     ]
    }
   ],
   "source": [
    "print('Number of rows: {}, Number of columns: {}'.format(*df.shape))"
   ]
  },
  {
   "cell_type": "markdown",
   "metadata": {
    "deletable": true,
    "editable": true
   },
   "source": [
    "### Split"
   ]
  },
  {
   "cell_type": "code",
   "execution_count": 46,
   "metadata": {
    "collapsed": true,
    "deletable": true,
    "editable": true
   },
   "outputs": [],
   "source": [
    "train, test = utils.split_df2(df)"
   ]
  },
  {
   "cell_type": "code",
   "execution_count": 47,
   "metadata": {
    "collapsed": true,
    "deletable": true,
    "editable": true
   },
   "outputs": [],
   "source": [
    "excl = ['Open', 'High', 'Low', 'Close','Volume_BTC', 'Volume_Currency', 'Weighted_Price', 'Target', 'High-low', 'High-low_mean', 'Close-open', 'Close-open_mean', 'Daily_return', 'Daily_return_100', 'Cumulative_return', 'Cumulative_return_100', 'Date', 'Timestamp']\n",
    "cols = [c for c in df.columns if c not in excl]"
   ]
  },
  {
   "cell_type": "markdown",
   "metadata": {
    "deletable": true,
    "editable": true
   },
   "source": [
    "### RandomForest"
   ]
  },
  {
   "cell_type": "code",
   "execution_count": 99,
   "metadata": {
    "collapsed": false,
    "deletable": true,
    "editable": true
   },
   "outputs": [
    {
     "name": "stdout",
     "output_type": "stream",
     "text": [
      "Cross Entropy: 0.304556441742\n",
      "Accuracy: 0.891703924491\n",
      "Coeficiente Kappa: 0.0802266139326\n",
      "Report:              precision    recall  f1-score   support\n",
      "\n",
      "       KEEP       0.90      0.99      0.94      1796\n",
      "         UP       0.33      0.05      0.08       126\n",
      "       DOWN       0.33      0.02      0.04        91\n",
      "\n",
      "avg / total       0.84      0.89      0.85      2013\n",
      "\n",
      "Confusion Matrix:\n",
      "\n",
      "Predicted     0   1  2  __all__\n",
      "Actual                         \n",
      "0          1787   7  2     1796\n",
      "1           118   6  2      126\n",
      "2            84   5  2       91\n",
      "__all__    1989  18  6     2013\n",
      "\n",
      "\n",
      "Overall Statistics:\n",
      "\n",
      "Accuracy: 0.891703924491\n",
      "95% CI: (0.87730570401950381, 0.90494952037687759)\n",
      "No Information Rate: ToDo\n",
      "P-Value [Acc > NIR]: 1.0\n",
      "Kappa: 0.0802266139326\n",
      "Mcnemar's Test P-Value: ToDo\n",
      "\n",
      "\n",
      "Class Statistics:\n",
      "\n",
      "Classes                                         0          1           2\n",
      "Population                                   2013       2013        2013\n",
      "P: Condition positive                        1796        126          91\n",
      "N: Condition negative                         217       1887        1922\n",
      "Test outcome positive                        1989         18           6\n",
      "Test outcome negative                          24       1995        2007\n",
      "TP: True Positive                            1787          6           2\n",
      "TN: True Negative                              15       1875        1918\n",
      "FP: False Positive                            202         12           4\n",
      "FN: False Negative                              9        120          89\n",
      "TPR: (Sensitivity, hit rate, recall)     0.994989   0.047619    0.021978\n",
      "TNR=SPC: (Specificity)                  0.0691244   0.993641    0.997919\n",
      "PPV: Pos Pred Value (Precision)          0.898441   0.333333    0.333333\n",
      "NPV: Neg Pred Value                         0.625    0.93985    0.955655\n",
      "FPR: False-out                           0.930876  0.0063593  0.00208117\n",
      "FDR: False Discovery Rate                0.101559   0.666667    0.666667\n",
      "FNR: Miss Rate                         0.00501114   0.952381    0.978022\n",
      "ACC: Accuracy                            0.895181   0.934426      0.9538\n",
      "F1 score                                 0.944254  0.0833333   0.0412371\n",
      "MCC: Matthews correlation coefficient    0.183193   0.106167   0.0758285\n",
      "Informedness                            0.0641133  0.0412597   0.0198969\n",
      "Markedness                               0.523441   0.273183    0.288989\n",
      "Prevalence                               0.892201  0.0625931   0.0452062\n",
      "LR+: Positive likelihood ratio            1.06887     7.4881     10.5604\n",
      "LR-: Negative likelihood ratio          0.0724944   0.958476    0.980062\n",
      "DOR: Diagnostic odds ratio                14.7442     7.8125     10.7753\n",
      "FOR: False omission rate                    0.375  0.0601504   0.0443448\n"
     ]
    }
   ],
   "source": [
    "# train\n",
    "rf = RandomForestClassifier(n_estimators=1000, n_jobs=-1, random_state=17, verbose=0)\n",
    "model1 = rf.fit(train[cols], train['Target'])\n",
    "\n",
    "# predict\n",
    "y_pred = model1.predict(test[cols])\n",
    "y_pred_proba = model1.predict_proba(test[cols])\n",
    "y_true = test['Target']\n",
    "\n",
    "# metric\n",
    "utils.metrics(y_true, y_pred, y_pred_proba)"
   ]
  },
  {
   "cell_type": "markdown",
   "metadata": {
    "deletable": true,
    "editable": true
   },
   "source": [
    "### Bagging"
   ]
  },
  {
   "cell_type": "code",
   "execution_count": 79,
   "metadata": {
    "collapsed": false,
    "deletable": true,
    "editable": true
   },
   "outputs": [
    {
     "name": "stdout",
     "output_type": "stream",
     "text": [
      "Cross Entropy: 0.378199070545\n",
      "Accuracy: 0.890213611525\n",
      "Coeficiente Kappa: 0.0991665417964\n",
      "Report:              precision    recall  f1-score   support\n",
      "\n",
      "       KEEP       0.90      0.99      0.94      1796\n",
      "         UP       0.33      0.07      0.12       126\n",
      "       DOWN       0.14      0.01      0.02        91\n",
      "\n",
      "avg / total       0.83      0.89      0.85      2013\n",
      "\n",
      "Confusion Matrix:\n",
      "\n",
      "Predicted     0   1  2  __all__\n",
      "Actual                         \n",
      "0          1782  12  2     1796\n",
      "1           113   9  4      126\n",
      "2            84   6  1       91\n",
      "__all__    1979  27  7     2013\n",
      "\n",
      "\n",
      "Overall Statistics:\n",
      "\n",
      "Accuracy: 0.890213611525\n",
      "95% CI: (0.87573614547542811, 0.90354299752495082)\n",
      "No Information Rate: ToDo\n",
      "P-Value [Acc > NIR]: 1.0\n",
      "Kappa: 0.0991665417964\n",
      "Mcnemar's Test P-Value: ToDo\n",
      "\n",
      "\n",
      "Class Statistics:\n",
      "\n",
      "Classes                                        0           1           2\n",
      "Population                                  2013        2013        2013\n",
      "P: Condition positive                       1796         126          91\n",
      "N: Condition negative                        217        1887        1922\n",
      "Test outcome positive                       1979          27           7\n",
      "Test outcome negative                         34        1986        2006\n",
      "TP: True Positive                           1782           9           1\n",
      "TN: True Negative                             20        1869        1916\n",
      "FP: False Positive                           197          18           6\n",
      "FN: False Negative                            14         117          90\n",
      "TPR: (Sensitivity, hit rate, recall)    0.992205   0.0714286    0.010989\n",
      "TNR=SPC: (Specificity)                 0.0921659    0.990461    0.996878\n",
      "PPV: Pos Pred Value (Precision)         0.900455    0.333333    0.142857\n",
      "NPV: Neg Pred Value                     0.588235    0.941088    0.955135\n",
      "FPR: False-out                          0.907834  0.00953895  0.00312175\n",
      "FDR: False Discovery Rate              0.0995452    0.666667    0.857143\n",
      "FNR: Miss Rate                         0.0077951    0.928571    0.989011\n",
      "ACC: Accuracy                           0.895181    0.932936     0.95231\n",
      "F1 score                                0.944106    0.117647   0.0204082\n",
      "MCC: Matthews correlation coefficient   0.203055    0.130322   0.0277656\n",
      "Informedness                           0.0843708   0.0618896  0.00786726\n",
      "Markedness                               0.48869    0.274421   0.0979917\n",
      "Prevalence                              0.892201   0.0625931   0.0452062\n",
      "LR+: Positive likelihood ratio           1.09294      7.4881     3.52015\n",
      "LR-: Negative likelihood ratio         0.0845768    0.937514    0.992108\n",
      "DOR: Diagnostic odds ratio               12.9224     7.98718     3.54815\n",
      "FOR: False omission rate                0.411765   0.0589124   0.0448654\n"
     ]
    }
   ],
   "source": [
    "# train\n",
    "ba = BaggingClassifier(n_estimators=1000, n_jobs=-1, random_state=17, verbose=0)\n",
    "model1 = ba.fit(train[cols], train['Target'])\n",
    "\n",
    "# predict\n",
    "y_pred = model1.predict(test[cols])\n",
    "y_pred_proba = model1.predict_proba(test[cols])\n",
    "y_true = test['Target']\n",
    "\n",
    "# metric\n",
    "utils.metrics(y_true, y_pred, y_pred_proba)"
   ]
  },
  {
   "cell_type": "markdown",
   "metadata": {
    "deletable": true,
    "editable": true
   },
   "source": [
    "### ExtraTrees"
   ]
  },
  {
   "cell_type": "code",
   "execution_count": 78,
   "metadata": {
    "collapsed": false,
    "deletable": true,
    "editable": true
   },
   "outputs": [
    {
     "name": "stdout",
     "output_type": "stream",
     "text": [
      "Cross Entropy: 0.367189983351\n",
      "Accuracy: 0.889716840537\n",
      "Coeficiente Kappa: 0.0467367469006\n",
      "Report:              precision    recall  f1-score   support\n",
      "\n",
      "       KEEP       0.90      1.00      0.94      1796\n",
      "         UP       0.17      0.02      0.03       126\n",
      "       DOWN       0.14      0.01      0.02        91\n",
      "\n",
      "avg / total       0.82      0.89      0.84      2013\n",
      "\n",
      "Confusion Matrix:\n",
      "\n",
      "Predicted     0   1  2  __all__\n",
      "Actual                         \n",
      "0          1788   7  1     1796\n",
      "1           119   2  5      126\n",
      "2            87   3  1       91\n",
      "__all__    1994  12  7     2013\n",
      "\n",
      "\n",
      "Overall Statistics:\n",
      "\n",
      "Accuracy: 0.889716840537\n",
      "95% CI: (0.87521313541808388, 0.90307397942249457)\n",
      "No Information Rate: ToDo\n",
      "P-Value [Acc > NIR]: 1.0\n",
      "Kappa: 0.0467367469006\n",
      "Mcnemar's Test P-Value: ToDo\n",
      "\n",
      "\n",
      "Class Statistics:\n",
      "\n",
      "Classes                                         0           1           2\n",
      "Population                                   2013        2013        2013\n",
      "P: Condition positive                        1796         126          91\n",
      "N: Condition negative                         217        1887        1922\n",
      "Test outcome positive                        1994          12           7\n",
      "Test outcome negative                          19        2001        2006\n",
      "TP: True Positive                            1788           2           1\n",
      "TN: True Negative                              11        1877        1916\n",
      "FP: False Positive                            206          10           6\n",
      "FN: False Negative                              8         124          90\n",
      "TPR: (Sensitivity, hit rate, recall)     0.995546    0.015873    0.010989\n",
      "TNR=SPC: (Specificity)                  0.0506912    0.994701    0.996878\n",
      "PPV: Pos Pred Value (Precision)           0.89669    0.166667    0.142857\n",
      "NPV: Neg Pred Value                      0.578947    0.938031    0.955135\n",
      "FPR: False-out                           0.949309  0.00529942  0.00312175\n",
      "FDR: False Discovery Rate                 0.10331    0.833333    0.857143\n",
      "FNR: Miss Rate                         0.00445434    0.984127    0.989011\n",
      "ACC: Accuracy                            0.893691    0.933433     0.95231\n",
      "F1 score                                 0.943536   0.0289855   0.0204082\n",
      "MCC: Matthews correlation coefficient    0.148297   0.0332721   0.0277656\n",
      "Informedness                            0.0462369   0.0105736  0.00786726\n",
      "Markedness                               0.475637    0.104698   0.0979917\n",
      "Prevalence                               0.892201   0.0625931   0.0452062\n",
      "LR+: Positive likelihood ratio            1.04871     2.99524     3.52015\n",
      "LR-: Negative likelihood ratio           0.087872     0.98937    0.992108\n",
      "DOR: Diagnostic odds ratio                11.9345     3.02742     3.54815\n",
      "FOR: False omission rate                 0.421053    0.061969   0.0448654\n"
     ]
    }
   ],
   "source": [
    "# train\n",
    "et = ExtraTreesClassifier(n_estimators=1000, n_jobs=-1, random_state=17, verbose=0)\n",
    "model1 = et.fit(train[cols], train['Target'])\n",
    "\n",
    "# predict\n",
    "y_pred = model1.predict(test[cols])\n",
    "y_pred_proba = model1.predict_proba(test[cols])\n",
    "y_true = test['Target']\n",
    "\n",
    "# metric\n",
    "utils.metrics(y_true, y_pred, y_pred_proba)"
   ]
  },
  {
   "cell_type": "markdown",
   "metadata": {
    "collapsed": true,
    "deletable": true,
    "editable": true
   },
   "source": [
    "### GradientBoosting"
   ]
  },
  {
   "cell_type": "code",
   "execution_count": 18,
   "metadata": {
    "collapsed": false,
    "deletable": true,
    "editable": true
   },
   "outputs": [
    {
     "name": "stdout",
     "output_type": "stream",
     "text": [
      "Cross Entropy: 0.827814901418\n",
      "Accuracy: 0.88399189463\n",
      "Coeficiente Kappa: 0.113451030999\n",
      "Report:              precision    recall  f1-score   support\n",
      "\n",
      "       KEEP       0.91      0.98      0.94      1766\n",
      "         UP       0.22      0.07      0.11       123\n",
      "       DOWN       0.16      0.04      0.06        85\n",
      "\n",
      "avg / total       0.83      0.88      0.85      1974\n",
      "\n",
      "Confusion Matrix:\n",
      "\n",
      "Predicted     1   2   3  __all__\n",
      "Actual                          \n",
      "1          1733  23  10     1766\n",
      "2           108   9   6      123\n",
      "3            73   9   3       85\n",
      "__all__    1914  41  19     1974\n",
      "\n",
      "\n",
      "Overall Statistics:\n",
      "\n",
      "Accuracy: 0.88399189463\n",
      "95% CI: (0.86903834395992885, 0.89779374250552457)\n",
      "No Information Rate: ToDo\n",
      "P-Value [Acc > NIR]: 1.0\n",
      "Kappa: 0.113451030999\n",
      "Mcnemar's Test P-Value: ToDo\n",
      "\n",
      "\n",
      "Class Statistics:\n",
      "\n",
      "Classes                                        1          2           3\n",
      "Population                                  1974       1974        1974\n",
      "P: Condition positive                       1766        123          85\n",
      "N: Condition negative                        208       1851        1889\n",
      "Test outcome positive                       1914         41          19\n",
      "Test outcome negative                         60       1933        1955\n",
      "TP: True Positive                           1733          9           3\n",
      "TN: True Negative                             27       1819        1873\n",
      "FP: False Positive                           181         32          16\n",
      "FN: False Negative                            33        114          82\n",
      "TPR: (Sensitivity, hit rate, recall)    0.981314  0.0731707   0.0352941\n",
      "TNR=SPC: (Specificity)                  0.129808   0.982712     0.99153\n",
      "PPV: Pos Pred Value (Precision)         0.905434   0.219512    0.157895\n",
      "NPV: Neg Pred Value                         0.45   0.941024    0.958056\n",
      "FPR: False-out                          0.870192   0.017288  0.00847009\n",
      "FDR: False Discovery Rate              0.0945664   0.780488    0.842105\n",
      "FNR: Miss Rate                         0.0186863   0.926829    0.964706\n",
      "ACC: Accuracy                           0.891591   0.926039    0.950355\n",
      "F1 score                                0.941848   0.109756   0.0576923\n",
      "MCC: Matthews correlation coefficient   0.198737  0.0947166   0.0557698\n",
      "Informedness                            0.111121  0.0558828    0.026824\n",
      "Markedness                              0.355434   0.160537    0.115951\n",
      "Prevalence                               0.89463    0.06231   0.0430598\n",
      "LR+: Positive likelihood ratio            1.1277    4.23247     4.16691\n",
      "LR-: Negative likelihood ratio          0.143954   0.943134    0.972947\n",
      "DOR: Diagnostic odds ratio               7.83375    4.48766     4.28277\n",
      "FOR: False omission rate                    0.55  0.0589757   0.0419437\n"
     ]
    }
   ],
   "source": [
    "# train\n",
    "gr = GradientBoostingClassifier(n_estimators=1000, max_depth=10, warm_start=True, learning_rate=0.08, random_state=17, verbose=0)\n",
    "model1 = gr.fit(train[cols], train['Target'])\n",
    "\n",
    "# predict\n",
    "y_pred = model1.predict(test[cols])\n",
    "y_pred_proba = model1.predict_proba(test[cols])\n",
    "y_true = test['Target']\n",
    "\n",
    "# metric\n",
    "utils.metrics(y_true, y_pred, y_pred_proba)"
   ]
  },
  {
   "cell_type": "markdown",
   "metadata": {
    "deletable": true,
    "editable": true
   },
   "source": [
    "### AdaBoost"
   ]
  },
  {
   "cell_type": "code",
   "execution_count": 19,
   "metadata": {
    "collapsed": false,
    "deletable": true,
    "editable": true
   },
   "outputs": [
    {
     "name": "stdout",
     "output_type": "stream",
     "text": [
      "Cross Entropy: 1.09385283936\n",
      "Accuracy: 0.892097264438\n",
      "Coeficiente Kappa: 0.00799339388935\n",
      "Report:              precision    recall  f1-score   support\n",
      "\n",
      "       KEEP       0.90      1.00      0.94      1766\n",
      "         UP       0.20      0.01      0.02       123\n",
      "       DOWN       0.00      0.00      0.00        85\n",
      "\n",
      "avg / total       0.81      0.89      0.84      1974\n",
      "\n",
      "Confusion Matrix:\n",
      "\n",
      "Predicted     1  2  3  __all__\n",
      "Actual                        \n",
      "1          1760  4  2     1766\n",
      "2           121  1  1      123\n",
      "3            85  0  0       85\n",
      "__all__    1966  5  3     1974\n",
      "\n",
      "\n",
      "Overall Statistics:\n",
      "\n",
      "Accuracy: 0.892097264438\n",
      "95% CI: (0.87757047966540269, 0.90544717661034702)\n",
      "No Information Rate: ToDo\n",
      "P-Value [Acc > NIR]: 1.0\n",
      "Kappa: 0.00799339388935\n",
      "Mcnemar's Test P-Value: ToDo\n",
      "\n",
      "\n",
      "Class Statistics:\n",
      "\n",
      "Classes                                         1           2           3\n",
      "Population                                   1974        1974        1974\n",
      "P: Condition positive                        1766         123          85\n",
      "N: Condition negative                         208        1851        1889\n",
      "Test outcome positive                        1966           5           3\n",
      "Test outcome negative                           8        1969        1971\n",
      "TP: True Positive                            1760           1           0\n",
      "TN: True Negative                               2        1847        1886\n",
      "FP: False Positive                            206           4           3\n",
      "FN: False Negative                              6         122          85\n",
      "TPR: (Sensitivity, hit rate, recall)     0.996602  0.00813008           0\n",
      "TNR=SPC: (Specificity)                 0.00961538    0.997839    0.998412\n",
      "PPV: Pos Pred Value (Precision)          0.895219         0.2           0\n",
      "NPV: Neg Pred Value                          0.25     0.93804    0.956875\n",
      "FPR: False-out                           0.990385  0.00216099  0.00158814\n",
      "FDR: False Discovery Rate                0.104781         0.8           1\n",
      "FNR: Miss Rate                         0.00339751     0.99187           1\n",
      "ACC: Accuracy                            0.892604     0.93617     0.95542\n",
      "F1 score                                 0.943194    0.015625           0\n",
      "MCC: Matthews correlation coefficient   0.0300492   0.0287049 -0.00827582\n",
      "Informedness                           0.00621788  0.00596909 -0.00158814\n",
      "Markedness                               0.145219     0.13804  -0.0431253\n",
      "Prevalence                                0.89463     0.06231   0.0430598\n",
      "LR+: Positive likelihood ratio            1.00628      3.7622           0\n",
      "LR-: Negative likelihood ratio           0.353341    0.994018     1.00159\n",
      "DOR: Diagnostic odds ratio                 2.8479     3.78484           0\n",
      "FOR: False omission rate                     0.75   0.0619604   0.0431253\n"
     ]
    }
   ],
   "source": [
    "# train\n",
    "ab = AdaBoostClassifier(n_estimators=500, random_state=17)\n",
    "model1 = ab.fit(train[cols], train['Target'])\n",
    "\n",
    "# predict\n",
    "y_pred = model1.predict(test[cols])\n",
    "y_pred_proba = model1.predict_proba(test[cols])\n",
    "y_true = test['Target']\n",
    "\n",
    "# metric\n",
    "utils.metrics(y_true, y_pred, y_pred_proba)"
   ]
  },
  {
   "cell_type": "markdown",
   "metadata": {
    "collapsed": true,
    "deletable": true,
    "editable": true
   },
   "source": [
    "### VotingClassifier"
   ]
  },
  {
   "cell_type": "code",
   "execution_count": 20,
   "metadata": {
    "collapsed": false,
    "deletable": true,
    "editable": true
   },
   "outputs": [
    {
     "name": "stderr",
     "output_type": "stream",
     "text": [
      "/Users/bukosabino/projects/machine-learning/btctrading/env/lib/python2.7/site-packages/sklearn/externals/joblib/parallel.py:540: UserWarning: Multiprocessing-backed parallel loops cannot be nested, setting n_jobs=1\n",
      "  **self._backend_args)\n"
     ]
    },
    {
     "name": "stdout",
     "output_type": "stream",
     "text": [
      "Accuracy: 0.891590678825\n",
      "Coeficiente Kappa: 0.0686544261601\n",
      "Report:              precision    recall  f1-score   support\n",
      "\n",
      "       KEEP       0.90      0.99      0.95      1766\n",
      "         UP       0.26      0.04      0.07       123\n",
      "       DOWN       0.00      0.00      0.00        85\n",
      "\n",
      "avg / total       0.82      0.89      0.85      1974\n",
      "\n",
      "Confusion Matrix:\n",
      "\n",
      "Predicted     1   2  3  __all__\n",
      "Actual                         \n",
      "1          1755   9  2     1766\n",
      "2           113   5  5      123\n",
      "3            80   5  0       85\n",
      "__all__    1948  19  7     1974\n",
      "\n",
      "\n",
      "Overall Statistics:\n",
      "\n",
      "Accuracy: 0.891590678825\n",
      "95% CI: (0.87703653818171834, 0.90496952399186592)\n",
      "No Information Rate: ToDo\n",
      "P-Value [Acc > NIR]: 1.0\n",
      "Kappa: 0.0686544261601\n",
      "Mcnemar's Test P-Value: ToDo\n",
      "\n",
      "\n",
      "Class Statistics:\n",
      "\n",
      "Classes                                         1           2           3\n",
      "Population                                   1974        1974        1974\n",
      "P: Condition positive                        1766         123          85\n",
      "N: Condition negative                         208        1851        1889\n",
      "Test outcome positive                        1948          19           7\n",
      "Test outcome negative                          26        1955        1967\n",
      "TP: True Positive                            1755           5           0\n",
      "TN: True Negative                              15        1837        1882\n",
      "FP: False Positive                            193          14           7\n",
      "FN: False Negative                             11         118          85\n",
      "TPR: (Sensitivity, hit rate, recall)     0.993771   0.0406504           0\n",
      "TNR=SPC: (Specificity)                  0.0721154    0.992437    0.996294\n",
      "PPV: Pos Pred Value (Precision)          0.900924    0.263158           0\n",
      "NPV: Neg Pred Value                      0.576923    0.939642    0.956787\n",
      "FPR: False-out                           0.927885  0.00756348  0.00370566\n",
      "FDR: False Discovery Rate                0.099076    0.736842           1\n",
      "FNR: Miss Rate                         0.00622877     0.95935           1\n",
      "ACC: Accuracy                            0.896657    0.933131    0.953394\n",
      "F1 score                                 0.945073   0.0704225           0\n",
      "MCC: Matthews correlation coefficient    0.177437   0.0819147  -0.0126544\n",
      "Informedness                            0.0658866   0.0330869 -0.00370566\n",
      "Markedness                               0.477847      0.2028   -0.043213\n",
      "Prevalence                                0.89463     0.06231   0.0430598\n",
      "LR+: Positive likelihood ratio            1.07101     5.37456           0\n",
      "LR-: Negative likelihood ratio          0.0863722    0.966661     1.00372\n",
      "DOR: Diagnostic odds ratio                12.3999     5.55993           0\n",
      "FOR: False omission rate                 0.423077   0.0603581    0.043213\n"
     ]
    }
   ],
   "source": [
    "# train\n",
    "v = VotingClassifier(estimators=[\n",
    "        ('rf', rf), ('ba', ba), ('et', et), ('gr', gr), ('ab', ab)\n",
    "    ], voting='hard', n_jobs=-1)\n",
    "model1 = v.fit(train[cols], train['Target'])\n",
    "\n",
    "# predict\n",
    "y_pred = model1.predict(test[cols])\n",
    "# y_pred_proba = model1.predict_proba(test[cols])\n",
    "y_true = test['Target']\n",
    "\n",
    "# metric\n",
    "utils.metrics(y_true, y_pred)"
   ]
  },
  {
   "cell_type": "code",
   "execution_count": 21,
   "metadata": {
    "collapsed": false,
    "deletable": true,
    "editable": true
   },
   "outputs": [
    {
     "name": "stdout",
     "output_type": "stream",
     "text": [
      "Accuracy: 0.892097264438\n",
      "Coeficiente Kappa: 0.0627428339601\n",
      "Report:              precision    recall  f1-score   support\n",
      "\n",
      "       KEEP       0.90      0.99      0.94      1766\n",
      "         UP       0.29      0.04      0.07       123\n",
      "       DOWN       0.00      0.00      0.00        85\n",
      "\n",
      "avg / total       0.82      0.89      0.85      1974\n",
      "\n",
      "Confusion Matrix:\n",
      "\n",
      "Predicted     1   2  3  __all__\n",
      "Actual                         \n",
      "1          1756   8  2     1766\n",
      "2           114   5  4      123\n",
      "3            81   4  0       85\n",
      "__all__    1951  17  6     1974\n",
      "\n",
      "\n",
      "Overall Statistics:\n",
      "\n",
      "Accuracy: 0.892097264438\n",
      "95% CI: (0.87757047966540269, 0.90544717661034702)\n",
      "No Information Rate: ToDo\n",
      "P-Value [Acc > NIR]: 1.0\n",
      "Kappa: 0.0627428339601\n",
      "Mcnemar's Test P-Value: ToDo\n",
      "\n",
      "\n",
      "Class Statistics:\n",
      "\n",
      "Classes                                         1           2           3\n",
      "Population                                   1974        1974        1974\n",
      "P: Condition positive                        1766         123          85\n",
      "N: Condition negative                         208        1851        1889\n",
      "Test outcome positive                        1951          17           6\n",
      "Test outcome negative                          23        1957        1968\n",
      "TP: True Positive                            1756           5           0\n",
      "TN: True Negative                              13        1839        1883\n",
      "FP: False Positive                            195          12           6\n",
      "FN: False Negative                             10         118          85\n",
      "TPR: (Sensitivity, hit rate, recall)     0.994337   0.0406504           0\n",
      "TNR=SPC: (Specificity)                     0.0625    0.993517    0.996824\n",
      "PPV: Pos Pred Value (Precision)          0.900051    0.294118           0\n",
      "NPV: Neg Pred Value                      0.565217    0.939704    0.956809\n",
      "FPR: False-out                             0.9375  0.00648298  0.00317628\n",
      "FDR: False Discovery Rate               0.0999487    0.705882           1\n",
      "FNR: Miss Rate                         0.00566251     0.95935           1\n",
      "ACC: Accuracy                             0.89615    0.934144    0.953901\n",
      "F1 score                                 0.944848   0.0714286           0\n",
      "MCC: Matthews correlation coefficient    0.162618   0.0893816  -0.0117127\n",
      "Informedness                            0.0568375   0.0341674 -0.00317628\n",
      "Markedness                               0.465269    0.233821  -0.0431911\n",
      "Prevalence                                0.89463     0.06231   0.0430598\n",
      "LR+: Positive likelihood ratio            1.06063     6.27033           0\n",
      "LR-: Negative likelihood ratio          0.0906002     0.96561     1.00319\n",
      "DOR: Diagnostic odds ratio                11.7067     6.49364           0\n",
      "FOR: False omission rate                 0.434783   0.0602964   0.0431911\n"
     ]
    }
   ],
   "source": [
    "# train\n",
    "v = VotingClassifier(estimators=[\n",
    "        ('rf', rf), ('gr', gr)\n",
    "    ], voting='hard', n_jobs=-1)\n",
    "model1 = v.fit(train[cols], train['Target'])\n",
    "\n",
    "# predict\n",
    "y_pred = model1.predict(test[cols])\n",
    "# y_pred_proba = model1.predict_proba(test[cols])\n",
    "y_true = test['Target']\n",
    "\n",
    "# metric\n",
    "utils.metrics(y_true, y_pred)"
   ]
  },
  {
   "cell_type": "markdown",
   "metadata": {
    "deletable": true,
    "editable": true
   },
   "source": [
    "# xgboost"
   ]
  },
  {
   "cell_type": "code",
   "execution_count": 48,
   "metadata": {
    "collapsed": false,
    "deletable": true,
    "editable": true
   },
   "outputs": [
    {
     "name": "stdout",
     "output_type": "stream",
     "text": [
      "[0]\ttrain-mlogloss:1.0923\ttest-mlogloss:1.09255\n",
      "[50]\ttrain-mlogloss:0.831088\ttest-mlogloss:0.843383\n",
      "[100]\ttrain-mlogloss:0.645702\ttest-mlogloss:0.668392\n",
      "[150]\ttrain-mlogloss:0.508775\ttest-mlogloss:0.54093\n",
      "[200]\ttrain-mlogloss:0.405045\ttest-mlogloss:0.445697\n",
      "[250]\ttrain-mlogloss:0.324965\ttest-mlogloss:0.373407\n",
      "[300]\ttrain-mlogloss:0.262355\ttest-mlogloss:0.317884\n",
      "[350]\ttrain-mlogloss:0.212897\ttest-mlogloss:0.274943\n",
      "[400]\ttrain-mlogloss:0.173563\ttest-mlogloss:0.241544\n",
      "[450]\ttrain-mlogloss:0.142023\ttest-mlogloss:0.215451\n",
      "[500]\ttrain-mlogloss:0.116754\ttest-mlogloss:0.195002\n",
      "[550]\ttrain-mlogloss:0.0964013\ttest-mlogloss:0.179107\n",
      "[600]\ttrain-mlogloss:0.0799527\ttest-mlogloss:0.166819\n",
      "[650]\ttrain-mlogloss:0.066649\ttest-mlogloss:0.157379\n",
      "[700]\ttrain-mlogloss:0.0558903\ttest-mlogloss:0.150134\n",
      "[750]\ttrain-mlogloss:0.0471397\ttest-mlogloss:0.14468\n",
      "[800]\ttrain-mlogloss:0.040001\ttest-mlogloss:0.140676\n",
      "[850]\ttrain-mlogloss:0.0341773\ttest-mlogloss:0.13777\n",
      "[900]\ttrain-mlogloss:0.0294187\ttest-mlogloss:0.13572\n",
      "[950]\ttrain-mlogloss:0.0255157\ttest-mlogloss:0.134365\n",
      "[1000]\ttrain-mlogloss:0.0222963\ttest-mlogloss:0.133524\n",
      "[1050]\ttrain-mlogloss:0.0196357\ttest-mlogloss:0.133141\n",
      "[1100]\ttrain-mlogloss:0.0174227\ttest-mlogloss:0.133114\n",
      "1075\n",
      "Accuracy: 0.953800298063\n",
      "Coefficient Kappa: 0.157149031578\n",
      "Confussion Matrix:\n",
      "[[1912    6    9]\n",
      " [  44    4    1]\n",
      " [  31    2    4]]\n"
     ]
    }
   ],
   "source": [
    "y_train = train['Target']\n",
    "y_mean = np.mean(y_train)\n",
    "xgb_params = {\n",
    "    'n_trees': 800,\n",
    "    'eta': 0.0045,\n",
    "    'max_depth': 20,\n",
    "    'subsample': 0.85,\n",
    "    'objective': 'multi:softmax',\n",
    "    'num_class' : 3,\n",
    "    'eval_metric': 'mlogloss', # 'merror', # 'rmse',\n",
    "    'base_score': 0,\n",
    "    'silent': 1\n",
    "}\n",
    "\n",
    "dtrain = xgb.DMatrix(train[cols], y_train)\n",
    "dtest = xgb.DMatrix(test[cols])\n",
    "\n",
    "cv_result = xgb.cv(xgb_params, dtrain)\n",
    "\n",
    "# xgboost, cross-validation\n",
    "cv_result = xgb.cv(xgb_params,\n",
    "                   dtrain,\n",
    "                   num_boost_round=5000,\n",
    "                   early_stopping_rounds=50,\n",
    "                   verbose_eval=50,\n",
    "                   show_stdv=False\n",
    "                  )\n",
    "num_boost_rounds = len(cv_result)\n",
    "\n",
    "#num_boost_rounds = 756\n",
    "\n",
    "print(num_boost_rounds)\n",
    "\n",
    "# train\n",
    "model = xgb.train(xgb_params, dtrain, num_boost_round=num_boost_rounds)\n",
    "\n",
    "y_pred = model.predict(dtest)\n",
    "y_true = test['Target']\n",
    "\n",
    "# utils.metrics(y_true, y_pred)\n",
    "utils.metrics2(y_true, y_pred)"
   ]
  },
  {
   "cell_type": "code",
   "execution_count": 49,
   "metadata": {
    "collapsed": false,
    "deletable": true,
    "editable": true
   },
   "outputs": [
    {
     "data": {
      "text/plain": [
       "[('Rolling_cov_3', 1),\n",
       " ('Close-3', 27),\n",
       " ('Close-9', 35),\n",
       " ('Weighted_Price-5', 40),\n",
       " ('Close-10', 53),\n",
       " ('Close-5', 55),\n",
       " ('Close-4', 63),\n",
       " ('Weighted_Price-8', 63),\n",
       " ('Close-6', 64),\n",
       " ('Close-2', 73),\n",
       " ('Weighted_Price-9', 79),\n",
       " ('Close-8', 83),\n",
       " ('Weighted_Price-3', 84),\n",
       " ('Weighted_Price-10', 99),\n",
       " ('Weighted_Price-6', 108),\n",
       " ('Weighted_Price-4', 109),\n",
       " ('Low-5', 163),\n",
       " ('Close-7', 173),\n",
       " ('Weighted_Price-7', 185),\n",
       " ('Low-9', 191),\n",
       " ('Low-10', 210),\n",
       " ('Low-7', 217),\n",
       " ('Low-8', 226),\n",
       " ('Weighted_Price-2', 237),\n",
       " ('High-9', 241),\n",
       " ('High-6', 261),\n",
       " ('Year', 261),\n",
       " ('High-8', 289),\n",
       " ('Weighted_Price-1', 299),\n",
       " ('Open-4', 323),\n",
       " ('High-2', 356),\n",
       " ('Low-6', 359),\n",
       " ('High-3', 372),\n",
       " ('Open-5', 385),\n",
       " ('High-7', 388),\n",
       " ('High-10', 407),\n",
       " ('Open-10', 418),\n",
       " ('High-4', 421),\n",
       " ('Open-7', 444),\n",
       " ('Low-3', 477),\n",
       " ('Open-2', 486),\n",
       " ('Open-8', 506),\n",
       " ('Open-9', 525),\n",
       " ('High-5', 531),\n",
       " ('Open-3', 539),\n",
       " ('High-1', 569),\n",
       " ('Open-6', 585),\n",
       " ('Rolling_mean_10', 586),\n",
       " ('Low-2', 604),\n",
       " ('Close-1', 644),\n",
       " ('Rolling_mean_5', 662),\n",
       " ('Low-4', 726),\n",
       " ('yearmonth', 744),\n",
       " ('Open-1', 790),\n",
       " ('Month', 870),\n",
       " ('Low-1', 918),\n",
       " ('yearweekday', 1256),\n",
       " ('Volume_Currency-3', 1353),\n",
       " ('Volume_Currency-6', 1363),\n",
       " ('Volume_Currency-4', 1442),\n",
       " ('Weekday', 1478),\n",
       " ('High-low-5', 1521),\n",
       " ('Volume_Currency-2', 1585),\n",
       " ('Volume_Currency-5', 1638),\n",
       " ('Volume_Currency-7', 1654),\n",
       " ('High-low-9', 1660),\n",
       " ('High-low-7', 1671),\n",
       " ('High-low-8', 1689),\n",
       " ('High-low-4', 1752),\n",
       " ('Week', 1762),\n",
       " ('Volume_Currency-10', 1799),\n",
       " ('High-low-3', 1823),\n",
       " ('Close-open-7', 1897),\n",
       " ('High-low-1', 1957),\n",
       " ('Volume_Currency-1', 2022),\n",
       " ('High-low-2', 2026),\n",
       " ('High-low-6', 2056),\n",
       " ('Close-open-10', 2073),\n",
       " ('Close-open-5', 2171),\n",
       " ('Volume_Currency-9', 2213),\n",
       " ('Close-open-8', 2240),\n",
       " ('Volume_Currency-8', 2253),\n",
       " ('High-low-10', 2278),\n",
       " ('Close-open-3', 2337),\n",
       " ('Close-open-1', 2395),\n",
       " ('Volume_BTC-6', 2414),\n",
       " ('Close-open-2', 2474),\n",
       " ('Close-open-6', 2556),\n",
       " ('Volume_BTC-7', 2569),\n",
       " ('Volume_BTC-8', 2584),\n",
       " ('Rolling_std_10', 2744),\n",
       " ('Close-open-9', 2796),\n",
       " ('Volume_BTC-2', 2812),\n",
       " ('Close-open-4', 2834),\n",
       " ('Daily_return-7', 2839),\n",
       " ('Volume_BTC-4', 2937),\n",
       " ('Daily_return-8', 2987),\n",
       " ('Day', 3142),\n",
       " ('Daily_return-5', 3172),\n",
       " ('Daily_return-3', 3289),\n",
       " ('Volume_BTC-10', 3353),\n",
       " ('Volume_BTC-9', 3354),\n",
       " ('Volume_BTC-5', 3430),\n",
       " ('Volume_BTC-1', 3450),\n",
       " ('yearweek', 3538),\n",
       " ('Daily_return-2', 3661),\n",
       " ('Daily_return-6', 3690),\n",
       " ('Volume_BTC-3', 3884),\n",
       " ('Daily_return-9', 3899),\n",
       " ('Daily_return-4', 4117),\n",
       " ('Daily_return-10', 4189),\n",
       " ('Rolling_mean_3', 4733),\n",
       " ('Rolling_std_5', 5310),\n",
       " ('Daily_return-1', 7197),\n",
       " ('Rolling_std_3', 16496)]"
      ]
     },
     "execution_count": 49,
     "metadata": {},
     "output_type": "execute_result"
    }
   ],
   "source": [
    "import operator\n",
    "importance = model.get_fscore()\n",
    "importance = sorted(importance.items(), key=operator.itemgetter(1))\n",
    "importance"
   ]
  },
  {
   "cell_type": "code",
   "execution_count": 50,
   "metadata": {
    "collapsed": false,
    "deletable": true,
    "editable": true
   },
   "outputs": [
    {
     "data": {
      "text/plain": [
       "[('Rolling_cov_3', 0.283062),\n",
       " ('Volume_BTC-6', 0.54913567398136),\n",
       " ('Volume_BTC-5', 0.549397437512129),\n",
       " ('Close-open-5', 0.5742087381478608),\n",
       " ('Weekday', 0.5937165063791596),\n",
       " ('Close-2', 0.5976722636986302),\n",
       " ('Day', 0.5977523443722788),\n",
       " ('Volume_Currency-4', 0.5981558209299579),\n",
       " ('Close-open-10', 0.6214691654187184),\n",
       " ('Close-6', 0.622954784375),\n",
       " ('Volume_BTC-7', 0.6241601319735293),\n",
       " ('Close-open-1', 0.625957520254697),\n",
       " ('Volume_BTC-2', 0.6273574386504271),\n",
       " ('Open-10', 0.6275084497272725),\n",
       " ('Volume_BTC-4', 0.647593499280287),\n",
       " ('High-low-3', 0.6517931748815158),\n",
       " ('Close-open-2', 0.6524081680194008),\n",
       " ('Volume_BTC-9', 0.6536004495116268),\n",
       " ('Close-open-7', 0.6586853951428567),\n",
       " ('Close-open-3', 0.6611472577375713),\n",
       " ('Week', 0.6617051344381956),\n",
       " ('Volume_Currency-7', 0.6731674536986693),\n",
       " ('Volume_Currency-6', 0.6735103593543655),\n",
       " ('yearweekday', 0.677639406182325),\n",
       " ('Daily_return-8', 0.6777655941476387),\n",
       " ('Volume_BTC-3', 0.6792541153437185),\n",
       " ('Daily_return-5', 0.6800443728335446),\n",
       " ('Year', 0.6807826438007668),\n",
       " ('Volume_Currency-3', 0.6826651533385065),\n",
       " ('Daily_return-10', 0.6857322683257837),\n",
       " ('Close-3', 0.6905839662962963),\n",
       " ('Month', 0.700823680193104),\n",
       " ('Close-open-4', 0.7047397089304868),\n",
       " ('High-low-9', 0.7057108816590378),\n",
       " ('Volume_Currency-5', 0.7089372798901111),\n",
       " ('Volume_BTC-1', 0.7120648182226961),\n",
       " ('High-low-4', 0.7222446663573074),\n",
       " ('High-low-8', 0.7248047685020715),\n",
       " ('Close-9', 0.7333350857142857),\n",
       " ('Close-open-8', 0.7399929643920983),\n",
       " ('Close-10', 0.7435442566037738),\n",
       " ('Daily_return-9', 0.7480162447194159),\n",
       " ('Close-open-6', 0.7506801785504683),\n",
       " ('Open-9', 0.7515954713714295),\n",
       " ('Daily_return-6', 0.7569060036693801),\n",
       " ('Close-open-9', 0.7594235669620902),\n",
       " ('High-9', 0.7597274286307054),\n",
       " ('High-low-7', 0.7671254981017358),\n",
       " ('Daily_return-7', 0.7726208386002112),\n",
       " ('High-low-6', 0.7729195976804464),\n",
       " ('High-low-2', 0.7750668481135262),\n",
       " ('Daily_return-3', 0.7821173874141095),\n",
       " ('Volume_Currency-1', 0.786236847108307),\n",
       " ('High-low-1', 0.798772928702093),\n",
       " ('Daily_return-2', 0.8021731975378316),\n",
       " ('Close-8', 0.8199742909638555),\n",
       " ('High-low-5', 0.8227828703892176),\n",
       " ('Volume_BTC-8', 0.8252543944659427),\n",
       " ('Volume_Currency-2', 0.8409071261198752),\n",
       " ('Rolling_std_10', 0.8409920786978841),\n",
       " ('Volume_Currency-9', 0.8614755042792588),\n",
       " ('High-low-10', 0.8617680035267766),\n",
       " ('High-10', 0.862627778009829),\n",
       " ('Open-3', 0.8751345914471249),\n",
       " ('Weighted_Price-10', 0.8808828918181815),\n",
       " ('yearmonth', 0.9011309032150536),\n",
       " ('Volume_BTC-10', 0.90544971812705),\n",
       " ('Low-5', 0.9094972606748458),\n",
       " ('Open-8', 0.9113231280237158),\n",
       " ('Volume_Currency-10', 0.9470698269649819),\n",
       " ('Low-10', 0.9606798347619048),\n",
       " ('Low-9', 0.9622379222879572),\n",
       " ('Low-8', 0.9642892121681418),\n",
       " ('Weighted_Price-8', 0.97004366031746),\n",
       " ('High-8', 0.9755428750865055),\n",
       " ('Open-7', 0.9838808377522515),\n",
       " ('Daily_return-4', 0.9854981801360224),\n",
       " ('Volume_Currency-8', 1.0401079499604975),\n",
       " ('Open-1', 1.0514627927468359),\n",
       " ('Rolling_mean_10', 1.0567167478668946),\n",
       " ('Close-4', 1.107970990476191),\n",
       " ('Open-4', 1.1406942164582043),\n",
       " ('High-6', 1.1886553012260532),\n",
       " ('Weighted_Price-5', 1.1993106249999996),\n",
       " ('High-2', 1.211935528820224),\n",
       " ('Weighted_Price-3', 1.2287676761904762),\n",
       " ('Open-6', 1.2451456530769252),\n",
       " ('Weighted_Price-2', 1.2713226540084388),\n",
       " ('Low-2', 1.300996913874173),\n",
       " ('Rolling_std_5', 1.3152330575058968),\n",
       " ('Close-7', 1.3291288340462428),\n",
       " ('Open-5', 1.4277506528233768),\n",
       " ('Low-7', 1.4603877294009222),\n",
       " ('Low-1', 1.4893456689324616),\n",
       " ('Close-5', 1.5144305890909089),\n",
       " ('High-1', 1.5403869101072039),\n",
       " ('Low-6', 1.5466826137158758),\n",
       " ('Weighted_Price-7', 1.6636628740540533),\n",
       " ('Weighted_Price-6', 1.702464325000001),\n",
       " ('High-3', 1.72070992389785),\n",
       " ('yearweek', 1.7561397251585673),\n",
       " ('Rolling_mean_3', 1.7761009727786408),\n",
       " ('Weighted_Price-9', 1.8203114443037975),\n",
       " ('Open-2', 1.82087353870576),\n",
       " ('Low-4', 1.865093914214877),\n",
       " ('High-5', 1.8826201927457606),\n",
       " ('Close-1', 1.8960892040372672),\n",
       " ('High-4', 1.9661101325415666),\n",
       " ('Rolling_std_3', 2.0061814724392524),\n",
       " ('Weighted_Price-1', 2.023022263143815),\n",
       " ('Low-3', 2.0441184933962266),\n",
       " ('Daily_return-1', 2.053504280874087),\n",
       " ('Rolling_mean_5', 2.1052387663293084),\n",
       " ('Weighted_Price-4', 2.206103955045872),\n",
       " ('High-7', 2.571733156701031)]"
      ]
     },
     "execution_count": 50,
     "metadata": {},
     "output_type": "execute_result"
    }
   ],
   "source": [
    "importance = model.get_score(fmap='', importance_type='gain')\n",
    "importance = sorted(importance.items(), key=operator.itemgetter(1))\n",
    "importance"
   ]
  },
  {
   "cell_type": "code",
   "execution_count": 75,
   "metadata": {
    "collapsed": true,
    "deletable": true,
    "editable": true
   },
   "outputs": [],
   "source": [
    "from sklearn.linear_model import *"
   ]
  },
  {
   "cell_type": "code",
   "execution_count": 76,
   "metadata": {
    "collapsed": false,
    "deletable": true,
    "editable": true
   },
   "outputs": [
    {
     "name": "stdout",
     "output_type": "stream",
     "text": [
      "Accuracy: 0.893691008445\n",
      "Coeficiente Kappa: 0.0877920383872\n",
      "Report:              precision    recall  f1-score   support\n",
      "\n",
      "       KEEP       0.90      1.00      0.95      1796\n",
      "         UP       0.45      0.04      0.07       126\n",
      "       DOWN       0.40      0.04      0.08        91\n",
      "\n",
      "avg / total       0.85      0.89      0.85      2013\n",
      "\n",
      "Confusion Matrix:\n",
      "\n",
      "Predicted     0   1   2  __all__\n",
      "Actual                          \n",
      "0          1790   3   3     1796\n",
      "1           118   5   3      126\n",
      "2            84   3   4       91\n",
      "__all__    1992  11  10     2013\n",
      "\n",
      "\n",
      "Overall Statistics:\n",
      "\n",
      "Accuracy: 0.893691008445\n",
      "95% CI: (0.87939970151524827, 0.90682362399512173)\n",
      "No Information Rate: ToDo\n",
      "P-Value [Acc > NIR]: 1.0\n",
      "Kappa: 0.0877920383872\n",
      "Mcnemar's Test P-Value: ToDo\n",
      "\n",
      "\n",
      "Class Statistics:\n",
      "\n",
      "Classes                                         0           1           2\n",
      "Population                                   2013        2013        2013\n",
      "P: Condition positive                        1796         126          91\n",
      "N: Condition negative                         217        1887        1922\n",
      "Test outcome positive                        1992          11          10\n",
      "Test outcome negative                          21        2002        2003\n",
      "TP: True Positive                            1790           5           4\n",
      "TN: True Negative                              15        1881        1916\n",
      "FP: False Positive                            202           6           6\n",
      "FN: False Negative                              6         121          87\n",
      "TPR: (Sensitivity, hit rate, recall)     0.996659   0.0396825    0.043956\n",
      "TNR=SPC: (Specificity)                  0.0691244     0.99682    0.996878\n",
      "PPV: Pos Pred Value (Precision)          0.898594    0.454545         0.4\n",
      "NPV: Neg Pred Value                      0.714286     0.93956    0.956565\n",
      "FPR: False-out                           0.930876  0.00317965  0.00312175\n",
      "FDR: False Discovery Rate                0.101406    0.545455         0.6\n",
      "FNR: Miss Rate                         0.00334076    0.960317    0.956044\n",
      "ACC: Accuracy                            0.896672     0.93691      0.9538\n",
      "F1 score                                  0.94509   0.0729927   0.0792079\n",
      "MCC: Matthews correlation coefficient    0.200792    0.119942    0.120665\n",
      "Informedness                            0.0657837   0.0365029   0.0408343\n",
      "Markedness                                0.61288    0.394106    0.356565\n",
      "Prevalence                               0.892201   0.0625931   0.0452062\n",
      "LR+: Positive likelihood ratio            1.07067     12.4802     14.0806\n",
      "LR-: Negative likelihood ratio          0.0483296    0.963381    0.959038\n",
      "DOR: Diagnostic odds ratio                22.1535     12.9545      14.682\n",
      "FOR: False omission rate                 0.285714   0.0604396   0.0434348\n"
     ]
    }
   ],
   "source": [
    "# train\n",
    "rf = LogisticRegression(max_iter=2000)\n",
    "model1 = rf.fit(train[cols], train['Target'])\n",
    "\n",
    "# predict\n",
    "y_pred = model1.predict(test[cols])\n",
    "y_true = test['Target']\n",
    "\n",
    "# metric\n",
    "utils.metrics(y_true, y_pred)"
   ]
  },
  {
   "cell_type": "code",
   "execution_count": null,
   "metadata": {
    "collapsed": true,
    "deletable": true,
    "editable": true
   },
   "outputs": [],
   "source": []
  }
 ],
 "metadata": {
  "kernelspec": {
   "display_name": "Python 2",
   "language": "python",
   "name": "python2"
  },
  "language_info": {
   "codemirror_mode": {
    "name": "ipython",
    "version": 2
   },
   "file_extension": ".py",
   "mimetype": "text/x-python",
   "name": "python",
   "nbconvert_exporter": "python",
   "pygments_lexer": "ipython2",
   "version": "2.7.12"
  }
 },
 "nbformat": 4,
 "nbformat_minor": 2
}
