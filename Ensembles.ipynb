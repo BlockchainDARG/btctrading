{
 "cells": [
  {
   "cell_type": "code",
   "execution_count": 1,
   "metadata": {
    "collapsed": false,
    "deletable": true,
    "editable": true
   },
   "outputs": [
    {
     "name": "stderr",
     "output_type": "stream",
     "text": [
      "/home/bukosabino/envs/deeplearning/local/lib/python2.7/site-packages/sklearn/cross_validation.py:44: DeprecationWarning: This module was deprecated in version 0.18 in favor of the model_selection module into which all the refactored classes and functions are moved. Also note that the interface of the new CV iterators are different from that of this module. This module will be removed in 0.20.\n",
      "  \"This module will be removed in 0.20.\", DeprecationWarning)\n"
     ]
    }
   ],
   "source": [
    "import numpy as np\n",
    "import pandas as pd\n",
    "from sklearn.ensemble import *\n",
    "import xgboost as xgb\n",
    "\n",
    "import settings\n",
    "import utils\n",
    "import get_data"
   ]
  },
  {
   "cell_type": "markdown",
   "metadata": {
    "deletable": true,
    "editable": true
   },
   "source": [
    "### Get Data"
   ]
  },
  {
   "cell_type": "markdown",
   "metadata": {
    "deletable": true,
    "editable": true
   },
   "source": [
    "API: http://bitcoincharts.com/charts\n",
    "\n",
    "period = ['1-min', '5-min', '15-min', '30-min', 'Hourly', '2-hour', '6-hour', '12-hour', 'Daily', 'Weekly']\n",
    "\n",
    "market = ['coincheckJPY', 'krakenEUR', 'bitstampUSD', 'okcoinCNY', 'btcnCNY', 'krakenUSD', 'itbitUSD', 'bitbayPLN', 'btcoidIDR', 'localbtcRUB', 'localbtcGBP', 'btcdeEUR', 'coinfloorGBP', 'localbtcUSD']"
   ]
  },
  {
   "cell_type": "code",
   "execution_count": 2,
   "metadata": {
    "collapsed": false,
    "deletable": true,
    "editable": true
   },
   "outputs": [],
   "source": [
    "# get_data.get('data/datas.csv', period='6-hour', market='bitstampUSD')"
   ]
  },
  {
   "cell_type": "markdown",
   "metadata": {
    "deletable": true,
    "editable": true
   },
   "source": [
    "### Load Data"
   ]
  },
  {
   "cell_type": "code",
   "execution_count": 3,
   "metadata": {
    "collapsed": true,
    "deletable": true,
    "editable": true
   },
   "outputs": [],
   "source": [
    "df = pd.read_csv('data/datas.csv', sep=',')"
   ]
  },
  {
   "cell_type": "code",
   "execution_count": 4,
   "metadata": {
    "collapsed": false,
    "deletable": true,
    "editable": true
   },
   "outputs": [
    {
     "data": {
      "text/plain": [
       "(50756, 8)"
      ]
     },
     "execution_count": 4,
     "metadata": {},
     "output_type": "execute_result"
    }
   ],
   "source": [
    "df.shape"
   ]
  },
  {
   "cell_type": "markdown",
   "metadata": {
    "deletable": true,
    "editable": true
   },
   "source": [
    "### Preprocessing"
   ]
  },
  {
   "cell_type": "markdown",
   "metadata": {
    "deletable": true,
    "editable": true
   },
   "source": [
    "Drop rows with read problems (0.00, 2.7e+308) values"
   ]
  },
  {
   "cell_type": "code",
   "execution_count": 5,
   "metadata": {
    "collapsed": true,
    "deletable": true,
    "editable": true
   },
   "outputs": [],
   "source": [
    "df = utils.dropna(df)"
   ]
  },
  {
   "cell_type": "code",
   "execution_count": 6,
   "metadata": {
    "collapsed": false,
    "deletable": true,
    "editable": true
   },
   "outputs": [
    {
     "data": {
      "text/plain": [
       "(45005, 8)"
      ]
     },
     "execution_count": 6,
     "metadata": {},
     "output_type": "execute_result"
    }
   ],
   "source": [
    "df.shape"
   ]
  },
  {
   "cell_type": "markdown",
   "metadata": {
    "deletable": true,
    "editable": true
   },
   "source": [
    "### Transformation"
   ]
  },
  {
   "cell_type": "markdown",
   "metadata": {
    "deletable": true,
    "editable": true
   },
   "source": [
    "Create column target with class [UP, KEEP, DOWN]"
   ]
  },
  {
   "cell_type": "code",
   "execution_count": 7,
   "metadata": {
    "collapsed": true,
    "deletable": true,
    "editable": true
   },
   "outputs": [],
   "source": [
    "df['Target'] = 0 # 'KEEP'\n",
    "df.loc[df.Open + (df.Open * settings.PERCENT_UP) < df.Close, 'Target'] = 1 # 'UP'\n",
    "df.loc[df.Open - (df.Open * settings.PERCENT_DOWN) > df.Close, 'Target'] = 2 # 'DOWN'"
   ]
  },
  {
   "cell_type": "code",
   "execution_count": 8,
   "metadata": {
    "collapsed": false,
    "deletable": true,
    "editable": true
   },
   "outputs": [
    {
     "name": "stdout",
     "output_type": "stream",
     "text": [
      "Number of rows: 45005, Number of columns: 9\n",
      "Number of UP rows: 1736, Number of DOWN rows: 1706\n"
     ]
    }
   ],
   "source": [
    "print('Number of rows: {}, Number of columns: {}'.format(*df.shape))\n",
    "print('Number of UP rows: {}, Number of DOWN rows: {}'.format(len(df[df.Target == 1]), len(df[df.Target == 2])))"
   ]
  },
  {
   "cell_type": "markdown",
   "metadata": {
    "deletable": true,
    "editable": true
   },
   "source": [
    "Create columns from Timestamp to Date, Year, Month and Day."
   ]
  },
  {
   "cell_type": "markdown",
   "metadata": {
    "deletable": true,
    "editable": true
   },
   "source": [
    "### Feature Engineering"
   ]
  },
  {
   "cell_type": "code",
   "execution_count": 9,
   "metadata": {
    "collapsed": true,
    "deletable": true,
    "editable": true
   },
   "outputs": [],
   "source": [
    "df['Date'] = df['Timestamp'].apply(utils.timestamptodate)\n",
    "df['Date'] = pd.to_datetime(df['Date'])\n",
    "df['Year'] = df['Date'].dt.year\n",
    "df['Month'] = df['Date'].dt.month\n",
    "df['Day'] = df['Date'].dt.day\n",
    "df['Week'] = df['Date'].dt.weekofyear\n",
    "df['Weekday'] = df['Date'].dt.weekday\n",
    "\n",
    "# extra dates\n",
    "df[\"yearmonth\"] = df[\"Date\"].dt.year*100 + df[\"Date\"].dt.month\n",
    "df[\"yearweek\"] = df[\"Date\"].dt.year*100 + df[\"Date\"].dt.weekofyear\n",
    "df[\"yearweekday\"] = df[\"Date\"].dt.year*10 + df[\"Date\"].dt.weekday"
   ]
  },
  {
   "cell_type": "code",
   "execution_count": 10,
   "metadata": {
    "collapsed": true,
    "deletable": true,
    "editable": true
   },
   "outputs": [],
   "source": [
    "df['High-low'] = df['High'] - df['Low']\n",
    "df['High-low_mean'] = (df['High'] - df['Low']) / 2.0\n",
    "df['Close-open'] = df['Close'] - df['Open']\n",
    "df['Close-open_mean'] = (df['Close'] - df['Open']) / 2.0"
   ]
  },
  {
   "cell_type": "code",
   "execution_count": 11,
   "metadata": {
    "collapsed": true,
    "deletable": true,
    "editable": true
   },
   "outputs": [],
   "source": [
    "# Fundamental analysis\n",
    "\n",
    "# daily return\n",
    "df['Daily_return'] = (df['Close'] / df['Close'].shift(1)) - 1\n",
    "df['Daily_return_100'] = ((df['Close'] / df['Close'].shift(1)) - 1) * 100\n",
    "\n",
    "# cumulative return\n",
    "df['Cumulative_return'] = (df['Close'] / df['Close'][0]) - 1\n",
    "df['Cumulative_return_100'] = ((df['Close'] / df['Close'][0]) - 1) * 100\n",
    "\n",
    "# TODO: cumulative return week, month, year..."
   ]
  },
  {
   "cell_type": "code",
   "execution_count": 12,
   "metadata": {
    "collapsed": false,
    "deletable": true,
    "editable": true
   },
   "outputs": [],
   "source": [
    "# technical analysis (price and volume)\n",
    "\n",
    "# momentum\n",
    "df['Momentum_3'] = (df['Close'] / df['Close'].shift(3)) - 1\n",
    "df['Momentum_3'] = df['Momentum_3'].shift(-1)\n",
    "\n",
    "df['Momentum_5'] = (df['Close'] / df['Close'].shift(5)) - 1\n",
    "df['Momentum_5'] = df['Momentum_5'].shift(-1)\n",
    "\n",
    "df['Momentum_7'] = (df['Close'] / df['Close'].shift(7)) - 1\n",
    "df['Momentum_7'] = df['Momentum_7'].shift(-1)\n",
    "\n",
    "df['Momentum_10'] = (df['Close'] / df['Close'].shift(10)) - 1\n",
    "df['Momentum_10'] = df['Momentum_10'].shift(-1)\n",
    "\n",
    "# rollings: https://github.com/pandas-dev/pandas/blob/master/pandas/stats/moments.py\n",
    "df['Rolling_mean_3'] = df.set_index('Date')['Close'].rolling(window=3).mean().values\n",
    "df['Rolling_std_3'] = df.set_index('Date')['Close'].rolling(window=3).std().values\n",
    "df['Rolling_cov_3'] = df.set_index('Date')['Close'].rolling(window=3).cov().values\n",
    "\n",
    "df['Rolling_mean_3'] = df['Rolling_mean_3'].shift(-1)\n",
    "df['Rolling_std_3'] = df['Rolling_std_3'].shift(-1)\n",
    "df['Rolling_cov_3'] = df['Rolling_cov_3'].shift(-1)\n",
    "\n",
    "df['Rolling_mean_5'] = df.set_index('Date')['Close'].rolling(window=5).mean().values\n",
    "df['Rolling_std_5'] = df.set_index('Date')['Close'].rolling(window=5).std().values\n",
    "df['Rolling_cov_5'] = df.set_index('Date')['Close'].rolling(window=5).cov().values\n",
    "\n",
    "df['Rolling_mean_5'] = df['Rolling_mean_5'].shift(-1)\n",
    "df['Rolling_std_5'] = df['Rolling_std_5'].shift(-1)\n",
    "df['Rolling_cov_5'] = df['Rolling_cov_5'].shift(-1)\n",
    "\n",
    "df['Rolling_mean_10'] = df.set_index('Date')['Close'].rolling(window=10).mean().values\n",
    "df['Rolling_std_10'] = df.set_index('Date')['Close'].rolling(window=10).std().values\n",
    "df['Rolling_cov_10'] = df.set_index('Date')['Close'].rolling(window=10).cov().values\n",
    "\n",
    "df['Rolling_mean_10'] = df['Rolling_mean_10'].shift(-1)\n",
    "df['Rolling_std_10'] = df['Rolling_std_10'].shift(-1)\n",
    "df['Rolling_cov_10'] = df['Rolling_cov_10'].shift(-1)\n",
    "\n",
    "# bollinger bands\n",
    "df['Bollinger_band_mean_3_max'] = df['Rolling_mean_3'] + (2*df['Rolling_std_3'])\n",
    "df['Bollinger_band_mean_3_min'] = df['Rolling_mean_3'] - (2*df['Rolling_std_3'])\n",
    "\n",
    "df['Bollinger_band_mean_5_max'] = df['Rolling_mean_5'] + (2*df['Rolling_std_5'])\n",
    "df['Bollinger_band_mean_5_min'] = df['Rolling_mean_5'] - (2*df['Rolling_std_5'])\n",
    "\n",
    "df['Bollinger_band_mean_10_max'] = df['Rolling_mean_10'] + (2*df['Rolling_std_10'])\n",
    "df['Bollinger_band_mean_10_min'] = df['Rolling_mean_10'] - (2*df['Rolling_std_10'])"
   ]
  },
  {
   "cell_type": "code",
   "execution_count": 13,
   "metadata": {
    "collapsed": false,
    "deletable": true,
    "editable": true
   },
   "outputs": [
    {
     "name": "stdout",
     "output_type": "stream",
     "text": [
      "Number of rows: 45005, Number of columns: 45\n"
     ]
    }
   ],
   "source": [
    "print('Number of rows: {}, Number of columns: {}'.format(*df.shape))"
   ]
  },
  {
   "cell_type": "markdown",
   "metadata": {
    "deletable": true,
    "editable": true
   },
   "source": [
    "Transformation previous values from Open, High, Low, Close, Volume and Weighted columns."
   ]
  },
  {
   "cell_type": "code",
   "execution_count": 14,
   "metadata": {
    "collapsed": false,
    "deletable": true,
    "editable": true
   },
   "outputs": [],
   "source": [
    "# create PREV_DAYS * len(cols) new columns\n",
    "cols = ['Open', 'High', 'Low', 'Close', 'Volume_BTC', 'Volume_Currency', 'Weighted_Price', 'High-low', 'High-low_mean', 'Close-open', 'Close-open_mean', 'Daily_return', 'Daily_return_100', 'Cumulative_return', 'Cumulative_return_100']\n",
    "for col in cols:\n",
    "    for idx in range(settings.PREV_DAYS):\n",
    "        prev = idx + 1\n",
    "        df[col+'-'+str(prev)] = df[col].shift(prev)\n",
    "df = df.dropna()"
   ]
  },
  {
   "cell_type": "code",
   "execution_count": 15,
   "metadata": {
    "collapsed": false,
    "deletable": true,
    "editable": true
   },
   "outputs": [
    {
     "name": "stdout",
     "output_type": "stream",
     "text": [
      "Number of rows: 44993, Number of columns: 195\n"
     ]
    }
   ],
   "source": [
    "print('Number of rows: {}, Number of columns: {}'.format(*df.shape))"
   ]
  },
  {
   "cell_type": "markdown",
   "metadata": {
    "deletable": true,
    "editable": true
   },
   "source": [
    "### Split"
   ]
  },
  {
   "cell_type": "code",
   "execution_count": 16,
   "metadata": {
    "collapsed": true,
    "deletable": true,
    "editable": true
   },
   "outputs": [],
   "source": [
    "train, test = utils.split_df2(df)"
   ]
  },
  {
   "cell_type": "code",
   "execution_count": 17,
   "metadata": {
    "collapsed": true,
    "deletable": true,
    "editable": true
   },
   "outputs": [],
   "source": [
    "excl = ['Open', 'High', 'Low', 'Close','Volume_BTC', 'Volume_Currency', 'Weighted_Price', 'Target', 'High-low', 'High-low_mean', 'Close-open', 'Close-open_mean', 'Daily_return', 'Daily_return_100', 'Cumulative_return', 'Cumulative_return_100', 'Date', 'Timestamp']\n",
    "cols = [c for c in df.columns if c not in excl]"
   ]
  },
  {
   "cell_type": "markdown",
   "metadata": {
    "deletable": true,
    "editable": true
   },
   "source": [
    "### RandomForest"
   ]
  },
  {
   "cell_type": "code",
   "execution_count": 18,
   "metadata": {
    "collapsed": false,
    "deletable": true,
    "editable": true
   },
   "outputs": [
    {
     "name": "stdout",
     "output_type": "stream",
     "text": [
      "Cross Entropy: 0.175513167987\n",
      "Accuracy: 0.929415948084\n",
      "Coefficient Kappa: 0.308477927781\n",
      "Report:              precision    recall  f1-score   support\n",
      "\n",
      "       KEEP       0.94      0.99      0.96     10395\n",
      "         UP       0.54      0.21      0.30       433\n",
      "       DOWN       0.52      0.20      0.29       421\n",
      "\n",
      "avg / total       0.91      0.93      0.91     11249\n",
      "\n",
      "Confusion Matrix:\n",
      "\n",
      "Predicted      0    1    2  __all__\n",
      "Actual                             \n",
      "0          10279   55   61    10395\n",
      "1            325   90   18      433\n",
      "2            313   22   86      421\n",
      "__all__    10917  167  165    11249\n",
      "\n",
      "\n",
      "Overall Statistics:\n",
      "\n",
      "Accuracy: 0.929415948084\n",
      "95% CI: (0.92452626966019869, 0.93408194276513079)\n",
      "No Information Rate: ToDo\n",
      "P-Value [Acc > NIR]: 1.0\n",
      "Kappa: 0.308477927781\n",
      "Mcnemar's Test P-Value: ToDo\n",
      "\n",
      "\n",
      "Class Statistics:\n",
      "\n",
      "Classes                                        0           1          2\n",
      "Population                                 11249       11249      11249\n",
      "P: Condition positive                      10395         433        421\n",
      "N: Condition negative                        854       10816      10828\n",
      "Test outcome positive                      10917         167        165\n",
      "Test outcome negative                        332       11082      11084\n",
      "TP: True Positive                          10279          90         86\n",
      "TN: True Negative                            216       10739      10749\n",
      "FP: False Positive                           638          77         79\n",
      "FN: False Negative                           116         343        335\n",
      "TPR: (Sensitivity, hit rate, recall)    0.988841    0.207852   0.204276\n",
      "TNR=SPC: (Specificity)                  0.252927    0.992881   0.992704\n",
      "PPV: Pos Pred Value (Precision)         0.941559    0.538922   0.521212\n",
      "NPV: Neg Pred Value                     0.650602    0.969049   0.969776\n",
      "FPR: False-out                          0.747073  0.00711908  0.0072959\n",
      "FDR: False Discovery Rate               0.058441    0.461078   0.478788\n",
      "FNR: Miss Rate                         0.0111592    0.792148   0.795724\n",
      "ACC: Accuracy                           0.932972    0.962663   0.963197\n",
      "F1 score                                0.964621         0.3   0.293515\n",
      "MCC: Matthews correlation coefficient   0.378373    0.319322    0.31099\n",
      "Informedness                            0.241768    0.200733    0.19698\n",
      "Markedness                              0.592161    0.507971   0.490988\n",
      "Prevalence                              0.924082   0.0384923  0.0374255\n",
      "LR+: Positive likelihood ratio           1.32362     29.1965    27.9987\n",
      "LR-: Negative likelihood ratio         0.0441202    0.797828   0.801573\n",
      "DOR: Diagnostic odds ratio               30.0003      36.595    34.9297\n",
      "FOR: False omission rate                0.349398   0.0309511  0.0302237\n"
     ]
    }
   ],
   "source": [
    "# train\n",
    "rf = RandomForestClassifier(n_estimators=1000, n_jobs=-1, random_state=17, verbose=0)\n",
    "model1 = rf.fit(train[cols], train['Target'])\n",
    "\n",
    "# predict\n",
    "y_pred = model1.predict(test[cols])\n",
    "y_pred_proba = model1.predict_proba(test[cols])\n",
    "y_true = test['Target']\n",
    "\n",
    "# metric\n",
    "utils.metrics(y_true, y_pred, y_pred_proba)"
   ]
  },
  {
   "cell_type": "markdown",
   "metadata": {
    "deletable": true,
    "editable": true
   },
   "source": [
    "### Bagging"
   ]
  },
  {
   "cell_type": "code",
   "execution_count": 19,
   "metadata": {
    "collapsed": false,
    "deletable": true,
    "editable": true
   },
   "outputs": [
    {
     "name": "stdout",
     "output_type": "stream",
     "text": [
      "Cross Entropy: 0.172954521395\n",
      "Accuracy: 0.932882922926\n",
      "Coefficient Kappa: 0.411886112056\n",
      "Report:              precision    recall  f1-score   support\n",
      "\n",
      "       KEEP       0.95      0.98      0.97     10395\n",
      "         UP       0.55      0.31      0.40       433\n",
      "       DOWN       0.56      0.32      0.41       421\n",
      "\n",
      "avg / total       0.92      0.93      0.92     11249\n",
      "\n",
      "Confusion Matrix:\n",
      "\n",
      "Predicted      0    1    2  __all__\n",
      "Actual                             \n",
      "0          10225   87   83    10395\n",
      "1            277  135   21      433\n",
      "2            262   25  134      421\n",
      "__all__    10764  247  238    11249\n",
      "\n",
      "\n",
      "Overall Statistics:\n",
      "\n",
      "Accuracy: 0.932882922926\n",
      "95% CI: (0.92810137187666164, 0.93743891950004699)\n",
      "No Information Rate: ToDo\n",
      "P-Value [Acc > NIR]: 1.0\n",
      "Kappa: 0.411886112056\n",
      "Mcnemar's Test P-Value: ToDo\n",
      "\n",
      "\n",
      "Class Statistics:\n",
      "\n",
      "Classes                                        0          1           2\n",
      "Population                                 11249      11249       11249\n",
      "P: Condition positive                      10395        433         421\n",
      "N: Condition negative                        854      10816       10828\n",
      "Test outcome positive                      10764        247         238\n",
      "Test outcome negative                        485      11002       11011\n",
      "TP: True Positive                          10225        135         134\n",
      "TN: True Negative                            315      10704       10724\n",
      "FP: False Positive                           539        112         104\n",
      "FN: False Negative                           170        298         287\n",
      "TPR: (Sensitivity, hit rate, recall)    0.983646   0.311778     0.31829\n",
      "TNR=SPC: (Specificity)                  0.368852   0.989645    0.990395\n",
      "PPV: Pos Pred Value (Precision)         0.949926   0.546559    0.563025\n",
      "NPV: Neg Pred Value                     0.649485   0.972914    0.973935\n",
      "FPR: False-out                          0.631148   0.010355  0.00960473\n",
      "FDR: False Discovery Rate              0.0500743   0.453441    0.436975\n",
      "FNR: Miss Rate                          0.016354   0.688222     0.68171\n",
      "ACC: Accuracy                           0.936972   0.963552    0.965241\n",
      "F1 score                                0.966492   0.397059    0.406677\n",
      "MCC: Matthews correlation coefficient   0.459664   0.395703    0.407126\n",
      "Informedness                            0.352498   0.301423    0.308685\n",
      "Markedness                               0.59941   0.519473     0.53696\n",
      "Prevalence                              0.924082  0.0384923   0.0374255\n",
      "LR+: Positive likelihood ratio            1.5585    30.1089     33.1389\n",
      "LR-: Negative likelihood ratio         0.0443376   0.695423    0.688321\n",
      "DOR: Diagnostic odds ratio               35.1509    43.2958     48.1445\n",
      "FOR: False omission rate                0.350515   0.027086   0.0260648\n"
     ]
    }
   ],
   "source": [
    "# train\n",
    "ba = BaggingClassifier(n_estimators=1000, n_jobs=-1, random_state=17, verbose=0)\n",
    "model1 = ba.fit(train[cols], train['Target'])\n",
    "\n",
    "# predict\n",
    "y_pred = model1.predict(test[cols])\n",
    "y_pred_proba = model1.predict_proba(test[cols])\n",
    "y_true = test['Target']\n",
    "\n",
    "# metric\n",
    "utils.metrics(y_true, y_pred, y_pred_proba)"
   ]
  },
  {
   "cell_type": "markdown",
   "metadata": {
    "deletable": true,
    "editable": true
   },
   "source": [
    "### ExtraTrees"
   ]
  },
  {
   "cell_type": "code",
   "execution_count": 20,
   "metadata": {
    "collapsed": false,
    "deletable": true,
    "editable": true
   },
   "outputs": [
    {
     "name": "stdout",
     "output_type": "stream",
     "text": [
      "Cross Entropy: 0.191833408217\n",
      "Accuracy: 0.925593386079\n",
      "Coefficient Kappa: 0.202061869824\n",
      "Report:              precision    recall  f1-score   support\n",
      "\n",
      "       KEEP       0.94      0.99      0.96     10395\n",
      "         UP       0.48      0.12      0.19       433\n",
      "       DOWN       0.42      0.12      0.18       421\n",
      "\n",
      "avg / total       0.90      0.93      0.90     11249\n",
      "\n",
      "Confusion Matrix:\n",
      "\n",
      "Predicted      0    1    2  __all__\n",
      "Actual                             \n",
      "0          10313   33   49    10395\n",
      "1            365   50   18      433\n",
      "2            351   21   49      421\n",
      "__all__    11029  104  116    11249\n",
      "\n",
      "\n",
      "Overall Statistics:\n",
      "\n",
      "Accuracy: 0.925593386079\n",
      "95% CI: (0.92058830902213606, 0.93037683541563532)\n",
      "No Information Rate: ToDo\n",
      "P-Value [Acc > NIR]: 1.0\n",
      "Kappa: 0.202061869824\n",
      "Mcnemar's Test P-Value: ToDo\n",
      "\n",
      "\n",
      "Class Statistics:\n",
      "\n",
      "Classes                                         0          1           2\n",
      "Population                                  11249      11249       11249\n",
      "P: Condition positive                       10395        433         421\n",
      "N: Condition negative                         854      10816       10828\n",
      "Test outcome positive                       11029        104         116\n",
      "Test outcome negative                         220      11145       11133\n",
      "TP: True Positive                           10313         50          49\n",
      "TN: True Negative                             138      10762       10761\n",
      "FP: False Positive                            716         54          67\n",
      "FN: False Negative                             82        383         372\n",
      "TPR: (Sensitivity, hit rate, recall)     0.992112   0.115473     0.11639\n",
      "TNR=SPC: (Specificity)                   0.161593   0.995007    0.993812\n",
      "PPV: Pos Pred Value (Precision)           0.93508   0.480769    0.422414\n",
      "NPV: Neg Pred Value                      0.627273   0.965635    0.966586\n",
      "FPR: False-out                           0.838407  0.0049926  0.00618766\n",
      "FDR: False Discovery Rate               0.0649198   0.519231    0.577586\n",
      "FNR: Miss Rate                         0.00788841   0.884527     0.88361\n",
      "ACC: Accuracy                             0.92906   0.961152    0.960974\n",
      "F1 score                                 0.962752    0.18622    0.182495\n",
      "MCC: Matthews correlation coefficient       0.294   0.222079    0.207047\n",
      "Informedness                             0.153704   0.110481    0.110202\n",
      "Markedness                               0.562353   0.446404       0.389\n",
      "Prevalence                               0.924082  0.0384923   0.0374255\n",
      "LR+: Positive likelihood ratio            1.18333    23.1289     18.8099\n",
      "LR-: Negative likelihood ratio          0.0488167   0.888965    0.889112\n",
      "DOR: Diagnostic odds ratio                24.2403    26.0178     21.1559\n",
      "FOR: False omission rate                 0.372727  0.0343652   0.0334142\n"
     ]
    }
   ],
   "source": [
    "# train\n",
    "et = ExtraTreesClassifier(n_estimators=1000, n_jobs=-1, random_state=17, verbose=0)\n",
    "model1 = et.fit(train[cols], train['Target'])\n",
    "\n",
    "# predict\n",
    "y_pred = model1.predict(test[cols])\n",
    "y_pred_proba = model1.predict_proba(test[cols])\n",
    "y_true = test['Target']\n",
    "\n",
    "# metric\n",
    "utils.metrics(y_true, y_pred, y_pred_proba)"
   ]
  },
  {
   "cell_type": "markdown",
   "metadata": {
    "collapsed": true,
    "deletable": true,
    "editable": true
   },
   "source": [
    "### GradientBoosting"
   ]
  },
  {
   "cell_type": "code",
   "execution_count": 21,
   "metadata": {
    "collapsed": false,
    "deletable": true,
    "editable": true
   },
   "outputs": [
    {
     "name": "stdout",
     "output_type": "stream",
     "text": [
      "Cross Entropy: 0.28010055284\n",
      "Accuracy: 0.932882922926\n",
      "Coefficient Kappa: 0.421087649685\n",
      "Report:              precision    recall  f1-score   support\n",
      "\n",
      "       KEEP       0.95      0.98      0.97     10395\n",
      "         UP       0.58      0.31      0.41       433\n",
      "       DOWN       0.53      0.34      0.42       421\n",
      "\n",
      "avg / total       0.92      0.93      0.92     11249\n",
      "\n",
      "Confusion Matrix:\n",
      "\n",
      "Predicted      0    1    2  __all__\n",
      "Actual                             \n",
      "0          10213   79  103    10395\n",
      "1            273  136   24      433\n",
      "2            255   21  145      421\n",
      "__all__    10741  236  272    11249\n",
      "\n",
      "\n",
      "Overall Statistics:\n",
      "\n",
      "Accuracy: 0.932882922926\n",
      "95% CI: (0.92810137187666164, 0.93743891950004699)\n",
      "No Information Rate: ToDo\n",
      "P-Value [Acc > NIR]: 1.0\n",
      "Kappa: 0.421087649685\n",
      "Mcnemar's Test P-Value: ToDo\n",
      "\n",
      "\n",
      "Class Statistics:\n",
      "\n",
      "Classes                                        0           1          2\n",
      "Population                                 11249       11249      11249\n",
      "P: Condition positive                      10395         433        421\n",
      "N: Condition negative                        854       10816      10828\n",
      "Test outcome positive                      10741         236        272\n",
      "Test outcome negative                        508       11013      10977\n",
      "TP: True Positive                          10213         136        145\n",
      "TN: True Negative                            326       10716      10701\n",
      "FP: False Positive                           528         100        127\n",
      "FN: False Negative                           182         297        276\n",
      "TPR: (Sensitivity, hit rate, recall)    0.982492    0.314088   0.344418\n",
      "TNR=SPC: (Specificity)                  0.381733    0.990754   0.988271\n",
      "PPV: Pos Pred Value (Precision)         0.950843    0.576271   0.533088\n",
      "NPV: Neg Pred Value                     0.641732    0.973032   0.974857\n",
      "FPR: False-out                          0.618267  0.00924556  0.0117289\n",
      "FDR: False Discovery Rate              0.0491574    0.423729   0.466912\n",
      "FNR: Miss Rate                         0.0175084    0.685912   0.655582\n",
      "ACC: Accuracy                           0.936883    0.964708   0.964175\n",
      "F1 score                                0.966408    0.406577    0.41847\n",
      "MCC: Matthews correlation coefficient   0.464575    0.409207   0.411081\n",
      "Informedness                            0.364225    0.304842   0.332689\n",
      "Markedness                              0.592575    0.549303   0.507945\n",
      "Prevalence                              0.924082   0.0384923  0.0374255\n",
      "LR+: Positive likelihood ratio           1.58911     33.9717     29.365\n",
      "LR-: Negative likelihood ratio         0.0458656    0.692313   0.663362\n",
      "DOR: Diagnostic odds ratio                34.647     49.0699    44.2669\n",
      "FOR: False omission rate                0.358268   0.0269681  0.0251435\n"
     ]
    }
   ],
   "source": [
    "# train\n",
    "gr = GradientBoostingClassifier(n_estimators=1000, max_depth=10, warm_start=True, learning_rate=0.08, random_state=17, verbose=0)\n",
    "model1 = gr.fit(train[cols], train['Target'])\n",
    "\n",
    "# predict\n",
    "y_pred = model1.predict(test[cols])\n",
    "y_pred_proba = model1.predict_proba(test[cols])\n",
    "y_true = test['Target']\n",
    "\n",
    "# metric\n",
    "utils.metrics(y_true, y_pred, y_pred_proba)"
   ]
  },
  {
   "cell_type": "markdown",
   "metadata": {
    "deletable": true,
    "editable": true
   },
   "source": [
    "### AdaBoost"
   ]
  },
  {
   "cell_type": "code",
   "execution_count": 22,
   "metadata": {
    "collapsed": false,
    "deletable": true,
    "editable": true
   },
   "outputs": [
    {
     "name": "stdout",
     "output_type": "stream",
     "text": [
      "Cross Entropy: 1.08680562821\n",
      "Accuracy: 0.917948262068\n",
      "Coefficient Kappa: 0.407418414088\n",
      "Report:              precision    recall  f1-score   support\n",
      "\n",
      "       KEEP       0.96      0.96      0.96     10395\n",
      "         UP       0.44      0.39      0.41       433\n",
      "       DOWN       0.41      0.39      0.40       421\n",
      "\n",
      "avg / total       0.92      0.92      0.92     11249\n",
      "\n",
      "Confusion Matrix:\n",
      "\n",
      "Predicted      0    1    2  __all__\n",
      "Actual                             \n",
      "0           9991  188  216    10395\n",
      "1            240  169   24      433\n",
      "2            224   31  166      421\n",
      "__all__    10455  388  406    11249\n",
      "\n",
      "\n",
      "Overall Statistics:\n",
      "\n",
      "Accuracy: 0.917948262068\n",
      "95% CI: (0.91272333584377663, 0.92295565507517552)\n",
      "No Information Rate: ToDo\n",
      "P-Value [Acc > NIR]: 0.999998419814\n",
      "Kappa: 0.407418414088\n",
      "Mcnemar's Test P-Value: ToDo\n",
      "\n",
      "\n",
      "Class Statistics:\n",
      "\n",
      "Classes                                        0          1          2\n",
      "Population                                 11249      11249      11249\n",
      "P: Condition positive                      10395        433        421\n",
      "N: Condition negative                        854      10816      10828\n",
      "Test outcome positive                      10455        388        406\n",
      "Test outcome negative                        794      10861      10843\n",
      "TP: True Positive                           9991        169        166\n",
      "TN: True Negative                            390      10597      10588\n",
      "FP: False Positive                           464        219        240\n",
      "FN: False Negative                           404        264        255\n",
      "TPR: (Sensitivity, hit rate, recall)    0.961135     0.3903   0.394299\n",
      "TNR=SPC: (Specificity)                  0.456674   0.979752   0.977835\n",
      "PPV: Pos Pred Value (Precision)         0.955619   0.435567   0.408867\n",
      "NPV: Neg Pred Value                     0.491184   0.975693   0.976483\n",
      "FPR: False-out                          0.543326  0.0202478  0.0221648\n",
      "FDR: False Discovery Rate              0.0443807   0.564433   0.591133\n",
      "FNR: Miss Rate                         0.0388648     0.6097   0.605701\n",
      "ACC: Accuracy                           0.922838   0.957063   0.955996\n",
      "F1 score                                0.958369   0.411693   0.401451\n",
      "MCC: Matthews correlation coefficient   0.432063   0.390112   0.378684\n",
      "Informedness                             0.41781   0.370052   0.372135\n",
      "Markedness                              0.446803    0.41126    0.38535\n",
      "Prevalence                              0.924082  0.0384923  0.0374255\n",
      "LR+: Positive likelihood ratio           1.76899    19.2762    17.7895\n",
      "LR-: Negative likelihood ratio          0.085104     0.6223    0.61943\n",
      "DOR: Diagnostic odds ratio               20.7862    30.9757    28.7191\n",
      "FOR: False omission rate                0.508816  0.0243072  0.0235175\n"
     ]
    }
   ],
   "source": [
    "# train\n",
    "ab = AdaBoostClassifier(n_estimators=500, random_state=17)\n",
    "model1 = ab.fit(train[cols], train['Target'])\n",
    "\n",
    "# predict\n",
    "y_pred = model1.predict(test[cols])\n",
    "y_pred_proba = model1.predict_proba(test[cols])\n",
    "y_true = test['Target']\n",
    "\n",
    "# metric\n",
    "utils.metrics(y_true, y_pred, y_pred_proba)"
   ]
  },
  {
   "cell_type": "markdown",
   "metadata": {
    "deletable": true,
    "editable": true
   },
   "source": [
    "### linear models"
   ]
  },
  {
   "cell_type": "code",
   "execution_count": 25,
   "metadata": {
    "collapsed": true,
    "deletable": true,
    "editable": true
   },
   "outputs": [],
   "source": [
    "from sklearn.linear_model import *"
   ]
  },
  {
   "cell_type": "code",
   "execution_count": 26,
   "metadata": {
    "collapsed": false,
    "deletable": true,
    "editable": true
   },
   "outputs": [
    {
     "name": "stdout",
     "output_type": "stream",
     "text": [
      "Accuracy: 0.934394168371\n",
      "Coefficient Kappa: 0.317203847389\n",
      "Report:              precision    recall  f1-score   support\n",
      "\n",
      "       KEEP       0.94      0.99      0.97     10395\n",
      "         UP       0.75      0.22      0.34       433\n",
      "       DOWN       0.68      0.21      0.32       421\n",
      "\n",
      "avg / total       0.92      0.93      0.92     11249\n",
      "\n",
      "Confusion Matrix:\n",
      "\n",
      "Predicted      0    1    2  __all__\n",
      "Actual                             \n",
      "0          10328   30   37    10395\n",
      "1            335   94    4      433\n",
      "2            330    2   89      421\n",
      "__all__    10993  126  130    11249\n",
      "\n",
      "\n",
      "Overall Statistics:\n",
      "\n",
      "Accuracy: 0.934394168371\n",
      "95% CI: (0.92966084282523398, 0.938901122021359)\n",
      "No Information Rate: ToDo\n",
      "P-Value [Acc > NIR]: 1.0\n",
      "Kappa: 0.317203847389\n",
      "Mcnemar's Test P-Value: ToDo\n",
      "\n",
      "\n",
      "Class Statistics:\n",
      "\n",
      "Classes                                         0           1           2\n",
      "Population                                  11249       11249       11249\n",
      "P: Condition positive                       10395         433         421\n",
      "N: Condition negative                         854       10816       10828\n",
      "Test outcome positive                       10993         126         130\n",
      "Test outcome negative                         256       11123       11119\n",
      "TP: True Positive                           10328          94          89\n",
      "TN: True Negative                             189       10784       10787\n",
      "FP: False Positive                            665          32          41\n",
      "FN: False Negative                             67         339         332\n",
      "TPR: (Sensitivity, hit rate, recall)     0.993555     0.21709    0.211401\n",
      "TNR=SPC: (Specificity)                   0.221311    0.997041    0.996214\n",
      "PPV: Pos Pred Value (Precision)          0.939507    0.746032    0.684615\n",
      "NPV: Neg Pred Value                      0.738281    0.969523    0.970141\n",
      "FPR: False-out                           0.778689  0.00295858  0.00378648\n",
      "FDR: False Discovery Rate                0.060493    0.253968    0.315385\n",
      "FNR: Miss Rate                         0.00644541     0.78291    0.788599\n",
      "ACC: Accuracy                            0.934928    0.967019    0.966841\n",
      "F1 score                                 0.965775    0.336315    0.323049\n",
      "MCC: Matthews correlation coefficient     0.38162    0.391437    0.368697\n",
      "Informedness                             0.214866    0.214131    0.207615\n",
      "Markedness                               0.677788    0.715554    0.654757\n",
      "Prevalence                               0.924082   0.0384923   0.0374255\n",
      "LR+: Positive likelihood ratio            1.27593     73.3764     55.8306\n",
      "LR-: Negative likelihood ratio          0.0291237    0.785233    0.791596\n",
      "DOR: Diagnostic odds ratio                43.8108     93.4454     70.5292\n",
      "FOR: False omission rate                 0.261719   0.0304774   0.0298588\n"
     ]
    }
   ],
   "source": [
    "# train\n",
    "rf = LogisticRegression(max_iter=2000)\n",
    "model1 = rf.fit(train[cols], train['Target'])\n",
    "\n",
    "# predict\n",
    "y_pred = model1.predict(test[cols])\n",
    "y_true = test['Target']\n",
    "\n",
    "# metric\n",
    "utils.metrics(y_true, y_pred)"
   ]
  },
  {
   "cell_type": "code",
   "execution_count": null,
   "metadata": {
    "collapsed": true,
    "deletable": true,
    "editable": true
   },
   "outputs": [],
   "source": []
  }
 ],
 "metadata": {
  "kernelspec": {
   "display_name": "Python 2",
   "language": "python",
   "name": "python2"
  },
  "language_info": {
   "codemirror_mode": {
    "name": "ipython",
    "version": 2
   },
   "file_extension": ".py",
   "mimetype": "text/x-python",
   "name": "python",
   "nbconvert_exporter": "python",
   "pygments_lexer": "ipython2",
   "version": "2.7.12"
  }
 },
 "nbformat": 4,
 "nbformat_minor": 2
}
