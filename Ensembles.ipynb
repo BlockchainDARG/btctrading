{
 "cells": [
  {
   "cell_type": "code",
   "execution_count": 1,
   "metadata": {
    "collapsed": true
   },
   "outputs": [],
   "source": [
    "import numpy as np\n",
    "import pandas as pd\n",
    "from sklearn.ensemble import *\n",
    "\n",
    "import settings\n",
    "import utils\n",
    "import get_data"
   ]
  },
  {
   "cell_type": "markdown",
   "metadata": {},
   "source": [
    "### Get Data"
   ]
  },
  {
   "cell_type": "markdown",
   "metadata": {},
   "source": [
    "API: http://bitcoincharts.com/charts\n",
    "\n",
    "period = ['1-min', '5-min', '15-min', '30-min', 'Hourly', '2-hour', '6-hour', '12-hour', 'Daily', 'Weekly']\n",
    "\n",
    "market = ['coincheckJPY', 'krakenEUR', 'bitstampUSD', 'okcoinCNY', 'btcnCNY', 'krakenUSD', 'itbitUSD', 'bitbayPLN', 'btcoidIDR', 'localbtcRUB', 'localbtcGBP', 'btcdeEUR', 'coinfloorGBP', 'localbtcUSD']"
   ]
  },
  {
   "cell_type": "code",
   "execution_count": 2,
   "metadata": {},
   "outputs": [
    {
     "name": "stdout",
     "output_type": "stream",
     "text": [
      "Loading.....\n",
      "366 of 2075 days loaded...\n",
      "732 of 2075 days loaded...\n",
      "1098 of 2075 days loaded...\n",
      "1464 of 2075 days loaded...\n",
      "1830 of 2075 days loaded...\n",
      "2196 of 2075 days loaded...\n",
      "Last Timestamp: 2017-05-18 14:00:00\n"
     ]
    }
   ],
   "source": [
    "get_data.get('data/datas.csv', period='6-hour', market='bitstampUSD')"
   ]
  },
  {
   "cell_type": "markdown",
   "metadata": {},
   "source": [
    "### Load Data"
   ]
  },
  {
   "cell_type": "code",
   "execution_count": 3,
   "metadata": {
    "collapsed": true
   },
   "outputs": [],
   "source": [
    "df = pd.read_csv('data/datas.csv', sep=',')"
   ]
  },
  {
   "cell_type": "code",
   "execution_count": 4,
   "metadata": {},
   "outputs": [
    {
     "data": {
      "text/plain": [
       "(8302, 8)"
      ]
     },
     "execution_count": 4,
     "metadata": {},
     "output_type": "execute_result"
    }
   ],
   "source": [
    "df.shape"
   ]
  },
  {
   "cell_type": "markdown",
   "metadata": {},
   "source": [
    "### Preprocessing"
   ]
  },
  {
   "cell_type": "markdown",
   "metadata": {},
   "source": [
    "Drop rows with read problems (0.00, 2.7e+308) values"
   ]
  },
  {
   "cell_type": "code",
   "execution_count": 5,
   "metadata": {
    "collapsed": true
   },
   "outputs": [],
   "source": [
    "df = utils.dropna(df)"
   ]
  },
  {
   "cell_type": "code",
   "execution_count": 6,
   "metadata": {},
   "outputs": [
    {
     "data": {
      "text/plain": [
       "(7906, 8)"
      ]
     },
     "execution_count": 6,
     "metadata": {},
     "output_type": "execute_result"
    }
   ],
   "source": [
    "df.shape"
   ]
  },
  {
   "cell_type": "markdown",
   "metadata": {},
   "source": [
    "### Transformation"
   ]
  },
  {
   "cell_type": "markdown",
   "metadata": {},
   "source": [
    "Create column target with class [UP, KEEP, DOWN]"
   ]
  },
  {
   "cell_type": "code",
   "execution_count": 7,
   "metadata": {
    "collapsed": true
   },
   "outputs": [],
   "source": [
    "df['Target'] = 1 # 'KEEP'\n",
    "df.loc[df.Open + (df.Open * settings.PERCENT_UP) < df.Close, 'Target'] = 2 # 'UP'\n",
    "df.loc[df.Open - (df.Open * settings.PERCENT_DOWN) > df.Close, 'Target'] = 3 # 'DOWN'"
   ]
  },
  {
   "cell_type": "code",
   "execution_count": 8,
   "metadata": {},
   "outputs": [
    {
     "name": "stdout",
     "output_type": "stream",
     "text": [
      "Number of rows: 7906, Number of columns: 9\n",
      "Number of UP rows: 431, Number of DOWN rows: 336\n"
     ]
    }
   ],
   "source": [
    "print('Number of rows: {}, Number of columns: {}'.format(*df.shape))\n",
    "print('Number of UP rows: {}, Number of DOWN rows: {}'.format(len(df[df.Target == 2]), len(df[df.Target == 3])))"
   ]
  },
  {
   "cell_type": "markdown",
   "metadata": {},
   "source": [
    "Create columns from Timestamp to Date, Year, Month and Day."
   ]
  },
  {
   "cell_type": "code",
   "execution_count": 9,
   "metadata": {
    "collapsed": true
   },
   "outputs": [],
   "source": [
    "df['Date'] = df['Timestamp'].apply(utils.timestamptodate)\n",
    "df['Date'] = pd.to_datetime(df['Date'])\n",
    "df['Year'] = df['Date'].dt.year\n",
    "df['Month'] = df['Date'].dt.month\n",
    "df['Day'] = df['Date'].dt.day"
   ]
  },
  {
   "cell_type": "code",
   "execution_count": 10,
   "metadata": {},
   "outputs": [
    {
     "name": "stdout",
     "output_type": "stream",
     "text": [
      "Number of rows: 7906, Number of columns: 13\n"
     ]
    }
   ],
   "source": [
    "print('Number of rows: {}, Number of columns: {}'.format(*df.shape))"
   ]
  },
  {
   "cell_type": "markdown",
   "metadata": {},
   "source": [
    "Transformation previous values from Open, High, Low, Close, Volume and Weighted columns."
   ]
  },
  {
   "cell_type": "code",
   "execution_count": 11,
   "metadata": {
    "collapsed": true
   },
   "outputs": [],
   "source": [
    "# create PREV_DAYS * len(cols) new columns\n",
    "cols = ['Open', 'High', 'Low', 'Close', 'Volume_BTC', 'Volume_Currency', 'Weighted_Price']\n",
    "for i in cols:\n",
    "    col = i\n",
    "    for idx in range(settings.PREV_DAYS):\n",
    "        prev = idx + 1\n",
    "        df[col+'-'+str(prev)] = df.Close.shift(prev)\n",
    "df = df.dropna()"
   ]
  },
  {
   "cell_type": "code",
   "execution_count": 12,
   "metadata": {},
   "outputs": [
    {
     "name": "stdout",
     "output_type": "stream",
     "text": [
      "Number of rows: 7896, Number of columns: 83\n"
     ]
    }
   ],
   "source": [
    "print('Number of rows: {}, Number of columns: {}'.format(*df.shape))"
   ]
  },
  {
   "cell_type": "markdown",
   "metadata": {},
   "source": [
    "### Split"
   ]
  },
  {
   "cell_type": "code",
   "execution_count": 13,
   "metadata": {
    "collapsed": true
   },
   "outputs": [],
   "source": [
    "train, test = utils.split_df2(df)"
   ]
  },
  {
   "cell_type": "code",
   "execution_count": 14,
   "metadata": {
    "collapsed": true
   },
   "outputs": [],
   "source": [
    "excl = ['Open', 'High', 'Low', 'Close','Volume_BTC', 'Volume_Currency', 'Weighted_Price', 'Target', 'Date', 'Year', 'Day', 'Timestamp']\n",
    "cols = [c for c in df.columns if c not in excl]"
   ]
  },
  {
   "cell_type": "markdown",
   "metadata": {},
   "source": [
    "### RandomForest"
   ]
  },
  {
   "cell_type": "code",
   "execution_count": 15,
   "metadata": {},
   "outputs": [
    {
     "name": "stdout",
     "output_type": "stream",
     "text": [
      "Cross Entropy: 0.612690026124\n",
      "Accuracy: 0.892603850051\n",
      "Coeficiente Kappa: 0.080918800087\n",
      "Report:              precision    recall  f1-score   support\n",
      "\n",
      "       KEEP       0.90      0.99      0.95      1766\n",
      "         UP       0.29      0.04      0.07       123\n",
      "       DOWN       0.20      0.02      0.04        85\n",
      "\n",
      "avg / total       0.83      0.89      0.85      1974\n",
      "\n",
      "Confusion Matrix:\n",
      "\n",
      "Predicted     1   2   3  __all__\n",
      "Actual                          \n",
      "1          1755   8   3     1766\n",
      "2           113   5   5      123\n",
      "3            79   4   2       85\n",
      "__all__    1947  17  10     1974\n",
      "\n",
      "\n",
      "Overall Statistics:\n",
      "\n",
      "Accuracy: 0.892603850051\n",
      "95% CI: (0.87810451536194267, 0.90592473444619248)\n",
      "No Information Rate: ToDo\n",
      "P-Value [Acc > NIR]: 1.0\n",
      "Kappa: 0.080918800087\n",
      "Mcnemar's Test P-Value: ToDo\n",
      "\n",
      "\n",
      "Class Statistics:\n",
      "\n",
      "Classes                                         1           2           3\n",
      "Population                                   1974        1974        1974\n",
      "P: Condition positive                        1766         123          85\n",
      "N: Condition negative                         208        1851        1889\n",
      "Test outcome positive                        1947          17          10\n",
      "Test outcome negative                          27        1957        1964\n",
      "TP: True Positive                            1755           5           2\n",
      "TN: True Negative                              16        1839        1881\n",
      "FP: False Positive                            192          12           8\n",
      "FN: False Negative                             11         118          83\n",
      "TPR: (Sensitivity, hit rate, recall)     0.993771   0.0406504   0.0235294\n",
      "TNR=SPC: (Specificity)                  0.0769231    0.993517    0.995765\n",
      "PPV: Pos Pred Value (Precision)          0.901387    0.294118         0.2\n",
      "NPV: Neg Pred Value                      0.592593    0.939704    0.957739\n",
      "FPR: False-out                           0.923077  0.00648298  0.00423504\n",
      "FDR: False Discovery Rate               0.0986133    0.705882         0.8\n",
      "FNR: Miss Rate                         0.00622877     0.95935    0.976471\n",
      "ACC: Accuracy                            0.897163    0.934144    0.953901\n",
      "F1 score                                 0.945327   0.0714286   0.0421053\n",
      "MCC: Matthews correlation coefficient    0.186873   0.0893816   0.0551677\n",
      "Informedness                            0.0706943   0.0341674   0.0192944\n",
      "Markedness                               0.493979    0.233821    0.157739\n",
      "Prevalence                                0.89463     0.06231   0.0430598\n",
      "LR+: Positive likelihood ratio            1.07659     6.27033     5.55588\n",
      "LR-: Negative likelihood ratio           0.080974     0.96561    0.980624\n",
      "DOR: Diagnostic odds ratio                13.2955     6.49364     5.66566\n",
      "FOR: False omission rate                 0.407407   0.0602964   0.0422607\n"
     ]
    }
   ],
   "source": [
    "# train\n",
    "rf = RandomForestClassifier(n_estimators=1000, n_jobs=-1, random_state=17, verbose=0)\n",
    "model1 = rf.fit(train[cols], train['Target'])\n",
    "\n",
    "# predict\n",
    "y_pred = model1.predict(test[cols])\n",
    "y_pred_proba = model1.predict_proba(test[cols])\n",
    "y_true = test['Target']\n",
    "\n",
    "# metric\n",
    "utils.metrics(y_true, y_pred, y_pred_proba)"
   ]
  },
  {
   "cell_type": "markdown",
   "metadata": {},
   "source": [
    "### Bagging"
   ]
  },
  {
   "cell_type": "code",
   "execution_count": 16,
   "metadata": {},
   "outputs": [
    {
     "name": "stdout",
     "output_type": "stream",
     "text": [
      "Cross Entropy: 0.745588275538\n",
      "Accuracy: 0.887537993921\n",
      "Coeficiente Kappa: 0.0712340438158\n",
      "Report:              precision    recall  f1-score   support\n",
      "\n",
      "       KEEP       0.90      0.99      0.94      1766\n",
      "         UP       0.20      0.04      0.07       123\n",
      "       DOWN       0.08      0.01      0.02        85\n",
      "\n",
      "avg / total       0.82      0.89      0.85      1974\n",
      "\n",
      "Confusion Matrix:\n",
      "\n",
      "Predicted     1   2   3  __all__\n",
      "Actual                          \n",
      "1          1746  15   5     1766\n",
      "2           112   5   6      123\n",
      "3            79   5   1       85\n",
      "__all__    1937  25  12     1974\n",
      "\n",
      "\n",
      "Overall Statistics:\n",
      "\n",
      "Accuracy: 0.887537993921\n",
      "95% CI: (0.87276833005262688, 0.90114495955282337)\n",
      "No Information Rate: ToDo\n",
      "P-Value [Acc > NIR]: 1.0\n",
      "Kappa: 0.0712340438158\n",
      "Mcnemar's Test P-Value: ToDo\n",
      "\n",
      "\n",
      "Class Statistics:\n",
      "\n",
      "Classes                                        1          2           3\n",
      "Population                                  1974       1974        1974\n",
      "P: Condition positive                       1766        123          85\n",
      "N: Condition negative                        208       1851        1889\n",
      "Test outcome positive                       1937         25          12\n",
      "Test outcome negative                         37       1949        1962\n",
      "TP: True Positive                           1746          5           1\n",
      "TN: True Negative                             17       1831        1878\n",
      "FP: False Positive                           191         20          11\n",
      "FN: False Negative                            20        118          84\n",
      "TPR: (Sensitivity, hit rate, recall)    0.988675  0.0406504   0.0117647\n",
      "TNR=SPC: (Specificity)                 0.0817308   0.989195    0.994177\n",
      "PPV: Pos Pred Value (Precision)         0.901394        0.2   0.0833333\n",
      "NPV: Neg Pred Value                     0.459459   0.939456    0.957187\n",
      "FPR: False-out                          0.918269   0.010805  0.00582319\n",
      "FDR: False Discovery Rate              0.0986061        0.8    0.916667\n",
      "FNR: Miss Rate                          0.011325    0.95935    0.988235\n",
      "ACC: Accuracy                            0.89311   0.930091    0.951874\n",
      "F1 score                                0.943019  0.0675676   0.0206186\n",
      "MCC: Matthews correlation coefficient   0.159393  0.0645146   0.0155161\n",
      "Informedness                           0.0704057  0.0298454  0.00594152\n",
      "Markedness                              0.360853   0.139456   0.0405199\n",
      "Prevalence                               0.89463    0.06231   0.0430598\n",
      "LR+: Positive likelihood ratio           1.07667     3.7622     2.02032\n",
      "LR-: Negative likelihood ratio          0.138565   0.969829    0.994024\n",
      "DOR: Diagnostic odds ratio               7.77016    3.87924     2.03247\n",
      "FOR: False omission rate                0.540541  0.0605439   0.0428135\n"
     ]
    }
   ],
   "source": [
    "# train\n",
    "ba = BaggingClassifier(n_estimators=1000, n_jobs=-1, random_state=17, verbose=0)\n",
    "model1 = ba.fit(train[cols], train['Target'])\n",
    "\n",
    "# predict\n",
    "y_pred = model1.predict(test[cols])\n",
    "y_pred_proba = model1.predict_proba(test[cols])\n",
    "y_true = test['Target']\n",
    "\n",
    "# metric\n",
    "utils.metrics(y_true, y_pred, y_pred_proba)"
   ]
  },
  {
   "cell_type": "markdown",
   "metadata": {},
   "source": [
    "### ExtraTrees"
   ]
  },
  {
   "cell_type": "code",
   "execution_count": 17,
   "metadata": {},
   "outputs": [
    {
     "name": "stdout",
     "output_type": "stream",
     "text": [
      "Cross Entropy: 0.53233703279\n",
      "Accuracy: 0.88905775076\n",
      "Coeficiente Kappa: 0.11489063738\n",
      "Report:              precision    recall  f1-score   support\n",
      "\n",
      "       KEEP       0.91      0.99      0.94      1766\n",
      "         UP       0.26      0.07      0.10       123\n",
      "       DOWN       0.19      0.04      0.06        85\n",
      "\n",
      "avg / total       0.83      0.89      0.85      1974\n",
      "\n",
      "Confusion Matrix:\n",
      "\n",
      "Predicted     1   2   3  __all__\n",
      "Actual                          \n",
      "1          1744  14   8     1766\n",
      "2           110   8   5      123\n",
      "3            73   9   3       85\n",
      "__all__    1927  31  16     1974\n",
      "\n",
      "\n",
      "Overall Statistics:\n",
      "\n",
      "Accuracy: 0.88905775076\n",
      "95% CI: (0.87436822397740932, 0.90257985936339491)\n",
      "No Information Rate: ToDo\n",
      "P-Value [Acc > NIR]: 1.0\n",
      "Kappa: 0.11489063738\n",
      "Mcnemar's Test P-Value: ToDo\n",
      "\n",
      "\n",
      "Class Statistics:\n",
      "\n",
      "Classes                                        1          2           3\n",
      "Population                                  1974       1974        1974\n",
      "P: Condition positive                       1766        123          85\n",
      "N: Condition negative                        208       1851        1889\n",
      "Test outcome positive                       1927         31          16\n",
      "Test outcome negative                         47       1943        1958\n",
      "TP: True Positive                           1744          8           3\n",
      "TN: True Negative                             25       1828        1876\n",
      "FP: False Positive                           183         23          13\n",
      "FN: False Negative                            22        115          82\n",
      "TPR: (Sensitivity, hit rate, recall)    0.987542  0.0650407   0.0352941\n",
      "TNR=SPC: (Specificity)                  0.120192   0.987574    0.993118\n",
      "PPV: Pos Pred Value (Precision)         0.905034   0.258065      0.1875\n",
      "NPV: Neg Pred Value                     0.531915   0.940813    0.958121\n",
      "FPR: False-out                          0.879808  0.0124257  0.00688195\n",
      "FDR: False Discovery Rate              0.0949663   0.741935      0.8125\n",
      "FNR: Miss Rate                         0.0124575   0.934959    0.964706\n",
      "ACC: Accuracy                            0.89615   0.930091    0.951874\n",
      "F1 score                                 0.94449   0.103896   0.0594059\n",
      "MCC: Matthews correlation coefficient   0.216967   0.102293   0.0643226\n",
      "Informedness                            0.107735  0.0526149   0.0284122\n",
      "Markedness                              0.436949   0.198878    0.145621\n",
      "Prevalence                               0.89463    0.06231   0.0430598\n",
      "LR+: Positive likelihood ratio           1.12245    5.23436     5.12851\n",
      "LR-: Negative likelihood ratio          0.103647   0.946723    0.971391\n",
      "DOR: Diagnostic odds ratio               10.8296    5.52892     5.27955\n",
      "FOR: False omission rate                0.468085  0.0591868   0.0418795\n"
     ]
    }
   ],
   "source": [
    "# train\n",
    "et = ExtraTreesClassifier(n_estimators=1000, n_jobs=-1, random_state=17, verbose=0)\n",
    "model1 = et.fit(train[cols], train['Target'])\n",
    "\n",
    "# predict\n",
    "y_pred = model1.predict(test[cols])\n",
    "y_pred_proba = model1.predict_proba(test[cols])\n",
    "y_true = test['Target']\n",
    "\n",
    "# metric\n",
    "utils.metrics(y_true, y_pred, y_pred_proba)"
   ]
  },
  {
   "cell_type": "markdown",
   "metadata": {
    "collapsed": true
   },
   "source": [
    "### GradientBoosting"
   ]
  },
  {
   "cell_type": "code",
   "execution_count": 18,
   "metadata": {},
   "outputs": [
    {
     "name": "stdout",
     "output_type": "stream",
     "text": [
      "Cross Entropy: 0.827814901418\n",
      "Accuracy: 0.88399189463\n",
      "Coeficiente Kappa: 0.113451030999\n",
      "Report:              precision    recall  f1-score   support\n",
      "\n",
      "       KEEP       0.91      0.98      0.94      1766\n",
      "         UP       0.22      0.07      0.11       123\n",
      "       DOWN       0.16      0.04      0.06        85\n",
      "\n",
      "avg / total       0.83      0.88      0.85      1974\n",
      "\n",
      "Confusion Matrix:\n",
      "\n",
      "Predicted     1   2   3  __all__\n",
      "Actual                          \n",
      "1          1733  23  10     1766\n",
      "2           108   9   6      123\n",
      "3            73   9   3       85\n",
      "__all__    1914  41  19     1974\n",
      "\n",
      "\n",
      "Overall Statistics:\n",
      "\n",
      "Accuracy: 0.88399189463\n",
      "95% CI: (0.86903834395992885, 0.89779374250552457)\n",
      "No Information Rate: ToDo\n",
      "P-Value [Acc > NIR]: 1.0\n",
      "Kappa: 0.113451030999\n",
      "Mcnemar's Test P-Value: ToDo\n",
      "\n",
      "\n",
      "Class Statistics:\n",
      "\n",
      "Classes                                        1          2           3\n",
      "Population                                  1974       1974        1974\n",
      "P: Condition positive                       1766        123          85\n",
      "N: Condition negative                        208       1851        1889\n",
      "Test outcome positive                       1914         41          19\n",
      "Test outcome negative                         60       1933        1955\n",
      "TP: True Positive                           1733          9           3\n",
      "TN: True Negative                             27       1819        1873\n",
      "FP: False Positive                           181         32          16\n",
      "FN: False Negative                            33        114          82\n",
      "TPR: (Sensitivity, hit rate, recall)    0.981314  0.0731707   0.0352941\n",
      "TNR=SPC: (Specificity)                  0.129808   0.982712     0.99153\n",
      "PPV: Pos Pred Value (Precision)         0.905434   0.219512    0.157895\n",
      "NPV: Neg Pred Value                         0.45   0.941024    0.958056\n",
      "FPR: False-out                          0.870192   0.017288  0.00847009\n",
      "FDR: False Discovery Rate              0.0945664   0.780488    0.842105\n",
      "FNR: Miss Rate                         0.0186863   0.926829    0.964706\n",
      "ACC: Accuracy                           0.891591   0.926039    0.950355\n",
      "F1 score                                0.941848   0.109756   0.0576923\n",
      "MCC: Matthews correlation coefficient   0.198737  0.0947166   0.0557698\n",
      "Informedness                            0.111121  0.0558828    0.026824\n",
      "Markedness                              0.355434   0.160537    0.115951\n",
      "Prevalence                               0.89463    0.06231   0.0430598\n",
      "LR+: Positive likelihood ratio            1.1277    4.23247     4.16691\n",
      "LR-: Negative likelihood ratio          0.143954   0.943134    0.972947\n",
      "DOR: Diagnostic odds ratio               7.83375    4.48766     4.28277\n",
      "FOR: False omission rate                    0.55  0.0589757   0.0419437\n"
     ]
    }
   ],
   "source": [
    "# train\n",
    "gr = GradientBoostingClassifier(n_estimators=1000, max_depth=10, warm_start=True, learning_rate=0.08, random_state=17, verbose=0)\n",
    "model1 = gr.fit(train[cols], train['Target'])\n",
    "\n",
    "# predict\n",
    "y_pred = model1.predict(test[cols])\n",
    "y_pred_proba = model1.predict_proba(test[cols])\n",
    "y_true = test['Target']\n",
    "\n",
    "# metric\n",
    "utils.metrics(y_true, y_pred, y_pred_proba)"
   ]
  },
  {
   "cell_type": "markdown",
   "metadata": {},
   "source": [
    "### AdaBoost"
   ]
  },
  {
   "cell_type": "code",
   "execution_count": 19,
   "metadata": {},
   "outputs": [
    {
     "name": "stdout",
     "output_type": "stream",
     "text": [
      "Cross Entropy: 1.09385283936\n",
      "Accuracy: 0.892097264438\n",
      "Coeficiente Kappa: 0.00799339388935\n",
      "Report:              precision    recall  f1-score   support\n",
      "\n",
      "       KEEP       0.90      1.00      0.94      1766\n",
      "         UP       0.20      0.01      0.02       123\n",
      "       DOWN       0.00      0.00      0.00        85\n",
      "\n",
      "avg / total       0.81      0.89      0.84      1974\n",
      "\n",
      "Confusion Matrix:\n",
      "\n",
      "Predicted     1  2  3  __all__\n",
      "Actual                        \n",
      "1          1760  4  2     1766\n",
      "2           121  1  1      123\n",
      "3            85  0  0       85\n",
      "__all__    1966  5  3     1974\n",
      "\n",
      "\n",
      "Overall Statistics:\n",
      "\n",
      "Accuracy: 0.892097264438\n",
      "95% CI: (0.87757047966540269, 0.90544717661034702)\n",
      "No Information Rate: ToDo\n",
      "P-Value [Acc > NIR]: 1.0\n",
      "Kappa: 0.00799339388935\n",
      "Mcnemar's Test P-Value: ToDo\n",
      "\n",
      "\n",
      "Class Statistics:\n",
      "\n",
      "Classes                                         1           2           3\n",
      "Population                                   1974        1974        1974\n",
      "P: Condition positive                        1766         123          85\n",
      "N: Condition negative                         208        1851        1889\n",
      "Test outcome positive                        1966           5           3\n",
      "Test outcome negative                           8        1969        1971\n",
      "TP: True Positive                            1760           1           0\n",
      "TN: True Negative                               2        1847        1886\n",
      "FP: False Positive                            206           4           3\n",
      "FN: False Negative                              6         122          85\n",
      "TPR: (Sensitivity, hit rate, recall)     0.996602  0.00813008           0\n",
      "TNR=SPC: (Specificity)                 0.00961538    0.997839    0.998412\n",
      "PPV: Pos Pred Value (Precision)          0.895219         0.2           0\n",
      "NPV: Neg Pred Value                          0.25     0.93804    0.956875\n",
      "FPR: False-out                           0.990385  0.00216099  0.00158814\n",
      "FDR: False Discovery Rate                0.104781         0.8           1\n",
      "FNR: Miss Rate                         0.00339751     0.99187           1\n",
      "ACC: Accuracy                            0.892604     0.93617     0.95542\n",
      "F1 score                                 0.943194    0.015625           0\n",
      "MCC: Matthews correlation coefficient   0.0300492   0.0287049 -0.00827582\n",
      "Informedness                           0.00621788  0.00596909 -0.00158814\n",
      "Markedness                               0.145219     0.13804  -0.0431253\n",
      "Prevalence                                0.89463     0.06231   0.0430598\n",
      "LR+: Positive likelihood ratio            1.00628      3.7622           0\n",
      "LR-: Negative likelihood ratio           0.353341    0.994018     1.00159\n",
      "DOR: Diagnostic odds ratio                 2.8479     3.78484           0\n",
      "FOR: False omission rate                     0.75   0.0619604   0.0431253\n"
     ]
    }
   ],
   "source": [
    "# train\n",
    "ab = AdaBoostClassifier(n_estimators=500, random_state=17)\n",
    "model1 = ab.fit(train[cols], train['Target'])\n",
    "\n",
    "# predict\n",
    "y_pred = model1.predict(test[cols])\n",
    "y_pred_proba = model1.predict_proba(test[cols])\n",
    "y_true = test['Target']\n",
    "\n",
    "# metric\n",
    "utils.metrics(y_true, y_pred, y_pred_proba)"
   ]
  },
  {
   "cell_type": "markdown",
   "metadata": {
    "collapsed": true
   },
   "source": [
    "### VotingClassifier"
   ]
  },
  {
   "cell_type": "code",
   "execution_count": 20,
   "metadata": {},
   "outputs": [
    {
     "name": "stderr",
     "output_type": "stream",
     "text": [
      "/Users/bukosabino/projects/machine-learning/btctrading/env/lib/python2.7/site-packages/sklearn/externals/joblib/parallel.py:540: UserWarning: Multiprocessing-backed parallel loops cannot be nested, setting n_jobs=1\n",
      "  **self._backend_args)\n"
     ]
    },
    {
     "name": "stdout",
     "output_type": "stream",
     "text": [
      "Accuracy: 0.891590678825\n",
      "Coeficiente Kappa: 0.0686544261601\n",
      "Report:              precision    recall  f1-score   support\n",
      "\n",
      "       KEEP       0.90      0.99      0.95      1766\n",
      "         UP       0.26      0.04      0.07       123\n",
      "       DOWN       0.00      0.00      0.00        85\n",
      "\n",
      "avg / total       0.82      0.89      0.85      1974\n",
      "\n",
      "Confusion Matrix:\n",
      "\n",
      "Predicted     1   2  3  __all__\n",
      "Actual                         \n",
      "1          1755   9  2     1766\n",
      "2           113   5  5      123\n",
      "3            80   5  0       85\n",
      "__all__    1948  19  7     1974\n",
      "\n",
      "\n",
      "Overall Statistics:\n",
      "\n",
      "Accuracy: 0.891590678825\n",
      "95% CI: (0.87703653818171834, 0.90496952399186592)\n",
      "No Information Rate: ToDo\n",
      "P-Value [Acc > NIR]: 1.0\n",
      "Kappa: 0.0686544261601\n",
      "Mcnemar's Test P-Value: ToDo\n",
      "\n",
      "\n",
      "Class Statistics:\n",
      "\n",
      "Classes                                         1           2           3\n",
      "Population                                   1974        1974        1974\n",
      "P: Condition positive                        1766         123          85\n",
      "N: Condition negative                         208        1851        1889\n",
      "Test outcome positive                        1948          19           7\n",
      "Test outcome negative                          26        1955        1967\n",
      "TP: True Positive                            1755           5           0\n",
      "TN: True Negative                              15        1837        1882\n",
      "FP: False Positive                            193          14           7\n",
      "FN: False Negative                             11         118          85\n",
      "TPR: (Sensitivity, hit rate, recall)     0.993771   0.0406504           0\n",
      "TNR=SPC: (Specificity)                  0.0721154    0.992437    0.996294\n",
      "PPV: Pos Pred Value (Precision)          0.900924    0.263158           0\n",
      "NPV: Neg Pred Value                      0.576923    0.939642    0.956787\n",
      "FPR: False-out                           0.927885  0.00756348  0.00370566\n",
      "FDR: False Discovery Rate                0.099076    0.736842           1\n",
      "FNR: Miss Rate                         0.00622877     0.95935           1\n",
      "ACC: Accuracy                            0.896657    0.933131    0.953394\n",
      "F1 score                                 0.945073   0.0704225           0\n",
      "MCC: Matthews correlation coefficient    0.177437   0.0819147  -0.0126544\n",
      "Informedness                            0.0658866   0.0330869 -0.00370566\n",
      "Markedness                               0.477847      0.2028   -0.043213\n",
      "Prevalence                                0.89463     0.06231   0.0430598\n",
      "LR+: Positive likelihood ratio            1.07101     5.37456           0\n",
      "LR-: Negative likelihood ratio          0.0863722    0.966661     1.00372\n",
      "DOR: Diagnostic odds ratio                12.3999     5.55993           0\n",
      "FOR: False omission rate                 0.423077   0.0603581    0.043213\n"
     ]
    }
   ],
   "source": [
    "# train\n",
    "v = VotingClassifier(estimators=[\n",
    "        ('rf', rf), ('ba', ba), ('et', et), ('gr', gr), ('ab', ab)\n",
    "    ], voting='hard', n_jobs=-1)\n",
    "model1 = v.fit(train[cols], train['Target'])\n",
    "\n",
    "# predict\n",
    "y_pred = model1.predict(test[cols])\n",
    "# y_pred_proba = model1.predict_proba(test[cols])\n",
    "y_true = test['Target']\n",
    "\n",
    "# metric\n",
    "utils.metrics(y_true, y_pred)"
   ]
  },
  {
   "cell_type": "code",
   "execution_count": 21,
   "metadata": {},
   "outputs": [
    {
     "name": "stdout",
     "output_type": "stream",
     "text": [
      "Accuracy: 0.892097264438\n",
      "Coeficiente Kappa: 0.0627428339601\n",
      "Report:              precision    recall  f1-score   support\n",
      "\n",
      "       KEEP       0.90      0.99      0.94      1766\n",
      "         UP       0.29      0.04      0.07       123\n",
      "       DOWN       0.00      0.00      0.00        85\n",
      "\n",
      "avg / total       0.82      0.89      0.85      1974\n",
      "\n",
      "Confusion Matrix:\n",
      "\n",
      "Predicted     1   2  3  __all__\n",
      "Actual                         \n",
      "1          1756   8  2     1766\n",
      "2           114   5  4      123\n",
      "3            81   4  0       85\n",
      "__all__    1951  17  6     1974\n",
      "\n",
      "\n",
      "Overall Statistics:\n",
      "\n",
      "Accuracy: 0.892097264438\n",
      "95% CI: (0.87757047966540269, 0.90544717661034702)\n",
      "No Information Rate: ToDo\n",
      "P-Value [Acc > NIR]: 1.0\n",
      "Kappa: 0.0627428339601\n",
      "Mcnemar's Test P-Value: ToDo\n",
      "\n",
      "\n",
      "Class Statistics:\n",
      "\n",
      "Classes                                         1           2           3\n",
      "Population                                   1974        1974        1974\n",
      "P: Condition positive                        1766         123          85\n",
      "N: Condition negative                         208        1851        1889\n",
      "Test outcome positive                        1951          17           6\n",
      "Test outcome negative                          23        1957        1968\n",
      "TP: True Positive                            1756           5           0\n",
      "TN: True Negative                              13        1839        1883\n",
      "FP: False Positive                            195          12           6\n",
      "FN: False Negative                             10         118          85\n",
      "TPR: (Sensitivity, hit rate, recall)     0.994337   0.0406504           0\n",
      "TNR=SPC: (Specificity)                     0.0625    0.993517    0.996824\n",
      "PPV: Pos Pred Value (Precision)          0.900051    0.294118           0\n",
      "NPV: Neg Pred Value                      0.565217    0.939704    0.956809\n",
      "FPR: False-out                             0.9375  0.00648298  0.00317628\n",
      "FDR: False Discovery Rate               0.0999487    0.705882           1\n",
      "FNR: Miss Rate                         0.00566251     0.95935           1\n",
      "ACC: Accuracy                             0.89615    0.934144    0.953901\n",
      "F1 score                                 0.944848   0.0714286           0\n",
      "MCC: Matthews correlation coefficient    0.162618   0.0893816  -0.0117127\n",
      "Informedness                            0.0568375   0.0341674 -0.00317628\n",
      "Markedness                               0.465269    0.233821  -0.0431911\n",
      "Prevalence                                0.89463     0.06231   0.0430598\n",
      "LR+: Positive likelihood ratio            1.06063     6.27033           0\n",
      "LR-: Negative likelihood ratio          0.0906002     0.96561     1.00319\n",
      "DOR: Diagnostic odds ratio                11.7067     6.49364           0\n",
      "FOR: False omission rate                 0.434783   0.0602964   0.0431911\n"
     ]
    }
   ],
   "source": [
    "# train\n",
    "v = VotingClassifier(estimators=[\n",
    "        ('rf', rf), ('gr', gr)\n",
    "    ], voting='hard', n_jobs=-1)\n",
    "model1 = v.fit(train[cols], train['Target'])\n",
    "\n",
    "# predict\n",
    "y_pred = model1.predict(test[cols])\n",
    "# y_pred_proba = model1.predict_proba(test[cols])\n",
    "y_true = test['Target']\n",
    "\n",
    "# metric\n",
    "utils.metrics(y_true, y_pred)"
   ]
  },
  {
   "cell_type": "markdown",
   "metadata": {
    "collapsed": true
   },
   "source": [
    "### Conclusions"
   ]
  },
  {
   "cell_type": "markdown",
   "metadata": {},
   "source": [
    "In progress..."
   ]
  },
  {
   "cell_type": "code",
   "execution_count": null,
   "metadata": {
    "collapsed": true
   },
   "outputs": [],
   "source": []
  }
 ],
 "metadata": {
  "kernelspec": {
   "display_name": "Python 2",
   "language": "python",
   "name": "python2"
  },
  "language_info": {
   "codemirror_mode": {
    "name": "ipython",
    "version": 2
   },
   "file_extension": ".py",
   "mimetype": "text/x-python",
   "name": "python",
   "nbconvert_exporter": "python",
   "pygments_lexer": "ipython2",
   "version": "2.7.10"
  }
 },
 "nbformat": 4,
 "nbformat_minor": 2
}
