{
 "cells": [
  {
   "cell_type": "code",
   "execution_count": 1,
   "metadata": {
    "collapsed": true,
    "deletable": true,
    "editable": true
   },
   "outputs": [],
   "source": [
    "import numpy as np\n",
    "import pandas as pd\n",
    "from sklearn.ensemble import *\n",
    "import xgboost as xgb\n",
    "\n",
    "import settings\n",
    "import utils\n",
    "import get_data"
   ]
  },
  {
   "cell_type": "markdown",
   "metadata": {
    "deletable": true,
    "editable": true
   },
   "source": [
    "### Get Data"
   ]
  },
  {
   "cell_type": "markdown",
   "metadata": {
    "deletable": true,
    "editable": true
   },
   "source": [
    "API: http://bitcoincharts.com/charts\n",
    "\n",
    "period = ['1-min', '5-min', '15-min', '30-min', 'Hourly', '2-hour', '6-hour', '12-hour', 'Daily', 'Weekly']\n",
    "\n",
    "market = ['coincheckJPY', 'krakenEUR', 'bitstampUSD', 'okcoinCNY', 'btcnCNY', 'krakenUSD', 'itbitUSD', 'bitbayPLN', 'btcoidIDR', 'localbtcRUB', 'localbtcGBP', 'btcdeEUR', 'coinfloorGBP', 'localbtcUSD']"
   ]
  },
  {
   "cell_type": "code",
   "execution_count": 2,
   "metadata": {
    "collapsed": false,
    "deletable": true,
    "editable": true
   },
   "outputs": [
    {
     "name": "stdout",
     "output_type": "stream",
     "text": [
      "Loading.....\n",
      "366 of 2110 days loaded...\n",
      "732 of 2110 days loaded...\n",
      "1098 of 2110 days loaded...\n",
      "1464 of 2110 days loaded...\n",
      "1830 of 2110 days loaded...\n",
      "2196 of 2110 days loaded...\n",
      "Last Timestamp: 2017-06-22 14:00:00\n"
     ]
    }
   ],
   "source": [
    "get_data.get('data/datas.csv', period='6-hour', market='bitstampUSD')"
   ]
  },
  {
   "cell_type": "markdown",
   "metadata": {
    "deletable": true,
    "editable": true
   },
   "source": [
    "### Load Data"
   ]
  },
  {
   "cell_type": "code",
   "execution_count": 2,
   "metadata": {
    "collapsed": true,
    "deletable": true,
    "editable": true
   },
   "outputs": [],
   "source": [
    "df = pd.read_csv('data/datas.csv', sep=',')"
   ]
  },
  {
   "cell_type": "code",
   "execution_count": 3,
   "metadata": {
    "collapsed": false,
    "deletable": true,
    "editable": true
   },
   "outputs": [
    {
     "data": {
      "text/plain": [
       "(8442, 8)"
      ]
     },
     "execution_count": 3,
     "metadata": {},
     "output_type": "execute_result"
    }
   ],
   "source": [
    "df.shape"
   ]
  },
  {
   "cell_type": "markdown",
   "metadata": {
    "deletable": true,
    "editable": true
   },
   "source": [
    "### Preprocessing"
   ]
  },
  {
   "cell_type": "markdown",
   "metadata": {
    "deletable": true,
    "editable": true
   },
   "source": [
    "Drop rows with read problems (0.00, 2.7e+308) values"
   ]
  },
  {
   "cell_type": "code",
   "execution_count": 4,
   "metadata": {
    "collapsed": true,
    "deletable": true,
    "editable": true
   },
   "outputs": [],
   "source": [
    "df = utils.dropna(df)"
   ]
  },
  {
   "cell_type": "code",
   "execution_count": 5,
   "metadata": {
    "collapsed": false,
    "deletable": true,
    "editable": true
   },
   "outputs": [
    {
     "data": {
      "text/plain": [
       "(8046, 8)"
      ]
     },
     "execution_count": 5,
     "metadata": {},
     "output_type": "execute_result"
    }
   ],
   "source": [
    "df.shape"
   ]
  },
  {
   "cell_type": "markdown",
   "metadata": {
    "deletable": true,
    "editable": true
   },
   "source": [
    "### Transformation"
   ]
  },
  {
   "cell_type": "markdown",
   "metadata": {
    "deletable": true,
    "editable": true
   },
   "source": [
    "Create column target with class [UP, KEEP, DOWN]"
   ]
  },
  {
   "cell_type": "code",
   "execution_count": 6,
   "metadata": {
    "collapsed": true,
    "deletable": true,
    "editable": true
   },
   "outputs": [],
   "source": [
    "df['Target'] = 0 # 'KEEP'\n",
    "df.loc[df.Open + (df.Open * settings.PERCENT_UP) < df.Close, 'Target'] = 1 # 'UP'\n",
    "df.loc[df.Open - (df.Open * settings.PERCENT_DOWN) > df.Close, 'Target'] = 2 # 'DOWN'"
   ]
  },
  {
   "cell_type": "code",
   "execution_count": 7,
   "metadata": {
    "collapsed": false,
    "deletable": true,
    "editable": true
   },
   "outputs": [
    {
     "name": "stdout",
     "output_type": "stream",
     "text": [
      "Number of rows: 8046, Number of columns: 9\n",
      "Number of UP rows: 451, Number of DOWN rows: 351\n"
     ]
    }
   ],
   "source": [
    "print('Number of rows: {}, Number of columns: {}'.format(*df.shape))\n",
    "print('Number of UP rows: {}, Number of DOWN rows: {}'.format(len(df[df.Target == 1]), len(df[df.Target == 2])))"
   ]
  },
  {
   "cell_type": "markdown",
   "metadata": {
    "deletable": true,
    "editable": true
   },
   "source": [
    "Create columns from Timestamp to Date, Year, Month and Day."
   ]
  },
  {
   "cell_type": "markdown",
   "metadata": {
    "deletable": true,
    "editable": true
   },
   "source": [
    "### Feature Engineering"
   ]
  },
  {
   "cell_type": "code",
   "execution_count": 8,
   "metadata": {
    "collapsed": true,
    "deletable": true,
    "editable": true
   },
   "outputs": [],
   "source": [
    "df['Date'] = df['Timestamp'].apply(utils.timestamptodate)\n",
    "df['Date'] = pd.to_datetime(df['Date'])\n",
    "df['Year'] = df['Date'].dt.year\n",
    "df['Month'] = df['Date'].dt.month\n",
    "df['Day'] = df['Date'].dt.day\n",
    "df['Week'] = df['Date'].dt.weekofyear\n",
    "df['Weekday'] = df['Date'].dt.weekday\n",
    "\n",
    "# extra dates\n",
    "df[\"yearmonth\"] = df[\"Date\"].dt.year*100 + df[\"Date\"].dt.month\n",
    "df[\"yearweek\"] = df[\"Date\"].dt.year*100 + df[\"Date\"].dt.weekofyear\n",
    "df[\"yearweekday\"] = df[\"Date\"].dt.year*10 + df[\"Date\"].dt.weekday"
   ]
  },
  {
   "cell_type": "code",
   "execution_count": 9,
   "metadata": {
    "collapsed": true,
    "deletable": true,
    "editable": true
   },
   "outputs": [],
   "source": [
    "df['High-low'] = df['High'] - df['Low']\n",
    "df['High-low_mean'] = (df['High'] - df['Low']) / 2.0\n",
    "df['Close-open'] = df['Close'] - df['Open']\n",
    "df['Close-open_mean'] = (df['Close'] - df['Open']) / 2.0"
   ]
  },
  {
   "cell_type": "code",
   "execution_count": 10,
   "metadata": {
    "collapsed": false,
    "deletable": true,
    "editable": true
   },
   "outputs": [
    {
     "name": "stdout",
     "output_type": "stream",
     "text": [
      "Number of rows: 8046, Number of columns: 22\n"
     ]
    }
   ],
   "source": [
    "print('Number of rows: {}, Number of columns: {}'.format(*df.shape))"
   ]
  },
  {
   "cell_type": "markdown",
   "metadata": {
    "deletable": true,
    "editable": true
   },
   "source": [
    "Transformation previous values from Open, High, Low, Close, Volume and Weighted columns."
   ]
  },
  {
   "cell_type": "code",
   "execution_count": 11,
   "metadata": {
    "collapsed": true,
    "deletable": true,
    "editable": true
   },
   "outputs": [],
   "source": [
    "# create PREV_DAYS * len(cols) new columns\n",
    "cols = ['Open', 'High', 'Low', 'Close', 'Volume_BTC', 'Volume_Currency', 'Weighted_Price', 'High-low', 'High-low_mean', 'Close-open', 'Close-open_mean']\n",
    "for col in cols:\n",
    "    for idx in range(settings.PREV_DAYS):\n",
    "        prev = idx + 1\n",
    "        df[col+'-'+str(prev)] = df[col].shift(prev)\n",
    "df = df.dropna()"
   ]
  },
  {
   "cell_type": "code",
   "execution_count": 12,
   "metadata": {
    "collapsed": false,
    "deletable": true,
    "editable": true
   },
   "outputs": [
    {
     "name": "stdout",
     "output_type": "stream",
     "text": [
      "Number of rows: 8036, Number of columns: 132\n"
     ]
    }
   ],
   "source": [
    "print('Number of rows: {}, Number of columns: {}'.format(*df.shape))"
   ]
  },
  {
   "cell_type": "markdown",
   "metadata": {
    "deletable": true,
    "editable": true
   },
   "source": [
    "### Split"
   ]
  },
  {
   "cell_type": "code",
   "execution_count": 13,
   "metadata": {
    "collapsed": true,
    "deletable": true,
    "editable": true
   },
   "outputs": [],
   "source": [
    "train, test = utils.split_df2(df)"
   ]
  },
  {
   "cell_type": "code",
   "execution_count": 14,
   "metadata": {
    "collapsed": true,
    "deletable": true,
    "editable": true
   },
   "outputs": [],
   "source": [
    "excl = ['Open', 'High', 'Low', 'Close','Volume_BTC', 'Volume_Currency', 'Weighted_Price', 'Target', 'High-low', 'High-low_mean', 'Close-open', 'Close-open_mean', 'Date', 'Timestamp']\n",
    "cols = [c for c in df.columns if c not in excl]"
   ]
  },
  {
   "cell_type": "markdown",
   "metadata": {
    "deletable": true,
    "editable": true
   },
   "source": [
    "### RandomForest"
   ]
  },
  {
   "cell_type": "code",
   "execution_count": 45,
   "metadata": {
    "collapsed": false,
    "deletable": true,
    "editable": true
   },
   "outputs": [
    {
     "name": "stdout",
     "output_type": "stream",
     "text": [
      "Cross Entropy: 0.356701730044\n",
      "Accuracy: 0.891488302638\n",
      "Coeficiente Kappa: 0.0597577914843\n",
      "Report:              precision    recall  f1-score   support\n",
      "\n",
      "       KEEP       0.90      1.00      0.94      1793\n",
      "         UP       0.29      0.03      0.06       126\n",
      "       DOWN       0.40      0.02      0.04        90\n",
      "\n",
      "avg / total       0.84      0.89      0.85      2009\n",
      "\n",
      "Confusion Matrix:\n",
      "\n",
      "Predicted     0   1  2  __all__\n",
      "Actual                         \n",
      "0          1785   7  1     1793\n",
      "1           120   4  2      126\n",
      "2            85   3  2       90\n",
      "__all__    1990  14  5     2009\n",
      "\n",
      "\n",
      "Overall Statistics:\n",
      "\n",
      "Accuracy: 0.891488302638\n",
      "95% CI: (0.87706339928689947, 0.90475892063868524)\n",
      "No Information Rate: ToDo\n",
      "P-Value [Acc > NIR]: 1.0\n",
      "Kappa: 0.0597577914843\n",
      "Mcnemar's Test P-Value: ToDo\n",
      "\n",
      "\n",
      "Class Statistics:\n",
      "\n",
      "Classes                                        0           1           2\n",
      "Population                                  2009        2009        2009\n",
      "P: Condition positive                       1793         126          90\n",
      "N: Condition negative                        216        1883        1919\n",
      "Test outcome positive                       1990          14           5\n",
      "Test outcome negative                         19        1995        2004\n",
      "TP: True Positive                           1785           4           2\n",
      "TN: True Negative                             11        1873        1916\n",
      "FP: False Positive                           205          10           3\n",
      "FN: False Negative                             8         122          88\n",
      "TPR: (Sensitivity, hit rate, recall)    0.995538    0.031746   0.0222222\n",
      "TNR=SPC: (Specificity)                 0.0509259    0.994689    0.998437\n",
      "PPV: Pos Pred Value (Precision)         0.896985    0.285714         0.4\n",
      "NPV: Neg Pred Value                     0.578947    0.938847    0.956088\n",
      "FPR: False-out                          0.949074  0.00531067  0.00156331\n",
      "FDR: False Discovery Rate               0.103015    0.714286         0.6\n",
      "FNR: Miss Rate                         0.0044618    0.968254    0.977778\n",
      "ACC: Accuracy                           0.893977    0.934296    0.954704\n",
      "F1 score                                0.943695   0.0571429   0.0421053\n",
      "MCC: Matthews correlation coefficient   0.148707   0.0770478   0.0857694\n",
      "Informedness                           0.0464641   0.0264354   0.0206589\n",
      "Markedness                              0.475932    0.224561    0.356088\n",
      "Prevalence                              0.892484   0.0627178   0.0447984\n",
      "LR+: Positive likelihood ratio           1.04896     5.97778     14.2148\n",
      "LR-: Negative likelihood ratio         0.0876134    0.973424    0.979309\n",
      "DOR: Diagnostic odds ratio               11.9726     6.14098     14.5152\n",
      "FOR: False omission rate                0.421053   0.0611529   0.0439122\n"
     ]
    }
   ],
   "source": [
    "# train\n",
    "rf = RandomForestClassifier(n_estimators=1000, n_jobs=-1, random_state=17, verbose=0)\n",
    "model1 = rf.fit(train[cols], train['Target'])\n",
    "\n",
    "# predict\n",
    "y_pred = model1.predict(test[cols])\n",
    "y_pred_proba = model1.predict_proba(test[cols])\n",
    "y_true = test['Target']\n",
    "\n",
    "# metric\n",
    "utils.metrics(y_true, y_pred, y_pred_proba)"
   ]
  },
  {
   "cell_type": "markdown",
   "metadata": {
    "deletable": true,
    "editable": true
   },
   "source": [
    "### Bagging"
   ]
  },
  {
   "cell_type": "code",
   "execution_count": 16,
   "metadata": {
    "collapsed": false,
    "deletable": true,
    "editable": true
   },
   "outputs": [
    {
     "name": "stdout",
     "output_type": "stream",
     "text": [
      "Cross Entropy: 0.745588275538\n",
      "Accuracy: 0.887537993921\n",
      "Coeficiente Kappa: 0.0712340438158\n",
      "Report:              precision    recall  f1-score   support\n",
      "\n",
      "       KEEP       0.90      0.99      0.94      1766\n",
      "         UP       0.20      0.04      0.07       123\n",
      "       DOWN       0.08      0.01      0.02        85\n",
      "\n",
      "avg / total       0.82      0.89      0.85      1974\n",
      "\n",
      "Confusion Matrix:\n",
      "\n",
      "Predicted     1   2   3  __all__\n",
      "Actual                          \n",
      "1          1746  15   5     1766\n",
      "2           112   5   6      123\n",
      "3            79   5   1       85\n",
      "__all__    1937  25  12     1974\n",
      "\n",
      "\n",
      "Overall Statistics:\n",
      "\n",
      "Accuracy: 0.887537993921\n",
      "95% CI: (0.87276833005262688, 0.90114495955282337)\n",
      "No Information Rate: ToDo\n",
      "P-Value [Acc > NIR]: 1.0\n",
      "Kappa: 0.0712340438158\n",
      "Mcnemar's Test P-Value: ToDo\n",
      "\n",
      "\n",
      "Class Statistics:\n",
      "\n",
      "Classes                                        1          2           3\n",
      "Population                                  1974       1974        1974\n",
      "P: Condition positive                       1766        123          85\n",
      "N: Condition negative                        208       1851        1889\n",
      "Test outcome positive                       1937         25          12\n",
      "Test outcome negative                         37       1949        1962\n",
      "TP: True Positive                           1746          5           1\n",
      "TN: True Negative                             17       1831        1878\n",
      "FP: False Positive                           191         20          11\n",
      "FN: False Negative                            20        118          84\n",
      "TPR: (Sensitivity, hit rate, recall)    0.988675  0.0406504   0.0117647\n",
      "TNR=SPC: (Specificity)                 0.0817308   0.989195    0.994177\n",
      "PPV: Pos Pred Value (Precision)         0.901394        0.2   0.0833333\n",
      "NPV: Neg Pred Value                     0.459459   0.939456    0.957187\n",
      "FPR: False-out                          0.918269   0.010805  0.00582319\n",
      "FDR: False Discovery Rate              0.0986061        0.8    0.916667\n",
      "FNR: Miss Rate                          0.011325    0.95935    0.988235\n",
      "ACC: Accuracy                            0.89311   0.930091    0.951874\n",
      "F1 score                                0.943019  0.0675676   0.0206186\n",
      "MCC: Matthews correlation coefficient   0.159393  0.0645146   0.0155161\n",
      "Informedness                           0.0704057  0.0298454  0.00594152\n",
      "Markedness                              0.360853   0.139456   0.0405199\n",
      "Prevalence                               0.89463    0.06231   0.0430598\n",
      "LR+: Positive likelihood ratio           1.07667     3.7622     2.02032\n",
      "LR-: Negative likelihood ratio          0.138565   0.969829    0.994024\n",
      "DOR: Diagnostic odds ratio               7.77016    3.87924     2.03247\n",
      "FOR: False omission rate                0.540541  0.0605439   0.0428135\n"
     ]
    }
   ],
   "source": [
    "# train\n",
    "ba = BaggingClassifier(n_estimators=1000, n_jobs=-1, random_state=17, verbose=0)\n",
    "model1 = ba.fit(train[cols], train['Target'])\n",
    "\n",
    "# predict\n",
    "y_pred = model1.predict(test[cols])\n",
    "y_pred_proba = model1.predict_proba(test[cols])\n",
    "y_true = test['Target']\n",
    "\n",
    "# metric\n",
    "utils.metrics(y_true, y_pred, y_pred_proba)"
   ]
  },
  {
   "cell_type": "markdown",
   "metadata": {
    "deletable": true,
    "editable": true
   },
   "source": [
    "### ExtraTrees"
   ]
  },
  {
   "cell_type": "code",
   "execution_count": 17,
   "metadata": {
    "collapsed": false,
    "deletable": true,
    "editable": true
   },
   "outputs": [
    {
     "name": "stdout",
     "output_type": "stream",
     "text": [
      "Cross Entropy: 0.53233703279\n",
      "Accuracy: 0.88905775076\n",
      "Coeficiente Kappa: 0.11489063738\n",
      "Report:              precision    recall  f1-score   support\n",
      "\n",
      "       KEEP       0.91      0.99      0.94      1766\n",
      "         UP       0.26      0.07      0.10       123\n",
      "       DOWN       0.19      0.04      0.06        85\n",
      "\n",
      "avg / total       0.83      0.89      0.85      1974\n",
      "\n",
      "Confusion Matrix:\n",
      "\n",
      "Predicted     1   2   3  __all__\n",
      "Actual                          \n",
      "1          1744  14   8     1766\n",
      "2           110   8   5      123\n",
      "3            73   9   3       85\n",
      "__all__    1927  31  16     1974\n",
      "\n",
      "\n",
      "Overall Statistics:\n",
      "\n",
      "Accuracy: 0.88905775076\n",
      "95% CI: (0.87436822397740932, 0.90257985936339491)\n",
      "No Information Rate: ToDo\n",
      "P-Value [Acc > NIR]: 1.0\n",
      "Kappa: 0.11489063738\n",
      "Mcnemar's Test P-Value: ToDo\n",
      "\n",
      "\n",
      "Class Statistics:\n",
      "\n",
      "Classes                                        1          2           3\n",
      "Population                                  1974       1974        1974\n",
      "P: Condition positive                       1766        123          85\n",
      "N: Condition negative                        208       1851        1889\n",
      "Test outcome positive                       1927         31          16\n",
      "Test outcome negative                         47       1943        1958\n",
      "TP: True Positive                           1744          8           3\n",
      "TN: True Negative                             25       1828        1876\n",
      "FP: False Positive                           183         23          13\n",
      "FN: False Negative                            22        115          82\n",
      "TPR: (Sensitivity, hit rate, recall)    0.987542  0.0650407   0.0352941\n",
      "TNR=SPC: (Specificity)                  0.120192   0.987574    0.993118\n",
      "PPV: Pos Pred Value (Precision)         0.905034   0.258065      0.1875\n",
      "NPV: Neg Pred Value                     0.531915   0.940813    0.958121\n",
      "FPR: False-out                          0.879808  0.0124257  0.00688195\n",
      "FDR: False Discovery Rate              0.0949663   0.741935      0.8125\n",
      "FNR: Miss Rate                         0.0124575   0.934959    0.964706\n",
      "ACC: Accuracy                            0.89615   0.930091    0.951874\n",
      "F1 score                                 0.94449   0.103896   0.0594059\n",
      "MCC: Matthews correlation coefficient   0.216967   0.102293   0.0643226\n",
      "Informedness                            0.107735  0.0526149   0.0284122\n",
      "Markedness                              0.436949   0.198878    0.145621\n",
      "Prevalence                               0.89463    0.06231   0.0430598\n",
      "LR+: Positive likelihood ratio           1.12245    5.23436     5.12851\n",
      "LR-: Negative likelihood ratio          0.103647   0.946723    0.971391\n",
      "DOR: Diagnostic odds ratio               10.8296    5.52892     5.27955\n",
      "FOR: False omission rate                0.468085  0.0591868   0.0418795\n"
     ]
    }
   ],
   "source": [
    "# train\n",
    "et = ExtraTreesClassifier(n_estimators=1000, n_jobs=-1, random_state=17, verbose=0)\n",
    "model1 = et.fit(train[cols], train['Target'])\n",
    "\n",
    "# predict\n",
    "y_pred = model1.predict(test[cols])\n",
    "y_pred_proba = model1.predict_proba(test[cols])\n",
    "y_true = test['Target']\n",
    "\n",
    "# metric\n",
    "utils.metrics(y_true, y_pred, y_pred_proba)"
   ]
  },
  {
   "cell_type": "markdown",
   "metadata": {
    "collapsed": true,
    "deletable": true,
    "editable": true
   },
   "source": [
    "### GradientBoosting"
   ]
  },
  {
   "cell_type": "code",
   "execution_count": 18,
   "metadata": {
    "collapsed": false,
    "deletable": true,
    "editable": true
   },
   "outputs": [
    {
     "name": "stdout",
     "output_type": "stream",
     "text": [
      "Cross Entropy: 0.827814901418\n",
      "Accuracy: 0.88399189463\n",
      "Coeficiente Kappa: 0.113451030999\n",
      "Report:              precision    recall  f1-score   support\n",
      "\n",
      "       KEEP       0.91      0.98      0.94      1766\n",
      "         UP       0.22      0.07      0.11       123\n",
      "       DOWN       0.16      0.04      0.06        85\n",
      "\n",
      "avg / total       0.83      0.88      0.85      1974\n",
      "\n",
      "Confusion Matrix:\n",
      "\n",
      "Predicted     1   2   3  __all__\n",
      "Actual                          \n",
      "1          1733  23  10     1766\n",
      "2           108   9   6      123\n",
      "3            73   9   3       85\n",
      "__all__    1914  41  19     1974\n",
      "\n",
      "\n",
      "Overall Statistics:\n",
      "\n",
      "Accuracy: 0.88399189463\n",
      "95% CI: (0.86903834395992885, 0.89779374250552457)\n",
      "No Information Rate: ToDo\n",
      "P-Value [Acc > NIR]: 1.0\n",
      "Kappa: 0.113451030999\n",
      "Mcnemar's Test P-Value: ToDo\n",
      "\n",
      "\n",
      "Class Statistics:\n",
      "\n",
      "Classes                                        1          2           3\n",
      "Population                                  1974       1974        1974\n",
      "P: Condition positive                       1766        123          85\n",
      "N: Condition negative                        208       1851        1889\n",
      "Test outcome positive                       1914         41          19\n",
      "Test outcome negative                         60       1933        1955\n",
      "TP: True Positive                           1733          9           3\n",
      "TN: True Negative                             27       1819        1873\n",
      "FP: False Positive                           181         32          16\n",
      "FN: False Negative                            33        114          82\n",
      "TPR: (Sensitivity, hit rate, recall)    0.981314  0.0731707   0.0352941\n",
      "TNR=SPC: (Specificity)                  0.129808   0.982712     0.99153\n",
      "PPV: Pos Pred Value (Precision)         0.905434   0.219512    0.157895\n",
      "NPV: Neg Pred Value                         0.45   0.941024    0.958056\n",
      "FPR: False-out                          0.870192   0.017288  0.00847009\n",
      "FDR: False Discovery Rate              0.0945664   0.780488    0.842105\n",
      "FNR: Miss Rate                         0.0186863   0.926829    0.964706\n",
      "ACC: Accuracy                           0.891591   0.926039    0.950355\n",
      "F1 score                                0.941848   0.109756   0.0576923\n",
      "MCC: Matthews correlation coefficient   0.198737  0.0947166   0.0557698\n",
      "Informedness                            0.111121  0.0558828    0.026824\n",
      "Markedness                              0.355434   0.160537    0.115951\n",
      "Prevalence                               0.89463    0.06231   0.0430598\n",
      "LR+: Positive likelihood ratio            1.1277    4.23247     4.16691\n",
      "LR-: Negative likelihood ratio          0.143954   0.943134    0.972947\n",
      "DOR: Diagnostic odds ratio               7.83375    4.48766     4.28277\n",
      "FOR: False omission rate                    0.55  0.0589757   0.0419437\n"
     ]
    }
   ],
   "source": [
    "# train\n",
    "gr = GradientBoostingClassifier(n_estimators=1000, max_depth=10, warm_start=True, learning_rate=0.08, random_state=17, verbose=0)\n",
    "model1 = gr.fit(train[cols], train['Target'])\n",
    "\n",
    "# predict\n",
    "y_pred = model1.predict(test[cols])\n",
    "y_pred_proba = model1.predict_proba(test[cols])\n",
    "y_true = test['Target']\n",
    "\n",
    "# metric\n",
    "utils.metrics(y_true, y_pred, y_pred_proba)"
   ]
  },
  {
   "cell_type": "markdown",
   "metadata": {
    "deletable": true,
    "editable": true
   },
   "source": [
    "### AdaBoost"
   ]
  },
  {
   "cell_type": "code",
   "execution_count": 19,
   "metadata": {
    "collapsed": false,
    "deletable": true,
    "editable": true
   },
   "outputs": [
    {
     "name": "stdout",
     "output_type": "stream",
     "text": [
      "Cross Entropy: 1.09385283936\n",
      "Accuracy: 0.892097264438\n",
      "Coeficiente Kappa: 0.00799339388935\n",
      "Report:              precision    recall  f1-score   support\n",
      "\n",
      "       KEEP       0.90      1.00      0.94      1766\n",
      "         UP       0.20      0.01      0.02       123\n",
      "       DOWN       0.00      0.00      0.00        85\n",
      "\n",
      "avg / total       0.81      0.89      0.84      1974\n",
      "\n",
      "Confusion Matrix:\n",
      "\n",
      "Predicted     1  2  3  __all__\n",
      "Actual                        \n",
      "1          1760  4  2     1766\n",
      "2           121  1  1      123\n",
      "3            85  0  0       85\n",
      "__all__    1966  5  3     1974\n",
      "\n",
      "\n",
      "Overall Statistics:\n",
      "\n",
      "Accuracy: 0.892097264438\n",
      "95% CI: (0.87757047966540269, 0.90544717661034702)\n",
      "No Information Rate: ToDo\n",
      "P-Value [Acc > NIR]: 1.0\n",
      "Kappa: 0.00799339388935\n",
      "Mcnemar's Test P-Value: ToDo\n",
      "\n",
      "\n",
      "Class Statistics:\n",
      "\n",
      "Classes                                         1           2           3\n",
      "Population                                   1974        1974        1974\n",
      "P: Condition positive                        1766         123          85\n",
      "N: Condition negative                         208        1851        1889\n",
      "Test outcome positive                        1966           5           3\n",
      "Test outcome negative                           8        1969        1971\n",
      "TP: True Positive                            1760           1           0\n",
      "TN: True Negative                               2        1847        1886\n",
      "FP: False Positive                            206           4           3\n",
      "FN: False Negative                              6         122          85\n",
      "TPR: (Sensitivity, hit rate, recall)     0.996602  0.00813008           0\n",
      "TNR=SPC: (Specificity)                 0.00961538    0.997839    0.998412\n",
      "PPV: Pos Pred Value (Precision)          0.895219         0.2           0\n",
      "NPV: Neg Pred Value                          0.25     0.93804    0.956875\n",
      "FPR: False-out                           0.990385  0.00216099  0.00158814\n",
      "FDR: False Discovery Rate                0.104781         0.8           1\n",
      "FNR: Miss Rate                         0.00339751     0.99187           1\n",
      "ACC: Accuracy                            0.892604     0.93617     0.95542\n",
      "F1 score                                 0.943194    0.015625           0\n",
      "MCC: Matthews correlation coefficient   0.0300492   0.0287049 -0.00827582\n",
      "Informedness                           0.00621788  0.00596909 -0.00158814\n",
      "Markedness                               0.145219     0.13804  -0.0431253\n",
      "Prevalence                                0.89463     0.06231   0.0430598\n",
      "LR+: Positive likelihood ratio            1.00628      3.7622           0\n",
      "LR-: Negative likelihood ratio           0.353341    0.994018     1.00159\n",
      "DOR: Diagnostic odds ratio                 2.8479     3.78484           0\n",
      "FOR: False omission rate                     0.75   0.0619604   0.0431253\n"
     ]
    }
   ],
   "source": [
    "# train\n",
    "ab = AdaBoostClassifier(n_estimators=500, random_state=17)\n",
    "model1 = ab.fit(train[cols], train['Target'])\n",
    "\n",
    "# predict\n",
    "y_pred = model1.predict(test[cols])\n",
    "y_pred_proba = model1.predict_proba(test[cols])\n",
    "y_true = test['Target']\n",
    "\n",
    "# metric\n",
    "utils.metrics(y_true, y_pred, y_pred_proba)"
   ]
  },
  {
   "cell_type": "markdown",
   "metadata": {
    "collapsed": true,
    "deletable": true,
    "editable": true
   },
   "source": [
    "### VotingClassifier"
   ]
  },
  {
   "cell_type": "code",
   "execution_count": 20,
   "metadata": {
    "collapsed": false,
    "deletable": true,
    "editable": true
   },
   "outputs": [
    {
     "name": "stderr",
     "output_type": "stream",
     "text": [
      "/Users/bukosabino/projects/machine-learning/btctrading/env/lib/python2.7/site-packages/sklearn/externals/joblib/parallel.py:540: UserWarning: Multiprocessing-backed parallel loops cannot be nested, setting n_jobs=1\n",
      "  **self._backend_args)\n"
     ]
    },
    {
     "name": "stdout",
     "output_type": "stream",
     "text": [
      "Accuracy: 0.891590678825\n",
      "Coeficiente Kappa: 0.0686544261601\n",
      "Report:              precision    recall  f1-score   support\n",
      "\n",
      "       KEEP       0.90      0.99      0.95      1766\n",
      "         UP       0.26      0.04      0.07       123\n",
      "       DOWN       0.00      0.00      0.00        85\n",
      "\n",
      "avg / total       0.82      0.89      0.85      1974\n",
      "\n",
      "Confusion Matrix:\n",
      "\n",
      "Predicted     1   2  3  __all__\n",
      "Actual                         \n",
      "1          1755   9  2     1766\n",
      "2           113   5  5      123\n",
      "3            80   5  0       85\n",
      "__all__    1948  19  7     1974\n",
      "\n",
      "\n",
      "Overall Statistics:\n",
      "\n",
      "Accuracy: 0.891590678825\n",
      "95% CI: (0.87703653818171834, 0.90496952399186592)\n",
      "No Information Rate: ToDo\n",
      "P-Value [Acc > NIR]: 1.0\n",
      "Kappa: 0.0686544261601\n",
      "Mcnemar's Test P-Value: ToDo\n",
      "\n",
      "\n",
      "Class Statistics:\n",
      "\n",
      "Classes                                         1           2           3\n",
      "Population                                   1974        1974        1974\n",
      "P: Condition positive                        1766         123          85\n",
      "N: Condition negative                         208        1851        1889\n",
      "Test outcome positive                        1948          19           7\n",
      "Test outcome negative                          26        1955        1967\n",
      "TP: True Positive                            1755           5           0\n",
      "TN: True Negative                              15        1837        1882\n",
      "FP: False Positive                            193          14           7\n",
      "FN: False Negative                             11         118          85\n",
      "TPR: (Sensitivity, hit rate, recall)     0.993771   0.0406504           0\n",
      "TNR=SPC: (Specificity)                  0.0721154    0.992437    0.996294\n",
      "PPV: Pos Pred Value (Precision)          0.900924    0.263158           0\n",
      "NPV: Neg Pred Value                      0.576923    0.939642    0.956787\n",
      "FPR: False-out                           0.927885  0.00756348  0.00370566\n",
      "FDR: False Discovery Rate                0.099076    0.736842           1\n",
      "FNR: Miss Rate                         0.00622877     0.95935           1\n",
      "ACC: Accuracy                            0.896657    0.933131    0.953394\n",
      "F1 score                                 0.945073   0.0704225           0\n",
      "MCC: Matthews correlation coefficient    0.177437   0.0819147  -0.0126544\n",
      "Informedness                            0.0658866   0.0330869 -0.00370566\n",
      "Markedness                               0.477847      0.2028   -0.043213\n",
      "Prevalence                                0.89463     0.06231   0.0430598\n",
      "LR+: Positive likelihood ratio            1.07101     5.37456           0\n",
      "LR-: Negative likelihood ratio          0.0863722    0.966661     1.00372\n",
      "DOR: Diagnostic odds ratio                12.3999     5.55993           0\n",
      "FOR: False omission rate                 0.423077   0.0603581    0.043213\n"
     ]
    }
   ],
   "source": [
    "# train\n",
    "v = VotingClassifier(estimators=[\n",
    "        ('rf', rf), ('ba', ba), ('et', et), ('gr', gr), ('ab', ab)\n",
    "    ], voting='hard', n_jobs=-1)\n",
    "model1 = v.fit(train[cols], train['Target'])\n",
    "\n",
    "# predict\n",
    "y_pred = model1.predict(test[cols])\n",
    "# y_pred_proba = model1.predict_proba(test[cols])\n",
    "y_true = test['Target']\n",
    "\n",
    "# metric\n",
    "utils.metrics(y_true, y_pred)"
   ]
  },
  {
   "cell_type": "code",
   "execution_count": 21,
   "metadata": {
    "collapsed": false,
    "deletable": true,
    "editable": true
   },
   "outputs": [
    {
     "name": "stdout",
     "output_type": "stream",
     "text": [
      "Accuracy: 0.892097264438\n",
      "Coeficiente Kappa: 0.0627428339601\n",
      "Report:              precision    recall  f1-score   support\n",
      "\n",
      "       KEEP       0.90      0.99      0.94      1766\n",
      "         UP       0.29      0.04      0.07       123\n",
      "       DOWN       0.00      0.00      0.00        85\n",
      "\n",
      "avg / total       0.82      0.89      0.85      1974\n",
      "\n",
      "Confusion Matrix:\n",
      "\n",
      "Predicted     1   2  3  __all__\n",
      "Actual                         \n",
      "1          1756   8  2     1766\n",
      "2           114   5  4      123\n",
      "3            81   4  0       85\n",
      "__all__    1951  17  6     1974\n",
      "\n",
      "\n",
      "Overall Statistics:\n",
      "\n",
      "Accuracy: 0.892097264438\n",
      "95% CI: (0.87757047966540269, 0.90544717661034702)\n",
      "No Information Rate: ToDo\n",
      "P-Value [Acc > NIR]: 1.0\n",
      "Kappa: 0.0627428339601\n",
      "Mcnemar's Test P-Value: ToDo\n",
      "\n",
      "\n",
      "Class Statistics:\n",
      "\n",
      "Classes                                         1           2           3\n",
      "Population                                   1974        1974        1974\n",
      "P: Condition positive                        1766         123          85\n",
      "N: Condition negative                         208        1851        1889\n",
      "Test outcome positive                        1951          17           6\n",
      "Test outcome negative                          23        1957        1968\n",
      "TP: True Positive                            1756           5           0\n",
      "TN: True Negative                              13        1839        1883\n",
      "FP: False Positive                            195          12           6\n",
      "FN: False Negative                             10         118          85\n",
      "TPR: (Sensitivity, hit rate, recall)     0.994337   0.0406504           0\n",
      "TNR=SPC: (Specificity)                     0.0625    0.993517    0.996824\n",
      "PPV: Pos Pred Value (Precision)          0.900051    0.294118           0\n",
      "NPV: Neg Pred Value                      0.565217    0.939704    0.956809\n",
      "FPR: False-out                             0.9375  0.00648298  0.00317628\n",
      "FDR: False Discovery Rate               0.0999487    0.705882           1\n",
      "FNR: Miss Rate                         0.00566251     0.95935           1\n",
      "ACC: Accuracy                             0.89615    0.934144    0.953901\n",
      "F1 score                                 0.944848   0.0714286           0\n",
      "MCC: Matthews correlation coefficient    0.162618   0.0893816  -0.0117127\n",
      "Informedness                            0.0568375   0.0341674 -0.00317628\n",
      "Markedness                               0.465269    0.233821  -0.0431911\n",
      "Prevalence                                0.89463     0.06231   0.0430598\n",
      "LR+: Positive likelihood ratio            1.06063     6.27033           0\n",
      "LR-: Negative likelihood ratio          0.0906002     0.96561     1.00319\n",
      "DOR: Diagnostic odds ratio                11.7067     6.49364           0\n",
      "FOR: False omission rate                 0.434783   0.0602964   0.0431911\n"
     ]
    }
   ],
   "source": [
    "# train\n",
    "v = VotingClassifier(estimators=[\n",
    "        ('rf', rf), ('gr', gr)\n",
    "    ], voting='hard', n_jobs=-1)\n",
    "model1 = v.fit(train[cols], train['Target'])\n",
    "\n",
    "# predict\n",
    "y_pred = model1.predict(test[cols])\n",
    "# y_pred_proba = model1.predict_proba(test[cols])\n",
    "y_true = test['Target']\n",
    "\n",
    "# metric\n",
    "utils.metrics(y_true, y_pred)"
   ]
  },
  {
   "cell_type": "code",
   "execution_count": 16,
   "metadata": {
    "collapsed": false,
    "deletable": true,
    "editable": true
   },
   "outputs": [
    {
     "name": "stdout",
     "output_type": "stream",
     "text": [
      "756\n",
      "Accuracy: 0.892483822797\n",
      "Coeficiente Kappa: 0.0648927504752\n",
      "Report:              precision    recall  f1-score   support\n",
      "\n",
      "       KEEP       0.90      1.00      0.94      1793\n",
      "         UP       0.40      0.05      0.09       126\n",
      "       DOWN       0.33      0.01      0.02        90\n",
      "\n",
      "avg / total       0.84      0.89      0.85      2009\n",
      "\n",
      "Confusion Matrix:\n",
      "\n",
      "Predicted   0.0  1.0  2.0  __all__\n",
      "Actual                            \n",
      "0.0        1786    7    0     1793\n",
      "1.0         118    6    2      126\n",
      "2.0          87    2    1       90\n",
      "__all__    1991   15    3     2009\n",
      "\n",
      "\n",
      "Overall Statistics:\n",
      "\n",
      "Accuracy: 0.892483822797\n",
      "95% CI: (0.87811227508338807, 0.9056980410486779)\n",
      "No Information Rate: ToDo\n",
      "P-Value [Acc > NIR]: 1.0\n",
      "Kappa: 0.0648927504752\n",
      "Mcnemar's Test P-Value: ToDo\n",
      "\n",
      "\n",
      "Class Statistics:\n",
      "\n",
      "Classes                                       0.0         1.0         2.0\n",
      "Population                                   2009        2009        2009\n",
      "P: Condition positive                        1793         126          90\n",
      "N: Condition negative                         216        1883        1919\n",
      "Test outcome positive                        1991          15           3\n",
      "Test outcome negative                          18        1994        2006\n",
      "TP: True Positive                            1786           6           1\n",
      "TN: True Negative                              11        1874        1917\n",
      "FP: False Positive                            205           9           2\n",
      "FN: False Negative                              7         120          89\n",
      "TPR: (Sensitivity, hit rate, recall)     0.996096    0.047619   0.0111111\n",
      "TNR=SPC: (Specificity)                  0.0509259     0.99522    0.998958\n",
      "PPV: Pos Pred Value (Precision)          0.897037         0.4    0.333333\n",
      "NPV: Neg Pred Value                      0.611111    0.939819    0.955633\n",
      "FPR: False-out                           0.949074  0.00477961  0.00104221\n",
      "FDR: False Discovery Rate                0.102963         0.6    0.666667\n",
      "FNR: Miss Rate                         0.00390407    0.952381    0.988889\n",
      "ACC: Accuracy                            0.894475    0.935789    0.954704\n",
      "F1 score                                 0.943975   0.0851064   0.0215054\n",
      "MCC: Matthews correlation coefficient    0.154577    0.120655   0.0539405\n",
      "Informedness                            0.0470219   0.0428394   0.0100689\n",
      "Markedness                               0.508148    0.339819    0.288966\n",
      "Prevalence                               0.892484   0.0627178   0.0447984\n",
      "LR+: Positive likelihood ratio            1.04954     9.96296     10.6611\n",
      "LR-: Negative likelihood ratio          0.0766618    0.956955    0.989921\n",
      "DOR: Diagnostic odds ratio                13.6906     10.4111     10.7697\n",
      "FOR: False omission rate                 0.388889   0.0601805   0.0443669\n"
     ]
    }
   ],
   "source": [
    "y_train = train['Target']\n",
    "y_mean = np.mean(y_train)\n",
    "xgb_params = {\n",
    "    'n_trees': 800,\n",
    "    'eta': 0.0045,\n",
    "    'max_depth': 20,\n",
    "    'subsample': 0.85,\n",
    "    'objective': 'multi:softmax',\n",
    "    'num_class' : 3,\n",
    "    'eval_metric': 'mlogloss', # 'merror', # 'rmse',\n",
    "    'base_score': 0,\n",
    "    'silent': 1\n",
    "}\n",
    "\n",
    "dtrain = xgb.DMatrix(train[cols], y_train)\n",
    "dtest = xgb.DMatrix(test[cols])\n",
    "\n",
    "cv_result = xgb.cv(xgb_params, dtrain)\n",
    "\n",
    "# xgboost, cross-validation\n",
    "\"\"\"\n",
    "cv_result = xgb.cv(xgb_params,\n",
    "                   dtrain,\n",
    "                   num_boost_round=5000,\n",
    "                   early_stopping_rounds=50,\n",
    "                   verbose_eval=50,\n",
    "                   show_stdv=False\n",
    "                  )\n",
    "num_boost_rounds = len(cv_result)\n",
    "\"\"\"\n",
    "num_boost_rounds = 756\n",
    "print(num_boost_rounds)\n",
    "\n",
    "# train\n",
    "model = xgb.train(xgb_params, dtrain, num_boost_round=num_boost_rounds)\n",
    "\n",
    "y_pred = model.predict(dtest)\n",
    "y_true = test['Target']\n",
    "\n",
    "utils.metrics(y_true, y_pred)"
   ]
  },
  {
   "cell_type": "code",
   "execution_count": 18,
   "metadata": {
    "collapsed": false,
    "deletable": true,
    "editable": true
   },
   "outputs": [
    {
     "name": "stdout",
     "output_type": "stream",
     "text": [
      "Accuracy: 0.892483822797\n",
      "Confussion Matrix:\n",
      "[[1786    7    0]\n",
      " [ 118    6    2]\n",
      " [  87    2    1]]\n"
     ]
    }
   ],
   "source": [
    "from sklearn.metrics import *\n",
    "\n",
    "print('Accuracy: {}'.format(accuracy_score(y_true, y_pred)))\n",
    "# print('Coeficiente Kappa: {}'.format(cohen_kappa_score(y_true, y_pred)))\n",
    "print \"Confussion Matrix:\"\n",
    "print confusion_matrix(y_true, y_pred)"
   ]
  },
  {
   "cell_type": "code",
   "execution_count": 19,
   "metadata": {
    "collapsed": false,
    "deletable": true,
    "editable": true
   },
   "outputs": [
    {
     "data": {
      "text/plain": [
       "[('Close-7', 124),\n",
       " ('Close-9', 129),\n",
       " ('Weighted_Price-8', 132),\n",
       " ('Weighted_Price-5', 134),\n",
       " ('Close-5', 170),\n",
       " ('Weighted_Price-9', 179),\n",
       " ('Close-6', 180),\n",
       " ('Close-3', 182),\n",
       " ('Close-8', 189),\n",
       " ('Close-10', 195),\n",
       " ('Close-4', 200),\n",
       " ('Weighted_Price-3', 219),\n",
       " ('Close-2', 224),\n",
       " ('Weighted_Price-10', 246),\n",
       " ('Weighted_Price-7', 286),\n",
       " ('Weighted_Price-2', 295),\n",
       " ('Weighted_Price-6', 295),\n",
       " ('High-9', 331),\n",
       " ('Weighted_Price-4', 396),\n",
       " ('Low-7', 424),\n",
       " ('High-6', 441),\n",
       " ('High-7', 463),\n",
       " ('Low-6', 488),\n",
       " ('High-5', 501),\n",
       " ('High-4', 539),\n",
       " ('Low-9', 548),\n",
       " ('High-8', 554),\n",
       " ('High-3', 563),\n",
       " ('Low-8', 572),\n",
       " ('High-2', 575),\n",
       " ('Low-4', 580),\n",
       " ('Low-10', 596),\n",
       " ('Year', 621),\n",
       " ('High-10', 632),\n",
       " ('Weighted_Price-1', 664),\n",
       " ('Low-5', 794),\n",
       " ('Low-2', 891),\n",
       " ('Open-8', 981),\n",
       " ('Open-7', 993),\n",
       " ('Open-6', 1008),\n",
       " ('Open-5', 1046),\n",
       " ('High-1', 1121),\n",
       " ('Low-3', 1194),\n",
       " ('Open-9', 1227),\n",
       " ('Open-4', 1232),\n",
       " ('Open-3', 1254),\n",
       " ('Close-1', 1270),\n",
       " ('Low-1', 1342),\n",
       " ('Open-2', 1493),\n",
       " ('Open-10', 1539),\n",
       " ('yearmonth', 2739),\n",
       " ('Month', 3157),\n",
       " ('yearweekday', 4081),\n",
       " ('Open-1', 4197),\n",
       " ('Weekday', 4303),\n",
       " ('Volume_Currency-7', 4689),\n",
       " ('Volume_Currency-4', 4780),\n",
       " ('Volume_Currency-10', 4833),\n",
       " ('High-low-7', 4833),\n",
       " ('High-low-6', 4901),\n",
       " ('Volume_Currency-3', 5226),\n",
       " ('Volume_Currency-9', 5502),\n",
       " ('High-low-10', 5526),\n",
       " ('High-low-4', 5562),\n",
       " ('Volume_Currency-6', 5585),\n",
       " ('Week', 5680),\n",
       " ('Volume_Currency-8', 5712),\n",
       " ('High-low-5', 5843),\n",
       " ('High-low-9', 5851),\n",
       " ('Volume_Currency-5', 5973),\n",
       " ('High-low-8', 6086),\n",
       " ('Volume_Currency-2', 6634),\n",
       " ('High-low-3', 6801),\n",
       " ('yearweek', 6914),\n",
       " ('Volume_Currency-1', 7612),\n",
       " ('High-low-2', 7685),\n",
       " ('Volume_BTC-7', 7983),\n",
       " ('Close-open-5', 8461),\n",
       " ('Volume_BTC-10', 8497),\n",
       " ('Close-open-8', 8621),\n",
       " ('Volume_BTC-6', 8818),\n",
       " ('High-low-1', 8851),\n",
       " ('Close-open-7', 9036),\n",
       " ('Volume_BTC-4', 9080),\n",
       " ('Volume_BTC-5', 9099),\n",
       " ('Volume_BTC-8', 9100),\n",
       " ('Close-open-6', 9207),\n",
       " ('Volume_BTC-3', 9700),\n",
       " ('Day', 9725),\n",
       " ('Volume_BTC-9', 9813),\n",
       " ('Close-open-10', 10113),\n",
       " ('Close-open-3', 10219),\n",
       " ('Close-open-4', 10288),\n",
       " ('Close-open-9', 10497),\n",
       " ('Volume_BTC-2', 10565),\n",
       " ('Close-open-2', 11123),\n",
       " ('Volume_BTC-1', 12387),\n",
       " ('Close-open-1', 14805)]"
      ]
     },
     "execution_count": 19,
     "metadata": {},
     "output_type": "execute_result"
    }
   ],
   "source": [
    "import operator\n",
    "importance = model.get_fscore()\n",
    "importance = sorted(importance.items(), key=operator.itemgetter(1))\n",
    "importance"
   ]
  },
  {
   "cell_type": "code",
   "execution_count": 20,
   "metadata": {
    "collapsed": false,
    "deletable": true,
    "editable": true
   },
   "outputs": [
    {
     "data": {
      "text/plain": [
       "[('Weighted_Price-6', 0.5957750148074574),\n",
       " ('Year', 0.6197839839001609),\n",
       " ('Week', 0.7020748236126422),\n",
       " ('Volume_BTC-7', 0.7305912394242583),\n",
       " ('Day', 0.7327996313422134),\n",
       " ('Close-open-5', 0.7373282468116058),\n",
       " ('Month', 0.7386916602798842),\n",
       " ('Close-open-10', 0.7428657889155549),\n",
       " ('Volume_BTC-6', 0.7478980770011783),\n",
       " ('Volume_BTC-5', 0.7498979976230021),\n",
       " ('Close-open-8', 0.7912348557582992),\n",
       " ('Volume_BTC-3', 0.7998627868920614),\n",
       " ('Close-open-2', 0.8020697324867831),\n",
       " ('Weekday', 0.8104826137797139),\n",
       " ('Volume_BTC-4', 0.820690728570925),\n",
       " ('Close-open-9', 0.832916263688126),\n",
       " ('Volume_BTC-8', 0.8341002583573637),\n",
       " ('Volume_Currency-6', 0.8363203694976166),\n",
       " ('Close-open-7', 0.8389662971651104),\n",
       " ('Close-open-4', 0.8404302557226205),\n",
       " ('Open-5', 0.8424068035086046),\n",
       " ('Volume_BTC-10', 0.8502030040497354),\n",
       " ('Volume_Currency-7', 0.8550742900887157),\n",
       " ('High-low-10', 0.8627968021309639),\n",
       " ('Close-open-6', 0.8756298357601816),\n",
       " ('High-low-5', 0.8758025429768983),\n",
       " ('Close-8', 0.8778100041904764),\n",
       " ('Open-7', 0.880849763534744),\n",
       " ('Volume_Currency-4', 0.8847651154700823),\n",
       " ('Open-1', 0.886239980847989),\n",
       " ('High-low-7', 0.8891101684330598),\n",
       " ('Volume_Currency-3', 0.9042864722001518),\n",
       " ('Close-2', 0.9148379040178565),\n",
       " ('High-low-6', 0.9173606237580075),\n",
       " ('yearweekday', 0.9175933921810846),\n",
       " ('Open-2', 0.9227470025947778),\n",
       " ('Close-open-3', 0.9265105326647887),\n",
       " ('Close-3', 0.9412195329120886),\n",
       " ('Volume_BTC-9', 0.9458907615324518),\n",
       " ('Open-3', 0.9539084444258373),\n",
       " ('Open-6', 0.9606519653828363),\n",
       " ('Volume_Currency-10', 0.9677254517856395),\n",
       " ('High-low-4', 0.9680484495712016),\n",
       " ('High-low-9', 0.9696617430569515),\n",
       " ('Low-1', 0.9789168407004464),\n",
       " ('Volume_Currency-9', 0.9792519842948016),\n",
       " ('Open-9', 0.9814624059682173),\n",
       " ('High-9', 0.9858401915407862),\n",
       " ('Close-7', 0.98989045),\n",
       " ('High-low-8', 0.9901048947602209),\n",
       " ('Close-6', 1.007523237222222),\n",
       " ('Low-9', 1.0088894186186128),\n",
       " ('Close-9', 1.0089744302325587),\n",
       " ('Volume_Currency-5', 1.0108180803470617),\n",
       " ('Low-4', 1.019930089324139),\n",
       " ('Open-8', 1.0204755079102947),\n",
       " ('High-low-3', 1.0247450879010462),\n",
       " ('High-5', 1.0272502625548907),\n",
       " ('High-6', 1.0283865763492068),\n",
       " ('Volume_Currency-8', 1.037744056588231),\n",
       " ('Volume_Currency-2', 1.0385754847237632),\n",
       " ('Volume_BTC-2', 1.0401252730889234),\n",
       " ('Open-4', 1.041609316340096),\n",
       " ('Low-7', 1.0445999398584918),\n",
       " ('Close-open-1', 1.0597468804572734),\n",
       " ('Open-10', 1.075331827218974),\n",
       " ('Close-1', 1.0776793222519674),\n",
       " ('Low-8', 1.0926207331992992),\n",
       " ('High-1', 1.1025308007603023),\n",
       " ('Low-10', 1.1338189843120816),\n",
       " ('High-10', 1.1530891161708852),\n",
       " ('High-7', 1.1534179567818563),\n",
       " ('Close-4', 1.1622324254999998),\n",
       " ('Volume_Currency-1', 1.1662117494122384),\n",
       " ('Close-10', 1.1701798425641021),\n",
       " ('High-low-2', 1.1771612288859916),\n",
       " ('Close-5', 1.1790729193529408),\n",
       " ('Weighted_Price-5', 1.1811081325074628),\n",
       " ('High-4', 1.1917193985213346),\n",
       " ('High-3', 1.2233598890088795),\n",
       " ('Low-6', 1.2518020382991812),\n",
       " ('High-2', 1.2601546513999982),\n",
       " ('Low-2', 1.268607879674521),\n",
       " ('Weighted_Price-3', 1.2874771541095886),\n",
       " ('Volume_BTC-1', 1.3257738012760976),\n",
       " ('Weighted_Price-10', 1.3771824321138222),\n",
       " ('Low-5', 1.3804575154156165),\n",
       " ('Weighted_Price-2', 1.3868805532203392),\n",
       " ('Weighted_Price-9', 1.3971714862011173),\n",
       " ('Weighted_Price-8', 1.445787277272727),\n",
       " ('High-8', 1.464262263519857),\n",
       " ('Low-3', 1.495237977154104),\n",
       " ('High-low-1', 1.5366598796886413),\n",
       " ('Weighted_Price-7', 1.5835913255244742),\n",
       " ('yearmonth', 1.6405733706936834),\n",
       " ('yearweek', 1.7120727750043387),\n",
       " ('Weighted_Price-1', 1.9018324132530111),\n",
       " ('Weighted_Price-4', 2.2375466510858577)]"
      ]
     },
     "execution_count": 20,
     "metadata": {},
     "output_type": "execute_result"
    }
   ],
   "source": [
    "importance = model.get_score(fmap='', importance_type='gain')\n",
    "importance = sorted(importance.items(), key=operator.itemgetter(1))\n",
    "importance"
   ]
  },
  {
   "cell_type": "code",
   "execution_count": null,
   "metadata": {
    "collapsed": true,
    "deletable": true,
    "editable": true
   },
   "outputs": [],
   "source": []
  }
 ],
 "metadata": {
  "kernelspec": {
   "display_name": "Python 2",
   "language": "python",
   "name": "python2"
  },
  "language_info": {
   "codemirror_mode": {
    "name": "ipython",
    "version": 2
   },
   "file_extension": ".py",
   "mimetype": "text/x-python",
   "name": "python",
   "nbconvert_exporter": "python",
   "pygments_lexer": "ipython2",
   "version": "2.7.12"
  }
 },
 "nbformat": 4,
 "nbformat_minor": 2
}
