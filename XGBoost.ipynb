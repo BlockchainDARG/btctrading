{
 "cells": [
  {
   "cell_type": "code",
   "execution_count": 1,
   "metadata": {
    "collapsed": false,
    "deletable": true,
    "editable": true
   },
   "outputs": [
    {
     "name": "stderr",
     "output_type": "stream",
     "text": [
      "/home/bukosabino/envs/deeplearning/local/lib/python2.7/site-packages/sklearn/cross_validation.py:44: DeprecationWarning: This module was deprecated in version 0.18 in favor of the model_selection module into which all the refactored classes and functions are moved. Also note that the interface of the new CV iterators are different from that of this module. This module will be removed in 0.20.\n",
      "  \"This module will be removed in 0.20.\", DeprecationWarning)\n"
     ]
    }
   ],
   "source": [
    "import numpy as np\n",
    "import pandas as pd\n",
    "from sklearn.ensemble import *\n",
    "import xgboost as xgb\n",
    "import operator\n",
    "\n",
    "import settings\n",
    "import utils\n",
    "import get_data\n",
    "from ta import *"
   ]
  },
  {
   "cell_type": "markdown",
   "metadata": {
    "deletable": true,
    "editable": true
   },
   "source": [
    "### Get Data"
   ]
  },
  {
   "cell_type": "markdown",
   "metadata": {
    "deletable": true,
    "editable": true
   },
   "source": [
    "API: http://bitcoincharts.com/charts\n",
    "\n",
    "period = ['1-min', '5-min', '15-min', '30-min', 'Hourly', '2-hour', '6-hour', '12-hour', 'Daily', 'Weekly']\n",
    "\n",
    "market = ['krakenEUR', 'bitstampUSD'] -> list of markets: https://bitcoincharts.com/charts/volumepie/"
   ]
  },
  {
   "cell_type": "code",
   "execution_count": 2,
   "metadata": {
    "collapsed": false,
    "deletable": true,
    "editable": true
   },
   "outputs": [
    {
     "name": "stdout",
     "output_type": "stream",
     "text": [
      "Loading.....\n",
      "31 of 2133 days loaded...\n",
      "62 of 2133 days loaded...\n",
      "93 of 2133 days loaded...\n",
      "124 of 2133 days loaded...\n",
      "155 of 2133 days loaded...\n",
      "186 of 2133 days loaded...\n",
      "217 of 2133 days loaded...\n",
      "248 of 2133 days loaded...\n",
      "279 of 2133 days loaded...\n",
      "310 of 2133 days loaded...\n",
      "341 of 2133 days loaded...\n",
      "372 of 2133 days loaded...\n",
      "403 of 2133 days loaded...\n",
      "434 of 2133 days loaded...\n",
      "465 of 2133 days loaded...\n",
      "496 of 2133 days loaded...\n",
      "527 of 2133 days loaded...\n",
      "558 of 2133 days loaded...\n",
      "589 of 2133 days loaded...\n",
      "620 of 2133 days loaded...\n",
      "651 of 2133 days loaded...\n",
      "682 of 2133 days loaded...\n",
      "713 of 2133 days loaded...\n",
      "744 of 2133 days loaded...\n",
      "775 of 2133 days loaded...\n",
      "806 of 2133 days loaded...\n",
      "837 of 2133 days loaded...\n",
      "868 of 2133 days loaded...\n",
      "899 of 2133 days loaded...\n",
      "930 of 2133 days loaded...\n",
      "961 of 2133 days loaded...\n",
      "992 of 2133 days loaded...\n",
      "1023 of 2133 days loaded...\n",
      "1054 of 2133 days loaded...\n",
      "1085 of 2133 days loaded...\n",
      "1116 of 2133 days loaded...\n",
      "1147 of 2133 days loaded...\n",
      "1178 of 2133 days loaded...\n",
      "1209 of 2133 days loaded...\n",
      "1240 of 2133 days loaded...\n",
      "1271 of 2133 days loaded...\n",
      "1302 of 2133 days loaded...\n",
      "1333 of 2133 days loaded...\n",
      "1364 of 2133 days loaded...\n",
      "1395 of 2133 days loaded...\n",
      "1426 of 2133 days loaded...\n",
      "1457 of 2133 days loaded...\n",
      "1488 of 2133 days loaded...\n",
      "1519 of 2133 days loaded...\n",
      "1550 of 2133 days loaded...\n",
      "1581 of 2133 days loaded...\n",
      "1612 of 2133 days loaded...\n",
      "1643 of 2133 days loaded...\n",
      "1674 of 2133 days loaded...\n",
      "1705 of 2133 days loaded...\n",
      "1736 of 2133 days loaded...\n",
      "1767 of 2133 days loaded...\n",
      "1798 of 2133 days loaded...\n",
      "1829 of 2133 days loaded...\n",
      "1860 of 2133 days loaded...\n",
      "1891 of 2133 days loaded...\n",
      "1922 of 2133 days loaded...\n",
      "1953 of 2133 days loaded...\n",
      "1984 of 2133 days loaded...\n",
      "2015 of 2133 days loaded...\n",
      "2046 of 2133 days loaded...\n",
      "2077 of 2133 days loaded...\n",
      "2108 of 2133 days loaded...\n",
      "2139 of 2133 days loaded...\n",
      "Last Timestamp: 2017-07-15 12:00:00\n"
     ]
    }
   ],
   "source": [
    "get_data.get('data/datas.csv', period='Hourly', market='bitstampUSD')"
   ]
  },
  {
   "cell_type": "markdown",
   "metadata": {
    "deletable": true,
    "editable": true
   },
   "source": [
    "### Load Data"
   ]
  },
  {
   "cell_type": "code",
   "execution_count": 3,
   "metadata": {
    "collapsed": true,
    "deletable": true,
    "editable": true
   },
   "outputs": [],
   "source": [
    "df = pd.read_csv('data/datas.csv', sep=',')"
   ]
  },
  {
   "cell_type": "code",
   "execution_count": 4,
   "metadata": {
    "collapsed": false,
    "deletable": true,
    "editable": true
   },
   "outputs": [
    {
     "name": "stdout",
     "output_type": "stream",
     "text": [
      "Number of rows: 51141, Number of columns: 8\n"
     ]
    }
   ],
   "source": [
    "print('Number of rows: {}, Number of columns: {}'.format(*df.shape))"
   ]
  },
  {
   "cell_type": "markdown",
   "metadata": {
    "deletable": true,
    "editable": true
   },
   "source": [
    "### Preprocessing"
   ]
  },
  {
   "cell_type": "code",
   "execution_count": 5,
   "metadata": {
    "collapsed": true,
    "deletable": true,
    "editable": true
   },
   "outputs": [],
   "source": [
    "df = utils.dropna(df)"
   ]
  },
  {
   "cell_type": "code",
   "execution_count": 6,
   "metadata": {
    "collapsed": false,
    "deletable": true,
    "editable": true
   },
   "outputs": [
    {
     "name": "stdout",
     "output_type": "stream",
     "text": [
      "Number of rows: 45390, Number of columns: 8\n"
     ]
    }
   ],
   "source": [
    "print('Number of rows: {}, Number of columns: {}'.format(*df.shape))"
   ]
  },
  {
   "cell_type": "markdown",
   "metadata": {
    "deletable": true,
    "editable": true
   },
   "source": [
    "### Transformation"
   ]
  },
  {
   "cell_type": "markdown",
   "metadata": {
    "deletable": true,
    "editable": true
   },
   "source": [
    "Create column target with class [UP, KEEP, DOWN]"
   ]
  },
  {
   "cell_type": "code",
   "execution_count": 7,
   "metadata": {
    "collapsed": true,
    "deletable": true,
    "editable": true
   },
   "outputs": [],
   "source": [
    "df['Target'] = 0 # 'KEEP'\n",
    "df.loc[df.Open + (df.Open * settings.PERCENT_UP) < df.Close, 'Target'] = 1 # 'UP'\n",
    "df.loc[df.Open - (df.Open * settings.PERCENT_DOWN) > df.Close, 'Target'] = 2 # 'DOWN'"
   ]
  },
  {
   "cell_type": "code",
   "execution_count": 8,
   "metadata": {
    "collapsed": false,
    "deletable": true,
    "editable": true
   },
   "outputs": [
    {
     "name": "stdout",
     "output_type": "stream",
     "text": [
      "Number of rows: 45390, Number of columns: 9\n",
      "Number of UP rows: 3282, Number of DOWN rows: 3102\n"
     ]
    }
   ],
   "source": [
    "print('Number of rows: {}, Number of columns: {}'.format(*df.shape))\n",
    "print('Number of UP rows: {}, Number of DOWN rows: {}'.format(len(df[df.Target == 1]), len(df[df.Target == 2])))"
   ]
  },
  {
   "cell_type": "markdown",
   "metadata": {
    "deletable": true,
    "editable": true
   },
   "source": [
    "Create columns from Timestamp to Date, Year, Month, Hour, etc."
   ]
  },
  {
   "cell_type": "markdown",
   "metadata": {
    "deletable": true,
    "editable": true
   },
   "source": [
    "### Feature Engineering"
   ]
  },
  {
   "cell_type": "code",
   "execution_count": 9,
   "metadata": {
    "collapsed": true,
    "deletable": true,
    "editable": true
   },
   "outputs": [],
   "source": [
    "df['Date'] = df['Timestamp'].apply(utils.timestamptodate)\n",
    "df['Date'] = pd.to_datetime(df['Date'])\n",
    "\n",
    "df['Year'] = df['Date'].dt.year\n",
    "df['Month'] = df['Date'].dt.month\n",
    "df['Week'] = df['Date'].dt.weekofyear\n",
    "df['Weekday'] = df['Date'].dt.weekday\n",
    "df['Day'] = df['Date'].dt.day\n",
    "df['Hour'] = df['Date'].dt.hour\n",
    "\n",
    "# extra dates\n",
    "# df[\"yearmonth\"] = df[\"Date\"].dt.year*100 + df[\"Date\"].dt.month\n",
    "# df[\"yearweek\"] = df[\"Date\"].dt.year*100 + df[\"Date\"].dt.weekofyear\n",
    "# df[\"yearweekday\"] = df[\"Date\"].dt.year*10 + df[\"Date\"].dt.weekday"
   ]
  },
  {
   "cell_type": "code",
   "execution_count": 10,
   "metadata": {
    "collapsed": true,
    "deletable": true,
    "editable": true
   },
   "outputs": [],
   "source": [
    "# shift\n",
    "cols = ['Open', 'High', 'Low', 'Close', 'Volume_BTC', 'Volume_Currency', 'Weighted_Price']\n",
    "for col in cols:\n",
    "    df[col] = df[col].shift(1)\n",
    "df = df.dropna()"
   ]
  },
  {
   "cell_type": "code",
   "execution_count": 11,
   "metadata": {
    "collapsed": false,
    "deletable": true,
    "editable": true
   },
   "outputs": [],
   "source": [
    "df['High-low'] = df['High'] - df['Low']\n",
    "df['Close-open'] = df['Close'] - df['Open']\n",
    "\n",
    "df['Up_or_Down'] = 0\n",
    "df.loc[( df.Open + (df.Open * settings.PERCENT_UP) ) < df.Close, 'Up_or_Down'] = 1 # 'UP'\n",
    "df.loc[( df.Open - (df.Open * settings.PERCENT_DOWN) ) > df.Close, 'Up_or_Down'] = 2 # 'DOWN'\n",
    "\n",
    "df['Up_or_Down_2'] = 0\n",
    "df.loc[df.Open + (df.Open * settings.PERCENT_UP * 2 ) < df.Close, 'Up_or_Down'] = 1 # 'UP'\n",
    "df.loc[df.Open - (df.Open * settings.PERCENT_DOWN * 2) > df.Close, 'Up_or_Down'] = 2 # 'DOWN'\n",
    "\n",
    "df['Up_or_Down_3'] = 0\n",
    "df.loc[df.Open < df.Close, 'Up_or_Down'] = 1 # 'UP'\n",
    "df.loc[df.Open  > df.Close, 'Up_or_Down'] = 2 # 'DOWN'"
   ]
  },
  {
   "cell_type": "code",
   "execution_count": 12,
   "metadata": {
    "collapsed": false,
    "deletable": true,
    "editable": true
   },
   "outputs": [],
   "source": [
    "# Fundamental analysis\n",
    "\n",
    "# daily return\n",
    "df['Daily_return'] = (df['Close'] / df['Close'].shift(1)) - 1\n",
    "df['Daily_return_100'] = ((df['Close'] / df['Close'].shift(1)) - 1) * 100\n",
    "\n",
    "# cumulative return\n",
    "df = df.dropna()\n",
    "df['Cumulative_return'] = (df['Close'] / df['Close'].iloc[0]) - 1\n",
    "df['Cumulative_return_100'] = ((df['Close'] / df['Close'].iloc[0]) - 1) * 100\n",
    "\n",
    "# TODO: cumulative return week, month, year..."
   ]
  },
  {
   "cell_type": "code",
   "execution_count": 13,
   "metadata": {
    "collapsed": false,
    "deletable": true,
    "editable": true
   },
   "outputs": [
    {
     "name": "stdout",
     "output_type": "stream",
     "text": [
      "Number of rows: 45388, Number of columns: 25\n"
     ]
    }
   ],
   "source": [
    "print('Number of rows: {}, Number of columns: {}'.format(*df.shape))"
   ]
  },
  {
   "cell_type": "markdown",
   "metadata": {
    "deletable": true,
    "editable": true
   },
   "source": [
    "# Technical Analysis"
   ]
  },
  {
   "cell_type": "markdown",
   "metadata": {
    "deletable": true,
    "editable": true
   },
   "source": [
    "https://en.wikipedia.org/wiki/Technical_analysis"
   ]
  },
  {
   "cell_type": "markdown",
   "metadata": {
    "deletable": true,
    "editable": true
   },
   "source": [
    "### Volume-based indicators"
   ]
  },
  {
   "cell_type": "code",
   "execution_count": 14,
   "metadata": {
    "collapsed": false,
    "deletable": true,
    "editable": true
   },
   "outputs": [
    {
     "name": "stderr",
     "output_type": "stream",
     "text": [
      "ta/volume.py:38: FutureWarning: pd.ewm_mean is deprecated for Series and will be removed in a future version, replace with \n",
      "\tSeries.ewm(ignore_na=False,span=3,min_periods=2,adjust=True).mean()\n",
      "  return pd.Series(pd.ewma(ad, span=3, min_periods=2) - pd.ewma(ad, span=10, min_periods=9))\n",
      "ta/volume.py:38: FutureWarning: pd.ewm_mean is deprecated for Series and will be removed in a future version, replace with \n",
      "\tSeries.ewm(ignore_na=False,span=10,min_periods=9,adjust=True).mean()\n",
      "  return pd.Series(pd.ewma(ad, span=3, min_periods=2) - pd.ewma(ad, span=10, min_periods=9))\n",
      "ta/volume.py:48: FutureWarning: pd.rolling_mean is deprecated for Series and will be removed in a future version, replace with \n",
      "\tSeries.rolling(window=20,center=False).mean()\n",
      "  return pd.Series(pd.rolling_mean(mf, n))\n",
      "ta/volume.py:57: FutureWarning: pd.rolling_sum is deprecated for Series and will be removed in a future version, replace with \n",
      "\tSeries.rolling(window=20,center=False).sum()\n",
      "  return pd.Series(moments.rolling_sum(clv*df[col_volume], n) / moments.rolling_sum(df[col_volume], n))\n",
      "ta/volume.py:74: FutureWarning: pd.rolling_sum is deprecated for Series and will be removed in a future version, replace with \n",
      "\tSeries.rolling(window=14,center=False).sum()\n",
      "  n_positive_mf = pd.rolling_sum(df['1_Period_Positive_Money_Flow'], n)\n",
      "ta/volume.py:75: FutureWarning: pd.rolling_sum is deprecated for Series and will be removed in a future version, replace with \n",
      "\tSeries.rolling(window=14,center=False).sum()\n",
      "  n_negative_mf = pd.rolling_sum(df['1_Period_Negative_Money_Flow'], n)\n",
      "ta/volume.py:102: FutureWarning: pd.rolling_mean is deprecated for Series and will be removed in a future version, replace with \n",
      "\tSeries.rolling(window=10,center=False).mean()\n",
      "  return pd.Series(pd.rolling_mean(df['OBV'], n))\n"
     ]
    }
   ],
   "source": [
    "# Accumulation/Distribution index\n",
    "df['Acc_Dist_Roc_BTC'] = acc_dist_roc(df, 'Volume_BTC', 2)\n",
    "df['Acc_Dist_Roc_Currency'] = acc_dist_roc(df, 'Volume_Currency', 2)\n",
    "df['Acc_Dist_BTC'] = acc_dist_index(df, 'Volume_BTC')\n",
    "df['Acc_Dist_Currency'] = acc_dist_index(df, 'Volume_Currency')\n",
    "\n",
    "# Chaikin Money Flow\n",
    "df['Chaikin_Money_Flow_1_BTC'] = chaikin_money_flow1(df, 'Volume_BTC')\n",
    "df['Chaikin_Money_Flow_2_BTC'] = chaikin_money_flow2(df, 'Volume_BTC', 20)\n",
    "df['Chaikin_Money_Flow_3_BTC'] = chaikin_money_flow3(df, 'Volume_BTC', 20)\n",
    "df['Chaikin_Money_Flow_1_Currency'] = chaikin_money_flow1(df, 'Volume_Currency')\n",
    "df['Chaikin_Money_Flow_2_Currency'] = chaikin_money_flow2(df, 'Volume_Currency', 20)\n",
    "df['Chaikin_Money_Flow_3_Currency'] = chaikin_money_flow3(df, 'Volume_Currency', 20)\n",
    "\n",
    "# Money Flow Index\n",
    "df['Money_Flow_BTC'] = money_flow_index(df, 'Volume_BTC', 14)\n",
    "df['Money_Flow_Currency'] = money_flow_index(df, 'Volume_Currency', 14)\n",
    "\n",
    "# On-balance volume\n",
    "df['OBV_BTC'] = on_balance_volume(df, 'Volume_BTC')\n",
    "df['OBV_BTC_mean'] = on_balance_volume_mean(df, 'Volume_BTC')\n",
    "df['OBV_Currency'] = on_balance_volume(df, 'Volume_Currency')\n",
    "df['OBV_Currency_mean'] = on_balance_volume_mean(df, 'Volume_Currency')\n",
    "\n",
    "# Force Index\n",
    "df['Force_Index_BTC'] = force(df, 'Volume_BTC', 2)\n",
    "df['Force_Index_Currency'] = force(df, 'Volume_Currency', 2)\n",
    "\n",
    "# delete intermediate columns\n",
    "df.drop('OBV', axis=1, inplace=True)"
   ]
  },
  {
   "cell_type": "markdown",
   "metadata": {
    "deletable": true,
    "editable": true
   },
   "source": [
    "### Trend indicators"
   ]
  },
  {
   "cell_type": "code",
   "execution_count": 15,
   "metadata": {
    "collapsed": false,
    "deletable": true,
    "editable": true
   },
   "outputs": [
    {
     "name": "stderr",
     "output_type": "stream",
     "text": [
      "ta/trend.py:27: FutureWarning: pd.ewm_mean is deprecated for Series and will be removed in a future version, replace with \n",
      "\tSeries.ewm(ignore_na=False,span=12,min_periods=25,adjust=True).mean()\n",
      "  EMAfast = pd.Series(pd.ewma(df['Close'], span=n_fast, min_periods=n_slow - 1))\n",
      "ta/trend.py:28: FutureWarning: pd.ewm_mean is deprecated for Series and will be removed in a future version, replace with \n",
      "\tSeries.ewm(ignore_na=False,span=26,min_periods=25,adjust=True).mean()\n",
      "  EMAslow = pd.Series(pd.ewma(df['Close'], span=n_slow, min_periods=n_slow - 1))\n",
      "ta/trend.py:30: FutureWarning: pd.ewm_mean is deprecated for Series and will be removed in a future version, replace with \n",
      "\tSeries.ewm(ignore_na=False,span=9,min_periods=8,adjust=True).mean()\n",
      "  MACDsign = pd.Series(pd.ewma(MACD, span=n_sign, min_periods=n_sign - 1), name='MACD_sign_%d_%d' % (n_fast, n_slow))\n",
      "ta/trend.py:57: FutureWarning: pd.rolling_sum is deprecated for Series and will be removed in a future version, replace with \n",
      "\tSeries.rolling(window=14,center=False).sum()\n",
      "  trs = pd.rolling_sum(tr, n)\n",
      "ta/trend.py:68: FutureWarning: pd.rolling_sum is deprecated for Series and will be removed in a future version, replace with \n",
      "\tSeries.rolling(window=14,center=False).sum()\n",
      "  dip = 100 * pd.rolling_sum(pos, n) / trs\n",
      "ta/trend.py:69: FutureWarning: pd.rolling_sum is deprecated for Series and will be removed in a future version, replace with \n",
      "\tSeries.rolling(window=14,center=False).sum()\n",
      "  din = 100 * pd.rolling_sum(neg, n) / trs\n",
      "ta/trend.py:72: FutureWarning: pd.ewm_mean is deprecated for Series and will be removed in a future version, replace with \n",
      "\tSeries.ewm(ignore_na=False,min_periods=0,adjust=True,com=14).mean()\n",
      "  adx = pd.ewma(dx, n)\n",
      "ta/trend.py:87: FutureWarning: pd.rolling_sum is deprecated for Series and will be removed in a future version, replace with \n",
      "\tSeries.rolling(window=14,center=False).sum()\n",
      "  trn = moments.rolling_sum(tr, n)\n",
      "ta/trend.py:92: FutureWarning: pd.rolling_sum is deprecated for Series and will be removed in a future version, replace with \n",
      "\tSeries.rolling(window=14,center=False).sum()\n",
      "  vip = moments.rolling_sum(vmp, n) / trn\n",
      "ta/trend.py:93: FutureWarning: pd.rolling_sum is deprecated for Series and will be removed in a future version, replace with \n",
      "\tSeries.rolling(window=14,center=False).sum()\n",
      "  vin = moments.rolling_sum(vmm, n) / trn\n"
     ]
    }
   ],
   "source": [
    "# Moving Average Convergence Divergence\n",
    "df[['MACD', 'MACD_sign', 'MACD_diff']] = macd(df, 12, 26, 9)\n",
    "\n",
    "# Average directional movement index\n",
    "df[['ADX', 'ADX_pos', 'ADX_neg']] = adx(df, 14)\n",
    "\n",
    "# Vortex indicator\n",
    "df[['Vortex_pos', 'Vortex_neg']] = vortex(df, 14)"
   ]
  },
  {
   "cell_type": "markdown",
   "metadata": {
    "deletable": true,
    "editable": true
   },
   "source": [
    "### Momentum Indicators"
   ]
  },
  {
   "cell_type": "code",
   "execution_count": 16,
   "metadata": {
    "collapsed": false,
    "deletable": true,
    "editable": true
   },
   "outputs": [
    {
     "name": "stderr",
     "output_type": "stream",
     "text": [
      "ta/momentum.py:16: FutureWarning: pd.ewm_mean is deprecated for Series and will be removed in a future version, replace with \n",
      "\tSeries.ewm(ignore_na=False,min_periods=0,adjust=True,com=14).mean()\n",
      "  emaup = pd.ewma(up, n)\n",
      "ta/momentum.py:17: FutureWarning: pd.ewm_mean is deprecated for Series and will be removed in a future version, replace with \n",
      "\tSeries.ewm(ignore_na=False,min_periods=0,adjust=True,com=14).mean()\n",
      "  emadn = pd.ewma(dn, n)\n"
     ]
    }
   ],
   "source": [
    "df['RSI'] = rsi(df, 14)"
   ]
  },
  {
   "cell_type": "code",
   "execution_count": 17,
   "metadata": {
    "collapsed": false,
    "deletable": true,
    "editable": true
   },
   "outputs": [
    {
     "data": {
      "text/plain": [
       "\"\\nfor c in df.columns:\\n    print str(c) + u' - ' + str(df[c].isnull().sum())\\n\""
      ]
     },
     "execution_count": 17,
     "metadata": {},
     "output_type": "execute_result"
    }
   ],
   "source": [
    "\"\"\"\n",
    "for c in df.columns:\n",
    "    print str(c) + u' - ' + str(df[c].isnull().sum())\n",
    "\"\"\""
   ]
  },
  {
   "cell_type": "markdown",
   "metadata": {
    "deletable": true,
    "editable": true
   },
   "source": [
    "### Price-based indicators "
   ]
  },
  {
   "cell_type": "code",
   "execution_count": 18,
   "metadata": {
    "collapsed": true,
    "deletable": true,
    "editable": true
   },
   "outputs": [],
   "source": [
    "# Momentum\n",
    "for idx in range(9):\n",
    "    m = idx+2\n",
    "    df['Momentum_'+str(m)] = ((df['Close'] / df['Close'].shift(m)) - 1)\n",
    "\n",
    "# Rollings\n",
    "for idx in range(9):\n",
    "    m = idx+2\n",
    "    df['Rolling_mean_'+str(m)] = (df.set_index('Date')['Close'].rolling(window=m).mean()).values\n",
    "    df['Rolling_std_'+str(m)] = (df.set_index('Date')['Close'].rolling(window=m).std()).values\n",
    "    df['Rolling_cov_'+str(m)] = (df.set_index('Date')['Close'].rolling(window=m).cov()).values\n",
    "\n",
    "# Bollinger bands\n",
    "for idx in range(9):\n",
    "    m = idx+2\n",
    "    df['Bollinger_band_mean_'+str(m)+'_max'] = df['Rolling_mean_'+str(m)] + (2*df['Rolling_std_'+str(m)])\n",
    "    df['Bollinger_band_mean_'+str(m)+'_min'] = df['Rolling_mean_'+str(m)] - (2*df['Rolling_std_'+str(m)])"
   ]
  },
  {
   "cell_type": "code",
   "execution_count": 19,
   "metadata": {
    "collapsed": false,
    "deletable": true,
    "editable": true
   },
   "outputs": [
    {
     "name": "stdout",
     "output_type": "stream",
     "text": [
      "Number of rows: 45388, Number of columns: 106\n",
      "Number of rows: 45357, Number of columns: 106\n"
     ]
    }
   ],
   "source": [
    "print('Number of rows: {}, Number of columns: {}'.format(*df.shape))\n",
    "df = df.dropna()\n",
    "print('Number of rows: {}, Number of columns: {}'.format(*df.shape))"
   ]
  },
  {
   "cell_type": "markdown",
   "metadata": {
    "deletable": true,
    "editable": true
   },
   "source": [
    "### Split"
   ]
  },
  {
   "cell_type": "code",
   "execution_count": 20,
   "metadata": {
    "collapsed": true,
    "deletable": true,
    "editable": true
   },
   "outputs": [],
   "source": [
    "train, test = utils.split_df2(df)"
   ]
  },
  {
   "cell_type": "code",
   "execution_count": 21,
   "metadata": {
    "collapsed": true,
    "deletable": true,
    "editable": true
   },
   "outputs": [],
   "source": [
    "excl = ['Target', 'Date', 'Timestamp']\n",
    "cols = [c for c in df.columns if c not in excl]"
   ]
  },
  {
   "cell_type": "markdown",
   "metadata": {
    "deletable": true,
    "editable": true
   },
   "source": [
    "# xgboost"
   ]
  },
  {
   "cell_type": "code",
   "execution_count": 22,
   "metadata": {
    "collapsed": false,
    "deletable": true,
    "editable": true
   },
   "outputs": [
    {
     "name": "stdout",
     "output_type": "stream",
     "text": [
      "[0]\ttrain-mlogloss:1.09319\ttest-mlogloss:1.0941\n",
      "[50]\ttrain-mlogloss:0.865077\ttest-mlogloss:0.907857\n",
      "[100]\ttrain-mlogloss:0.698479\ttest-mlogloss:0.777252\n",
      "[150]\ttrain-mlogloss:0.571821\ttest-mlogloss:0.682765\n",
      "[200]\ttrain-mlogloss:0.473223\ttest-mlogloss:0.612957\n",
      "[250]\ttrain-mlogloss:0.394748\ttest-mlogloss:0.560811\n",
      "[300]\ttrain-mlogloss:0.331058\ttest-mlogloss:0.521684\n",
      "[350]\ttrain-mlogloss:0.278884\ttest-mlogloss:0.492351\n",
      "[400]\ttrain-mlogloss:0.236073\ttest-mlogloss:0.470529\n",
      "[450]\ttrain-mlogloss:0.200668\ttest-mlogloss:0.454561\n",
      "[500]\ttrain-mlogloss:0.171322\ttest-mlogloss:0.443195\n",
      "[550]\ttrain-mlogloss:0.146963\ttest-mlogloss:0.435429\n",
      "[600]\ttrain-mlogloss:0.126759\ttest-mlogloss:0.430568\n",
      "[650]\ttrain-mlogloss:0.10994\ttest-mlogloss:0.427956\n",
      "[700]\ttrain-mlogloss:0.0959327\ttest-mlogloss:0.427175\n",
      "699\n",
      "Accuracy: 0.864109347443\n",
      "Coefficient Kappa: 0.151251858024\n",
      "Confussion Matrix:\n",
      "[[9680   50   30]\n",
      " [ 699   72   35]\n",
      " [ 663   64   47]]\n",
      "\n",
      " \n",
      " \n",
      " \n",
      " \n",
      " \n",
      " ********** WEIGHT ************\n",
      "('Cumulative_return_100', 35)\n",
      "('Cumulative_return', 414)\n",
      "('Up_or_Down', 929)\n",
      "('Rolling_mean_2', 1173)\n",
      "('Rolling_mean_9', 1214)\n",
      "('Rolling_mean_7', 1256)\n",
      "('Rolling_mean_8', 1304)\n",
      "('Rolling_mean_10', 1499)\n",
      "('Rolling_mean_5', 1510)\n",
      "('Rolling_mean_6', 1523)\n",
      "('Rolling_mean_3', 1578)\n",
      "('Weighted_Price', 1614)\n",
      "('Rolling_mean_4', 1639)\n",
      "('Bollinger_band_mean_8_max', 1928)\n",
      "('Bollinger_band_mean_9_max', 1943)\n",
      "('Bollinger_band_mean_7_max', 2095)\n",
      "('Bollinger_band_mean_6_max', 2210)\n",
      "('Rolling_cov_9', 2230)\n",
      "('Bollinger_band_mean_5_max', 2297)\n",
      "('Bollinger_band_mean_8_min', 2538)\n",
      "('Rolling_cov_8', 2542)\n",
      "('Rolling_cov_6', 2552)\n",
      "('Rolling_cov_7', 2590)\n",
      "('Bollinger_band_mean_10_max', 2630)\n",
      "('Bollinger_band_mean_4_max', 2738)\n",
      "('Bollinger_band_mean_6_min', 2745)\n",
      "('Bollinger_band_mean_5_min', 2753)\n",
      "('Bollinger_band_mean_9_min', 2781)\n",
      "('Bollinger_band_mean_7_min', 2844)\n",
      "('Rolling_cov_10', 3051)\n",
      "('Bollinger_band_mean_4_min', 3237)\n",
      "('Rolling_cov_5', 3280)\n",
      "('Bollinger_band_mean_3_max', 3357)\n",
      "('Bollinger_band_mean_10_min', 3437)\n",
      "('OBV_Currency', 3541)\n",
      "('Bollinger_band_mean_3_min', 3894)\n",
      "('Rolling_cov_4', 4092)\n",
      "('Close', 4375)\n",
      "('Bollinger_band_mean_2_max', 5021)\n",
      "('Rolling_cov_3', 5094)\n",
      "('Bollinger_band_mean_2_min', 5570)\n",
      "('Daily_return_100', 6277)\n",
      "('OBV_Currency_mean', 6566)\n",
      "('Low', 6568)\n",
      "('Year', 8017)\n",
      "('Rolling_cov_2', 9102)\n",
      "('High', 9770)\n",
      "('Acc_Dist_Roc_Currency', 11649)\n",
      "('Chaikin_Money_Flow_3_Currency', 12820)\n",
      "('Money_Flow_Currency', 14499)\n",
      "('Month', 19353)\n",
      "('Rolling_std_8', 21694)\n",
      "('Rolling_std_9', 21905)\n",
      "('Rolling_std_7', 23968)\n",
      "('Rolling_std_6', 26619)\n",
      "('Rolling_std_10', 27364)\n",
      "('Weekday', 27539)\n",
      "('Rolling_std_5', 29451)\n",
      "('Force_Index_Currency', 30193)\n",
      "('Chaikin_Money_Flow_1_Currency', 30684)\n",
      "('Week', 32033)\n",
      "('Rolling_std_4', 34064)\n",
      "('Acc_Dist_Currency', 34547)\n",
      "('Chaikin_Money_Flow_2_Currency', 35296)\n",
      "('Rolling_std_3', 36267)\n",
      "('OBV_BTC', 37811)\n",
      "('Open', 37834)\n",
      "('Rolling_std_2', 39187)\n",
      "('Volume_Currency', 43109)\n",
      "('RSI', 44439)\n",
      "('Chaikin_Money_Flow_1_BTC', 47387)\n",
      "('Close-open', 48058)\n",
      "('Chaikin_Money_Flow_3_BTC', 48599)\n",
      "('Vortex_pos', 49432)\n",
      "('Vortex_neg', 49942)\n",
      "('Day', 50113)\n",
      "('MACD', 51230)\n",
      "('Momentum_9', 52014)\n",
      "('High-low', 52143)\n",
      "('Hour', 52188)\n",
      "('MACD_sign', 52886)\n",
      "('Acc_Dist_BTC', 53515)\n",
      "('Force_Index_BTC', 53594)\n",
      "('Momentum_10', 53947)\n",
      "('Chaikin_Money_Flow_2_BTC', 54746)\n",
      "('Momentum_8', 54864)\n",
      "('MACD_diff', 55292)\n",
      "('Momentum_7', 55331)\n",
      "('Momentum_6', 56326)\n",
      "('Momentum_5', 57291)\n",
      "('Money_Flow_BTC', 58796)\n",
      "('OBV_BTC_mean', 59123)\n",
      "('Momentum_4', 59183)\n",
      "('Momentum_2', 60233)\n",
      "('ADX_neg', 60291)\n",
      "('Daily_return', 60587)\n",
      "('ADX_pos', 60992)\n",
      "('Momentum_3', 61085)\n",
      "('Volume_BTC', 67829)\n",
      "('ADX', 76902)\n",
      "('Acc_Dist_Roc_BTC', 80920)\n",
      "\n",
      " \n",
      " \n",
      " \n",
      " \n",
      " \n",
      " ********** GAIN ************\n",
      "('Open', 0.7955182469982373)\n",
      "('Hour', 0.8297192839936304)\n",
      "('Day', 0.8318626761371436)\n",
      "('Weekday', 0.8488456437548023)\n",
      "('Close-open', 0.8661362096064404)\n",
      "('Acc_Dist_Roc_BTC', 0.869806189371085)\n",
      "('Month', 0.8811070219819565)\n",
      "('Money_Flow_BTC', 0.8848923331051203)\n",
      "('Chaikin_Money_Flow_3_BTC', 0.8882036670747345)\n",
      "('High', 0.889361033967016)\n",
      "('Rolling_std_2', 0.9017785984228265)\n",
      "('Force_Index_BTC', 0.903112853705507)\n",
      "('Acc_Dist_BTC', 0.9033089040876379)\n",
      "('Rolling_cov_4', 0.9156449335618289)\n",
      "('Rolling_cov_2', 0.9186483959959376)\n",
      "('Chaikin_Money_Flow_1_BTC', 0.9246658237446179)\n",
      "('OBV_Currency_mean', 0.9373707225735644)\n",
      "('ADX_neg', 0.9374904206448769)\n",
      "('Rolling_cov_3', 0.9390920369536703)\n",
      "('Rolling_std_3', 0.9409809180693378)\n",
      "('Volume_Currency', 0.9483307386876425)\n",
      "('Chaikin_Money_Flow_2_BTC', 0.9551693954554311)\n",
      "('OBV_Currency', 0.9556026161762194)\n",
      "('MACD_diff', 0.9599865188444612)\n",
      "('OBV_BTC_mean', 0.9601100283744941)\n",
      "('ADX_pos', 0.9607032811798393)\n",
      "('Rolling_cov_5', 0.9619829410460363)\n",
      "('ADX', 0.96288204114937)\n",
      "('Money_Flow_Currency', 0.9651696340518184)\n",
      "('Week', 0.9656959418006397)\n",
      "('Acc_Dist_Currency', 0.969440796246064)\n",
      "('Force_Index_Currency', 0.9695718908282924)\n",
      "('Chaikin_Money_Flow_1_Currency', 0.9703621309396956)\n",
      "('OBV_BTC', 0.970446941117236)\n",
      "('Rolling_std_4', 0.9707920927400683)\n",
      "('RSI', 0.9802888527194605)\n",
      "('Vortex_pos', 0.9824141415483231)\n",
      "('Acc_Dist_Roc_Currency', 0.992594577286304)\n",
      "('Vortex_neg', 0.9964375897744411)\n",
      "('Rolling_std_5', 1.0025738841205705)\n",
      "('Chaikin_Money_Flow_2_Currency', 1.0061513880481652)\n",
      "('Rolling_cov_6', 1.0267770940940466)\n",
      "('Chaikin_Money_Flow_3_Currency', 1.0329814107640456)\n",
      "('Up_or_Down', 1.0352907958654458)\n",
      "('Momentum_2', 1.0385728309049145)\n",
      "('Low', 1.0434334752303258)\n",
      "('Rolling_std_6', 1.0448354743030452)\n",
      "('Momentum_6', 1.0742728667631691)\n",
      "('Momentum_4', 1.0762068850939663)\n",
      "('Momentum_3', 1.0910723637926898)\n",
      "('Rolling_mean_5', 1.0921999519271524)\n",
      "('Momentum_5', 1.1017888841861792)\n",
      "('Bollinger_band_mean_10_max', 1.1106476367684437)\n",
      "('Momentum_9', 1.1171488909178529)\n",
      "('Daily_return_100', 1.1202182791372006)\n",
      "('Rolling_mean_8', 1.1248531985613506)\n",
      "('Weighted_Price', 1.1298447773091713)\n",
      "('Rolling_mean_9', 1.1317687992092254)\n",
      "('Bollinger_band_mean_8_max', 1.15788114041753)\n",
      "('MACD', 1.1643594011662421)\n",
      "('Daily_return', 1.1645025836567817)\n",
      "('Rolling_cov_7', 1.1693245000698815)\n",
      "('Rolling_mean_4', 1.1697230458511303)\n",
      "('Bollinger_band_mean_5_max', 1.171527440374401)\n",
      "('Rolling_cov_9', 1.175858059872462)\n",
      "('Rolling_std_9', 1.1916189173155884)\n",
      "('Bollinger_band_mean_7_max', 1.194178195767063)\n",
      "('Rolling_std_7', 1.199557966454623)\n",
      "('Rolling_mean_10', 1.2011095482955314)\n",
      "('Bollinger_band_mean_9_max', 1.2059200466958275)\n",
      "('Rolling_mean_3', 1.2087533785994948)\n",
      "('Bollinger_band_mean_6_max', 1.2094101704366564)\n",
      "('MACD_sign', 1.2380728019153877)\n",
      "('Rolling_mean_6', 1.2499602753775445)\n",
      "('Bollinger_band_mean_2_min', 1.2721043666143574)\n",
      "('Rolling_std_8', 1.273127106308019)\n",
      "('Bollinger_band_mean_3_max', 1.2742706657253506)\n",
      "('Volume_BTC', 1.326967035725812)\n",
      "('Rolling_cov_8', 1.3312939549763947)\n",
      "('Bollinger_band_mean_4_max', 1.3333476326844431)\n",
      "('Bollinger_band_mean_3_min', 1.3542393477146886)\n",
      "('Rolling_mean_2', 1.3575050693290696)\n",
      "('High-low', 1.3643212387886658)\n",
      "('Bollinger_band_mean_6_min', 1.4051134962681224)\n",
      "('Bollinger_band_mean_2_max', 1.414928018411988)\n",
      "('Bollinger_band_mean_8_min', 1.4158952040299455)\n",
      "('Rolling_mean_7', 1.415926027648091)\n",
      "('Bollinger_band_mean_5_min', 1.422832434703961)\n",
      "('Rolling_std_10', 1.4573167409251113)\n",
      "('Bollinger_band_mean_7_min', 1.4883614693959906)\n",
      "('Rolling_cov_10', 1.4886210831530673)\n",
      "('Close', 1.5193947938946275)\n",
      "('Cumulative_return', 1.5440938035990346)\n",
      "('Bollinger_band_mean_9_min', 1.599084291413166)\n",
      "('Bollinger_band_mean_10_min', 1.633966050456911)\n",
      "('Bollinger_band_mean_4_min', 1.8621457572242845)\n",
      "('Momentum_10', 1.9360054132167495)\n",
      "('Momentum_7', 1.9600512572635573)\n",
      "('Momentum_8', 2.4505137610288465)\n",
      "('Cumulative_return_100', 2.798064399142857)\n",
      "('Year', 6.087939420140643)\n"
     ]
    }
   ],
   "source": [
    "y_train = train['Target']\n",
    "y_mean = np.mean(y_train)\n",
    "xgb_params = {\n",
    "    'n_trees': 800,\n",
    "    'eta': 0.0045,\n",
    "    'max_depth': 20,\n",
    "    'subsample': 0.95,\n",
    "    'colsample_bytree': 0.95,\n",
    "    'colsample_bylevel': 0.95,\n",
    "    'objective': 'multi:softmax',\n",
    "    'num_class' : 3,\n",
    "    'eval_metric': 'mlogloss', # 'merror', # 'rmse',\n",
    "    'base_score': 0,\n",
    "    'silent': 1\n",
    "}\n",
    "\n",
    "dtrain = xgb.DMatrix(train[cols], y_train)\n",
    "dtest = xgb.DMatrix(test[cols])\n",
    "\n",
    "cv_result = xgb.cv(xgb_params, dtrain)\n",
    "\n",
    "# xgboost, cross-validation\n",
    "cv_result = xgb.cv(xgb_params,\n",
    "                   dtrain,\n",
    "                   num_boost_round=5000,\n",
    "                   early_stopping_rounds=50,\n",
    "                   verbose_eval=50,\n",
    "                   show_stdv=False\n",
    "                  )\n",
    "num_boost_rounds = len(cv_result)\n",
    "\n",
    "# num_boost_rounds = 1000\n",
    "\n",
    "print(num_boost_rounds)\n",
    "\n",
    "# train\n",
    "model = xgb.train(xgb_params, dtrain, num_boost_round=num_boost_rounds)\n",
    "\n",
    "# predict\n",
    "y_pred = model.predict(dtest)\n",
    "y_true = test['Target']\n",
    "\n",
    "utils.metrics2(y_true, y_pred)\n",
    "\n",
    "print \"\\n \\n \\n \\n \\n \\n ********** WEIGHT ************\"\n",
    "importance = model.get_fscore()\n",
    "importance = sorted(importance.items(), key=operator.itemgetter(1))\n",
    "for i in importance:\n",
    "    print i\n",
    "    \n",
    "print \"\\n \\n \\n \\n \\n \\n ********** GAIN ************\"\n",
    "importance = model.get_score(fmap='', importance_type='gain')\n",
    "importance = sorted(importance.items(), key=operator.itemgetter(1))\n",
    "for i in importance:\n",
    "    print i"
   ]
  },
  {
   "cell_type": "code",
   "execution_count": null,
   "metadata": {
    "collapsed": true
   },
   "outputs": [],
   "source": []
  }
 ],
 "metadata": {
  "kernelspec": {
   "display_name": "Python 2",
   "language": "python",
   "name": "python2"
  },
  "language_info": {
   "codemirror_mode": {
    "name": "ipython",
    "version": 2
   },
   "file_extension": ".py",
   "mimetype": "text/x-python",
   "name": "python",
   "nbconvert_exporter": "python",
   "pygments_lexer": "ipython2",
   "version": "2.7.12"
  }
 },
 "nbformat": 4,
 "nbformat_minor": 2
}
