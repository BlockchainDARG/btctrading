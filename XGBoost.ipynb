{
 "cells": [
  {
   "cell_type": "code",
   "execution_count": 1,
   "metadata": {
    "collapsed": false,
    "deletable": true,
    "editable": true
   },
   "outputs": [
    {
     "name": "stderr",
     "output_type": "stream",
     "text": [
      "/home/bukosabino/envs/deeplearning/local/lib/python2.7/site-packages/sklearn/cross_validation.py:44: DeprecationWarning: This module was deprecated in version 0.18 in favor of the model_selection module into which all the refactored classes and functions are moved. Also note that the interface of the new CV iterators are different from that of this module. This module will be removed in 0.20.\n",
      "  \"This module will be removed in 0.20.\", DeprecationWarning)\n"
     ]
    }
   ],
   "source": [
    "import numpy as np\n",
    "import pandas as pd\n",
    "from sklearn.ensemble import *\n",
    "import xgboost as xgb\n",
    "\n",
    "import settings\n",
    "import utils\n",
    "import get_data"
   ]
  },
  {
   "cell_type": "markdown",
   "metadata": {
    "deletable": true,
    "editable": true
   },
   "source": [
    "### Get Data"
   ]
  },
  {
   "cell_type": "markdown",
   "metadata": {
    "deletable": true,
    "editable": true
   },
   "source": [
    "API: http://bitcoincharts.com/charts\n",
    "\n",
    "period = ['1-min', '5-min', '15-min', '30-min', 'Hourly', '2-hour', '6-hour', '12-hour', 'Daily', 'Weekly']\n",
    "\n",
    "market = ['coincheckJPY', 'krakenEUR', 'bitstampUSD', 'okcoinCNY', 'btcnCNY', 'krakenUSD', 'itbitUSD', 'bitbayPLN', 'btcoidIDR', 'localbtcRUB', 'localbtcGBP', 'btcdeEUR', 'coinfloorGBP', 'localbtcUSD']"
   ]
  },
  {
   "cell_type": "code",
   "execution_count": 2,
   "metadata": {
    "collapsed": false,
    "deletable": true,
    "editable": true
   },
   "outputs": [],
   "source": [
    "# get_data.get('data/datas.csv', period='Hourly', market='bitstampUSD')"
   ]
  },
  {
   "cell_type": "markdown",
   "metadata": {
    "deletable": true,
    "editable": true
   },
   "source": [
    "### Load Data"
   ]
  },
  {
   "cell_type": "code",
   "execution_count": 3,
   "metadata": {
    "collapsed": true,
    "deletable": true,
    "editable": true
   },
   "outputs": [],
   "source": [
    "df = pd.read_csv('data/datas.csv', sep=',')"
   ]
  },
  {
   "cell_type": "code",
   "execution_count": 4,
   "metadata": {
    "collapsed": false,
    "deletable": true,
    "editable": true
   },
   "outputs": [
    {
     "data": {
      "text/plain": [
       "(50756, 8)"
      ]
     },
     "execution_count": 4,
     "metadata": {},
     "output_type": "execute_result"
    }
   ],
   "source": [
    "df.shape"
   ]
  },
  {
   "cell_type": "markdown",
   "metadata": {
    "deletable": true,
    "editable": true
   },
   "source": [
    "### Preprocessing"
   ]
  },
  {
   "cell_type": "code",
   "execution_count": 5,
   "metadata": {
    "collapsed": true,
    "deletable": true,
    "editable": true
   },
   "outputs": [],
   "source": [
    "df = utils.dropna(df)"
   ]
  },
  {
   "cell_type": "code",
   "execution_count": 6,
   "metadata": {
    "collapsed": false,
    "deletable": true,
    "editable": true
   },
   "outputs": [
    {
     "data": {
      "text/plain": [
       "(45005, 8)"
      ]
     },
     "execution_count": 6,
     "metadata": {},
     "output_type": "execute_result"
    }
   ],
   "source": [
    "df.shape"
   ]
  },
  {
   "cell_type": "markdown",
   "metadata": {
    "deletable": true,
    "editable": true
   },
   "source": [
    "### Transformation"
   ]
  },
  {
   "cell_type": "markdown",
   "metadata": {
    "deletable": true,
    "editable": true
   },
   "source": [
    "Create column target with class [UP, KEEP, DOWN]"
   ]
  },
  {
   "cell_type": "code",
   "execution_count": 7,
   "metadata": {
    "collapsed": true,
    "deletable": true,
    "editable": true
   },
   "outputs": [],
   "source": [
    "df['Target'] = 0 # 'KEEP'\n",
    "df.loc[df.Open + (df.Open * settings.PERCENT_UP) < df.Close, 'Target'] = 1 # 'UP'\n",
    "df.loc[df.Open - (df.Open * settings.PERCENT_DOWN) > df.Close, 'Target'] = 2 # 'DOWN'"
   ]
  },
  {
   "cell_type": "code",
   "execution_count": 8,
   "metadata": {
    "collapsed": false,
    "deletable": true,
    "editable": true
   },
   "outputs": [
    {
     "name": "stdout",
     "output_type": "stream",
     "text": [
      "Number of rows: 45005, Number of columns: 9\n",
      "Number of UP rows: 1736, Number of DOWN rows: 1706\n"
     ]
    }
   ],
   "source": [
    "print('Number of rows: {}, Number of columns: {}'.format(*df.shape))\n",
    "print('Number of UP rows: {}, Number of DOWN rows: {}'.format(len(df[df.Target == 1]), len(df[df.Target == 2])))"
   ]
  },
  {
   "cell_type": "markdown",
   "metadata": {
    "deletable": true,
    "editable": true
   },
   "source": [
    "Create columns from Timestamp to Date, Year, Month and Day."
   ]
  },
  {
   "cell_type": "markdown",
   "metadata": {
    "deletable": true,
    "editable": true
   },
   "source": [
    "### Feature Engineering"
   ]
  },
  {
   "cell_type": "code",
   "execution_count": 9,
   "metadata": {
    "collapsed": true,
    "deletable": true,
    "editable": true
   },
   "outputs": [],
   "source": [
    "df['Date'] = df['Timestamp'].apply(utils.timestamptodate)\n",
    "df['Date'] = pd.to_datetime(df['Date'])\n",
    "df['Year'] = df['Date'].dt.year\n",
    "df['Month'] = df['Date'].dt.month\n",
    "df['Day'] = df['Date'].dt.day\n",
    "df['Week'] = df['Date'].dt.weekofyear\n",
    "df['Weekday'] = df['Date'].dt.weekday\n",
    "\n",
    "# extra dates\n",
    "df[\"yearmonth\"] = df[\"Date\"].dt.year*100 + df[\"Date\"].dt.month\n",
    "df[\"yearweek\"] = df[\"Date\"].dt.year*100 + df[\"Date\"].dt.weekofyear\n",
    "df[\"yearweekday\"] = df[\"Date\"].dt.year*10 + df[\"Date\"].dt.weekday"
   ]
  },
  {
   "cell_type": "code",
   "execution_count": 10,
   "metadata": {
    "collapsed": true,
    "deletable": true,
    "editable": true
   },
   "outputs": [],
   "source": [
    "df['High-low'] = df['High'] - df['Low']\n",
    "df['High-low_mean'] = (df['High'] - df['Low']) / 2.0\n",
    "df['Close-open'] = df['Close'] - df['Open']\n",
    "df['Close-open_mean'] = (df['Close'] - df['Open']) / 2.0"
   ]
  },
  {
   "cell_type": "code",
   "execution_count": 11,
   "metadata": {
    "collapsed": false,
    "deletable": true,
    "editable": true
   },
   "outputs": [],
   "source": [
    "# Fundamental analysis\n",
    "\n",
    "# daily return\n",
    "df['Daily_return'] = (df['Close'] / df['Close'].shift(1)) - 1\n",
    "df['Daily_return_100'] = ((df['Close'] / df['Close'].shift(1)) - 1) * 100\n",
    "\n",
    "# cumulative return\n",
    "df['Cumulative_return'] = (df['Close'] / df['Close'][0]) - 1\n",
    "df['Cumulative_return_100'] = ((df['Close'] / df['Close'][0]) - 1) * 100\n",
    "\n",
    "# TODO: cumulative return week, month, year..."
   ]
  },
  {
   "cell_type": "code",
   "execution_count": 12,
   "metadata": {
    "collapsed": false,
    "deletable": true,
    "editable": true
   },
   "outputs": [],
   "source": [
    "# technical analysis (price and volume)\n",
    "\n",
    "# momentum\n",
    "df['Momentum_3'] = (df['Close'] / df['Close'].shift(3)) - 1\n",
    "df['Momentum_3'] = df['Momentum_3'].shift(-1)\n",
    "\n",
    "df['Momentum_5'] = (df['Close'] / df['Close'].shift(5)) - 1\n",
    "df['Momentum_5'] = df['Momentum_5'].shift(-1)\n",
    "\n",
    "df['Momentum_7'] = (df['Close'] / df['Close'].shift(7)) - 1\n",
    "df['Momentum_7'] = df['Momentum_7'].shift(-1)\n",
    "\n",
    "df['Momentum_10'] = (df['Close'] / df['Close'].shift(10)) - 1\n",
    "df['Momentum_10'] = df['Momentum_10'].shift(-1)\n",
    "\n",
    "# rollings: https://github.com/pandas-dev/pandas/blob/master/pandas/stats/moments.py\n",
    "df['Rolling_mean_3'] = df.set_index('Date')['Close'].rolling(window=3).mean().values\n",
    "df['Rolling_std_3'] = df.set_index('Date')['Close'].rolling(window=3).std().values\n",
    "df['Rolling_cov_3'] = df.set_index('Date')['Close'].rolling(window=3).cov().values\n",
    "\n",
    "df['Rolling_mean_3'] = df['Rolling_mean_3'].shift(-1)\n",
    "df['Rolling_std_3'] = df['Rolling_std_3'].shift(-1)\n",
    "df['Rolling_cov_3'] = df['Rolling_cov_3'].shift(-1)\n",
    "\n",
    "df['Rolling_mean_5'] = df.set_index('Date')['Close'].rolling(window=5).mean().values\n",
    "df['Rolling_std_5'] = df.set_index('Date')['Close'].rolling(window=5).std().values\n",
    "df['Rolling_cov_5'] = df.set_index('Date')['Close'].rolling(window=5).cov().values\n",
    "\n",
    "df['Rolling_mean_5'] = df['Rolling_mean_5'].shift(-1)\n",
    "df['Rolling_std_5'] = df['Rolling_std_5'].shift(-1)\n",
    "df['Rolling_cov_5'] = df['Rolling_cov_5'].shift(-1)\n",
    "\n",
    "df['Rolling_mean_10'] = df.set_index('Date')['Close'].rolling(window=10).mean().values\n",
    "df['Rolling_std_10'] = df.set_index('Date')['Close'].rolling(window=10).std().values\n",
    "df['Rolling_cov_10'] = df.set_index('Date')['Close'].rolling(window=10).cov().values\n",
    "\n",
    "df['Rolling_mean_10'] = df['Rolling_mean_10'].shift(-1)\n",
    "df['Rolling_std_10'] = df['Rolling_std_10'].shift(-1)\n",
    "df['Rolling_cov_10'] = df['Rolling_cov_10'].shift(-1)\n",
    "\n",
    "# bollinger bands\n",
    "\n",
    "df['Bollinger_band_mean_3_max'] = df['Rolling_mean_3'] + (2*df['Rolling_std_3'])\n",
    "df['Bollinger_band_mean_3_min'] = df['Rolling_mean_3'] - (2*df['Rolling_std_3'])\n",
    "\n",
    "df['Bollinger_band_mean_5_max'] = df['Rolling_mean_5'] + (2*df['Rolling_std_5'])\n",
    "df['Bollinger_band_mean_5_min'] = df['Rolling_mean_5'] - (2*df['Rolling_std_5'])\n",
    "\n",
    "df['Bollinger_band_mean_10_max'] = df['Rolling_mean_10'] + (2*df['Rolling_std_10'])\n",
    "df['Bollinger_band_mean_10_min'] = df['Rolling_mean_10'] - (2*df['Rolling_std_10'])\n"
   ]
  },
  {
   "cell_type": "code",
   "execution_count": 13,
   "metadata": {
    "collapsed": false,
    "deletable": true,
    "editable": true
   },
   "outputs": [
    {
     "name": "stdout",
     "output_type": "stream",
     "text": [
      "Number of rows: 45005, Number of columns: 45\n"
     ]
    }
   ],
   "source": [
    "print('Number of rows: {}, Number of columns: {}'.format(*df.shape))"
   ]
  },
  {
   "cell_type": "code",
   "execution_count": 14,
   "metadata": {
    "collapsed": false,
    "deletable": true,
    "editable": true
   },
   "outputs": [],
   "source": [
    "# shift\n",
    "cols = ['Open', 'High', 'Low', 'Close', 'Volume_BTC', 'Volume_Currency', 'Weighted_Price', 'High-low', 'High-low_mean', 'Close-open', 'Close-open_mean', 'Daily_return', 'Daily_return_100', 'Cumulative_return', 'Cumulative_return_100']\n",
    "for col in cols:\n",
    "    df[col] = df[col].shift(-1)\n",
    "df = df.dropna()"
   ]
  },
  {
   "cell_type": "code",
   "execution_count": 15,
   "metadata": {
    "collapsed": false,
    "deletable": true,
    "editable": true
   },
   "outputs": [
    {
     "name": "stdout",
     "output_type": "stream",
     "text": [
      "Number of rows: 44995, Number of columns: 45\n"
     ]
    }
   ],
   "source": [
    "print('Number of rows: {}, Number of columns: {}'.format(*df.shape))"
   ]
  },
  {
   "cell_type": "markdown",
   "metadata": {
    "deletable": true,
    "editable": true
   },
   "source": [
    "### Split"
   ]
  },
  {
   "cell_type": "code",
   "execution_count": 16,
   "metadata": {
    "collapsed": true,
    "deletable": true,
    "editable": true
   },
   "outputs": [],
   "source": [
    "train, test = utils.split_df2(df)"
   ]
  },
  {
   "cell_type": "code",
   "execution_count": 17,
   "metadata": {
    "collapsed": true,
    "deletable": true,
    "editable": true
   },
   "outputs": [],
   "source": [
    "excl = ['Target', 'Date', 'Timestamp']\n",
    "cols = [c for c in df.columns if c not in excl]"
   ]
  },
  {
   "cell_type": "markdown",
   "metadata": {
    "deletable": true,
    "editable": true
   },
   "source": [
    "# xgboost"
   ]
  },
  {
   "cell_type": "code",
   "execution_count": 18,
   "metadata": {
    "collapsed": false,
    "deletable": true,
    "editable": true
   },
   "outputs": [
    {
     "name": "stdout",
     "output_type": "stream",
     "text": [
      "[0]\ttrain-mlogloss:1.09239\ttest-mlogloss:1.09272\n",
      "[50]\ttrain-mlogloss:0.834179\ttest-mlogloss:0.849465\n",
      "[100]\ttrain-mlogloss:0.650097\ttest-mlogloss:0.677785\n",
      "[150]\ttrain-mlogloss:0.513633\ttest-mlogloss:0.551788\n",
      "[200]\ttrain-mlogloss:0.409891\ttest-mlogloss:0.457024\n",
      "[250]\ttrain-mlogloss:0.329746\ttest-mlogloss:0.38446\n",
      "[300]\ttrain-mlogloss:0.267055\ttest-mlogloss:0.3284\n",
      "[350]\ttrain-mlogloss:0.217569\ttest-mlogloss:0.284712\n",
      "[400]\ttrain-mlogloss:0.178243\ttest-mlogloss:0.250568\n",
      "[450]\ttrain-mlogloss:0.146843\ttest-mlogloss:0.223758\n",
      "[500]\ttrain-mlogloss:0.121627\ttest-mlogloss:0.202627\n",
      "[550]\ttrain-mlogloss:0.101318\ttest-mlogloss:0.186029\n",
      "[600]\ttrain-mlogloss:0.084881\ttest-mlogloss:0.172943\n",
      "[650]\ttrain-mlogloss:0.0715383\ttest-mlogloss:0.16269\n",
      "[700]\ttrain-mlogloss:0.0606653\ttest-mlogloss:0.154631\n",
      "[750]\ttrain-mlogloss:0.0517803\ttest-mlogloss:0.148338\n",
      "[800]\ttrain-mlogloss:0.044478\ttest-mlogloss:0.143419\n",
      "[850]\ttrain-mlogloss:0.038464\ttest-mlogloss:0.139635\n",
      "[900]\ttrain-mlogloss:0.0334903\ttest-mlogloss:0.136732\n",
      "[950]\ttrain-mlogloss:0.0293583\ttest-mlogloss:0.134532\n",
      "[1000]\ttrain-mlogloss:0.0259177\ttest-mlogloss:0.132911\n",
      "[1050]\ttrain-mlogloss:0.023043\ttest-mlogloss:0.131754\n",
      "[1100]\ttrain-mlogloss:0.02062\ttest-mlogloss:0.130926\n",
      "[1150]\ttrain-mlogloss:0.0185743\ttest-mlogloss:0.130391\n",
      "[1200]\ttrain-mlogloss:0.0168377\ttest-mlogloss:0.130079\n",
      "[1250]\ttrain-mlogloss:0.0153563\ttest-mlogloss:0.129931\n",
      "[1300]\ttrain-mlogloss:0.014086\ttest-mlogloss:0.129908\n",
      "1271\n",
      "Accuracy: 0.956618366077\n",
      "Coefficient Kappa: 0.651949125021\n",
      "Confussion Matrix:\n",
      "[[10289    46    46]\n",
      " [  164   235    18]\n",
      " [  192    22   237]]\n"
     ]
    }
   ],
   "source": [
    "y_train = train['Target']\n",
    "y_mean = np.mean(y_train)\n",
    "xgb_params = {\n",
    "    'n_trees': 800,\n",
    "    'eta': 0.0045,\n",
    "    'max_depth': 20,\n",
    "    'subsample': 0.85,\n",
    "    'objective': 'multi:softmax',\n",
    "    'num_class' : 3,\n",
    "    'eval_metric': 'mlogloss', # 'merror', # 'rmse',\n",
    "    'base_score': 0,\n",
    "    'silent': 1\n",
    "}\n",
    "\n",
    "dtrain = xgb.DMatrix(train[cols], y_train)\n",
    "dtest = xgb.DMatrix(test[cols])\n",
    "\n",
    "cv_result = xgb.cv(xgb_params, dtrain)\n",
    "\n",
    "# xgboost, cross-validation\n",
    "cv_result = xgb.cv(xgb_params,\n",
    "                   dtrain,\n",
    "                   num_boost_round=5000,\n",
    "                   early_stopping_rounds=50,\n",
    "                   verbose_eval=50,\n",
    "                   show_stdv=False\n",
    "                  )\n",
    "num_boost_rounds = len(cv_result)\n",
    "\n",
    "#num_boost_rounds = 756\n",
    "\n",
    "print(num_boost_rounds)\n",
    "\n",
    "# train\n",
    "model = xgb.train(xgb_params, dtrain, num_boost_round=num_boost_rounds)\n",
    "\n",
    "y_pred = model.predict(dtest)\n",
    "y_true = test['Target']\n",
    "\n",
    "# utils.metrics(y_true, y_pred)\n",
    "utils.metrics2(y_true, y_pred)"
   ]
  },
  {
   "cell_type": "code",
   "execution_count": 19,
   "metadata": {
    "collapsed": false,
    "deletable": true,
    "editable": true
   },
   "outputs": [
    {
     "data": {
      "text/plain": [
       "[('Rolling_cov_5', 52),\n",
       " ('Rolling_cov_3', 589),\n",
       " ('Year', 2404),\n",
       " ('Weighted_Price', 3024),\n",
       " ('Rolling_mean_5', 4682),\n",
       " ('Close', 4705),\n",
       " ('Rolling_mean_3', 5230),\n",
       " ('Bollinger_band_mean_3_max', 5459),\n",
       " ('Bollinger_band_mean_5_max', 6822),\n",
       " ('High', 9150),\n",
       " ('Rolling_mean_10', 10699),\n",
       " ('Low', 10929),\n",
       " ('Bollinger_band_mean_5_min', 11618),\n",
       " ('Bollinger_band_mean_3_min', 13842),\n",
       " ('yearmonth', 14256),\n",
       " ('Bollinger_band_mean_10_max', 16137),\n",
       " ('yearweek', 19218),\n",
       " ('Bollinger_band_mean_10_min', 19476),\n",
       " ('Month', 20329),\n",
       " ('yearweekday', 26745),\n",
       " ('Weekday', 31299),\n",
       " ('Week', 35116),\n",
       " ('Volume_Currency', 47450),\n",
       " ('Open', 52526),\n",
       " ('Rolling_std_5', 59523),\n",
       " ('High-low', 60658),\n",
       " ('Day', 65182),\n",
       " ('Rolling_std_10', 66400),\n",
       " ('Volume_BTC', 80068),\n",
       " ('Momentum_7', 88223),\n",
       " ('Momentum_10', 89828),\n",
       " ('Close-open', 90627),\n",
       " ('Momentum_5', 96923),\n",
       " ('Daily_return', 126629),\n",
       " ('Momentum_3', 129144),\n",
       " ('Rolling_std_3', 157556)]"
      ]
     },
     "execution_count": 19,
     "metadata": {},
     "output_type": "execute_result"
    }
   ],
   "source": [
    "import operator\n",
    "importance = model.get_fscore()\n",
    "importance = sorted(importance.items(), key=operator.itemgetter(1))\n",
    "importance"
   ]
  },
  {
   "cell_type": "code",
   "execution_count": 20,
   "metadata": {
    "collapsed": false,
    "deletable": true,
    "editable": true
   },
   "outputs": [
    {
     "data": {
      "text/plain": [
       "[('Rolling_cov_3', 0.44464253717657054),\n",
       " ('Weekday', 0.47395862513147397),\n",
       " ('Day', 0.4744266097092883),\n",
       " ('Week', 0.5193313165690181),\n",
       " ('Volume_BTC', 0.5422115800206447),\n",
       " ('Month', 0.5560869329059716),\n",
       " ('Rolling_cov_5', 0.5565997423076924),\n",
       " ('Year', 0.5593143460420117),\n",
       " ('Volume_Currency', 0.5829833221469765),\n",
       " ('Momentum_5', 0.6263700547213984),\n",
       " ('Momentum_10', 0.6265618135609475),\n",
       " ('yearweekday', 0.6358946635371938),\n",
       " ('Momentum_7', 0.6384458416022141),\n",
       " ('Rolling_std_10', 0.689176584933971),\n",
       " ('High-low', 0.7309376197528615),\n",
       " ('Bollinger_band_mean_3_max', 0.7546737668365984),\n",
       " ('Rolling_std_5', 0.8007603315860689),\n",
       " ('Low', 0.8649893041525225),\n",
       " ('Rolling_mean_3', 0.8674518708890959),\n",
       " ('Bollinger_band_mean_5_max', 0.891471700265174),\n",
       " ('Close', 0.8921436513496293),\n",
       " ('Bollinger_band_mean_10_max', 0.925914805810691),\n",
       " ('Open', 0.9275109546808378),\n",
       " ('Rolling_mean_5', 0.9647310600501906),\n",
       " ('yearweek', 1.0084876061404349),\n",
       " ('Weighted_Price', 1.0138816069678223),\n",
       " ('High', 1.032074789647439),\n",
       " ('Rolling_mean_10', 1.1074093625760104),\n",
       " ('Close-open', 1.2807031427155326),\n",
       " ('Daily_return', 1.5968764744659096),\n",
       " ('yearmonth', 1.75898378693861),\n",
       " ('Bollinger_band_mean_3_min', 1.9928188231174742),\n",
       " ('Rolling_std_3', 2.0400270008726866),\n",
       " ('Bollinger_band_mean_5_min', 2.444859807420811),\n",
       " ('Bollinger_band_mean_10_min', 2.506784423791039),\n",
       " ('Momentum_3', 2.8761518373897044)]"
      ]
     },
     "execution_count": 20,
     "metadata": {},
     "output_type": "execute_result"
    }
   ],
   "source": [
    "importance = model.get_score(fmap='', importance_type='gain')\n",
    "importance = sorted(importance.items(), key=operator.itemgetter(1))\n",
    "importance"
   ]
  },
  {
   "cell_type": "code",
   "execution_count": null,
   "metadata": {
    "collapsed": true,
    "deletable": true,
    "editable": true
   },
   "outputs": [],
   "source": []
  }
 ],
 "metadata": {
  "kernelspec": {
   "display_name": "Python 2",
   "language": "python",
   "name": "python2"
  },
  "language_info": {
   "codemirror_mode": {
    "name": "ipython",
    "version": 2
   },
   "file_extension": ".py",
   "mimetype": "text/x-python",
   "name": "python",
   "nbconvert_exporter": "python",
   "pygments_lexer": "ipython2",
   "version": "2.7.12"
  }
 },
 "nbformat": 4,
 "nbformat_minor": 2
}
