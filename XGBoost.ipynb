{
 "cells": [
  {
   "cell_type": "code",
   "execution_count": 1,
   "metadata": {
    "collapsed": false,
    "deletable": true,
    "editable": true
   },
   "outputs": [
    {
     "name": "stderr",
     "output_type": "stream",
     "text": [
      "/home/bukosabino/envs/deeplearning/local/lib/python2.7/site-packages/sklearn/cross_validation.py:41: DeprecationWarning: This module was deprecated in version 0.18 in favor of the model_selection module into which all the refactored classes and functions are moved. Also note that the interface of the new CV iterators are different from that of this module. This module will be removed in 0.20.\n",
      "  \"This module will be removed in 0.20.\", DeprecationWarning)\n"
     ]
    }
   ],
   "source": [
    "import numpy as np\n",
    "import pandas as pd\n",
    "from sklearn.ensemble import *\n",
    "import xgboost as xgb\n",
    "import operator\n",
    "\n",
    "import settings\n",
    "import utils\n",
    "import get_data\n",
    "from ta import *"
   ]
  },
  {
   "cell_type": "markdown",
   "metadata": {
    "deletable": true,
    "editable": true
   },
   "source": [
    "### Get Data"
   ]
  },
  {
   "cell_type": "markdown",
   "metadata": {
    "deletable": true,
    "editable": true
   },
   "source": [
    "API: http://bitcoincharts.com/charts\n",
    "\n",
    "period = ['1-min', '5-min', '15-min', '30-min', 'Hourly', '2-hour', '6-hour', '12-hour', 'Daily', 'Weekly']\n",
    "\n",
    "market = ['krakenEUR', 'bitstampUSD'] -> list of markets: https://bitcoincharts.com/charts/volumepie/"
   ]
  },
  {
   "cell_type": "code",
   "execution_count": 2,
   "metadata": {
    "collapsed": false,
    "deletable": true,
    "editable": true
   },
   "outputs": [],
   "source": [
    "# get_data.get('data/datas.csv', period='Hourly', market='bitstampUSD')"
   ]
  },
  {
   "cell_type": "markdown",
   "metadata": {
    "deletable": true,
    "editable": true
   },
   "source": [
    "### Load Data"
   ]
  },
  {
   "cell_type": "code",
   "execution_count": 3,
   "metadata": {
    "collapsed": true,
    "deletable": true,
    "editable": true
   },
   "outputs": [],
   "source": [
    "df = pd.read_csv('data/datas.csv', sep=',')"
   ]
  },
  {
   "cell_type": "code",
   "execution_count": 4,
   "metadata": {
    "collapsed": false,
    "deletable": true,
    "editable": true
   },
   "outputs": [
    {
     "name": "stdout",
     "output_type": "stream",
     "text": [
      "Number of rows: 52057, Number of columns: 8\n"
     ]
    }
   ],
   "source": [
    "print('Number of rows: {}, Number of columns: {}'.format(*df.shape))"
   ]
  },
  {
   "cell_type": "markdown",
   "metadata": {
    "deletable": true,
    "editable": true
   },
   "source": [
    "### Preprocessing"
   ]
  },
  {
   "cell_type": "code",
   "execution_count": 5,
   "metadata": {
    "collapsed": true,
    "deletable": true,
    "editable": true
   },
   "outputs": [],
   "source": [
    "df = utils.dropna(df)"
   ]
  },
  {
   "cell_type": "code",
   "execution_count": 6,
   "metadata": {
    "collapsed": false,
    "deletable": true,
    "editable": true
   },
   "outputs": [
    {
     "name": "stdout",
     "output_type": "stream",
     "text": [
      "Number of rows: 46306, Number of columns: 8\n"
     ]
    }
   ],
   "source": [
    "print('Number of rows: {}, Number of columns: {}'.format(*df.shape))"
   ]
  },
  {
   "cell_type": "markdown",
   "metadata": {
    "deletable": true,
    "editable": true
   },
   "source": [
    "### Transformation"
   ]
  },
  {
   "cell_type": "markdown",
   "metadata": {
    "deletable": true,
    "editable": true
   },
   "source": [
    "Create column target with class [UP, KEEP, DOWN]"
   ]
  },
  {
   "cell_type": "code",
   "execution_count": 7,
   "metadata": {
    "collapsed": true,
    "deletable": true,
    "editable": true
   },
   "outputs": [],
   "source": [
    "df['Target'] = 0 # 'KEEP'\n",
    "df.loc[df.Open + (df.Open * settings.PERCENT_UP) < df.Close, 'Target'] = 1 # 'UP'\n",
    "df.loc[df.Open - (df.Open * settings.PERCENT_DOWN) > df.Close, 'Target'] = 2 # 'DOWN'"
   ]
  },
  {
   "cell_type": "code",
   "execution_count": 8,
   "metadata": {
    "collapsed": false,
    "deletable": true,
    "editable": true
   },
   "outputs": [
    {
     "name": "stdout",
     "output_type": "stream",
     "text": [
      "Number of rows: 46306, Number of columns: 9\n",
      "Number of UP rows: 3432, Number of DOWN rows: 3226\n"
     ]
    }
   ],
   "source": [
    "print('Number of rows: {}, Number of columns: {}'.format(*df.shape))\n",
    "print('Number of UP rows: {}, Number of DOWN rows: {}'.format(len(df[df.Target == 1]), len(df[df.Target == 2])))"
   ]
  },
  {
   "cell_type": "markdown",
   "metadata": {
    "deletable": true,
    "editable": true
   },
   "source": [
    "Create columns from Timestamp to Date, Year, Month, Hour, etc."
   ]
  },
  {
   "cell_type": "markdown",
   "metadata": {
    "deletable": true,
    "editable": true
   },
   "source": [
    "### Feature Engineering"
   ]
  },
  {
   "cell_type": "code",
   "execution_count": 9,
   "metadata": {
    "collapsed": true,
    "deletable": true,
    "editable": true
   },
   "outputs": [],
   "source": [
    "df['Date'] = df['Timestamp'].apply(utils.timestamptodate)\n",
    "df['Date'] = pd.to_datetime(df['Date'])\n",
    "\n",
    "df['Year'] = df['Date'].dt.year\n",
    "df['Month'] = df['Date'].dt.month\n",
    "df['Week'] = df['Date'].dt.weekofyear\n",
    "df['Weekday'] = df['Date'].dt.weekday\n",
    "df['Day'] = df['Date'].dt.day\n",
    "df['Hour'] = df['Date'].dt.hour\n",
    "\n",
    "# extra dates\n",
    "# df[\"yearmonth\"] = df[\"Date\"].dt.year*100 + df[\"Date\"].dt.month\n",
    "# df[\"yearweek\"] = df[\"Date\"].dt.year*100 + df[\"Date\"].dt.weekofyear\n",
    "# df[\"yearweekday\"] = df[\"Date\"].dt.year*10 + df[\"Date\"].dt.weekday"
   ]
  },
  {
   "cell_type": "code",
   "execution_count": 10,
   "metadata": {
    "collapsed": true,
    "deletable": true,
    "editable": true
   },
   "outputs": [],
   "source": [
    "# shift\n",
    "cols = ['Open', 'High', 'Low', 'Close', 'Volume_BTC', 'Volume_Currency', 'Weighted_Price']\n",
    "for col in cols:\n",
    "    df[col] = df[col].shift(1)\n",
    "df = df.dropna()"
   ]
  },
  {
   "cell_type": "code",
   "execution_count": 11,
   "metadata": {
    "collapsed": false,
    "deletable": true,
    "editable": true
   },
   "outputs": [],
   "source": [
    "df['High-low'] = df['High'] - df['Low']\n",
    "df['Close-open'] = df['Close'] - df['Open']\n",
    "\n",
    "df['Up_or_Down'] = 0 # 'UP' or 'DOWN' if diff > settings.PERCENT_UP\n",
    "df.loc[( df.Open + (df.Open * settings.PERCENT_UP) ) < df.Close, 'Up_or_Down'] = 1 # 'UP'\n",
    "df.loc[( df.Open - (df.Open * settings.PERCENT_DOWN) ) > df.Close, 'Up_or_Down'] = 2 # 'DOWN'\n",
    "\n",
    "df['Up_or_Down_2'] = 0 # 'UP' or 'DOWN' if diff > settings.PERCENT_UP * 2\n",
    "df.loc[df.Open + (df.Open * settings.PERCENT_UP * 2 ) < df.Close, 'Up_or_Down_2'] = 1 # 'UP'\n",
    "df.loc[df.Open - (df.Open * settings.PERCENT_DOWN * 2) > df.Close, 'Up_or_Down_2'] = 2 # 'DOWN'\n",
    "\n",
    "df['Up_or_Down_3'] = 0 # 'UP' or 'DOWN' if diff > 0\n",
    "df.loc[df.Open < df.Close, 'Up_or_Down_3'] = 1 # 'UP'\n",
    "df.loc[df.Open  > df.Close, 'Up_or_Down_3'] = 2 # 'DOWN'\n",
    "\n",
    "df['Up_or_Down_4'] = 0 # 'UP' or 'DOWN' if diff > settings.PERCENT_UP / 2\n",
    "df.loc[df.Open + (df.Open * settings.PERCENT_UP / 2 ) < df.Close, 'Up_or_Down_4'] = 1 # 'UP'\n",
    "df.loc[df.Open - (df.Open * settings.PERCENT_DOWN / 2) > df.Close, 'Up_or_Down_4'] = 2 # 'DOWN'"
   ]
  },
  {
   "cell_type": "code",
   "execution_count": 12,
   "metadata": {
    "collapsed": false,
    "deletable": true,
    "editable": true
   },
   "outputs": [],
   "source": [
    "# Fundamental analysis\n",
    "\n",
    "# daily return\n",
    "df['Daily_return'] = (df['Close'] / df['Close'].shift(1)) - 1\n",
    "df['Daily_return_100'] = ((df['Close'] / df['Close'].shift(1)) - 1) * 100\n",
    "\n",
    "# cumulative return\n",
    "df = df.dropna()\n",
    "df['Cumulative_return'] = (df['Close'] / df['Close'].iloc[0]) - 1\n",
    "df['Cumulative_return_100'] = ((df['Close'] / df['Close'].iloc[0]) - 1) * 100\n",
    "\n",
    "# TODO: cumulative return week, month, year..."
   ]
  },
  {
   "cell_type": "code",
   "execution_count": 13,
   "metadata": {
    "collapsed": false,
    "deletable": true,
    "editable": true
   },
   "outputs": [
    {
     "name": "stdout",
     "output_type": "stream",
     "text": [
      "Number of rows: 46304, Number of columns: 26\n"
     ]
    }
   ],
   "source": [
    "print('Number of rows: {}, Number of columns: {}'.format(*df.shape))"
   ]
  },
  {
   "cell_type": "markdown",
   "metadata": {
    "deletable": true,
    "editable": true
   },
   "source": [
    "# Technical Analysis"
   ]
  },
  {
   "cell_type": "markdown",
   "metadata": {
    "deletable": true,
    "editable": true
   },
   "source": [
    "https://en.wikipedia.org/wiki/Technical_analysis"
   ]
  },
  {
   "cell_type": "markdown",
   "metadata": {
    "deletable": true,
    "editable": true
   },
   "source": [
    "### Volume-based indicators"
   ]
  },
  {
   "cell_type": "code",
   "execution_count": 14,
   "metadata": {
    "collapsed": false,
    "deletable": true,
    "editable": true
   },
   "outputs": [
    {
     "name": "stderr",
     "output_type": "stream",
     "text": [
      "ta/volume.py:38: FutureWarning: pd.ewm_mean is deprecated for Series and will be removed in a future version, replace with \n",
      "\tSeries.ewm(ignore_na=False,span=3,min_periods=2,adjust=True).mean()\n",
      "  return pd.Series(pd.ewma(ad, span=3, min_periods=2) - pd.ewma(ad, span=10, min_periods=9))\n",
      "ta/volume.py:38: FutureWarning: pd.ewm_mean is deprecated for Series and will be removed in a future version, replace with \n",
      "\tSeries.ewm(ignore_na=False,span=10,min_periods=9,adjust=True).mean()\n",
      "  return pd.Series(pd.ewma(ad, span=3, min_periods=2) - pd.ewma(ad, span=10, min_periods=9))\n",
      "ta/volume.py:48: FutureWarning: pd.rolling_mean is deprecated for Series and will be removed in a future version, replace with \n",
      "\tSeries.rolling(window=20,center=False).mean()\n",
      "  return pd.Series(pd.rolling_mean(mf, n))\n",
      "ta/volume.py:57: FutureWarning: pd.rolling_sum is deprecated for Series and will be removed in a future version, replace with \n",
      "\tSeries.rolling(window=20,center=False).sum()\n",
      "  return pd.Series(moments.rolling_sum(clv*df[col_volume], n) / moments.rolling_sum(df[col_volume], n))\n",
      "ta/volume.py:74: FutureWarning: pd.rolling_sum is deprecated for Series and will be removed in a future version, replace with \n",
      "\tSeries.rolling(window=14,center=False).sum()\n",
      "  n_positive_mf = pd.rolling_sum(df['1_Period_Positive_Money_Flow'], n)\n",
      "ta/volume.py:75: FutureWarning: pd.rolling_sum is deprecated for Series and will be removed in a future version, replace with \n",
      "\tSeries.rolling(window=14,center=False).sum()\n",
      "  n_negative_mf = pd.rolling_sum(df['1_Period_Negative_Money_Flow'], n)\n",
      "ta/volume.py:102: FutureWarning: pd.rolling_mean is deprecated for Series and will be removed in a future version, replace with \n",
      "\tSeries.rolling(window=10,center=False).mean()\n",
      "  return pd.Series(pd.rolling_mean(df['OBV'], n))\n"
     ]
    }
   ],
   "source": [
    "# Accumulation/Distribution index\n",
    "df['Acc_Dist_Roc_BTC'] = acc_dist_roc(df, 'Volume_BTC', 2)\n",
    "df['Acc_Dist_Roc_Currency'] = acc_dist_roc(df, 'Volume_Currency', 2)\n",
    "df['Acc_Dist_BTC'] = acc_dist_index(df, 'Volume_BTC')\n",
    "df['Acc_Dist_Currency'] = acc_dist_index(df, 'Volume_Currency')\n",
    "\n",
    "# Chaikin Money Flow\n",
    "df['Chaikin_Money_Flow_1_BTC'] = chaikin_money_flow1(df, 'Volume_BTC')\n",
    "df['Chaikin_Money_Flow_2_BTC'] = chaikin_money_flow2(df, 'Volume_BTC', 20)\n",
    "df['Chaikin_Money_Flow_3_BTC'] = chaikin_money_flow3(df, 'Volume_BTC', 20)\n",
    "df['Chaikin_Money_Flow_1_Currency'] = chaikin_money_flow1(df, 'Volume_Currency')\n",
    "df['Chaikin_Money_Flow_2_Currency'] = chaikin_money_flow2(df, 'Volume_Currency', 20)\n",
    "df['Chaikin_Money_Flow_3_Currency'] = chaikin_money_flow3(df, 'Volume_Currency', 20)\n",
    "\n",
    "# Money Flow Index\n",
    "df['Money_Flow_BTC'] = money_flow_index(df, 'Volume_BTC', 14)\n",
    "df['Money_Flow_Currency'] = money_flow_index(df, 'Volume_Currency', 14)\n",
    "\n",
    "# On-balance volume\n",
    "df['OBV_BTC'] = on_balance_volume(df, 'Volume_BTC')\n",
    "df['OBV_BTC_mean'] = on_balance_volume_mean(df, 'Volume_BTC')\n",
    "df['OBV_Currency'] = on_balance_volume(df, 'Volume_Currency')\n",
    "df['OBV_Currency_mean'] = on_balance_volume_mean(df, 'Volume_Currency')\n",
    "\n",
    "# Force Index\n",
    "df['Force_Index_BTC'] = force(df, 'Volume_BTC', 2)\n",
    "df['Force_Index_Currency'] = force(df, 'Volume_Currency', 2)\n",
    "\n",
    "# delete intermediate columns\n",
    "df.drop('OBV', axis=1, inplace=True)"
   ]
  },
  {
   "cell_type": "markdown",
   "metadata": {
    "deletable": true,
    "editable": true
   },
   "source": [
    "### Trend indicators"
   ]
  },
  {
   "cell_type": "code",
   "execution_count": 15,
   "metadata": {
    "collapsed": false,
    "deletable": true,
    "editable": true
   },
   "outputs": [
    {
     "name": "stderr",
     "output_type": "stream",
     "text": [
      "ta/trend.py:27: FutureWarning: pd.ewm_mean is deprecated for Series and will be removed in a future version, replace with \n",
      "\tSeries.ewm(ignore_na=False,span=12,min_periods=25,adjust=True).mean()\n",
      "  EMAfast = pd.Series(pd.ewma(df['Close'], span=n_fast, min_periods=n_slow - 1))\n",
      "ta/trend.py:28: FutureWarning: pd.ewm_mean is deprecated for Series and will be removed in a future version, replace with \n",
      "\tSeries.ewm(ignore_na=False,span=26,min_periods=25,adjust=True).mean()\n",
      "  EMAslow = pd.Series(pd.ewma(df['Close'], span=n_slow, min_periods=n_slow - 1))\n",
      "ta/trend.py:30: FutureWarning: pd.ewm_mean is deprecated for Series and will be removed in a future version, replace with \n",
      "\tSeries.ewm(ignore_na=False,span=9,min_periods=8,adjust=True).mean()\n",
      "  MACDsign = pd.Series(pd.ewma(MACD, span=n_sign, min_periods=n_sign - 1), name='MACD_sign_%d_%d' % (n_fast, n_slow))\n",
      "ta/trend.py:57: FutureWarning: pd.rolling_sum is deprecated for Series and will be removed in a future version, replace with \n",
      "\tSeries.rolling(window=14,center=False).sum()\n",
      "  trs = pd.rolling_sum(tr, n)\n",
      "ta/trend.py:68: FutureWarning: pd.rolling_sum is deprecated for Series and will be removed in a future version, replace with \n",
      "\tSeries.rolling(window=14,center=False).sum()\n",
      "  dip = 100 * pd.rolling_sum(pos, n) / trs\n",
      "ta/trend.py:69: FutureWarning: pd.rolling_sum is deprecated for Series and will be removed in a future version, replace with \n",
      "\tSeries.rolling(window=14,center=False).sum()\n",
      "  din = 100 * pd.rolling_sum(neg, n) / trs\n",
      "ta/trend.py:72: FutureWarning: pd.ewm_mean is deprecated for Series and will be removed in a future version, replace with \n",
      "\tSeries.ewm(ignore_na=False,min_periods=0,adjust=True,com=14).mean()\n",
      "  adx = pd.ewma(dx, n)\n",
      "ta/trend.py:87: FutureWarning: pd.rolling_sum is deprecated for Series and will be removed in a future version, replace with \n",
      "\tSeries.rolling(window=14,center=False).sum()\n",
      "  trn = moments.rolling_sum(tr, n)\n",
      "ta/trend.py:92: FutureWarning: pd.rolling_sum is deprecated for Series and will be removed in a future version, replace with \n",
      "\tSeries.rolling(window=14,center=False).sum()\n",
      "  vip = moments.rolling_sum(vmp, n) / trn\n",
      "ta/trend.py:93: FutureWarning: pd.rolling_sum is deprecated for Series and will be removed in a future version, replace with \n",
      "\tSeries.rolling(window=14,center=False).sum()\n",
      "  vin = moments.rolling_sum(vmm, n) / trn\n"
     ]
    }
   ],
   "source": [
    "# Moving Average Convergence Divergence\n",
    "df[['MACD', 'MACD_sign', 'MACD_diff']] = macd(df, 12, 26, 9)\n",
    "\n",
    "# Average directional movement index\n",
    "df[['ADX', 'ADX_pos', 'ADX_neg']] = adx(df, 14)\n",
    "\n",
    "# Vortex indicator\n",
    "df[['Vortex_pos', 'Vortex_neg']] = vortex(df, 14)"
   ]
  },
  {
   "cell_type": "markdown",
   "metadata": {
    "deletable": true,
    "editable": true
   },
   "source": [
    "### Momentum Indicators"
   ]
  },
  {
   "cell_type": "code",
   "execution_count": 16,
   "metadata": {
    "collapsed": false,
    "deletable": true,
    "editable": true
   },
   "outputs": [
    {
     "name": "stderr",
     "output_type": "stream",
     "text": [
      "ta/momentum.py:16: FutureWarning: pd.ewm_mean is deprecated for Series and will be removed in a future version, replace with \n",
      "\tSeries.ewm(ignore_na=False,min_periods=0,adjust=True,com=14).mean()\n",
      "  emaup = pd.ewma(up, n)\n",
      "ta/momentum.py:17: FutureWarning: pd.ewm_mean is deprecated for Series and will be removed in a future version, replace with \n",
      "\tSeries.ewm(ignore_na=False,min_periods=0,adjust=True,com=14).mean()\n",
      "  emadn = pd.ewma(dn, n)\n"
     ]
    }
   ],
   "source": [
    "df['RSI'] = rsi(df, 14)"
   ]
  },
  {
   "cell_type": "code",
   "execution_count": 17,
   "metadata": {
    "collapsed": false,
    "deletable": true,
    "editable": true
   },
   "outputs": [
    {
     "data": {
      "text/plain": [
       "\"\\nfor c in df.columns:\\n    print str(c) + u' - ' + str(df[c].isnull().sum())\\n\""
      ]
     },
     "execution_count": 17,
     "metadata": {},
     "output_type": "execute_result"
    }
   ],
   "source": [
    "\"\"\"\n",
    "for c in df.columns:\n",
    "    print str(c) + u' - ' + str(df[c].isnull().sum())\n",
    "\"\"\""
   ]
  },
  {
   "cell_type": "markdown",
   "metadata": {
    "deletable": true,
    "editable": true
   },
   "source": [
    "### Price-based indicators "
   ]
  },
  {
   "cell_type": "code",
   "execution_count": 18,
   "metadata": {
    "collapsed": true,
    "deletable": true,
    "editable": true
   },
   "outputs": [],
   "source": [
    "# Momentum\n",
    "for idx in range(9):\n",
    "    m = idx+2\n",
    "    df['Momentum_'+str(m)] = ((df['Close'] / df['Close'].shift(m)) - 1)\n",
    "\n",
    "# Rollings\n",
    "for idx in range(9):\n",
    "    m = idx+2\n",
    "    df['Rolling_mean_'+str(m)] = (df.set_index('Date')['Close'].rolling(window=m).mean()).values\n",
    "    df['Rolling_std_'+str(m)] = (df.set_index('Date')['Close'].rolling(window=m).std()).values\n",
    "    df['Rolling_cov_'+str(m)] = (df.set_index('Date')['Close'].rolling(window=m).cov()).values\n",
    "\n",
    "# Bollinger bands\n",
    "for idx in range(9):\n",
    "    m = idx+2\n",
    "    df['Bollinger_band_mean_'+str(m)+'_max'] = df['Rolling_mean_'+str(m)] + (2*df['Rolling_std_'+str(m)])\n",
    "    df['Bollinger_band_mean_'+str(m)+'_min'] = df['Rolling_mean_'+str(m)] - (2*df['Rolling_std_'+str(m)])"
   ]
  },
  {
   "cell_type": "code",
   "execution_count": 19,
   "metadata": {
    "collapsed": false,
    "deletable": true,
    "editable": true
   },
   "outputs": [
    {
     "name": "stdout",
     "output_type": "stream",
     "text": [
      "Number of rows: 46304, Number of columns: 107\n",
      "Number of rows: 46239, Number of columns: 107\n"
     ]
    }
   ],
   "source": [
    "print('Number of rows: {}, Number of columns: {}'.format(*df.shape))\n",
    "df = df.dropna()\n",
    "print('Number of rows: {}, Number of columns: {}'.format(*df.shape))"
   ]
  },
  {
   "cell_type": "markdown",
   "metadata": {
    "deletable": true,
    "editable": true
   },
   "source": [
    "### Split"
   ]
  },
  {
   "cell_type": "code",
   "execution_count": 20,
   "metadata": {
    "collapsed": true,
    "deletable": true,
    "editable": true
   },
   "outputs": [],
   "source": [
    "train, test = utils.split_df2(df)"
   ]
  },
  {
   "cell_type": "code",
   "execution_count": 21,
   "metadata": {
    "collapsed": true,
    "deletable": true,
    "editable": true
   },
   "outputs": [],
   "source": [
    "excl = ['Target', 'Date', 'Timestamp']\n",
    "cols = [c for c in df.columns if c not in excl]"
   ]
  },
  {
   "cell_type": "markdown",
   "metadata": {
    "deletable": true,
    "editable": true
   },
   "source": [
    "# xgboost"
   ]
  },
  {
   "cell_type": "code",
   "execution_count": 22,
   "metadata": {
    "collapsed": false,
    "deletable": true,
    "editable": true
   },
   "outputs": [
    {
     "name": "stdout",
     "output_type": "stream",
     "text": [
      "705\n",
      "Accuracy: 0.858044982699\n",
      "Coefficient Kappa: 0.137954280761\n",
      "Classification Report:\n",
      "             precision    recall  f1-score   support\n",
      "\n",
      "       KEEP       0.87      0.99      0.93      9893\n",
      "         UP       0.43      0.08      0.14       860\n",
      "       DOWN       0.34      0.06      0.10       807\n",
      "\n",
      "avg / total       0.80      0.86      0.81     11560\n",
      "\n",
      "Confussion Matrix:\n",
      "[[9802   45   46]\n",
      " [ 744   71   45]\n",
      " [ 712   49   46]]\n",
      "\n",
      " \n",
      " \n",
      " \n",
      " \n",
      " \n",
      " ********** WEIGHT ************\n",
      "('Cumulative_return_100', 21)\n",
      "('Cumulative_return', 245)\n",
      "('Rolling_mean_2', 775)\n",
      "('Rolling_mean_9', 876)\n",
      "('Up_or_Down_3', 964)\n",
      "('Rolling_mean_10', 1024)\n",
      "('Rolling_mean_8', 1044)\n",
      "('Rolling_mean_7', 1187)\n",
      "('Bollinger_band_mean_7_max', 1199)\n",
      "('Rolling_mean_6', 1206)\n",
      "('Rolling_mean_3', 1241)\n",
      "('Rolling_mean_5', 1243)\n",
      "('Weighted_Price', 1273)\n",
      "('Bollinger_band_mean_8_max', 1354)\n",
      "('Rolling_mean_4', 1356)\n",
      "('Bollinger_band_mean_9_max', 1424)\n",
      "('Bollinger_band_mean_6_max', 1555)\n",
      "('Bollinger_band_mean_7_min', 1715)\n",
      "('Bollinger_band_mean_10_max', 1725)\n",
      "('Bollinger_band_mean_8_min', 1847)\n",
      "('Bollinger_band_mean_6_min', 1906)\n",
      "('Rolling_cov_7', 1976)\n",
      "('Bollinger_band_mean_9_min', 2000)\n",
      "('Rolling_cov_9', 2010)\n",
      "('Bollinger_band_mean_5_max', 2025)\n",
      "('Bollinger_band_mean_4_max', 2065)\n",
      "('Up_or_Down_2', 2122)\n",
      "('Rolling_cov_8', 2183)\n",
      "('Up_or_Down', 2227)\n",
      "('Bollinger_band_mean_10_min', 2251)\n",
      "('Bollinger_band_mean_5_min', 2386)\n",
      "('Rolling_cov_10', 2462)\n",
      "('Rolling_cov_6', 2513)\n",
      "('Bollinger_band_mean_4_min', 2706)\n",
      "('Bollinger_band_mean_3_max', 2751)\n",
      "('Bollinger_band_mean_3_min', 2934)\n",
      "('Close', 3170)\n",
      "('Bollinger_band_mean_2_max', 3349)\n",
      "('Bollinger_band_mean_2_min', 3380)\n",
      "('Up_or_Down_4', 3614)\n",
      "('Rolling_cov_4', 4093)\n",
      "('OBV_Currency', 4288)\n",
      "('Rolling_cov_5', 4652)\n",
      "('Rolling_cov_3', 4778)\n",
      "('Low', 5411)\n",
      "('Daily_return_100', 7369)\n",
      "('OBV_Currency_mean', 7538)\n",
      "('Rolling_cov_2', 7871)\n",
      "('High', 8092)\n",
      "('Year', 8482)\n",
      "('Acc_Dist_Roc_Currency', 11856)\n",
      "('Chaikin_Money_Flow_3_Currency', 13728)\n",
      "('Rolling_std_9', 19194)\n",
      "('Rolling_std_8', 19220)\n",
      "('Rolling_std_7', 20399)\n",
      "('Rolling_std_6', 22665)\n",
      "('Month', 22719)\n",
      "('Rolling_std_10', 23918)\n",
      "('Rolling_std_5', 25237)\n",
      "('Rolling_std_4', 29535)\n",
      "('Weekday', 29686)\n",
      "('Force_Index_Currency', 31444)\n",
      "('Chaikin_Money_Flow_1_Currency', 32271)\n",
      "('Rolling_std_3', 32405)\n",
      "('Money_Flow_Currency', 32627)\n",
      "('Week', 33625)\n",
      "('Acc_Dist_Currency', 35522)\n",
      "('Rolling_std_2', 35735)\n",
      "('Chaikin_Money_Flow_2_Currency', 37423)\n",
      "('OBV_BTC', 37793)\n",
      "('Open', 39279)\n",
      "('Volume_Currency', 39946)\n",
      "('High-low', 45315)\n",
      "('Close-open', 48063)\n",
      "('MACD_sign', 49446)\n",
      "('MACD', 50425)\n",
      "('RSI', 50903)\n",
      "('Chaikin_Money_Flow_1_BTC', 51004)\n",
      "('Chaikin_Money_Flow_3_BTC', 52384)\n",
      "('Vortex_pos', 52646)\n",
      "('Vortex_neg', 52782)\n",
      "('Momentum_8', 55210)\n",
      "('Hour', 56130)\n",
      "('Force_Index_BTC', 56185)\n",
      "('Day', 56264)\n",
      "('Momentum_9', 56382)\n",
      "('MACD_diff', 56819)\n",
      "('Acc_Dist_BTC', 57274)\n",
      "('Momentum_6', 57311)\n",
      "('Momentum_7', 57906)\n",
      "('Momentum_10', 59699)\n",
      "('Momentum_5', 60137)\n",
      "('Chaikin_Money_Flow_2_BTC', 60216)\n",
      "('Money_Flow_BTC', 61401)\n",
      "('ADX_pos', 62505)\n",
      "('Momentum_2', 63378)\n",
      "('Momentum_3', 64004)\n",
      "('ADX_neg', 64899)\n",
      "('OBV_BTC_mean', 65474)\n",
      "('Volume_BTC', 65848)\n",
      "('Momentum_4', 65900)\n",
      "('Daily_return', 68965)\n",
      "('ADX', 80359)\n",
      "('Acc_Dist_Roc_BTC', 80805)\n",
      "\n",
      " \n",
      " \n",
      " \n",
      " \n",
      " \n",
      " ********** GAIN ************\n",
      "('Open', 0.8076674706713075)\n",
      "('Day', 0.8244692819124065)\n",
      "('Weekday', 0.8419741339307094)\n",
      "('Hour', 0.8462049205704606)\n",
      "('Month', 0.8517724726224277)\n",
      "('Acc_Dist_Roc_BTC', 0.8701539778749288)\n",
      "('Chaikin_Money_Flow_3_BTC', 0.8745524964877966)\n",
      "('Week', 0.8879270844151667)\n",
      "('Close-open', 0.8998826128633975)\n",
      "('Acc_Dist_BTC', 0.9056443744978592)\n",
      "('High', 0.9082638329404847)\n",
      "('Acc_Dist_Roc_Currency', 0.9108599063130981)\n",
      "('Force_Index_BTC', 0.9114644835996024)\n",
      "('Vortex_pos', 0.9238231623246852)\n",
      "('Rolling_cov_2', 0.9245358483815281)\n",
      "('ADX_pos', 0.9299396437478751)\n",
      "('ADX', 0.9322721880890499)\n",
      "('ADX_neg', 0.938126352911331)\n",
      "('Rolling_std_2', 0.9398669712005691)\n",
      "('Daily_return', 0.9414053077427947)\n",
      "('Vortex_neg', 0.9430850465921778)\n",
      "('Rolling_cov_3', 0.9448834301967376)\n",
      "('OBV_Currency_mean', 0.9450882276423342)\n",
      "('Chaikin_Money_Flow_1_BTC', 0.9480238358185713)\n",
      "('RSI', 0.9518188980602573)\n",
      "('OBV_BTC_mean', 0.9551078895146753)\n",
      "('Daily_return_100', 0.9553791281899875)\n",
      "('Volume_Currency', 0.9596946373924582)\n",
      "('MACD_diff', 0.963696319146666)\n",
      "('Acc_Dist_Currency', 0.9658661519997226)\n",
      "('Force_Index_Currency', 0.9726844673216705)\n",
      "('Chaikin_Money_Flow_2_BTC', 0.9750012903489014)\n",
      "('OBV_Currency', 0.9797538725820889)\n",
      "('OBV_BTC', 0.9827415577725556)\n",
      "('Up_or_Down_3', 0.9905407791504146)\n",
      "('Momentum_3', 0.9905518855806806)\n",
      "('Volume_BTC', 0.9987994744547485)\n",
      "('Chaikin_Money_Flow_1_Currency', 1.0003002587940162)\n",
      "('Momentum_2', 1.0011321701918159)\n",
      "('Chaikin_Money_Flow_2_Currency', 1.0028170002802266)\n",
      "('Chaikin_Money_Flow_3_Currency', 1.003395353068973)\n",
      "('Rolling_cov_4', 1.0097298059174178)\n",
      "('Rolling_std_3', 1.0101472204849304)\n",
      "('Rolling_std_4', 1.013302583700889)\n",
      "('Money_Flow_Currency', 1.0217381918090684)\n",
      "('High-low', 1.049121178644049)\n",
      "('Momentum_4', 1.0625948490639865)\n",
      "('Momentum_5', 1.069822865854351)\n",
      "('Rolling_std_5', 1.0722874858744638)\n",
      "('Rolling_std_6', 1.073139231187724)\n",
      "('Rolling_cov_6', 1.0797115010147225)\n",
      "('Cumulative_return_100', 1.0817163809523809)\n",
      "('Rolling_std_7', 1.0850043663966444)\n",
      "('Momentum_6', 1.0889536624309903)\n",
      "('Rolling_cov_7', 1.0891441151265187)\n",
      "('MACD_sign', 1.1024435653163367)\n",
      "('Low', 1.1189394565963793)\n",
      "('Momentum_9', 1.125916481158261)\n",
      "('Rolling_mean_3', 1.1469809456817093)\n",
      "('Close', 1.1586341946107241)\n",
      "('MACD', 1.1603522132995923)\n",
      "('Rolling_cov_8', 1.192691170027486)\n",
      "('Momentum_8', 1.2220608066285827)\n",
      "('Rolling_mean_9', 1.2225665542853876)\n",
      "('Rolling_mean_4', 1.2401673782300873)\n",
      "('Momentum_7', 1.2406447872956494)\n",
      "('Rolling_mean_5', 1.2459090409814972)\n",
      "('Bollinger_band_mean_6_max', 1.2465886444437304)\n",
      "('Cumulative_return', 1.2500957848979593)\n",
      "('Bollinger_band_mean_7_max', 1.2677109894161789)\n",
      "('Bollinger_band_mean_3_max', 1.2696920806143257)\n",
      "('Bollinger_band_mean_8_max', 1.2883780902067947)\n",
      "('Rolling_mean_2', 1.2906556397961286)\n",
      "('Bollinger_band_mean_10_max', 1.2918896739768109)\n",
      "('Bollinger_band_mean_2_max', 1.3054419704490896)\n",
      "('Bollinger_band_mean_2_min', 1.3073419089812117)\n",
      "('Rolling_mean_8', 1.3407200591858255)\n",
      "('Bollinger_band_mean_5_max', 1.3449440166814837)\n",
      "('Rolling_std_8', 1.3467788212489045)\n",
      "('Bollinger_band_mean_4_max', 1.3739347626489085)\n",
      "('Money_Flow_BTC', 1.3786637531788133)\n",
      "('Weighted_Price', 1.3849663979104496)\n",
      "('Bollinger_band_mean_9_max', 1.4092441310323025)\n",
      "('Rolling_cov_5', 1.4224134570907132)\n",
      "('Rolling_mean_10', 1.4231441687499986)\n",
      "('Bollinger_band_mean_8_min', 1.4351074953113157)\n",
      "('Rolling_cov_9', 1.4389528939014873)\n",
      "('Rolling_mean_6', 1.4670477523655856)\n",
      "('Bollinger_band_mean_3_min', 1.4755493225685083)\n",
      "('Rolling_mean_7', 1.4810650107750654)\n",
      "('Bollinger_band_mean_4_min', 1.4974861361234273)\n",
      "('Bollinger_band_mean_10_min', 1.5093126025011077)\n",
      "('Bollinger_band_mean_6_min', 1.5292066218446996)\n",
      "('Rolling_std_9', 1.5292079616448422)\n",
      "('Bollinger_band_mean_5_min', 1.552898769381391)\n",
      "('Bollinger_band_mean_7_min', 1.5638205733177837)\n",
      "('Bollinger_band_mean_9_min', 1.7832538188934968)\n",
      "('Momentum_10', 1.883341048588661)\n",
      "('Rolling_cov_10', 2.1750188429853776)\n",
      "('Rolling_std_10', 2.2320062412202604)\n",
      "('Year', 3.3983233179365624)\n",
      "('Up_or_Down_4', 3.6715309671037657)\n",
      "('Up_or_Down_2', 9.10553817548421)\n",
      "('Up_or_Down', 68.15147096810635)\n"
     ]
    }
   ],
   "source": [
    "y_train = train['Target']\n",
    "y_mean = np.mean(y_train)\n",
    "xgb_params = {\n",
    "    'n_trees': 800,\n",
    "    'eta': 0.0045,\n",
    "    'max_depth': 20,\n",
    "    'subsample': 0.95,\n",
    "    'colsample_bytree': 0.95,\n",
    "    'colsample_bylevel': 0.95,\n",
    "    'objective': 'multi:softmax',\n",
    "    'num_class' : 3,\n",
    "    'eval_metric': 'mlogloss', # 'merror', # 'rmse',\n",
    "    'base_score': 0,\n",
    "    'silent': 1\n",
    "}\n",
    "\n",
    "dtrain = xgb.DMatrix(train[cols], y_train)\n",
    "dtest = xgb.DMatrix(test[cols])\n",
    "\n",
    "cv_result = xgb.cv(xgb_params, dtrain)\n",
    "\n",
    "# xgboost, cross-validation\n",
    "\"\"\"\n",
    "cv_result = xgb.cv(xgb_params,\n",
    "                   dtrain,\n",
    "                   num_boost_round=5000,\n",
    "                   early_stopping_rounds=50,\n",
    "                   verbose_eval=50,\n",
    "                   show_stdv=False\n",
    "                  )\n",
    "num_boost_rounds = len(cv_result)\n",
    "\"\"\"\n",
    "num_boost_rounds = 705\n",
    "\n",
    "print(num_boost_rounds)\n",
    "\n",
    "# train\n",
    "model = xgb.train(xgb_params, dtrain, num_boost_round=num_boost_rounds)\n",
    "\n",
    "# predict\n",
    "y_pred = model.predict(dtest)\n",
    "y_true = test['Target']\n",
    "\n",
    "utils.metrics(y_true, y_pred)\n",
    "\n",
    "print \"\\n \\n \\n \\n \\n \\n ********** WEIGHT ************\"\n",
    "importance = model.get_fscore()\n",
    "importance = sorted(importance.items(), key=operator.itemgetter(1))\n",
    "for i in importance:\n",
    "    print i\n",
    "    \n",
    "print \"\\n \\n \\n \\n \\n \\n ********** GAIN ************\"\n",
    "importance = model.get_score(fmap='', importance_type='gain')\n",
    "importance = sorted(importance.items(), key=operator.itemgetter(1))\n",
    "for i in importance:\n",
    "    print i"
   ]
  },
  {
   "cell_type": "code",
   "execution_count": null,
   "metadata": {
    "collapsed": true,
    "deletable": true,
    "editable": true
   },
   "outputs": [],
   "source": []
  }
 ],
 "metadata": {
  "kernelspec": {
   "display_name": "Python 2",
   "language": "python",
   "name": "python2"
  },
  "language_info": {
   "codemirror_mode": {
    "name": "ipython",
    "version": 2
   },
   "file_extension": ".py",
   "mimetype": "text/x-python",
   "name": "python",
   "nbconvert_exporter": "python",
   "pygments_lexer": "ipython2",
   "version": "2.7.12"
  }
 },
 "nbformat": 4,
 "nbformat_minor": 2
}
