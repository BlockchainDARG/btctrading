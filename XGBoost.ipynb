{
 "cells": [
  {
   "cell_type": "code",
   "execution_count": 1,
   "metadata": {
    "collapsed": false,
    "deletable": true,
    "editable": true
   },
   "outputs": [
    {
     "name": "stderr",
     "output_type": "stream",
     "text": [
      "/home/bukosabino/envs/deeplearning/local/lib/python2.7/site-packages/sklearn/cross_validation.py:44: DeprecationWarning: This module was deprecated in version 0.18 in favor of the model_selection module into which all the refactored classes and functions are moved. Also note that the interface of the new CV iterators are different from that of this module. This module will be removed in 0.20.\n",
      "  \"This module will be removed in 0.20.\", DeprecationWarning)\n"
     ]
    }
   ],
   "source": [
    "import numpy as np\n",
    "import pandas as pd\n",
    "from sklearn.ensemble import *\n",
    "import xgboost as xgb\n",
    "import operator\n",
    "\n",
    "import settings\n",
    "import utils\n",
    "import get_data\n",
    "from ta import *"
   ]
  },
  {
   "cell_type": "markdown",
   "metadata": {
    "deletable": true,
    "editable": true
   },
   "source": [
    "### Get Data"
   ]
  },
  {
   "cell_type": "markdown",
   "metadata": {
    "deletable": true,
    "editable": true
   },
   "source": [
    "API: http://bitcoincharts.com/charts\n",
    "\n",
    "period = ['1-min', '5-min', '15-min', '30-min', 'Hourly', '2-hour', '6-hour', '12-hour', 'Daily', 'Weekly']\n",
    "\n",
    "market = ['krakenEUR', 'bitstampUSD'] -> list of markets: https://bitcoincharts.com/charts/volumepie/"
   ]
  },
  {
   "cell_type": "code",
   "execution_count": 2,
   "metadata": {
    "collapsed": false,
    "deletable": true,
    "editable": true
   },
   "outputs": [],
   "source": [
    "# get_data.get('data/datas.csv', period='Hourly', market='bitstampUSD')"
   ]
  },
  {
   "cell_type": "markdown",
   "metadata": {
    "deletable": true,
    "editable": true
   },
   "source": [
    "### Load Data"
   ]
  },
  {
   "cell_type": "code",
   "execution_count": 3,
   "metadata": {
    "collapsed": true,
    "deletable": true,
    "editable": true
   },
   "outputs": [],
   "source": [
    "df = pd.read_csv('data/datas.csv', sep=',')"
   ]
  },
  {
   "cell_type": "code",
   "execution_count": 4,
   "metadata": {
    "collapsed": false,
    "deletable": true,
    "editable": true
   },
   "outputs": [
    {
     "name": "stdout",
     "output_type": "stream",
     "text": [
      "Number of rows: 51141, Number of columns: 8\n"
     ]
    }
   ],
   "source": [
    "print('Number of rows: {}, Number of columns: {}'.format(*df.shape))"
   ]
  },
  {
   "cell_type": "markdown",
   "metadata": {
    "deletable": true,
    "editable": true
   },
   "source": [
    "### Preprocessing"
   ]
  },
  {
   "cell_type": "code",
   "execution_count": 5,
   "metadata": {
    "collapsed": true,
    "deletable": true,
    "editable": true
   },
   "outputs": [],
   "source": [
    "df = utils.dropna(df)"
   ]
  },
  {
   "cell_type": "code",
   "execution_count": 6,
   "metadata": {
    "collapsed": false,
    "deletable": true,
    "editable": true
   },
   "outputs": [
    {
     "name": "stdout",
     "output_type": "stream",
     "text": [
      "Number of rows: 45390, Number of columns: 8\n"
     ]
    }
   ],
   "source": [
    "print('Number of rows: {}, Number of columns: {}'.format(*df.shape))"
   ]
  },
  {
   "cell_type": "markdown",
   "metadata": {
    "deletable": true,
    "editable": true
   },
   "source": [
    "### Transformation"
   ]
  },
  {
   "cell_type": "markdown",
   "metadata": {
    "deletable": true,
    "editable": true
   },
   "source": [
    "Create column target with class [UP, KEEP, DOWN]"
   ]
  },
  {
   "cell_type": "code",
   "execution_count": 7,
   "metadata": {
    "collapsed": true,
    "deletable": true,
    "editable": true
   },
   "outputs": [],
   "source": [
    "df['Target'] = 0 # 'KEEP'\n",
    "df.loc[df.Open + (df.Open * settings.PERCENT_UP) < df.Close, 'Target'] = 1 # 'UP'\n",
    "df.loc[df.Open - (df.Open * settings.PERCENT_DOWN) > df.Close, 'Target'] = 2 # 'DOWN'"
   ]
  },
  {
   "cell_type": "code",
   "execution_count": 8,
   "metadata": {
    "collapsed": false,
    "deletable": true,
    "editable": true
   },
   "outputs": [
    {
     "name": "stdout",
     "output_type": "stream",
     "text": [
      "Number of rows: 45390, Number of columns: 9\n",
      "Number of UP rows: 3282, Number of DOWN rows: 3102\n"
     ]
    }
   ],
   "source": [
    "print('Number of rows: {}, Number of columns: {}'.format(*df.shape))\n",
    "print('Number of UP rows: {}, Number of DOWN rows: {}'.format(len(df[df.Target == 1]), len(df[df.Target == 2])))"
   ]
  },
  {
   "cell_type": "markdown",
   "metadata": {
    "deletable": true,
    "editable": true
   },
   "source": [
    "Create columns from Timestamp to Date, Year, Month, Hour, etc."
   ]
  },
  {
   "cell_type": "markdown",
   "metadata": {
    "deletable": true,
    "editable": true
   },
   "source": [
    "### Feature Engineering"
   ]
  },
  {
   "cell_type": "code",
   "execution_count": 9,
   "metadata": {
    "collapsed": true,
    "deletable": true,
    "editable": true
   },
   "outputs": [],
   "source": [
    "df['Date'] = df['Timestamp'].apply(utils.timestamptodate)\n",
    "df['Date'] = pd.to_datetime(df['Date'])\n",
    "\n",
    "df['Year'] = df['Date'].dt.year\n",
    "df['Month'] = df['Date'].dt.month\n",
    "df['Week'] = df['Date'].dt.weekofyear\n",
    "df['Weekday'] = df['Date'].dt.weekday\n",
    "df['Day'] = df['Date'].dt.day\n",
    "df['Hour'] = df['Date'].dt.hour\n",
    "\n",
    "# extra dates\n",
    "# df[\"yearmonth\"] = df[\"Date\"].dt.year*100 + df[\"Date\"].dt.month\n",
    "# df[\"yearweek\"] = df[\"Date\"].dt.year*100 + df[\"Date\"].dt.weekofyear\n",
    "# df[\"yearweekday\"] = df[\"Date\"].dt.year*10 + df[\"Date\"].dt.weekday"
   ]
  },
  {
   "cell_type": "code",
   "execution_count": 10,
   "metadata": {
    "collapsed": true,
    "deletable": true,
    "editable": true
   },
   "outputs": [],
   "source": [
    "# shift\n",
    "cols = ['Open', 'High', 'Low', 'Close', 'Volume_BTC', 'Volume_Currency', 'Weighted_Price']\n",
    "for col in cols:\n",
    "    df[col] = df[col].shift(1)\n",
    "df = df.dropna()"
   ]
  },
  {
   "cell_type": "code",
   "execution_count": 11,
   "metadata": {
    "collapsed": false,
    "deletable": true,
    "editable": true
   },
   "outputs": [],
   "source": [
    "df['High-low'] = df['High'] - df['Low']\n",
    "df['Close-open'] = df['Close'] - df['Open']\n",
    "\n",
    "df['Up_or_Down'] = 0 # 'UP' or 'DOWN' if diff > settings.PERCENT_UP\n",
    "df.loc[( df.Open + (df.Open * settings.PERCENT_UP) ) < df.Close, 'Up_or_Down'] = 1 # 'UP'\n",
    "df.loc[( df.Open - (df.Open * settings.PERCENT_DOWN) ) > df.Close, 'Up_or_Down'] = 2 # 'DOWN'\n",
    "\n",
    "df['Up_or_Down_2'] = 0 # 'UP' or 'DOWN' if diff > settings.PERCENT_UP * 2\n",
    "df.loc[df.Open + (df.Open * settings.PERCENT_UP * 2 ) < df.Close, 'Up_or_Down_2'] = 1 # 'UP'\n",
    "df.loc[df.Open - (df.Open * settings.PERCENT_DOWN * 2) > df.Close, 'Up_or_Down_2'] = 2 # 'DOWN'\n",
    "\n",
    "df['Up_or_Down_3'] = 0 # 'UP' or 'DOWN' if diff > 0\n",
    "df.loc[df.Open < df.Close, 'Up_or_Down_3'] = 1 # 'UP'\n",
    "df.loc[df.Open  > df.Close, 'Up_or_Down_3'] = 2 # 'DOWN'\n",
    "\n",
    "df['Up_or_Down_4'] = 0 # 'UP' or 'DOWN' if diff > settings.PERCENT_UP / 2\n",
    "df.loc[df.Open + (df.Open * settings.PERCENT_UP / 2 ) < df.Close, 'Up_or_Down_4'] = 1 # 'UP'\n",
    "df.loc[df.Open - (df.Open * settings.PERCENT_DOWN / 2) > df.Close, 'Up_or_Down_4'] = 2 # 'DOWN'"
   ]
  },
  {
   "cell_type": "code",
   "execution_count": 12,
   "metadata": {
    "collapsed": false,
    "deletable": true,
    "editable": true
   },
   "outputs": [],
   "source": [
    "# Fundamental analysis\n",
    "\n",
    "# daily return\n",
    "df['Daily_return'] = (df['Close'] / df['Close'].shift(1)) - 1\n",
    "df['Daily_return_100'] = ((df['Close'] / df['Close'].shift(1)) - 1) * 100\n",
    "\n",
    "# cumulative return\n",
    "df = df.dropna()\n",
    "df['Cumulative_return'] = (df['Close'] / df['Close'].iloc[0]) - 1\n",
    "df['Cumulative_return_100'] = ((df['Close'] / df['Close'].iloc[0]) - 1) * 100\n",
    "\n",
    "# TODO: cumulative return week, month, year..."
   ]
  },
  {
   "cell_type": "code",
   "execution_count": 13,
   "metadata": {
    "collapsed": false,
    "deletable": true,
    "editable": true
   },
   "outputs": [
    {
     "name": "stdout",
     "output_type": "stream",
     "text": [
      "Number of rows: 45388, Number of columns: 26\n"
     ]
    }
   ],
   "source": [
    "print('Number of rows: {}, Number of columns: {}'.format(*df.shape))"
   ]
  },
  {
   "cell_type": "markdown",
   "metadata": {
    "deletable": true,
    "editable": true
   },
   "source": [
    "# Technical Analysis"
   ]
  },
  {
   "cell_type": "markdown",
   "metadata": {
    "deletable": true,
    "editable": true
   },
   "source": [
    "https://en.wikipedia.org/wiki/Technical_analysis"
   ]
  },
  {
   "cell_type": "markdown",
   "metadata": {
    "deletable": true,
    "editable": true
   },
   "source": [
    "### Volume-based indicators"
   ]
  },
  {
   "cell_type": "code",
   "execution_count": 14,
   "metadata": {
    "collapsed": false,
    "deletable": true,
    "editable": true
   },
   "outputs": [
    {
     "name": "stderr",
     "output_type": "stream",
     "text": [
      "ta/volume.py:38: FutureWarning: pd.ewm_mean is deprecated for Series and will be removed in a future version, replace with \n",
      "\tSeries.ewm(ignore_na=False,span=3,min_periods=2,adjust=True).mean()\n",
      "  return pd.Series(pd.ewma(ad, span=3, min_periods=2) - pd.ewma(ad, span=10, min_periods=9))\n",
      "ta/volume.py:38: FutureWarning: pd.ewm_mean is deprecated for Series and will be removed in a future version, replace with \n",
      "\tSeries.ewm(ignore_na=False,span=10,min_periods=9,adjust=True).mean()\n",
      "  return pd.Series(pd.ewma(ad, span=3, min_periods=2) - pd.ewma(ad, span=10, min_periods=9))\n",
      "ta/volume.py:48: FutureWarning: pd.rolling_mean is deprecated for Series and will be removed in a future version, replace with \n",
      "\tSeries.rolling(window=20,center=False).mean()\n",
      "  return pd.Series(pd.rolling_mean(mf, n))\n",
      "ta/volume.py:57: FutureWarning: pd.rolling_sum is deprecated for Series and will be removed in a future version, replace with \n",
      "\tSeries.rolling(window=20,center=False).sum()\n",
      "  return pd.Series(moments.rolling_sum(clv*df[col_volume], n) / moments.rolling_sum(df[col_volume], n))\n",
      "ta/volume.py:74: FutureWarning: pd.rolling_sum is deprecated for Series and will be removed in a future version, replace with \n",
      "\tSeries.rolling(window=14,center=False).sum()\n",
      "  n_positive_mf = pd.rolling_sum(df['1_Period_Positive_Money_Flow'], n)\n",
      "ta/volume.py:75: FutureWarning: pd.rolling_sum is deprecated for Series and will be removed in a future version, replace with \n",
      "\tSeries.rolling(window=14,center=False).sum()\n",
      "  n_negative_mf = pd.rolling_sum(df['1_Period_Negative_Money_Flow'], n)\n",
      "ta/volume.py:102: FutureWarning: pd.rolling_mean is deprecated for Series and will be removed in a future version, replace with \n",
      "\tSeries.rolling(window=10,center=False).mean()\n",
      "  return pd.Series(pd.rolling_mean(df['OBV'], n))\n"
     ]
    }
   ],
   "source": [
    "# Accumulation/Distribution index\n",
    "df['Acc_Dist_Roc_BTC'] = acc_dist_roc(df, 'Volume_BTC', 2)\n",
    "df['Acc_Dist_Roc_Currency'] = acc_dist_roc(df, 'Volume_Currency', 2)\n",
    "df['Acc_Dist_BTC'] = acc_dist_index(df, 'Volume_BTC')\n",
    "df['Acc_Dist_Currency'] = acc_dist_index(df, 'Volume_Currency')\n",
    "\n",
    "# Chaikin Money Flow\n",
    "df['Chaikin_Money_Flow_1_BTC'] = chaikin_money_flow1(df, 'Volume_BTC')\n",
    "df['Chaikin_Money_Flow_2_BTC'] = chaikin_money_flow2(df, 'Volume_BTC', 20)\n",
    "df['Chaikin_Money_Flow_3_BTC'] = chaikin_money_flow3(df, 'Volume_BTC', 20)\n",
    "df['Chaikin_Money_Flow_1_Currency'] = chaikin_money_flow1(df, 'Volume_Currency')\n",
    "df['Chaikin_Money_Flow_2_Currency'] = chaikin_money_flow2(df, 'Volume_Currency', 20)\n",
    "df['Chaikin_Money_Flow_3_Currency'] = chaikin_money_flow3(df, 'Volume_Currency', 20)\n",
    "\n",
    "# Money Flow Index\n",
    "df['Money_Flow_BTC'] = money_flow_index(df, 'Volume_BTC', 14)\n",
    "df['Money_Flow_Currency'] = money_flow_index(df, 'Volume_Currency', 14)\n",
    "\n",
    "# On-balance volume\n",
    "df['OBV_BTC'] = on_balance_volume(df, 'Volume_BTC')\n",
    "df['OBV_BTC_mean'] = on_balance_volume_mean(df, 'Volume_BTC')\n",
    "df['OBV_Currency'] = on_balance_volume(df, 'Volume_Currency')\n",
    "df['OBV_Currency_mean'] = on_balance_volume_mean(df, 'Volume_Currency')\n",
    "\n",
    "# Force Index\n",
    "df['Force_Index_BTC'] = force(df, 'Volume_BTC', 2)\n",
    "df['Force_Index_Currency'] = force(df, 'Volume_Currency', 2)\n",
    "\n",
    "# delete intermediate columns\n",
    "df.drop('OBV', axis=1, inplace=True)"
   ]
  },
  {
   "cell_type": "markdown",
   "metadata": {
    "deletable": true,
    "editable": true
   },
   "source": [
    "### Trend indicators"
   ]
  },
  {
   "cell_type": "code",
   "execution_count": 15,
   "metadata": {
    "collapsed": false,
    "deletable": true,
    "editable": true
   },
   "outputs": [
    {
     "name": "stderr",
     "output_type": "stream",
     "text": [
      "ta/trend.py:27: FutureWarning: pd.ewm_mean is deprecated for Series and will be removed in a future version, replace with \n",
      "\tSeries.ewm(ignore_na=False,span=12,min_periods=25,adjust=True).mean()\n",
      "  EMAfast = pd.Series(pd.ewma(df['Close'], span=n_fast, min_periods=n_slow - 1))\n",
      "ta/trend.py:28: FutureWarning: pd.ewm_mean is deprecated for Series and will be removed in a future version, replace with \n",
      "\tSeries.ewm(ignore_na=False,span=26,min_periods=25,adjust=True).mean()\n",
      "  EMAslow = pd.Series(pd.ewma(df['Close'], span=n_slow, min_periods=n_slow - 1))\n",
      "ta/trend.py:30: FutureWarning: pd.ewm_mean is deprecated for Series and will be removed in a future version, replace with \n",
      "\tSeries.ewm(ignore_na=False,span=9,min_periods=8,adjust=True).mean()\n",
      "  MACDsign = pd.Series(pd.ewma(MACD, span=n_sign, min_periods=n_sign - 1), name='MACD_sign_%d_%d' % (n_fast, n_slow))\n",
      "ta/trend.py:57: FutureWarning: pd.rolling_sum is deprecated for Series and will be removed in a future version, replace with \n",
      "\tSeries.rolling(window=14,center=False).sum()\n",
      "  trs = pd.rolling_sum(tr, n)\n",
      "ta/trend.py:68: FutureWarning: pd.rolling_sum is deprecated for Series and will be removed in a future version, replace with \n",
      "\tSeries.rolling(window=14,center=False).sum()\n",
      "  dip = 100 * pd.rolling_sum(pos, n) / trs\n",
      "ta/trend.py:69: FutureWarning: pd.rolling_sum is deprecated for Series and will be removed in a future version, replace with \n",
      "\tSeries.rolling(window=14,center=False).sum()\n",
      "  din = 100 * pd.rolling_sum(neg, n) / trs\n",
      "ta/trend.py:72: FutureWarning: pd.ewm_mean is deprecated for Series and will be removed in a future version, replace with \n",
      "\tSeries.ewm(ignore_na=False,min_periods=0,adjust=True,com=14).mean()\n",
      "  adx = pd.ewma(dx, n)\n",
      "ta/trend.py:87: FutureWarning: pd.rolling_sum is deprecated for Series and will be removed in a future version, replace with \n",
      "\tSeries.rolling(window=14,center=False).sum()\n",
      "  trn = moments.rolling_sum(tr, n)\n",
      "ta/trend.py:92: FutureWarning: pd.rolling_sum is deprecated for Series and will be removed in a future version, replace with \n",
      "\tSeries.rolling(window=14,center=False).sum()\n",
      "  vip = moments.rolling_sum(vmp, n) / trn\n",
      "ta/trend.py:93: FutureWarning: pd.rolling_sum is deprecated for Series and will be removed in a future version, replace with \n",
      "\tSeries.rolling(window=14,center=False).sum()\n",
      "  vin = moments.rolling_sum(vmm, n) / trn\n"
     ]
    }
   ],
   "source": [
    "# Moving Average Convergence Divergence\n",
    "df[['MACD', 'MACD_sign', 'MACD_diff']] = macd(df, 12, 26, 9)\n",
    "\n",
    "# Average directional movement index\n",
    "df[['ADX', 'ADX_pos', 'ADX_neg']] = adx(df, 14)\n",
    "\n",
    "# Vortex indicator\n",
    "df[['Vortex_pos', 'Vortex_neg']] = vortex(df, 14)"
   ]
  },
  {
   "cell_type": "markdown",
   "metadata": {
    "deletable": true,
    "editable": true
   },
   "source": [
    "### Momentum Indicators"
   ]
  },
  {
   "cell_type": "code",
   "execution_count": 16,
   "metadata": {
    "collapsed": false,
    "deletable": true,
    "editable": true
   },
   "outputs": [
    {
     "name": "stderr",
     "output_type": "stream",
     "text": [
      "ta/momentum.py:16: FutureWarning: pd.ewm_mean is deprecated for Series and will be removed in a future version, replace with \n",
      "\tSeries.ewm(ignore_na=False,min_periods=0,adjust=True,com=14).mean()\n",
      "  emaup = pd.ewma(up, n)\n",
      "ta/momentum.py:17: FutureWarning: pd.ewm_mean is deprecated for Series and will be removed in a future version, replace with \n",
      "\tSeries.ewm(ignore_na=False,min_periods=0,adjust=True,com=14).mean()\n",
      "  emadn = pd.ewma(dn, n)\n"
     ]
    }
   ],
   "source": [
    "df['RSI'] = rsi(df, 14)"
   ]
  },
  {
   "cell_type": "code",
   "execution_count": 17,
   "metadata": {
    "collapsed": false,
    "deletable": true,
    "editable": true
   },
   "outputs": [
    {
     "data": {
      "text/plain": [
       "\"\\nfor c in df.columns:\\n    print str(c) + u' - ' + str(df[c].isnull().sum())\\n\""
      ]
     },
     "execution_count": 17,
     "metadata": {},
     "output_type": "execute_result"
    }
   ],
   "source": [
    "\"\"\"\n",
    "for c in df.columns:\n",
    "    print str(c) + u' - ' + str(df[c].isnull().sum())\n",
    "\"\"\""
   ]
  },
  {
   "cell_type": "markdown",
   "metadata": {
    "deletable": true,
    "editable": true
   },
   "source": [
    "### Price-based indicators "
   ]
  },
  {
   "cell_type": "code",
   "execution_count": 18,
   "metadata": {
    "collapsed": true,
    "deletable": true,
    "editable": true
   },
   "outputs": [],
   "source": [
    "# Momentum\n",
    "for idx in range(9):\n",
    "    m = idx+2\n",
    "    df['Momentum_'+str(m)] = ((df['Close'] / df['Close'].shift(m)) - 1)\n",
    "\n",
    "# Rollings\n",
    "for idx in range(9):\n",
    "    m = idx+2\n",
    "    df['Rolling_mean_'+str(m)] = (df.set_index('Date')['Close'].rolling(window=m).mean()).values\n",
    "    df['Rolling_std_'+str(m)] = (df.set_index('Date')['Close'].rolling(window=m).std()).values\n",
    "    df['Rolling_cov_'+str(m)] = (df.set_index('Date')['Close'].rolling(window=m).cov()).values\n",
    "\n",
    "# Bollinger bands\n",
    "for idx in range(9):\n",
    "    m = idx+2\n",
    "    df['Bollinger_band_mean_'+str(m)+'_max'] = df['Rolling_mean_'+str(m)] + (2*df['Rolling_std_'+str(m)])\n",
    "    df['Bollinger_band_mean_'+str(m)+'_min'] = df['Rolling_mean_'+str(m)] - (2*df['Rolling_std_'+str(m)])"
   ]
  },
  {
   "cell_type": "code",
   "execution_count": 19,
   "metadata": {
    "collapsed": false,
    "deletable": true,
    "editable": true
   },
   "outputs": [
    {
     "name": "stdout",
     "output_type": "stream",
     "text": [
      "Number of rows: 45388, Number of columns: 107\n",
      "Number of rows: 45323, Number of columns: 107\n"
     ]
    }
   ],
   "source": [
    "print('Number of rows: {}, Number of columns: {}'.format(*df.shape))\n",
    "df = df.dropna()\n",
    "print('Number of rows: {}, Number of columns: {}'.format(*df.shape))"
   ]
  },
  {
   "cell_type": "markdown",
   "metadata": {
    "deletable": true,
    "editable": true
   },
   "source": [
    "### Split"
   ]
  },
  {
   "cell_type": "code",
   "execution_count": 20,
   "metadata": {
    "collapsed": true,
    "deletable": true,
    "editable": true
   },
   "outputs": [],
   "source": [
    "train, test = utils.split_df2(df)"
   ]
  },
  {
   "cell_type": "code",
   "execution_count": 21,
   "metadata": {
    "collapsed": true,
    "deletable": true,
    "editable": true
   },
   "outputs": [],
   "source": [
    "excl = ['Target', 'Date', 'Timestamp']\n",
    "cols = [c for c in df.columns if c not in excl]"
   ]
  },
  {
   "cell_type": "markdown",
   "metadata": {
    "deletable": true,
    "editable": true
   },
   "source": [
    "# xgboost"
   ]
  },
  {
   "cell_type": "code",
   "execution_count": 22,
   "metadata": {
    "collapsed": false
   },
   "outputs": [
    {
     "name": "stdout",
     "output_type": "stream",
     "text": [
      "[0]\ttrain-mlogloss:1.09317\ttest-mlogloss:1.09409\n",
      "[50]\ttrain-mlogloss:0.864812\ttest-mlogloss:0.907766\n",
      "[100]\ttrain-mlogloss:0.698353\ttest-mlogloss:0.777158\n",
      "[150]\ttrain-mlogloss:0.572085\ttest-mlogloss:0.682612\n",
      "[200]\ttrain-mlogloss:0.473874\ttest-mlogloss:0.612843\n",
      "[250]\ttrain-mlogloss:0.395893\ttest-mlogloss:0.560855\n",
      "[300]\ttrain-mlogloss:0.332772\ttest-mlogloss:0.521908\n",
      "[350]\ttrain-mlogloss:0.280962\ttest-mlogloss:0.492786\n",
      "[400]\ttrain-mlogloss:0.238217\ttest-mlogloss:0.471159\n",
      "[450]\ttrain-mlogloss:0.202831\ttest-mlogloss:0.455268\n",
      "[500]\ttrain-mlogloss:0.173469\ttest-mlogloss:0.443909\n",
      "[550]\ttrain-mlogloss:0.149045\ttest-mlogloss:0.436123\n",
      "[600]\ttrain-mlogloss:0.128715\ttest-mlogloss:0.431136\n",
      "[650]\ttrain-mlogloss:0.111769\ttest-mlogloss:0.428405\n",
      "[700]\ttrain-mlogloss:0.0975803\ttest-mlogloss:0.42746\n",
      "[750]\ttrain-mlogloss:0.085772\ttest-mlogloss:0.427912\n",
      "710\n",
      "Accuracy: 0.861618568529\n",
      "Coefficient Kappa: 0.141959950551\n",
      "Confussion Matrix:\n",
      "[[9649   43   50]\n",
      " [ 701   71   44]\n",
      " [ 679   51   43]]\n",
      "\n",
      " \n",
      " \n",
      " \n",
      " \n",
      " \n",
      " ********** WEIGHT ************\n",
      "('Cumulative_return_100', 25)\n",
      "('Cumulative_return', 270)\n",
      "('Rolling_mean_9', 806)\n",
      "('Rolling_mean_2', 810)\n",
      "('Up_or_Down_3', 907)\n",
      "('Rolling_mean_8', 1014)\n",
      "('Rolling_mean_10', 1018)\n",
      "('Rolling_mean_7', 1202)\n",
      "('Rolling_mean_6', 1243)\n",
      "('Weighted_Price', 1245)\n",
      "('Rolling_mean_3', 1259)\n",
      "('Bollinger_band_mean_7_max', 1281)\n",
      "('Rolling_mean_5', 1283)\n",
      "('Bollinger_band_mean_8_max', 1394)\n",
      "('Rolling_mean_4', 1395)\n",
      "('Bollinger_band_mean_9_max', 1506)\n",
      "('Bollinger_band_mean_6_max', 1564)\n",
      "('Bollinger_band_mean_7_min', 1602)\n",
      "('Bollinger_band_mean_6_min', 1749)\n",
      "('Bollinger_band_mean_10_max', 1763)\n",
      "('Bollinger_band_mean_8_min', 1902)\n",
      "('Bollinger_band_mean_9_min', 1985)\n",
      "('Rolling_cov_8', 2020)\n",
      "('Bollinger_band_mean_5_max', 2055)\n",
      "('Bollinger_band_mean_4_max', 2077)\n",
      "('Up_or_Down_2', 2085)\n",
      "('Rolling_cov_9', 2102)\n",
      "('Rolling_cov_7', 2114)\n",
      "('Up_or_Down', 2316)\n",
      "('Bollinger_band_mean_10_min', 2338)\n",
      "('Rolling_cov_10', 2404)\n",
      "('Bollinger_band_mean_5_min', 2463)\n",
      "('Bollinger_band_mean_4_min', 2546)\n",
      "('Rolling_cov_6', 2712)\n",
      "('Bollinger_band_mean_3_min', 2862)\n",
      "('Bollinger_band_mean_3_max', 2885)\n",
      "('Bollinger_band_mean_2_max', 3068)\n",
      "('Close', 3103)\n",
      "('Bollinger_band_mean_2_min', 3418)\n",
      "('Up_or_Down_4', 3491)\n",
      "('OBV_Currency', 3632)\n",
      "('Rolling_cov_4', 4000)\n",
      "('Rolling_cov_5', 4355)\n",
      "('Rolling_cov_3', 4704)\n",
      "('Low', 5119)\n",
      "('OBV_Currency_mean', 6481)\n",
      "('Daily_return_100', 6699)\n",
      "('Rolling_cov_2', 7649)\n",
      "('High', 8063)\n",
      "('Year', 8742)\n",
      "('Acc_Dist_Roc_Currency', 11552)\n",
      "('Chaikin_Money_Flow_3_Currency', 12810)\n",
      "('Rolling_std_9', 18526)\n",
      "('Rolling_std_7', 19087)\n",
      "('Rolling_std_8', 19200)\n",
      "('Month', 22307)\n",
      "('Rolling_std_6', 22660)\n",
      "('Rolling_std_10', 23269)\n",
      "('Rolling_std_5', 24818)\n",
      "('Weekday', 28830)\n",
      "('Rolling_std_4', 29012)\n",
      "('Force_Index_Currency', 30709)\n",
      "('Money_Flow_Currency', 31571)\n",
      "('Rolling_std_3', 31693)\n",
      "('Chaikin_Money_Flow_1_Currency', 31921)\n",
      "('Week', 32478)\n",
      "('Acc_Dist_Currency', 35239)\n",
      "('Rolling_std_2', 35633)\n",
      "('Chaikin_Money_Flow_2_Currency', 35969)\n",
      "('OBV_BTC', 37363)\n",
      "('Volume_Currency', 38077)\n",
      "('Open', 38425)\n",
      "('High-low', 44198)\n",
      "('Close-open', 46435)\n",
      "('MACD_sign', 48724)\n",
      "('RSI', 49080)\n",
      "('MACD', 49356)\n",
      "('Chaikin_Money_Flow_1_BTC', 49901)\n",
      "('Vortex_pos', 50836)\n",
      "('Chaikin_Money_Flow_3_BTC', 50928)\n",
      "('Vortex_neg', 52190)\n",
      "('Force_Index_BTC', 53724)\n",
      "('Hour', 54174)\n",
      "('Day', 54443)\n",
      "('Momentum_8', 54752)\n",
      "('Acc_Dist_BTC', 54780)\n",
      "('Momentum_9', 54854)\n",
      "('Momentum_6', 55446)\n",
      "('Momentum_7', 55522)\n",
      "('MACD_diff', 55590)\n",
      "('Momentum_10', 57494)\n",
      "('Chaikin_Money_Flow_2_BTC', 57608)\n",
      "('Money_Flow_BTC', 58581)\n",
      "('Momentum_5', 58653)\n",
      "('Momentum_2', 60329)\n",
      "('ADX_pos', 60540)\n",
      "('Momentum_3', 62094)\n",
      "('ADX_neg', 62781)\n",
      "('Momentum_4', 63683)\n",
      "('OBV_BTC_mean', 64168)\n",
      "('Volume_BTC', 64491)\n",
      "('Daily_return', 67354)\n",
      "('Acc_Dist_Roc_BTC', 78072)\n",
      "('ADX', 78983)\n",
      "\n",
      " \n",
      " \n",
      " \n",
      " \n",
      " \n",
      " ********** GAIN ************\n",
      "('Open', 0.8068980542475206)\n",
      "('Day', 0.8280900977972728)\n",
      "('Weekday', 0.8364122339360279)\n",
      "('Hour', 0.8390518107915448)\n",
      "('Acc_Dist_Roc_BTC', 0.8622901379756743)\n",
      "('Month', 0.8623532181163347)\n",
      "('Close-open', 0.8732143455159109)\n",
      "('Chaikin_Money_Flow_3_BTC', 0.8734709144820576)\n",
      "('Week', 0.8897610448114383)\n",
      "('Daily_return_100', 0.8976482150467199)\n",
      "('Acc_Dist_BTC', 0.9016500380099759)\n",
      "('Force_Index_BTC', 0.9036109588425826)\n",
      "('Acc_Dist_Roc_Currency', 0.9118982185666722)\n",
      "('Vortex_pos', 0.9176362058080303)\n",
      "('ADX_neg', 0.9251621211260475)\n",
      "('OBV_Currency_mean', 0.9258068299592639)\n",
      "('ADX', 0.9272228115765769)\n",
      "('ADX_pos', 0.9285715334584554)\n",
      "('Rolling_cov_3', 0.9294582081696412)\n",
      "('High', 0.9295883906842366)\n",
      "('Vortex_neg', 0.9311194738999738)\n",
      "('Rolling_std_2', 0.9333417181428956)\n",
      "('Daily_return', 0.9367230820368144)\n",
      "('RSI', 0.940741923476417)\n",
      "('OBV_BTC_mean', 0.9470616034519623)\n",
      "('Chaikin_Money_Flow_1_BTC', 0.9480288228956995)\n",
      "('Rolling_cov_2', 0.9488110113358604)\n",
      "('Volume_Currency', 0.9532336604752865)\n",
      "('Up_or_Down_3', 0.9545209152017636)\n",
      "('Acc_Dist_Currency', 0.9579536105977059)\n",
      "('Chaikin_Money_Flow_2_BTC', 0.9685618151230827)\n",
      "('Rolling_std_3', 0.978991944654007)\n",
      "('Volume_BTC', 0.9802179425917322)\n",
      "('MACD_diff', 0.9805263750779115)\n",
      "('Force_Index_Currency', 0.9818044452007522)\n",
      "('Momentum_2', 0.9844588430647472)\n",
      "('Momentum_3', 0.9846212159103979)\n",
      "('Rolling_cov_4', 0.9888745058766099)\n",
      "('Chaikin_Money_Flow_3_Currency', 0.993721219518009)\n",
      "('OBV_BTC', 0.9971358949557857)\n",
      "('Chaikin_Money_Flow_2_Currency', 1.0113447431173606)\n",
      "('Rolling_std_4', 1.0146314692519505)\n",
      "('Chaikin_Money_Flow_1_Currency', 1.019751590668908)\n",
      "('OBV_Currency', 1.0259674134231844)\n",
      "('Rolling_cov_6', 1.029510381114309)\n",
      "('Money_Flow_Currency', 1.0334599279476702)\n",
      "('Rolling_cov_7', 1.0362082691863759)\n",
      "('High-low', 1.0416433640843676)\n",
      "('Rolling_std_5', 1.0540888143630514)\n",
      "('Momentum_6', 1.0618187202771532)\n",
      "('Momentum_5', 1.0645104359426343)\n",
      "('Rolling_std_7', 1.0702486701944705)\n",
      "('Momentum_4', 1.0716431300220388)\n",
      "('Rolling_std_6', 1.089749647857493)\n",
      "('Cumulative_return_100', 1.0917789880000002)\n",
      "('MACD', 1.1107067181670411)\n",
      "('Low', 1.1161258499283067)\n",
      "('MACD_sign', 1.1329897685107102)\n",
      "('Close', 1.145104135318722)\n",
      "('Rolling_mean_3', 1.1579066549801433)\n",
      "('Momentum_9', 1.1665398260993933)\n",
      "('Cumulative_return', 1.174544888888889)\n",
      "('Bollinger_band_mean_2_max', 1.1938825558569115)\n",
      "('Bollinger_band_mean_10_max', 1.195319442142938)\n",
      "('Rolling_mean_9', 1.2054914049131509)\n",
      "('Bollinger_band_mean_6_max', 1.2279259285882338)\n",
      "('Bollinger_band_mean_3_max', 1.2320132960145571)\n",
      "('Weighted_Price', 1.2411800578216903)\n",
      "('Bollinger_band_mean_7_max', 1.2413775426385636)\n",
      "('Rolling_mean_4', 1.2464119555412192)\n",
      "('Rolling_mean_2', 1.25146164162963)\n",
      "('Momentum_8', 1.2586244117322407)\n",
      "('Bollinger_band_mean_2_min', 1.2815718760993893)\n",
      "('Momentum_7', 1.2828728743027698)\n",
      "('Rolling_mean_5', 1.3002379820342953)\n",
      "('Bollinger_band_mean_4_max', 1.3119405899422198)\n",
      "('Bollinger_band_mean_8_max', 1.3271581307030127)\n",
      "('Rolling_std_9', 1.3288927494853175)\n",
      "('Bollinger_band_mean_9_max', 1.338855496799469)\n",
      "('Rolling_cov_8', 1.339692060299505)\n",
      "('Rolling_std_8', 1.3590174584932553)\n",
      "('Bollinger_band_mean_7_min', 1.3647756718476938)\n",
      "('Rolling_mean_8', 1.3680375560256435)\n",
      "('Rolling_mean_6', 1.3800565496218822)\n",
      "('Rolling_cov_5', 1.3927265469866736)\n",
      "('Bollinger_band_mean_5_max', 1.3948923742593675)\n",
      "('Bollinger_band_mean_8_min', 1.3950956485383836)\n",
      "('Bollinger_band_mean_3_min', 1.3961623519238964)\n",
      "('Money_Flow_BTC', 1.419385720884435)\n",
      "('Rolling_mean_10', 1.4287710050589422)\n",
      "('Bollinger_band_mean_4_min', 1.4445417726472902)\n",
      "('Rolling_mean_7', 1.4654583240349424)\n",
      "('Bollinger_band_mean_10_min', 1.4972036636746366)\n",
      "('Rolling_cov_9', 1.497486094193148)\n",
      "('Bollinger_band_mean_6_min', 1.5181302648679258)\n",
      "('Bollinger_band_mean_5_min', 1.5378640745684133)\n",
      "('Bollinger_band_mean_9_min', 1.7182015976272051)\n",
      "('Momentum_10', 1.8565845044824991)\n",
      "('Rolling_cov_10', 1.987530390772047)\n",
      "('Rolling_std_10', 2.0004593091019354)\n",
      "('Year', 3.2092783166577656)\n",
      "('Up_or_Down_4', 3.701630821602121)\n",
      "('Up_or_Down_2', 8.985011744375468)\n",
      "('Up_or_Down', 63.91040139944898)\n"
     ]
    }
   ],
   "source": [
    "y_train = train['Target']\n",
    "y_mean = np.mean(y_train)\n",
    "xgb_params = {\n",
    "    'n_trees': 800,\n",
    "    'eta': 0.0045,\n",
    "    'max_depth': 20,\n",
    "    'subsample': 0.95,\n",
    "    'colsample_bytree': 0.95,\n",
    "    'colsample_bylevel': 0.95,\n",
    "    'objective': 'multi:softmax',\n",
    "    'num_class' : 3,\n",
    "    'eval_metric': 'mlogloss', # 'merror', # 'rmse',\n",
    "    'base_score': 0,\n",
    "    'silent': 1\n",
    "}\n",
    "\n",
    "dtrain = xgb.DMatrix(train[cols], y_train)\n",
    "dtest = xgb.DMatrix(test[cols])\n",
    "\n",
    "cv_result = xgb.cv(xgb_params, dtrain)\n",
    "\n",
    "# xgboost, cross-validation\n",
    "cv_result = xgb.cv(xgb_params,\n",
    "                   dtrain,\n",
    "                   num_boost_round=5000,\n",
    "                   early_stopping_rounds=50,\n",
    "                   verbose_eval=50,\n",
    "                   show_stdv=False\n",
    "                  )\n",
    "num_boost_rounds = len(cv_result)\n",
    "\n",
    "# num_boost_rounds = 1000\n",
    "\n",
    "print(num_boost_rounds)\n",
    "\n",
    "# train\n",
    "model = xgb.train(xgb_params, dtrain, num_boost_round=num_boost_rounds)\n",
    "\n",
    "# predict\n",
    "y_pred = model.predict(dtest)\n",
    "y_true = test['Target']\n",
    "\n",
    "utils.metrics2(y_true, y_pred)\n",
    "\n",
    "print \"\\n \\n \\n \\n \\n \\n ********** WEIGHT ************\"\n",
    "importance = model.get_fscore()\n",
    "importance = sorted(importance.items(), key=operator.itemgetter(1))\n",
    "for i in importance:\n",
    "    print i\n",
    "    \n",
    "print \"\\n \\n \\n \\n \\n \\n ********** GAIN ************\"\n",
    "importance = model.get_score(fmap='', importance_type='gain')\n",
    "importance = sorted(importance.items(), key=operator.itemgetter(1))\n",
    "for i in importance:\n",
    "    print i"
   ]
  },
  {
   "cell_type": "code",
   "execution_count": null,
   "metadata": {
    "collapsed": true,
    "deletable": true,
    "editable": true
   },
   "outputs": [],
   "source": []
  }
 ],
 "metadata": {
  "kernelspec": {
   "display_name": "Python 2",
   "language": "python",
   "name": "python2"
  },
  "language_info": {
   "codemirror_mode": {
    "name": "ipython",
    "version": 2
   },
   "file_extension": ".py",
   "mimetype": "text/x-python",
   "name": "python",
   "nbconvert_exporter": "python",
   "pygments_lexer": "ipython2",
   "version": "2.7.12"
  }
 },
 "nbformat": 4,
 "nbformat_minor": 2
}
