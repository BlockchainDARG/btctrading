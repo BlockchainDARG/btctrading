{
 "cells": [
  {
   "cell_type": "code",
   "execution_count": 177,
   "metadata": {
    "collapsed": false,
    "deletable": true,
    "editable": true
   },
   "outputs": [],
   "source": [
    "import numpy as np\n",
    "import pandas as pd\n",
    "from sklearn.ensemble import *\n",
    "import xgboost as xgb\n",
    "\n",
    "import settings\n",
    "import utils\n",
    "import get_data"
   ]
  },
  {
   "cell_type": "markdown",
   "metadata": {
    "deletable": true,
    "editable": true
   },
   "source": [
    "### Get Data"
   ]
  },
  {
   "cell_type": "markdown",
   "metadata": {
    "deletable": true,
    "editable": true
   },
   "source": [
    "API: http://bitcoincharts.com/charts\n",
    "\n",
    "period = ['1-min', '5-min', '15-min', '30-min', 'Hourly', '2-hour', '6-hour', '12-hour', 'Daily', 'Weekly']\n",
    "\n",
    "market = ['coincheckJPY', 'krakenEUR', 'bitstampUSD', 'okcoinCNY', 'btcnCNY', 'krakenUSD', 'itbitUSD', 'bitbayPLN', 'btcoidIDR', 'localbtcRUB', 'localbtcGBP', 'btcdeEUR', 'coinfloorGBP', 'localbtcUSD']"
   ]
  },
  {
   "cell_type": "code",
   "execution_count": 178,
   "metadata": {
    "collapsed": false,
    "deletable": true,
    "editable": true
   },
   "outputs": [],
   "source": [
    "# get_data.get('data/datas.csv', period='Hourly', market='bitstampUSD')"
   ]
  },
  {
   "cell_type": "markdown",
   "metadata": {
    "deletable": true,
    "editable": true
   },
   "source": [
    "### Load Data"
   ]
  },
  {
   "cell_type": "code",
   "execution_count": 179,
   "metadata": {
    "collapsed": true,
    "deletable": true,
    "editable": true
   },
   "outputs": [],
   "source": [
    "df = pd.read_csv('data/datas.csv', sep=',')"
   ]
  },
  {
   "cell_type": "code",
   "execution_count": 180,
   "metadata": {
    "collapsed": false,
    "deletable": true,
    "editable": true
   },
   "outputs": [
    {
     "data": {
      "text/plain": [
       "(50756, 8)"
      ]
     },
     "execution_count": 180,
     "metadata": {},
     "output_type": "execute_result"
    }
   ],
   "source": [
    "df.shape"
   ]
  },
  {
   "cell_type": "markdown",
   "metadata": {
    "deletable": true,
    "editable": true
   },
   "source": [
    "### Preprocessing"
   ]
  },
  {
   "cell_type": "code",
   "execution_count": 181,
   "metadata": {
    "collapsed": true,
    "deletable": true,
    "editable": true
   },
   "outputs": [],
   "source": [
    "df = utils.dropna(df)"
   ]
  },
  {
   "cell_type": "code",
   "execution_count": 182,
   "metadata": {
    "collapsed": false,
    "deletable": true,
    "editable": true
   },
   "outputs": [
    {
     "data": {
      "text/plain": [
       "(45005, 8)"
      ]
     },
     "execution_count": 182,
     "metadata": {},
     "output_type": "execute_result"
    }
   ],
   "source": [
    "df.shape"
   ]
  },
  {
   "cell_type": "markdown",
   "metadata": {
    "deletable": true,
    "editable": true
   },
   "source": [
    "### Transformation"
   ]
  },
  {
   "cell_type": "markdown",
   "metadata": {
    "deletable": true,
    "editable": true
   },
   "source": [
    "Create column target with class [UP, KEEP, DOWN]"
   ]
  },
  {
   "cell_type": "code",
   "execution_count": 183,
   "metadata": {
    "collapsed": true,
    "deletable": true,
    "editable": true
   },
   "outputs": [],
   "source": [
    "df['Target'] = 0 # 'KEEP'\n",
    "df.loc[df.Open + (df.Open * settings.PERCENT_UP) < df.Close, 'Target'] = 1 # 'UP'\n",
    "df.loc[df.Open - (df.Open * settings.PERCENT_DOWN) > df.Close, 'Target'] = 2 # 'DOWN'"
   ]
  },
  {
   "cell_type": "code",
   "execution_count": 184,
   "metadata": {
    "collapsed": false,
    "deletable": true,
    "editable": true
   },
   "outputs": [
    {
     "name": "stdout",
     "output_type": "stream",
     "text": [
      "Number of rows: 45005, Number of columns: 9\n",
      "Number of UP rows: 1736, Number of DOWN rows: 1706\n"
     ]
    }
   ],
   "source": [
    "print('Number of rows: {}, Number of columns: {}'.format(*df.shape))\n",
    "print('Number of UP rows: {}, Number of DOWN rows: {}'.format(len(df[df.Target == 1]), len(df[df.Target == 2])))"
   ]
  },
  {
   "cell_type": "markdown",
   "metadata": {
    "deletable": true,
    "editable": true
   },
   "source": [
    "Create columns from Timestamp to Date, Year, Month and Day."
   ]
  },
  {
   "cell_type": "markdown",
   "metadata": {
    "deletable": true,
    "editable": true
   },
   "source": [
    "### Feature Engineering"
   ]
  },
  {
   "cell_type": "code",
   "execution_count": 185,
   "metadata": {
    "collapsed": true,
    "deletable": true,
    "editable": true
   },
   "outputs": [],
   "source": [
    "df['Date'] = df['Timestamp'].apply(utils.timestamptodate)\n",
    "df['Date'] = pd.to_datetime(df['Date'])\n",
    "df['Year'] = df['Date'].dt.year\n",
    "df['Month'] = df['Date'].dt.month\n",
    "df['Day'] = df['Date'].dt.day\n",
    "df['Week'] = df['Date'].dt.weekofyear\n",
    "df['Weekday'] = df['Date'].dt.weekday\n",
    "\n",
    "# extra dates\n",
    "df[\"yearmonth\"] = df[\"Date\"].dt.year*100 + df[\"Date\"].dt.month\n",
    "df[\"yearweek\"] = df[\"Date\"].dt.year*100 + df[\"Date\"].dt.weekofyear\n",
    "df[\"yearweekday\"] = df[\"Date\"].dt.year*10 + df[\"Date\"].dt.weekday"
   ]
  },
  {
   "cell_type": "code",
   "execution_count": 186,
   "metadata": {
    "collapsed": true,
    "deletable": true,
    "editable": true
   },
   "outputs": [],
   "source": [
    "df['High-low'] = df['High'] - df['Low']\n",
    "df['High-low_mean'] = (df['High'] - df['Low']) / 2.0\n",
    "df['Close-open'] = df['Close'] - df['Open']\n",
    "df['Close-open_mean'] = (df['Close'] - df['Open']) / 2.0"
   ]
  },
  {
   "cell_type": "code",
   "execution_count": 187,
   "metadata": {
    "collapsed": false,
    "deletable": true,
    "editable": true
   },
   "outputs": [],
   "source": [
    "# Fundamental analysis\n",
    "\n",
    "# daily return\n",
    "df['Daily_return'] = (df['Close'] / df['Close'].shift(1)) - 1\n",
    "df['Daily_return_100'] = ((df['Close'] / df['Close'].shift(1)) - 1) * 100\n",
    "\n",
    "# cumulative return\n",
    "df['Cumulative_return'] = (df['Close'] / df['Close'][0]) - 1\n",
    "df['Cumulative_return_100'] = ((df['Close'] / df['Close'][0]) - 1) * 100\n",
    "\n",
    "# TODO: cumulative return week, month, year..."
   ]
  },
  {
   "cell_type": "code",
   "execution_count": 188,
   "metadata": {
    "collapsed": false,
    "deletable": true,
    "editable": true
   },
   "outputs": [],
   "source": [
    "# technical analysis\n",
    "\n",
    "# momentum\n",
    "for idx in range(9):\n",
    "    m = idx+2\n",
    "    df['Momentum_'+str(m)] = ((df['Close'] / df['Close'].shift(m)) - 1).shift(-1)\n",
    "\n",
    "# rollings\n",
    "for idx in range(9):\n",
    "    m = idx+2\n",
    "    df['Rolling_mean_'+str(m)] = (df.set_index('Date')['Close'].rolling(window=m).mean()).shift(-1).values\n",
    "    df['Rolling_std_'+str(m)] = (df.set_index('Date')['Close'].rolling(window=m).std()).shift(-1).values\n",
    "    df['Rolling_cov_'+str(m)] = (df.set_index('Date')['Close'].rolling(window=m).cov()).shift(-1).values\n",
    "    \n",
    "\n",
    "# bollinger bands\n",
    "for idx in range(9):\n",
    "    m = idx+2\n",
    "    df['Bollinger_band_mean_'+str(m)+'_max'] = df['Rolling_mean_'+str(m)] + (2*df['Rolling_std_'+str(m)])\n",
    "    df['Bollinger_band_mean_'+str(m)+'_min'] = df['Rolling_mean_'+str(m)] - (2*df['Rolling_std_'+str(m)])"
   ]
  },
  {
   "cell_type": "code",
   "execution_count": 189,
   "metadata": {
    "collapsed": false,
    "deletable": true,
    "editable": true
   },
   "outputs": [
    {
     "name": "stdout",
     "output_type": "stream",
     "text": [
      "Number of rows: 45005, Number of columns: 80\n"
     ]
    }
   ],
   "source": [
    "print('Number of rows: {}, Number of columns: {}'.format(*df.shape))"
   ]
  },
  {
   "cell_type": "code",
   "execution_count": 190,
   "metadata": {
    "collapsed": false,
    "deletable": true,
    "editable": true
   },
   "outputs": [],
   "source": [
    "# shift\n",
    "cols = ['Open', 'High', 'Low', 'Close', 'Volume_BTC', 'Volume_Currency', 'Weighted_Price', 'High-low', 'High-low_mean', 'Close-open', 'Close-open_mean', 'Daily_return', 'Daily_return_100', 'Cumulative_return', 'Cumulative_return_100']\n",
    "for col in cols:\n",
    "    df[col] = df[col].shift(-1)\n",
    "df = df.dropna()"
   ]
  },
  {
   "cell_type": "code",
   "execution_count": 191,
   "metadata": {
    "collapsed": false,
    "deletable": true,
    "editable": true
   },
   "outputs": [
    {
     "name": "stdout",
     "output_type": "stream",
     "text": [
      "Number of rows: 44995, Number of columns: 80\n"
     ]
    }
   ],
   "source": [
    "print('Number of rows: {}, Number of columns: {}'.format(*df.shape))"
   ]
  },
  {
   "cell_type": "markdown",
   "metadata": {
    "deletable": true,
    "editable": true
   },
   "source": [
    "### Split"
   ]
  },
  {
   "cell_type": "code",
   "execution_count": 193,
   "metadata": {
    "collapsed": true,
    "deletable": true,
    "editable": true
   },
   "outputs": [],
   "source": [
    "train, test = utils.split_df2(df)"
   ]
  },
  {
   "cell_type": "code",
   "execution_count": 194,
   "metadata": {
    "collapsed": true,
    "deletable": true,
    "editable": true
   },
   "outputs": [],
   "source": [
    "excl = ['Target', 'Date', 'Timestamp']\n",
    "cols = [c for c in df.columns if c not in excl]"
   ]
  },
  {
   "cell_type": "markdown",
   "metadata": {
    "deletable": true,
    "editable": true
   },
   "source": [
    "# xgboost"
   ]
  },
  {
   "cell_type": "code",
   "execution_count": 195,
   "metadata": {
    "collapsed": false,
    "deletable": true,
    "editable": true
   },
   "outputs": [
    {
     "name": "stdout",
     "output_type": "stream",
     "text": [
      "1300\n",
      "Accuracy: 0.973330962752\n",
      "Coefficient Kappa: 0.802703881133\n",
      "Confussion Matrix:\n",
      "[[10299    41    41]\n",
      " [   99   316     2]\n",
      " [  113     4   334]]\n"
     ]
    }
   ],
   "source": [
    "y_train = train['Target']\n",
    "y_mean = np.mean(y_train)\n",
    "xgb_params = {\n",
    "    'n_trees': 800,\n",
    "    'eta': 0.0045,\n",
    "    'max_depth': 20,\n",
    "    'subsample': 0.85,\n",
    "    'objective': 'multi:softmax',\n",
    "    'num_class' : 3,\n",
    "    'eval_metric': 'mlogloss', # 'merror', # 'rmse',\n",
    "    'base_score': 0,\n",
    "    'silent': 1\n",
    "}\n",
    "\n",
    "dtrain = xgb.DMatrix(train[cols], y_train)\n",
    "dtest = xgb.DMatrix(test[cols])\n",
    "\n",
    "\"\"\"\n",
    "cv_result = xgb.cv(xgb_params, dtrain)\n",
    "\n",
    "# xgboost, cross-validation\n",
    "cv_result = xgb.cv(xgb_params,\n",
    "                   dtrain,\n",
    "                   num_boost_round=10,\n",
    "                   early_stopping_rounds=50,\n",
    "                   verbose_eval=50,\n",
    "                   show_stdv=False\n",
    "                  )\n",
    "num_boost_rounds = len(cv_result)\n",
    "\"\"\"\n",
    "\n",
    "num_boost_rounds = 1300\n",
    "\n",
    "print(num_boost_rounds)\n",
    "\n",
    "# train\n",
    "model = xgb.train(xgb_params, dtrain, num_boost_round=num_boost_rounds)\n",
    "\n",
    "# predict\n",
    "y_pred = model.predict(dtest)\n",
    "y_true = test['Target']\n",
    "\n",
    "utils.metrics2(y_true, y_pred)"
   ]
  },
  {
   "cell_type": "code",
   "execution_count": 196,
   "metadata": {
    "collapsed": false,
    "deletable": true,
    "editable": true
   },
   "outputs": [
    {
     "data": {
      "text/plain": [
       "[('Rolling_cov_5', 55),\n",
       " ('Rolling_cov_6', 427),\n",
       " ('Rolling_cov_3', 914),\n",
       " ('Rolling_mean_3', 947),\n",
       " ('Rolling_mean_8', 1031),\n",
       " ('Rolling_mean_7', 1085),\n",
       " ('Weighted_Price', 1115),\n",
       " ('Rolling_mean_9', 1141),\n",
       " ('Rolling_mean_2', 1156),\n",
       " ('Rolling_mean_6', 1168),\n",
       " ('Rolling_mean_5', 1188),\n",
       " ('Rolling_mean_4', 1190),\n",
       " ('Rolling_cov_4', 1290),\n",
       " ('Year', 1301),\n",
       " ('Bollinger_band_mean_3_max', 1382),\n",
       " ('Rolling_mean_10', 1399),\n",
       " ('Bollinger_band_mean_8_max', 1494),\n",
       " ('Bollinger_band_mean_6_max', 1501),\n",
       " ('Bollinger_band_mean_5_max', 1515),\n",
       " ('Bollinger_band_mean_7_max', 1557),\n",
       " ('Close', 1619),\n",
       " ('Bollinger_band_mean_4_max', 1840),\n",
       " ('Bollinger_band_mean_9_max', 1900),\n",
       " ('Bollinger_band_mean_9_min', 1909),\n",
       " ('Bollinger_band_mean_7_min', 2008),\n",
       " ('Bollinger_band_mean_8_min', 2016),\n",
       " ('Bollinger_band_mean_10_max', 2301),\n",
       " ('Bollinger_band_mean_6_min', 2425),\n",
       " ('Bollinger_band_mean_5_min', 2486),\n",
       " ('Bollinger_band_mean_3_min', 2938),\n",
       " ('Bollinger_band_mean_4_min', 2979),\n",
       " ('High', 3112),\n",
       " ('Bollinger_band_mean_10_min', 3225),\n",
       " ('Bollinger_band_mean_2_min', 3281),\n",
       " ('Bollinger_band_mean_2_max', 3466),\n",
       " ('Low', 4210),\n",
       " ('Rolling_cov_2', 6414),\n",
       " ('yearmonth', 7566),\n",
       " ('yearweek', 10442),\n",
       " ('Month', 10973),\n",
       " ('Rolling_std_9', 11118),\n",
       " ('Rolling_std_8', 12312),\n",
       " ('Rolling_std_7', 12834),\n",
       " ('Rolling_std_10', 13342),\n",
       " ('yearweekday', 14236),\n",
       " ('Weekday', 14464),\n",
       " ('Rolling_std_6', 16069),\n",
       " ('Week', 16640),\n",
       " ('Rolling_std_5', 17438),\n",
       " ('Open', 23047),\n",
       " ('Momentum_9', 23875),\n",
       " ('Momentum_8', 24781),\n",
       " ('Volume_Currency', 25043),\n",
       " ('Momentum_10', 26123),\n",
       " ('Rolling_std_4', 26755),\n",
       " ('Momentum_7', 28398),\n",
       " ('High-low', 29014),\n",
       " ('Momentum_6', 29205),\n",
       " ('Momentum_5', 30836),\n",
       " ('Close-open', 31164),\n",
       " ('Day', 31372),\n",
       " ('Momentum_4', 35878),\n",
       " ('Rolling_std_2', 36941),\n",
       " ('Volume_BTC', 41522),\n",
       " ('Rolling_std_3', 43909),\n",
       " ('Momentum_3', 48755),\n",
       " ('Daily_return', 101871),\n",
       " ('Momentum_2', 109834)]"
      ]
     },
     "execution_count": 196,
     "metadata": {},
     "output_type": "execute_result"
    }
   ],
   "source": [
    "import operator\n",
    "importance = model.get_fscore()\n",
    "importance = sorted(importance.items(), key=operator.itemgetter(1))\n",
    "importance"
   ]
  },
  {
   "cell_type": "code",
   "execution_count": 197,
   "metadata": {
    "collapsed": false,
    "deletable": true,
    "editable": true
   },
   "outputs": [
    {
     "data": {
      "text/plain": [
       "[('Rolling_cov_4', 0.39266235447906944),\n",
       " ('Rolling_cov_6', 0.4513896416393439),\n",
       " ('Weekday', 0.453303677587354),\n",
       " ('Day', 0.46133882101974377),\n",
       " ('Week', 0.4803043029314136),\n",
       " ('Momentum_10', 0.5191047701491791),\n",
       " ('Momentum_7', 0.557125616952049),\n",
       " ('Momentum_8', 0.5609530360168099),\n",
       " ('Momentum_9', 0.5619482308869986),\n",
       " ('Month', 0.5679134873774199),\n",
       " ('Rolling_cov_5', 0.5937280381818182),\n",
       " ('Momentum_5', 0.60244104824803),\n",
       " ('Momentum_4', 0.6046979886981056),\n",
       " ('Momentum_6', 0.6245873493559033),\n",
       " ('Volume_BTC', 0.6412417413736236),\n",
       " ('Close', 0.6439677527010506),\n",
       " ('Volume_Currency', 0.6717289335925942),\n",
       " ('Bollinger_band_mean_10_max', 0.6782972680834426),\n",
       " ('Bollinger_band_mean_3_max', 0.6901914091780026),\n",
       " ('Bollinger_band_mean_6_max', 0.701491961056627),\n",
       " ('Momentum_3', 0.7248471858948418),\n",
       " ('Rolling_std_10', 0.7366679822245462),\n",
       " ('Rolling_cov_2', 0.739530539351732),\n",
       " ('yearweekday', 0.7612386077945933),\n",
       " ('Open', 0.7632939947175461),\n",
       " ('Rolling_std_9', 0.767130160289881),\n",
       " ('Rolling_mean_3', 0.7700430419759239),\n",
       " ('Close-open', 0.7752994661488186),\n",
       " ('Rolling_std_7', 0.791095622805131),\n",
       " ('Rolling_std_5', 0.7970459034466834),\n",
       " ('Rolling_cov_3', 0.8146905853282268),\n",
       " ('High', 0.8225276717808501),\n",
       " ('Rolling_mean_4', 0.828350245839412),\n",
       " ('Rolling_std_6', 0.836216953550311),\n",
       " ('Bollinger_band_mean_9_max', 0.8421591622331581),\n",
       " ('Bollinger_band_mean_5_max', 0.8444588177161717),\n",
       " ('Rolling_mean_5', 0.8723916510942751),\n",
       " ('Rolling_mean_2', 0.8724882934169532),\n",
       " ('Rolling_std_8', 0.8759689509898645),\n",
       " ('Rolling_mean_6', 0.8862267978398969),\n",
       " ('Rolling_mean_7', 0.9195576845529954),\n",
       " ('Bollinger_band_mean_2_max', 0.9380153927965973),\n",
       " ('Low', 0.9481038269716624),\n",
       " ('Bollinger_band_mean_2_min', 0.9740592445822904),\n",
       " ('Rolling_mean_10', 0.9885520356890628),\n",
       " ('Bollinger_band_mean_4_max', 1.0150798291250018),\n",
       " ('Bollinger_band_mean_9_min', 1.0176335302881094),\n",
       " ('Bollinger_band_mean_7_max', 1.0283474361657026),\n",
       " ('Rolling_mean_8', 1.0510191229922403),\n",
       " ('Rolling_mean_9', 1.080296274434706),\n",
       " ('High-low', 1.1509607192722775),\n",
       " ('Year', 1.254265039221908),\n",
       " ('Bollinger_band_mean_7_min', 1.3506055861304767),\n",
       " ('Rolling_std_4', 1.389112193597027),\n",
       " ('Bollinger_band_mean_8_min', 1.430138344374569),\n",
       " ('Bollinger_band_mean_8_max', 1.4646971561765043),\n",
       " ('Weighted_Price', 1.4718079296322844),\n",
       " ('yearweek', 1.531941610935365),\n",
       " ('Rolling_std_2', 1.5749147595572148),\n",
       " ('yearmonth', 1.6479359723229141),\n",
       " ('Bollinger_band_mean_6_min', 1.649968208011961),\n",
       " ('Bollinger_band_mean_3_min', 2.2205757083594215),\n",
       " ('Bollinger_band_mean_5_min', 2.8099479538483516),\n",
       " ('Rolling_std_3', 3.06022990407593),\n",
       " ('Daily_return', 3.481844892496126),\n",
       " ('Bollinger_band_mean_4_min', 3.607799667522659),\n",
       " ('Bollinger_band_mean_10_min', 4.6342572696186),\n",
       " ('Momentum_2', 5.388797576563359)]"
      ]
     },
     "execution_count": 197,
     "metadata": {},
     "output_type": "execute_result"
    }
   ],
   "source": [
    "importance = model.get_score(fmap='', importance_type='gain')\n",
    "importance = sorted(importance.items(), key=operator.itemgetter(1))\n",
    "importance"
   ]
  },
  {
   "cell_type": "code",
   "execution_count": null,
   "metadata": {
    "collapsed": true,
    "deletable": true,
    "editable": true
   },
   "outputs": [],
   "source": []
  }
 ],
 "metadata": {
  "kernelspec": {
   "display_name": "Python 2",
   "language": "python",
   "name": "python2"
  },
  "language_info": {
   "codemirror_mode": {
    "name": "ipython",
    "version": 2
   },
   "file_extension": ".py",
   "mimetype": "text/x-python",
   "name": "python",
   "nbconvert_exporter": "python",
   "pygments_lexer": "ipython2",
   "version": "2.7.12"
  }
 },
 "nbformat": 4,
 "nbformat_minor": 2
}
