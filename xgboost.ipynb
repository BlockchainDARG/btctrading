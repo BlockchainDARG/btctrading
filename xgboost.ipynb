{
 "cells": [
  {
   "cell_type": "code",
   "execution_count": 115,
   "metadata": {
    "collapsed": false,
    "deletable": true,
    "editable": true
   },
   "outputs": [],
   "source": [
    "import numpy as np\n",
    "import pandas as pd\n",
    "from sklearn.ensemble import *\n",
    "import xgboost as xgb\n",
    "\n",
    "import settings\n",
    "import utils\n",
    "import get_data"
   ]
  },
  {
   "cell_type": "markdown",
   "metadata": {
    "deletable": true,
    "editable": true
   },
   "source": [
    "### Get Data"
   ]
  },
  {
   "cell_type": "markdown",
   "metadata": {
    "deletable": true,
    "editable": true
   },
   "source": [
    "API: http://bitcoincharts.com/charts\n",
    "\n",
    "period = ['1-min', '5-min', '15-min', '30-min', 'Hourly', '2-hour', '6-hour', '12-hour', 'Daily', 'Weekly']\n",
    "\n",
    "market = ['coincheckJPY', 'krakenEUR', 'bitstampUSD', 'okcoinCNY', 'btcnCNY', 'krakenUSD', 'itbitUSD', 'bitbayPLN', 'btcoidIDR', 'localbtcRUB', 'localbtcGBP', 'btcdeEUR', 'coinfloorGBP', 'localbtcUSD']"
   ]
  },
  {
   "cell_type": "code",
   "execution_count": 116,
   "metadata": {
    "collapsed": false,
    "deletable": true,
    "editable": true
   },
   "outputs": [],
   "source": [
    "# get_data.get('data/datas.csv', period='Hourly', market='bitstampUSD')"
   ]
  },
  {
   "cell_type": "markdown",
   "metadata": {
    "deletable": true,
    "editable": true
   },
   "source": [
    "### Load Data"
   ]
  },
  {
   "cell_type": "code",
   "execution_count": 117,
   "metadata": {
    "collapsed": true,
    "deletable": true,
    "editable": true
   },
   "outputs": [],
   "source": [
    "df = pd.read_csv('data/datas.csv', sep=',')"
   ]
  },
  {
   "cell_type": "code",
   "execution_count": 118,
   "metadata": {
    "collapsed": false,
    "deletable": true,
    "editable": true
   },
   "outputs": [
    {
     "data": {
      "text/plain": [
       "(50689, 8)"
      ]
     },
     "execution_count": 118,
     "metadata": {},
     "output_type": "execute_result"
    }
   ],
   "source": [
    "df.shape"
   ]
  },
  {
   "cell_type": "markdown",
   "metadata": {
    "deletable": true,
    "editable": true
   },
   "source": [
    "### Preprocessing"
   ]
  },
  {
   "cell_type": "code",
   "execution_count": 119,
   "metadata": {
    "collapsed": true,
    "deletable": true,
    "editable": true
   },
   "outputs": [],
   "source": [
    "df = utils.dropna(df)"
   ]
  },
  {
   "cell_type": "code",
   "execution_count": 120,
   "metadata": {
    "collapsed": false,
    "deletable": true,
    "editable": true
   },
   "outputs": [
    {
     "data": {
      "text/plain": [
       "(44938, 8)"
      ]
     },
     "execution_count": 120,
     "metadata": {},
     "output_type": "execute_result"
    }
   ],
   "source": [
    "df.shape"
   ]
  },
  {
   "cell_type": "markdown",
   "metadata": {
    "deletable": true,
    "editable": true
   },
   "source": [
    "### Transformation"
   ]
  },
  {
   "cell_type": "markdown",
   "metadata": {
    "deletable": true,
    "editable": true
   },
   "source": [
    "Create column target with class [UP, KEEP, DOWN]"
   ]
  },
  {
   "cell_type": "code",
   "execution_count": 121,
   "metadata": {
    "collapsed": true,
    "deletable": true,
    "editable": true
   },
   "outputs": [],
   "source": [
    "df['Target'] = 0 # 'KEEP'\n",
    "df.loc[df.Open + (df.Open * settings.PERCENT_UP) < df.Close, 'Target'] = 1 # 'UP'\n",
    "df.loc[df.Open - (df.Open * settings.PERCENT_DOWN) > df.Close, 'Target'] = 2 # 'DOWN'"
   ]
  },
  {
   "cell_type": "code",
   "execution_count": 122,
   "metadata": {
    "collapsed": false,
    "deletable": true,
    "editable": true
   },
   "outputs": [
    {
     "name": "stdout",
     "output_type": "stream",
     "text": [
      "Number of rows: 44938, Number of columns: 9\n",
      "Number of UP rows: 1731, Number of DOWN rows: 1699\n"
     ]
    }
   ],
   "source": [
    "print('Number of rows: {}, Number of columns: {}'.format(*df.shape))\n",
    "print('Number of UP rows: {}, Number of DOWN rows: {}'.format(len(df[df.Target == 1]), len(df[df.Target == 2])))"
   ]
  },
  {
   "cell_type": "markdown",
   "metadata": {
    "deletable": true,
    "editable": true
   },
   "source": [
    "Create columns from Timestamp to Date, Year, Month and Day."
   ]
  },
  {
   "cell_type": "markdown",
   "metadata": {
    "deletable": true,
    "editable": true
   },
   "source": [
    "### Feature Engineering"
   ]
  },
  {
   "cell_type": "code",
   "execution_count": 123,
   "metadata": {
    "collapsed": true,
    "deletable": true,
    "editable": true
   },
   "outputs": [],
   "source": [
    "df['Date'] = df['Timestamp'].apply(utils.timestamptodate)\n",
    "df['Date'] = pd.to_datetime(df['Date'])\n",
    "df['Year'] = df['Date'].dt.year\n",
    "df['Month'] = df['Date'].dt.month\n",
    "df['Day'] = df['Date'].dt.day\n",
    "df['Week'] = df['Date'].dt.weekofyear\n",
    "df['Weekday'] = df['Date'].dt.weekday\n",
    "\n",
    "# extra dates\n",
    "df[\"yearmonth\"] = df[\"Date\"].dt.year*100 + df[\"Date\"].dt.month\n",
    "df[\"yearweek\"] = df[\"Date\"].dt.year*100 + df[\"Date\"].dt.weekofyear\n",
    "df[\"yearweekday\"] = df[\"Date\"].dt.year*10 + df[\"Date\"].dt.weekday"
   ]
  },
  {
   "cell_type": "code",
   "execution_count": 124,
   "metadata": {
    "collapsed": true,
    "deletable": true,
    "editable": true
   },
   "outputs": [],
   "source": [
    "df['High-low'] = df['High'] - df['Low']\n",
    "df['High-low_mean'] = (df['High'] - df['Low']) / 2.0\n",
    "df['Close-open'] = df['Close'] - df['Open']\n",
    "df['Close-open_mean'] = (df['Close'] - df['Open']) / 2.0"
   ]
  },
  {
   "cell_type": "code",
   "execution_count": 125,
   "metadata": {
    "collapsed": false,
    "deletable": true,
    "editable": true
   },
   "outputs": [],
   "source": [
    "# Fundamental analysis\n",
    "# daily return\n",
    "\n",
    "df['Daily_return'] = (df['Close'] / df['Close'].shift(1)) - 1\n",
    "df['Daily_return_100'] = ((df['Close'] / df['Close'].shift(1)) - 1) * 100\n",
    "\n",
    "# cumulative return\n",
    "\n",
    "df['Cumulative_return'] = (df['Close'] / df['Close'][0]) - 1\n",
    "df['Cumulative_return_100'] = ((df['Close'] / df['Close'][0]) - 1) * 100\n",
    "\n",
    "# TODO: cumulative return week, month, year..."
   ]
  },
  {
   "cell_type": "code",
   "execution_count": 126,
   "metadata": {
    "collapsed": false,
    "deletable": true,
    "editable": true
   },
   "outputs": [
    {
     "data": {
      "text/plain": [
       "\"\\ndf['Bollinger_band_mean_10'] = (df['Close'] - df['Rolling_mean_10']) / 2 * df['Close'].std()\\ndf['Bollinger_band_mean_10_'] = (df['Close'] + df['Rolling_mean_10']) / 2 * df['Close'].std()\\n\""
      ]
     },
     "execution_count": 126,
     "metadata": {},
     "output_type": "execute_result"
    }
   ],
   "source": [
    "# technical analysis (price and volume)\n",
    "\n",
    "# momentum\n",
    "df['Momentum_3'] = (df['Close'] / df['Close'].shift(3)) - 1\n",
    "df['Momentum_3'] = df['Momentum_3'].shift(-1)\n",
    "\n",
    "df['Momentum_5'] = (df['Close'] / df['Close'].shift(5)) - 1\n",
    "df['Momentum_5'] = df['Momentum_5'].shift(-1)\n",
    "\n",
    "df['Momentum_7'] = (df['Close'] / df['Close'].shift(7)) - 1\n",
    "df['Momentum_7'] = df['Momentum_7'].shift(-1)\n",
    "\n",
    "df['Momentum_10'] = (df['Close'] / df['Close'].shift(10)) - 1\n",
    "df['Momentum_10'] = df['Momentum_10'].shift(-1)\n",
    "\n",
    "# rollings: https://github.com/pandas-dev/pandas/blob/master/pandas/stats/moments.py\n",
    "df['Rolling_mean_3'] = df.set_index('Date')['Close'].rolling(window=3).mean().values\n",
    "df['Rolling_std_3'] = df.set_index('Date')['Close'].rolling(window=3).std().values\n",
    "df['Rolling_cov_3'] = df.set_index('Date')['Close'].rolling(window=3).cov().values\n",
    "\n",
    "df['Rolling_mean_3'] = df['Rolling_mean_3'].shift(-1)\n",
    "df['Rolling_std_3'] = df['Rolling_std_3'].shift(-1)\n",
    "df['Rolling_cov_3'] = df['Rolling_cov_3'].shift(-1)\n",
    "\n",
    "df['Rolling_mean_5'] = df.set_index('Date')['Close'].rolling(window=5).mean().values\n",
    "df['Rolling_std_5'] = df.set_index('Date')['Close'].rolling(window=5).std().values\n",
    "df['Rolling_cov_5'] = df.set_index('Date')['Close'].rolling(window=5).cov().values\n",
    "\n",
    "df['Rolling_mean_5'] = df['Rolling_mean_5'].shift(-1)\n",
    "df['Rolling_std_5'] = df['Rolling_std_5'].shift(-1)\n",
    "df['Rolling_cov_5'] = df['Rolling_cov_5'].shift(-1)\n",
    "\n",
    "df['Rolling_mean_10'] = df.set_index('Date')['Close'].rolling(window=10).mean().values\n",
    "df['Rolling_std_10'] = df.set_index('Date')['Close'].rolling(window=10).std().values\n",
    "df['Rolling_cov_10'] = df.set_index('Date')['Close'].rolling(window=10).cov().values\n",
    "\n",
    "df['Rolling_mean_10'] = df['Rolling_mean_10'].shift(-1)\n",
    "df['Rolling_std_10'] = df['Rolling_std_10'].shift(-1)\n",
    "df['Rolling_cov_10'] = df['Rolling_cov_10'].shift(-1)\n",
    "\n",
    "# TODO: bollinger bands\n",
    "\"\"\"\n",
    "df['Bollinger_band_mean_10'] = (df['Close'] - df['Rolling_mean_10']) / 2 * df['Close'].std()\n",
    "df['Bollinger_band_mean_10_'] = (df['Close'] + df['Rolling_mean_10']) / 2 * df['Close'].std()\n",
    "\"\"\""
   ]
  },
  {
   "cell_type": "code",
   "execution_count": 127,
   "metadata": {
    "collapsed": false,
    "deletable": true,
    "editable": true
   },
   "outputs": [
    {
     "name": "stdout",
     "output_type": "stream",
     "text": [
      "Number of rows: 44938, Number of columns: 39\n"
     ]
    }
   ],
   "source": [
    "print('Number of rows: {}, Number of columns: {}'.format(*df.shape))"
   ]
  },
  {
   "cell_type": "markdown",
   "metadata": {
    "deletable": true,
    "editable": true
   },
   "source": [
    "Transformation previous values from Open, High, Low, Close, Volume and Weighted columns."
   ]
  },
  {
   "cell_type": "code",
   "execution_count": 128,
   "metadata": {
    "collapsed": false,
    "deletable": true,
    "editable": true
   },
   "outputs": [],
   "source": [
    "# create PREV_DAYS * len(cols) new columns\n",
    "cols = ['Open', 'High', 'Low', 'Close', 'Volume_BTC', 'Volume_Currency', 'Weighted_Price', 'High-low', 'High-low_mean', 'Close-open', 'Close-open_mean', 'Daily_return', 'Daily_return_100', 'Cumulative_return', 'Cumulative_return_100']\n",
    "for col in cols:\n",
    "    for idx in range(settings.PREV_DAYS):\n",
    "        prev = idx + 1\n",
    "        df[col+'-'+str(prev)] = df[col].shift(prev)\n",
    "df = df.dropna()"
   ]
  },
  {
   "cell_type": "code",
   "execution_count": 129,
   "metadata": {
    "collapsed": false,
    "deletable": true,
    "editable": true
   },
   "outputs": [
    {
     "name": "stdout",
     "output_type": "stream",
     "text": [
      "Number of rows: 44926, Number of columns: 189\n"
     ]
    }
   ],
   "source": [
    "print('Number of rows: {}, Number of columns: {}'.format(*df.shape))"
   ]
  },
  {
   "cell_type": "markdown",
   "metadata": {
    "deletable": true,
    "editable": true
   },
   "source": [
    "### Split"
   ]
  },
  {
   "cell_type": "code",
   "execution_count": 113,
   "metadata": {
    "collapsed": true,
    "deletable": true,
    "editable": true
   },
   "outputs": [],
   "source": [
    "train, test = utils.split_df2(df)"
   ]
  },
  {
   "cell_type": "code",
   "execution_count": 114,
   "metadata": {
    "collapsed": true,
    "deletable": true,
    "editable": true
   },
   "outputs": [],
   "source": [
    "excl = ['Open', 'High', 'Low', 'Close', 'Volume_BTC', 'Volume_Currency', 'Weighted_Price', 'Target', 'High-low', 'High-low_mean', 'Close-open', 'Close-open_mean', 'Daily_return', 'Daily_return_100', 'Cumulative_return', 'Cumulative_return_100', 'Date', 'Timestamp']\n",
    "cols = [c for c in df.columns if c not in excl]"
   ]
  },
  {
   "cell_type": "markdown",
   "metadata": {
    "deletable": true,
    "editable": true
   },
   "source": [
    "# xgboost"
   ]
  },
  {
   "cell_type": "code",
   "execution_count": 50,
   "metadata": {
    "collapsed": false,
    "deletable": true,
    "editable": true
   },
   "outputs": [
    {
     "name": "stdout",
     "output_type": "stream",
     "text": [
      "[0]\ttrain-mlogloss:1.09242\ttest-mlogloss:1.09288\n",
      "[50]\ttrain-mlogloss:0.835044\ttest-mlogloss:0.856424\n",
      "[100]\ttrain-mlogloss:0.651387\ttest-mlogloss:0.690087\n",
      "[150]\ttrain-mlogloss:0.514989\ttest-mlogloss:0.568514\n",
      "[200]\ttrain-mlogloss:0.411262\ttest-mlogloss:0.477475\n",
      "[250]\ttrain-mlogloss:0.331009\ttest-mlogloss:0.408167\n",
      "[300]\ttrain-mlogloss:0.268159\ttest-mlogloss:0.354857\n",
      "[350]\ttrain-mlogloss:0.218496\ttest-mlogloss:0.313571\n",
      "[400]\ttrain-mlogloss:0.179015\ttest-mlogloss:0.281525\n",
      "[450]\ttrain-mlogloss:0.147458\ttest-mlogloss:0.256527\n",
      "[500]\ttrain-mlogloss:0.122089\ttest-mlogloss:0.23711\n",
      "[550]\ttrain-mlogloss:0.101623\ttest-mlogloss:0.221949\n",
      "[600]\ttrain-mlogloss:0.0850543\ttest-mlogloss:0.21022\n",
      "[650]\ttrain-mlogloss:0.071603\ttest-mlogloss:0.20123\n",
      "[700]\ttrain-mlogloss:0.0606417\ttest-mlogloss:0.194355\n",
      "[750]\ttrain-mlogloss:0.051682\ttest-mlogloss:0.189175\n",
      "[800]\ttrain-mlogloss:0.044342\ttest-mlogloss:0.185327\n",
      "[850]\ttrain-mlogloss:0.0383037\ttest-mlogloss:0.182549\n",
      "[900]\ttrain-mlogloss:0.0333103\ttest-mlogloss:0.180602\n",
      "[950]\ttrain-mlogloss:0.0291733\ttest-mlogloss:0.179329\n",
      "[1000]\ttrain-mlogloss:0.025726\ttest-mlogloss:0.178585\n",
      "[1050]\ttrain-mlogloss:0.0228497\ttest-mlogloss:0.178189\n",
      "[1100]\ttrain-mlogloss:0.0204307\ttest-mlogloss:0.178131\n",
      "1085\n",
      "Accuracy: 0.936164529915\n",
      "Coefficient Kappa: 0.42915125513\n",
      "Confussion Matrix:\n",
      "[[10233    78    88]\n",
      " [  270   152    13]\n",
      " [  253    15   130]]\n"
     ]
    }
   ],
   "source": [
    "y_train = train['Target']\n",
    "y_mean = np.mean(y_train)\n",
    "xgb_params = {\n",
    "    'n_trees': 800,\n",
    "    'eta': 0.0045,\n",
    "    'max_depth': 20,\n",
    "    'subsample': 0.85,\n",
    "    'objective': 'multi:softmax',\n",
    "    'num_class' : 3,\n",
    "    'eval_metric': 'mlogloss', # 'merror', # 'rmse',\n",
    "    'base_score': 0,\n",
    "    'silent': 1\n",
    "}\n",
    "\n",
    "dtrain = xgb.DMatrix(train[cols], y_train)\n",
    "dtest = xgb.DMatrix(test[cols])\n",
    "\n",
    "cv_result = xgb.cv(xgb_params, dtrain)\n",
    "\n",
    "# xgboost, cross-validation\n",
    "cv_result = xgb.cv(xgb_params,\n",
    "                   dtrain,\n",
    "                   num_boost_round=5000,\n",
    "                   early_stopping_rounds=50,\n",
    "                   verbose_eval=50,\n",
    "                   show_stdv=False\n",
    "                  )\n",
    "num_boost_rounds = len(cv_result)\n",
    "\n",
    "#num_boost_rounds = 756\n",
    "\n",
    "print(num_boost_rounds)\n",
    "\n",
    "# train\n",
    "model = xgb.train(xgb_params, dtrain, num_boost_round=num_boost_rounds)\n",
    "\n",
    "y_pred = model.predict(dtest)\n",
    "y_true = test['Target']\n",
    "\n",
    "# utils.metrics(y_true, y_pred)\n",
    "utils.metrics2(y_true, y_pred)"
   ]
  },
  {
   "cell_type": "code",
   "execution_count": 51,
   "metadata": {
    "collapsed": false,
    "deletable": true,
    "editable": true
   },
   "outputs": [
    {
     "data": {
      "text/plain": [
       "[('Rolling_cov_5', 6),\n",
       " ('Rolling_cov_3', 357),\n",
       " ('Weighted_Price-3', 461),\n",
       " ('Close-6', 465),\n",
       " ('Close-7', 523),\n",
       " ('Weighted_Price-6', 530),\n",
       " ('Close-2', 541),\n",
       " ('Close-5', 545),\n",
       " ('Close-3', 564),\n",
       " ('Close-4', 570),\n",
       " ('Weighted_Price-4', 609),\n",
       " ('Close-8', 619),\n",
       " ('Close-10', 620),\n",
       " ('Weighted_Price-5', 625),\n",
       " ('Weighted_Price-9', 641),\n",
       " ('Weighted_Price-8', 654),\n",
       " ('Close-9', 656),\n",
       " ('Weighted_Price-2', 707),\n",
       " ('Weighted_Price-7', 831),\n",
       " ('Weighted_Price-10', 1004),\n",
       " ('High-4', 1128),\n",
       " ('High-3', 1129),\n",
       " ('Weighted_Price-1', 1185),\n",
       " ('Close-1', 1409),\n",
       " ('High-6', 1419),\n",
       " ('High-5', 1472),\n",
       " ('Low-9', 1517),\n",
       " ('High-9', 1524),\n",
       " ('Low-5', 1583),\n",
       " ('High-7', 1599),\n",
       " ('High-2', 1618),\n",
       " ('High-8', 1631),\n",
       " ('Low-8', 1775),\n",
       " ('Low-7', 1799),\n",
       " ('Low-4', 1817),\n",
       " ('Year', 1966),\n",
       " ('Low-6', 2157),\n",
       " ('Low-3', 2287),\n",
       " ('High-10', 2298),\n",
       " ('High-1', 2398),\n",
       " ('Open-6', 2498),\n",
       " ('Low-2', 2518),\n",
       " ('Rolling_mean_5', 2526),\n",
       " ('Open-3', 2587),\n",
       " ('Open-4', 2641),\n",
       " ('Low-10', 2657),\n",
       " ('Open-1', 2709),\n",
       " ('Rolling_mean_10', 2736),\n",
       " ('Open-7', 2823),\n",
       " ('Open-2', 2830),\n",
       " ('Low-1', 2872),\n",
       " ('Open-5', 2925),\n",
       " ('Open-9', 2985),\n",
       " ('Open-8', 3132),\n",
       " ('Open-10', 3848),\n",
       " ('yearmonth', 6634),\n",
       " ('Month', 9026),\n",
       " ('yearweek', 9471),\n",
       " ('yearweekday', 11129),\n",
       " ('Volume_Currency-4', 12479),\n",
       " ('Volume_Currency-9', 12524),\n",
       " ('Weekday', 12642),\n",
       " ('Volume_Currency-7', 13379),\n",
       " ('Volume_Currency-6', 13588),\n",
       " ('Volume_Currency-5', 14175),\n",
       " ('Week', 14201),\n",
       " ('Volume_Currency-10', 14263),\n",
       " ('Volume_Currency-3', 14351),\n",
       " ('Volume_Currency-8', 14450),\n",
       " ('High-low-9', 14797),\n",
       " ('Volume_Currency-2', 15275),\n",
       " ('High-low-5', 15361),\n",
       " ('High-low-8', 15386),\n",
       " ('High-low-4', 15435),\n",
       " ('High-low-7', 15453),\n",
       " ('High-low-6', 15497),\n",
       " ('Volume_Currency-1', 16219),\n",
       " ('Rolling_mean_3', 16733),\n",
       " ('High-low-10', 16761),\n",
       " ('High-low-3', 16900),\n",
       " ('High-low-2', 17426),\n",
       " ('Daily_return-5', 19144),\n",
       " ('Daily_return-8', 19750),\n",
       " ('Daily_return-6', 20002),\n",
       " ('Daily_return-7', 20113),\n",
       " ('Daily_return-3', 20270),\n",
       " ('Daily_return-10', 20360),\n",
       " ('High-low-1', 20533),\n",
       " ('Close-open-7', 20822),\n",
       " ('Close-open-2', 20842),\n",
       " ('Close-open-9', 21011),\n",
       " ('Close-open-4', 21015),\n",
       " ('Close-open-3', 21046),\n",
       " ('Daily_return-2', 21311),\n",
       " ('Close-open-6', 21349),\n",
       " ('Close-open-8', 21367),\n",
       " ('Close-open-5', 21597),\n",
       " ('Close-open-10', 21840),\n",
       " ('Daily_return-9', 21970),\n",
       " ('Daily_return-4', 22819),\n",
       " ('Volume_BTC-9', 23934),\n",
       " ('Rolling_std_10', 24029),\n",
       " ('Volume_BTC-7', 24110),\n",
       " ('Volume_BTC-6', 25040),\n",
       " ('Volume_BTC-8', 25097),\n",
       " ('Volume_BTC-3', 25309),\n",
       " ('Volume_BTC-4', 25875),\n",
       " ('Volume_BTC-5', 26301),\n",
       " ('Volume_BTC-10', 26379),\n",
       " ('Close-open-1', 27074),\n",
       " ('Day', 27658),\n",
       " ('Momentum_10', 28771),\n",
       " ('Volume_BTC-2', 28773),\n",
       " ('Volume_BTC-1', 30503),\n",
       " ('Daily_return-1', 32940),\n",
       " ('Momentum_7', 34514),\n",
       " ('Rolling_std_5', 42080),\n",
       " ('Momentum_3', 62215),\n",
       " ('Rolling_std_3', 71754)]"
      ]
     },
     "execution_count": 51,
     "metadata": {},
     "output_type": "execute_result"
    }
   ],
   "source": [
    "import operator\n",
    "importance = model.get_fscore()\n",
    "importance = sorted(importance.items(), key=operator.itemgetter(1))\n",
    "importance"
   ]
  },
  {
   "cell_type": "code",
   "execution_count": 52,
   "metadata": {
    "collapsed": false,
    "deletable": true,
    "editable": true
   },
   "outputs": [
    {
     "data": {
      "text/plain": [
       "[('Rolling_cov_5', 0.5867553333333334),\n",
       " ('Year', 0.5914273452655645),\n",
       " ('Month', 0.631775167686934),\n",
       " ('Week', 0.6329468326143652),\n",
       " ('Day', 0.642162394747948),\n",
       " ('Weekday', 0.6448390450879607),\n",
       " ('Daily_return-9', 0.6744319589183089),\n",
       " ('Volume_BTC-4', 0.6829800973389932),\n",
       " ('Volume_BTC-5', 0.6836684525183547),\n",
       " ('Close-open-10', 0.6894098510282873),\n",
       " ('Volume_BTC-9', 0.6924557511432685),\n",
       " ('Volume_Currency-4', 0.6949476202143098),\n",
       " ('Close-open-9', 0.6963459396889697),\n",
       " ('Close-open-2', 0.6965284486092909),\n",
       " ('Daily_return-7', 0.7028543410259341),\n",
       " ('Daily_return-5', 0.7051262858144088),\n",
       " ('Volume_BTC-7', 0.7075545490537212),\n",
       " ('Volume_BTC-3', 0.7075619511844281),\n",
       " ('Volume_BTC-6', 0.7088344541181116),\n",
       " ('Close-open-5', 0.7134325630695919),\n",
       " ('Close-open-7', 0.7139578493138331),\n",
       " ('Volume_BTC-8', 0.7158536886382729),\n",
       " ('High-low-9', 0.7159752615105163),\n",
       " ('Close-open-8', 0.7169354794253053),\n",
       " ('Close-open-6', 0.7170496304103681),\n",
       " ('Close-open-3', 0.7231416501994189),\n",
       " ('Volume_Currency-5', 0.7253444547220133),\n",
       " ('Volume_BTC-1', 0.726756139958318),\n",
       " ('Volume_Currency-9', 0.7270616356315447),\n",
       " ('High-low-4', 0.7282623171241174),\n",
       " ('Volume_BTC-10', 0.7329020269361912),\n",
       " ('High-low-10', 0.7334184694176101),\n",
       " ('Daily_return-3', 0.734598306883743),\n",
       " ('Close-open-4', 0.7351067738399837),\n",
       " ('High-low-5', 0.7435765017031899),\n",
       " ('Daily_return-4', 0.7439035291856962),\n",
       " ('Daily_return-8', 0.7444591478528587),\n",
       " ('Daily_return-10', 0.7451522567984343),\n",
       " ('Volume_Currency-2', 0.7483838151339454),\n",
       " ('High-low-3', 0.751345764785873),\n",
       " ('High-low-8', 0.7535261885751471),\n",
       " ('Volume_BTC-2', 0.7580515362445371),\n",
       " ('Volume_Currency-3', 0.7613769337777204),\n",
       " ('Volume_Currency-10', 0.7634265170573261),\n",
       " ('Volume_Currency-7', 0.7642473062361091),\n",
       " ('Volume_Currency-8', 0.7673445177066186),\n",
       " ('High-low-7', 0.7682728497915433),\n",
       " ('High-low-2', 0.7684393792384893),\n",
       " ('Daily_return-6', 0.7774646164273539),\n",
       " ('Daily_return-2', 0.7965155005217767),\n",
       " ('High-low-1', 0.7991924903642423),\n",
       " ('Volume_Currency-1', 0.8150228425846815),\n",
       " ('Momentum_7', 0.8191346765815019),\n",
       " ('Rolling_std_10', 0.8202927615462176),\n",
       " ('Volume_Currency-6', 0.8288508572790572),\n",
       " ('yearweekday', 0.8344038343739696),\n",
       " ('High-low-6', 0.8600633426932339),\n",
       " ('Momentum_10', 0.8785108014426033),\n",
       " ('Rolling_mean_10', 0.9992316243585536),\n",
       " ('Rolling_cov_3', 1.1555056767507008),\n",
       " ('Open-4', 1.155732937196137),\n",
       " ('Rolling_mean_3', 1.2259276398441894),\n",
       " ('Open-1', 1.232126604043186),\n",
       " ('High-4', 1.2713244261232275),\n",
       " ('Open-9', 1.2741108604264668),\n",
       " ('Close-open-1', 1.277956933774224),\n",
       " ('Open-3', 1.289982482902204),\n",
       " ('Rolling_std_5', 1.2931477077840372),\n",
       " ('Open-6', 1.3217146365252226),\n",
       " ('Close-10', 1.3247186224677416),\n",
       " ('Open-5', 1.3270056443507707),\n",
       " ('High-3', 1.43985985368202),\n",
       " ('Open-7', 1.451798387213134),\n",
       " ('High-6', 1.4729116403382647),\n",
       " ('Open-10', 1.504570499453222),\n",
       " ('yearmonth', 1.5482260777479808),\n",
       " ('Open-2', 1.6089222837985835),\n",
       " ('High-10', 1.6124887543607471),\n",
       " ('High-7', 1.6156423391313317),\n",
       " ('Weighted_Price-3', 1.6236640500889368),\n",
       " ('Close-6', 1.6530546777849475),\n",
       " ('High-8', 1.7382712470263635),\n",
       " ('Close-4', 1.747307922456141),\n",
       " ('Close-8', 1.7784704284814234),\n",
       " ('Weighted_Price-7', 1.8080290205655836),\n",
       " ('Low-8', 1.8275086744276037),\n",
       " ('Low-9', 1.8461844732010482),\n",
       " ('Close-5', 1.859096169339451),\n",
       " ('Weighted_Price-2', 1.8949669218811855),\n",
       " ('High-9', 1.9567179812650939),\n",
       " ('Weighted_Price-4', 2.0253654679638746),\n",
       " ('Weighted_Price-9', 2.037499981310452),\n",
       " ('Low-5', 2.0465477746563536),\n",
       " ('High-2', 2.1017255548714493),\n",
       " ('High-5', 2.1216640921467373),\n",
       " ('Close-7', 2.235959713380496),\n",
       " ('Low-7', 2.2385395804113424),\n",
       " ('Low-6', 2.2416637599146996),\n",
       " ('Daily_return-1', 2.2555316845448665),\n",
       " ('Low-10', 2.2683205444147516),\n",
       " ('Rolling_mean_5', 2.273511991747432),\n",
       " ('Weighted_Price-1', 2.2949422876354504),\n",
       " ('Close-2', 2.3629098693530506),\n",
       " ('Weighted_Price-10', 2.3892103103187274),\n",
       " ('High-1', 2.4340757075116812),\n",
       " ('Weighted_Price-6', 2.462743112377361),\n",
       " ('Low-4', 2.6234119806439167),\n",
       " ('yearweek', 2.6237046421176995),\n",
       " ('Weighted_Price-5', 2.8805224413705504),\n",
       " ('Close-3', 2.8884227348404288),\n",
       " ('Low-1', 3.1320517932719527),\n",
       " ('Rolling_std_3', 3.427480259807293),\n",
       " ('Open-8', 3.471265846934222),\n",
       " ('Close-1', 3.6493181158857397),\n",
       " ('Weighted_Price-8', 4.049523859969417),\n",
       " ('Low-3', 4.126966494687355),\n",
       " ('Close-9', 5.025340351082321),\n",
       " ('Momentum_3', 5.239500500223136),\n",
       " ('Low-2', 5.484421597110797)]"
      ]
     },
     "execution_count": 52,
     "metadata": {},
     "output_type": "execute_result"
    }
   ],
   "source": [
    "importance = model.get_score(fmap='', importance_type='gain')\n",
    "importance = sorted(importance.items(), key=operator.itemgetter(1))\n",
    "importance"
   ]
  },
  {
   "cell_type": "code",
   "execution_count": null,
   "metadata": {
    "collapsed": true,
    "deletable": true,
    "editable": true
   },
   "outputs": [],
   "source": []
  }
 ],
 "metadata": {
  "kernelspec": {
   "display_name": "Python 2",
   "language": "python",
   "name": "python2"
  },
  "language_info": {
   "codemirror_mode": {
    "name": "ipython",
    "version": 2
   },
   "file_extension": ".py",
   "mimetype": "text/x-python",
   "name": "python",
   "nbconvert_exporter": "python",
   "pygments_lexer": "ipython2",
   "version": "2.7.12"
  }
 },
 "nbformat": 4,
 "nbformat_minor": 2
}
